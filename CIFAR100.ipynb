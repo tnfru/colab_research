{
  "nbformat": 4,
  "nbformat_minor": 0,
  "metadata": {
    "colab": {
      "name": "CIFAR100.ipynb",
      "provenance": [],
      "collapsed_sections": [],
      "authorship_tag": "ABX9TyNAM2jg+2GvkeqP8cu/TQGb",
      "include_colab_link": true
    },
    "kernelspec": {
      "name": "python3",
      "display_name": "Python 3"
    },
    "accelerator": "GPU"
  },
  "cells": [
    {
      "cell_type": "markdown",
      "metadata": {
        "id": "view-in-github",
        "colab_type": "text"
      },
      "source": [
        "<a href=\"https://colab.research.google.com/github/tnfru/colab_research/blob/master/CIFAR100.ipynb\" target=\"_parent\"><img src=\"https://colab.research.google.com/assets/colab-badge.svg\" alt=\"Open In Colab\"/></a>"
      ]
    },
    {
      "cell_type": "code",
      "metadata": {
        "id": "AtEAa8_mDnGK"
      },
      "source": [
        "import numpy as np\n",
        "import torch\n",
        "import torch.optim as optim\n",
        "import torch.nn as nn\n",
        "import torch.nn.functional as F\n",
        "from torchvision.datasets import CIFAR100\n",
        "from torchvision import transforms as T\n",
        "from torch.utils.data import DataLoader"
      ],
      "execution_count": 1,
      "outputs": []
    },
    {
      "cell_type": "code",
      "metadata": {
        "id": "G3UQUmEbWndY",
        "outputId": "da5f07db-5e88-4593-9956-53745c9cfe79",
        "colab": {
          "base_uri": "https://localhost:8080/"
        }
      },
      "source": [
        "DEVICE = torch.device('cuda' if torch.cuda.is_available() else 'cpu')\n",
        "print('using device:', DEVICE)\n",
        "torch.backends.cudnn.benchmark = True"
      ],
      "execution_count": 2,
      "outputs": [
        {
          "output_type": "stream",
          "text": [
            "using device: cuda\n"
          ],
          "name": "stdout"
        }
      ]
    },
    {
      "cell_type": "code",
      "metadata": {
        "id": "WcuckUAtHJh4"
      },
      "source": [
        "BATCH_SIZE = 128\n",
        "IMG_SIZE = [32, 32]\n",
        "TRAIN_MEANS = np.array([0.50707516, 0.48654887, 0.44091784])\n",
        "TRAIN_STDS = np.array([0.26733429, 0.25643846, 0.27615047])\n",
        "TEST_MEANS = np.array([0.50879641, 0.48739301, 0.44194221])\n",
        "TEST_STDS = np.array([0.26825157, 0.25736374, 0.27709577])"
      ],
      "execution_count": 3,
      "outputs": []
    },
    {
      "cell_type": "code",
      "metadata": {
        "id": "DEHsG-DtEo4o",
        "outputId": "f50c6183-7f26-4f00-c0b9-736133fe016f",
        "colab": {
          "base_uri": "https://localhost:8080/"
        }
      },
      "source": [
        "tr_train = T.Compose([T.ToTensor(),\n",
        "                      T.RandomHorizontalFlip(p=0.5),\n",
        "                      T.Normalize(TRAIN_MEANS, TRAIN_STDS)])\n",
        "\n",
        "tr_test = T.Compose([T.ToTensor(),\n",
        "                     T.Normalize(TEST_MEANS, TEST_STDS)])\n",
        "\n",
        "train = CIFAR100(\"./data\", train=True, download=True, transform=tr_train)\n",
        "train_loader = DataLoader(train, batch_size=BATCH_SIZE, shuffle=False, pin_memory=True)\n",
        "\n",
        "test = CIFAR100(\"./data\", train=False, download=True, transform=tr_test)\n",
        "test_loader = DataLoader(test, batch_size=BATCH_SIZE, pin_memory=True)"
      ],
      "execution_count": 4,
      "outputs": [
        {
          "output_type": "stream",
          "text": [
            "Files already downloaded and verified\n",
            "Files already downloaded and verified\n"
          ],
          "name": "stdout"
        }
      ]
    },
    {
      "cell_type": "code",
      "metadata": {
        "id": "mbQbSqW6TcGw"
      },
      "source": [
        "class IdentityModule(nn.Module):\n",
        "  def __init__(self, num_channel):\n",
        "    super(IdentityModule, self).__init__()\n",
        "\n",
        "    self.hidden1 = nn.Sequential(\n",
        "        nn.Conv2d(num_channel, num_channel, 3, padding=1),\n",
        "        nn.BatchNorm2d(num_channel),\n",
        "        nn.ReLU(),\n",
        "        nn.Conv2d(num_channel, num_channel, 3, padding=1),\n",
        "        nn.BatchNorm2d(num_channel),\n",
        "        nn.ReLU()\n",
        "    )\n",
        "\n",
        "    self.hidden2 = nn.Sequential(\n",
        "        nn.Conv2d(num_channel, num_channel, 3, padding=1),\n",
        "        nn.BatchNorm2d(num_channel),\n",
        "        nn.ReLU(),\n",
        "        nn.Conv2d(num_channel, num_channel, 3, padding=1),\n",
        "        nn.BatchNorm2d(num_channel),\n",
        "        nn.ReLU()\n",
        "    )\n",
        "  \n",
        "  def forward(self, x): # TODO swap Relu after add\n",
        "    y1 = self.hidden1(x)\n",
        "    y2 = self.hidden2(x)\n",
        "\n",
        "    return x + y1 + y2"
      ],
      "execution_count": 5,
      "outputs": []
    },
    {
      "cell_type": "code",
      "metadata": {
        "id": "fz9eIZtLdKpP"
      },
      "source": [
        "class ConvModule(nn.Module):\n",
        "  def __init__(self, in_channel, out_channel, stride=2):\n",
        "    super(ConvModule, self).__init__()\n",
        "\n",
        "    self.hidden1 = nn.Sequential(\n",
        "        nn.Conv2d(in_channel, out_channel, 3, padding=1, stride=stride),\n",
        "        nn.BatchNorm2d(out_channel),\n",
        "        nn.ReLU(),\n",
        "        nn.Conv2d(out_channel, out_channel, 3, padding=1),\n",
        "        nn.BatchNorm2d(out_channel),\n",
        "        nn.ReLU()\n",
        "    )\n",
        "    self.hidden2 = nn.Sequential(\n",
        "        nn.Conv2d(in_channel, out_channel, 3, padding=1, stride=stride),\n",
        "        nn.BatchNorm2d(out_channel),\n",
        "        nn.ReLU(),\n",
        "        nn.Conv2d(out_channel, out_channel, 3, padding=1),\n",
        "        nn.BatchNorm2d(out_channel),\n",
        "        nn.ReLU()\n",
        "    )\n",
        "    self.hidden3 = nn.Sequential(\n",
        "        nn.Conv2d(in_channel, out_channel, 1, stride=stride),\n",
        "        nn.BatchNorm2d(out_channel)\n",
        "    )\n",
        "\n",
        "  def forward(self, x):\n",
        "    y1 = self.hidden1(x)\n",
        "    y2 = self.hidden2(x)\n",
        "    y3 = self.hidden3(x)\n",
        "\n",
        "    return self.hidden1(x) + self.hidden2(x) + self.hidden3(x)\n"
      ],
      "execution_count": 6,
      "outputs": []
    },
    {
      "cell_type": "code",
      "metadata": {
        "id": "_io8PRSMhVK-"
      },
      "source": [
        "class ResNet(nn.Module):\n",
        "  def __init__(self):\n",
        "    super(ResNet, self).__init__()\n",
        "    self.inp = nn.Sequential(\n",
        "        nn.Conv2d(3, 16, 3, padding=1),\n",
        "        nn.Dropout(0.1)\n",
        "    )\n",
        "\n",
        "    self.hidden1 = nn.Sequential(\n",
        "        ConvModule(16, 64, stride=1),\n",
        "        IdentityModule(64),\n",
        "        nn.Dropout(0.15)\n",
        "    )\n",
        "\n",
        "    self.hidden2 = nn.Sequential(\n",
        "        ConvModule(64, 128),\n",
        "        IdentityModule(128),\n",
        "        nn.Dropout(0.2)\n",
        "    )\n",
        "\n",
        "    self.hidden3 = nn.Sequential(\n",
        "        ConvModule(128, 256),\n",
        "        IdentityModule(256),\n",
        "        nn.Dropout(0.25)\n",
        "    )\n",
        "\n",
        "    self.out = nn.Sequential(\n",
        "        nn.AvgPool2d(kernel_size=8),\n",
        "        nn.Flatten(),\n",
        "        nn.Linear(256, 100),\n",
        "        nn.Softmax(dim=1)\n",
        "    )\n",
        "\n",
        "  def forward(self, x):\n",
        "    x = self.inp(x)\n",
        "    x = self.hidden1(x)\n",
        "    x = self.hidden2(x)\n",
        "    x = self.hidden3(x)\n",
        "    x = self.out(x)\n",
        "\n",
        "    return x"
      ],
      "execution_count": 7,
      "outputs": []
    },
    {
      "cell_type": "code",
      "metadata": {
        "id": "78BUItnR6AAh"
      },
      "source": [
        "def test_accuracy(model, history, verbose=True):\n",
        "  model.eval()\n",
        "  with torch.no_grad():\n",
        "      correct = 0\n",
        "      total = 0\n",
        "      total_loss =0\n",
        "\n",
        "      for data, target in test_loader:\n",
        "          images = data.to(DEVICE)\n",
        "          labels = target.to(DEVICE)\n",
        "          outputs = model(images)\n",
        "\n",
        "          _, predicted = torch.max(outputs, 1)\n",
        "          total += labels.size(0)\n",
        "          correct += (predicted == labels).sum().item()\n",
        "\n",
        "          accuracy = 100 * correct / total\n",
        "          history.append(accuracy)\n",
        "          \n",
        "      if verbose:\n",
        "        print('Test Accuracy of the model: {} %'.format(accuracy))\n",
        "  model.train()\n",
        "\n",
        "  return history"
      ],
      "execution_count": 8,
      "outputs": []
    },
    {
      "cell_type": "code",
      "metadata": {
        "id": "PJn64N5a7IUB"
      },
      "source": [
        "def train_model(model, opt, num_epochs, history=[]):\n",
        "  criterion = nn.CrossEntropyLoss()\n",
        "  \n",
        "  for epoch in range(num_epochs):\n",
        "    for i, (images, labels) in enumerate(train_loader):\n",
        "      # Write tensor to GPU if available\n",
        "      images, labels = images.to(DEVICE), labels.to(DEVICE)\n",
        "\n",
        "      # Clear Gradient\n",
        "      opt.zero_grad()\n",
        "\n",
        "      # Forward pass\n",
        "      outputs = model(images)\n",
        "      loss = criterion(outputs, labels)\n",
        "\n",
        "      # Backward pass\n",
        "      loss.backward()\n",
        "      opt.step()\n",
        "\n",
        "    history = test_accuracy(model, history)"
      ],
      "execution_count": 9,
      "outputs": []
    },
    {
      "cell_type": "code",
      "metadata": {
        "id": "g83wTAZnVDhz"
      },
      "source": [
        "model = ResNet()\n",
        "model.to(DEVICE)\n",
        "opt = optim.Adam(model.parameters(), lr=1e-3)\n",
        "history = []"
      ],
      "execution_count": 10,
      "outputs": []
    },
    {
      "cell_type": "code",
      "metadata": {
        "id": "9XWU6ZAPl3li",
        "outputId": "5fa813c6-30d5-4119-9da4-882ef2864222",
        "colab": {
          "base_uri": "https://localhost:8080/",
          "height": 346
        }
      },
      "source": [
        "train_model(model, opt, num_epochs=50, history=history)"
      ],
      "execution_count": 11,
      "outputs": [
        {
          "output_type": "stream",
          "text": [
            "Test Accuracy of the model: 4.37 %\n",
            "Test Accuracy of the model: 6.71 %\n"
          ],
          "name": "stdout"
        },
        {
          "output_type": "error",
          "ename": "KeyboardInterrupt",
          "evalue": "ignored",
          "traceback": [
            "\u001b[0;31m---------------------------------------------------------------------------\u001b[0m",
            "\u001b[0;31mKeyboardInterrupt\u001b[0m                         Traceback (most recent call last)",
            "\u001b[0;32m<ipython-input-11-a1e49c885919>\u001b[0m in \u001b[0;36m<module>\u001b[0;34m()\u001b[0m\n\u001b[0;32m----> 1\u001b[0;31m \u001b[0mtrain_model\u001b[0m\u001b[0;34m(\u001b[0m\u001b[0mmodel\u001b[0m\u001b[0;34m,\u001b[0m \u001b[0mopt\u001b[0m\u001b[0;34m,\u001b[0m \u001b[0mnum_epochs\u001b[0m\u001b[0;34m=\u001b[0m\u001b[0;36m50\u001b[0m\u001b[0;34m,\u001b[0m \u001b[0mhistory\u001b[0m\u001b[0;34m=\u001b[0m\u001b[0mhistory\u001b[0m\u001b[0;34m)\u001b[0m\u001b[0;34m\u001b[0m\u001b[0;34m\u001b[0m\u001b[0m\n\u001b[0m",
            "\u001b[0;32m<ipython-input-9-7110fd48c7c2>\u001b[0m in \u001b[0;36mtrain_model\u001b[0;34m(model, opt, num_epochs, history)\u001b[0m\n\u001b[1;32m     16\u001b[0m       \u001b[0;31m# Backward pass\u001b[0m\u001b[0;34m\u001b[0m\u001b[0;34m\u001b[0m\u001b[0;34m\u001b[0m\u001b[0m\n\u001b[1;32m     17\u001b[0m       \u001b[0mloss\u001b[0m\u001b[0;34m.\u001b[0m\u001b[0mbackward\u001b[0m\u001b[0;34m(\u001b[0m\u001b[0;34m)\u001b[0m\u001b[0;34m\u001b[0m\u001b[0;34m\u001b[0m\u001b[0m\n\u001b[0;32m---> 18\u001b[0;31m       \u001b[0mopt\u001b[0m\u001b[0;34m.\u001b[0m\u001b[0mstep\u001b[0m\u001b[0;34m(\u001b[0m\u001b[0;34m)\u001b[0m\u001b[0;34m\u001b[0m\u001b[0;34m\u001b[0m\u001b[0m\n\u001b[0m\u001b[1;32m     19\u001b[0m \u001b[0;34m\u001b[0m\u001b[0m\n\u001b[1;32m     20\u001b[0m     \u001b[0mhistory\u001b[0m \u001b[0;34m=\u001b[0m \u001b[0mtest_accuracy\u001b[0m\u001b[0;34m(\u001b[0m\u001b[0mmodel\u001b[0m\u001b[0;34m,\u001b[0m \u001b[0mhistory\u001b[0m\u001b[0;34m)\u001b[0m\u001b[0;34m\u001b[0m\u001b[0;34m\u001b[0m\u001b[0m\n",
            "\u001b[0;32m/usr/local/lib/python3.6/dist-packages/torch/autograd/grad_mode.py\u001b[0m in \u001b[0;36mdecorate_context\u001b[0;34m(*args, **kwargs)\u001b[0m\n\u001b[1;32m     13\u001b[0m         \u001b[0;32mdef\u001b[0m \u001b[0mdecorate_context\u001b[0m\u001b[0;34m(\u001b[0m\u001b[0;34m*\u001b[0m\u001b[0margs\u001b[0m\u001b[0;34m,\u001b[0m \u001b[0;34m**\u001b[0m\u001b[0mkwargs\u001b[0m\u001b[0;34m)\u001b[0m\u001b[0;34m:\u001b[0m\u001b[0;34m\u001b[0m\u001b[0;34m\u001b[0m\u001b[0m\n\u001b[1;32m     14\u001b[0m             \u001b[0;32mwith\u001b[0m \u001b[0mself\u001b[0m\u001b[0;34m:\u001b[0m\u001b[0;34m\u001b[0m\u001b[0;34m\u001b[0m\u001b[0m\n\u001b[0;32m---> 15\u001b[0;31m                 \u001b[0;32mreturn\u001b[0m \u001b[0mfunc\u001b[0m\u001b[0;34m(\u001b[0m\u001b[0;34m*\u001b[0m\u001b[0margs\u001b[0m\u001b[0;34m,\u001b[0m \u001b[0;34m**\u001b[0m\u001b[0mkwargs\u001b[0m\u001b[0;34m)\u001b[0m\u001b[0;34m\u001b[0m\u001b[0;34m\u001b[0m\u001b[0m\n\u001b[0m\u001b[1;32m     16\u001b[0m         \u001b[0;32mreturn\u001b[0m \u001b[0mdecorate_context\u001b[0m\u001b[0;34m\u001b[0m\u001b[0;34m\u001b[0m\u001b[0m\n\u001b[1;32m     17\u001b[0m \u001b[0;34m\u001b[0m\u001b[0m\n",
            "\u001b[0;32m/usr/local/lib/python3.6/dist-packages/torch/optim/adam.py\u001b[0m in \u001b[0;36mstep\u001b[0;34m(self, closure)\u001b[0m\n\u001b[1;32m     98\u001b[0m                 \u001b[0;31m# Decay the first and second moment running average coefficient\u001b[0m\u001b[0;34m\u001b[0m\u001b[0;34m\u001b[0m\u001b[0;34m\u001b[0m\u001b[0m\n\u001b[1;32m     99\u001b[0m                 \u001b[0mexp_avg\u001b[0m\u001b[0;34m.\u001b[0m\u001b[0mmul_\u001b[0m\u001b[0;34m(\u001b[0m\u001b[0mbeta1\u001b[0m\u001b[0;34m)\u001b[0m\u001b[0;34m.\u001b[0m\u001b[0madd_\u001b[0m\u001b[0;34m(\u001b[0m\u001b[0mgrad\u001b[0m\u001b[0;34m,\u001b[0m \u001b[0malpha\u001b[0m\u001b[0;34m=\u001b[0m\u001b[0;36m1\u001b[0m \u001b[0;34m-\u001b[0m \u001b[0mbeta1\u001b[0m\u001b[0;34m)\u001b[0m\u001b[0;34m\u001b[0m\u001b[0;34m\u001b[0m\u001b[0m\n\u001b[0;32m--> 100\u001b[0;31m                 \u001b[0mexp_avg_sq\u001b[0m\u001b[0;34m.\u001b[0m\u001b[0mmul_\u001b[0m\u001b[0;34m(\u001b[0m\u001b[0mbeta2\u001b[0m\u001b[0;34m)\u001b[0m\u001b[0;34m.\u001b[0m\u001b[0maddcmul_\u001b[0m\u001b[0;34m(\u001b[0m\u001b[0mgrad\u001b[0m\u001b[0;34m,\u001b[0m \u001b[0mgrad\u001b[0m\u001b[0;34m,\u001b[0m \u001b[0mvalue\u001b[0m\u001b[0;34m=\u001b[0m\u001b[0;36m1\u001b[0m \u001b[0;34m-\u001b[0m \u001b[0mbeta2\u001b[0m\u001b[0;34m)\u001b[0m\u001b[0;34m\u001b[0m\u001b[0;34m\u001b[0m\u001b[0m\n\u001b[0m\u001b[1;32m    101\u001b[0m                 \u001b[0;32mif\u001b[0m \u001b[0mamsgrad\u001b[0m\u001b[0;34m:\u001b[0m\u001b[0;34m\u001b[0m\u001b[0;34m\u001b[0m\u001b[0m\n\u001b[1;32m    102\u001b[0m                     \u001b[0;31m# Maintains the maximum of all 2nd moment running avg. till now\u001b[0m\u001b[0;34m\u001b[0m\u001b[0;34m\u001b[0m\u001b[0;34m\u001b[0m\u001b[0m\n",
            "\u001b[0;31mKeyboardInterrupt\u001b[0m: "
          ]
        }
      ]
    },
    {
      "cell_type": "code",
      "metadata": {
        "id": "XDCOfiFwmkxQ"
      },
      "source": [
        ""
      ],
      "execution_count": null,
      "outputs": []
    }
  ]
}