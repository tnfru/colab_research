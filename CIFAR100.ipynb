{
  "nbformat": 4,
  "nbformat_minor": 0,
  "metadata": {
    "colab": {
      "name": "CIFAR100.ipynb",
      "provenance": [],
      "collapsed_sections": [],
      "authorship_tag": "ABX9TyMevCsJdEkPMJQeAWwNn7/i",
      "include_colab_link": true
    },
    "kernelspec": {
      "name": "python3",
      "display_name": "Python 3"
    },
    "accelerator": "GPU"
  },
  "cells": [
    {
      "cell_type": "markdown",
      "metadata": {
        "id": "view-in-github",
        "colab_type": "text"
      },
      "source": [
        "<a href=\"https://colab.research.google.com/github/tnfru/colab_research/blob/master/CIFAR100.ipynb\" target=\"_parent\"><img src=\"https://colab.research.google.com/assets/colab-badge.svg\" alt=\"Open In Colab\"/></a>"
      ]
    },
    {
      "cell_type": "code",
      "metadata": {
        "id": "AtEAa8_mDnGK"
      },
      "source": [
        "import numpy as np\n",
        "import torch\n",
        "import torch.optim as optim\n",
        "import torch.nn as nn\n",
        "import torch.nn.functional as F\n",
        "from torchvision.datasets import CIFAR100\n",
        "import torchvision.models\n",
        "from torchvision import transforms as T\n",
        "from torch.utils.data import DataLoader\n",
        "from torchsummary import summary\n",
        "import time"
      ],
      "execution_count": 57,
      "outputs": []
    },
    {
      "cell_type": "code",
      "metadata": {
        "id": "G3UQUmEbWndY",
        "outputId": "5737153a-ea99-4fb0-8a59-764fc70e5781",
        "colab": {
          "base_uri": "https://localhost:8080/"
        }
      },
      "source": [
        "DEVICE = torch.device('cuda' if torch.cuda.is_available() else 'cpu')\n",
        "print('using device:', DEVICE)\n",
        "torch.backends.cudnn.benchmark = True"
      ],
      "execution_count": 2,
      "outputs": [
        {
          "output_type": "stream",
          "text": [
            "using device: cuda\n"
          ],
          "name": "stdout"
        }
      ]
    },
    {
      "cell_type": "code",
      "metadata": {
        "id": "WcuckUAtHJh4"
      },
      "source": [
        "BATCH_SIZE = 128\n",
        "IMG_SIZE = [32, 32]\n",
        "TRAIN_MEANS = np.array([0.50707516, 0.48654887, 0.44091784])\n",
        "TRAIN_STDS = np.array([0.26733429, 0.25643846, 0.27615047])\n",
        "TEST_MEANS = np.array([0.50879641, 0.48739301, 0.44194221])\n",
        "TEST_STDS = np.array([0.26825157, 0.25736374, 0.27709577])"
      ],
      "execution_count": 3,
      "outputs": []
    },
    {
      "cell_type": "code",
      "metadata": {
        "id": "DEHsG-DtEo4o",
        "outputId": "4f033006-9db2-4ade-e275-0d5b3e0def08",
        "colab": {
          "base_uri": "https://localhost:8080/"
        }
      },
      "source": [
        "tr_train = T.Compose([T.ToTensor(),\n",
        "                      T.RandomHorizontalFlip(p=0.5),\n",
        "                      T.Normalize(TRAIN_MEANS, TRAIN_STDS)])\n",
        "\n",
        "tr_test = T.Compose([T.ToTensor(),\n",
        "                     T.Normalize(TEST_MEANS, TEST_STDS)])\n",
        "\n",
        "train = CIFAR100(\"./data\", train=True, download=True, transform=tr_train)\n",
        "train_loader = DataLoader(train, batch_size=BATCH_SIZE, shuffle=False, pin_memory=True)\n",
        "\n",
        "test = CIFAR100(\"./data\", train=False, download=True, transform=tr_test)\n",
        "test_loader = DataLoader(test, batch_size=BATCH_SIZE, pin_memory=True)"
      ],
      "execution_count": 4,
      "outputs": [
        {
          "output_type": "stream",
          "text": [
            "Files already downloaded and verified\n",
            "Files already downloaded and verified\n"
          ],
          "name": "stdout"
        }
      ]
    },
    {
      "cell_type": "code",
      "metadata": {
        "id": "mbQbSqW6TcGw"
      },
      "source": [
        "class IdentityModule(nn.Module):\n",
        "  def __init__(self, num_channel):\n",
        "    super(IdentityModule, self).__init__()\n",
        "\n",
        "    self.hidden1 = nn.Sequential(\n",
        "        nn.Conv2d(num_channel, num_channel, 3, padding=1),\n",
        "        nn.BatchNorm2d(num_channel),\n",
        "        nn.ReLU(),\n",
        "        nn.Conv2d(num_channel, num_channel, 3, padding=1),\n",
        "        nn.BatchNorm2d(num_channel),\n",
        "        nn.ReLU()\n",
        "    )\n",
        "\n",
        "    self.hidden2 = nn.Sequential(\n",
        "        nn.Conv2d(num_channel, num_channel, 3, padding=1),\n",
        "        nn.BatchNorm2d(num_channel),\n",
        "        nn.ReLU(),\n",
        "        nn.Conv2d(num_channel, num_channel, 3, padding=1),\n",
        "        nn.BatchNorm2d(num_channel),\n",
        "        nn.ReLU()\n",
        "    )\n",
        "  \n",
        "  def forward(self, x): # TODO swap Relu after add\n",
        "    y1 = self.hidden1(x)\n",
        "    y2 = self.hidden2(x)\n",
        "\n",
        "    return x + y1 + y2"
      ],
      "execution_count": 42,
      "outputs": []
    },
    {
      "cell_type": "code",
      "metadata": {
        "id": "fz9eIZtLdKpP"
      },
      "source": [
        "class ConvModule(nn.Module):\n",
        "  def __init__(self, in_channel, out_channel, stride=2):\n",
        "    super(ConvModule, self).__init__()\n",
        "\n",
        "    self.hidden1 = nn.Sequential(\n",
        "        nn.Conv2d(in_channel, out_channel, 3, padding=1, stride=stride),\n",
        "        nn.BatchNorm2d(out_channel),\n",
        "        nn.ReLU(),\n",
        "        nn.Conv2d(out_channel, out_channel, 3, padding=1),\n",
        "        nn.BatchNorm2d(out_channel),\n",
        "        nn.ReLU()\n",
        "    )\n",
        "    self.hidden2 = nn.Sequential(\n",
        "        nn.Conv2d(in_channel, out_channel, 3, padding=1, stride=stride),\n",
        "        nn.BatchNorm2d(out_channel),\n",
        "        nn.ReLU(),\n",
        "        nn.Conv2d(out_channel, out_channel, 3, padding=1),\n",
        "        nn.BatchNorm2d(out_channel),\n",
        "        nn.ReLU()\n",
        "    )\n",
        "    self.hidden3 = nn.Sequential(\n",
        "        nn.Conv2d(in_channel, out_channel, 1, stride=stride),\n",
        "        nn.BatchNorm2d(out_channel)\n",
        "    )\n",
        "\n",
        "  def forward(self, x):\n",
        "    y1 = self.hidden1(x)\n",
        "    y2 = self.hidden2(x)\n",
        "    y3 = self.hidden3(x)\n",
        "\n",
        "    return self.hidden1(x) + self.hidden2(x) + self.hidden3(x)\n"
      ],
      "execution_count": 43,
      "outputs": []
    },
    {
      "cell_type": "code",
      "metadata": {
        "id": "_io8PRSMhVK-"
      },
      "source": [
        "class ResNet(nn.Module):\n",
        "  def __init__(self):\n",
        "    super(ResNet, self).__init__()\n",
        "    self.inp = nn.Sequential(\n",
        "        nn.Conv2d(3, 16, 3, padding=1),\n",
        "        nn.Dropout(0.1)\n",
        "    )\n",
        "\n",
        "    self.hidden1 = nn.Sequential(\n",
        "        ConvModule(16, 64, stride=1),\n",
        "        IdentityModule(64),\n",
        "        nn.Dropout(0.15)\n",
        "    )\n",
        "\n",
        "    self.hidden2 = nn.Sequential(\n",
        "        ConvModule(64, 128),\n",
        "        IdentityModule(128),\n",
        "        nn.Dropout(0.2)\n",
        "    )\n",
        "\n",
        "    self.hidden3 = nn.Sequential(\n",
        "        ConvModule(128, 128),\n",
        "        IdentityModule(128),\n",
        "        nn.Dropout(0.25)\n",
        "    )\n",
        "\n",
        "    self.out = nn.Sequential(\n",
        "        nn.AvgPool2d(kernel_size=8),\n",
        "        nn.Flatten(),\n",
        "        nn.Linear(128, 100),\n",
        "        nn.Softmax(dim=1)\n",
        "    )\n",
        "\n",
        "  def forward(self, x):\n",
        "    x = self.inp(x)\n",
        "    x = self.hidden1(x)\n",
        "    x = self.hidden2(x)\n",
        "    x = self.hidden3(x)\n",
        "    x = self.out(x)\n",
        "\n",
        "    return x"
      ],
      "execution_count": 44,
      "outputs": []
    },
    {
      "cell_type": "code",
      "metadata": {
        "id": "78BUItnR6AAh"
      },
      "source": [
        "def test_accuracy(model, history):\n",
        "  model.eval()\n",
        "  with torch.no_grad():\n",
        "      correct = 0\n",
        "      total = 0\n",
        "      total_loss =0\n",
        "\n",
        "      for data, target in test_loader:\n",
        "          images = data.to(DEVICE)\n",
        "          labels = target.to(DEVICE)\n",
        "          outputs = model(images)\n",
        "\n",
        "          _, predicted = torch.max(outputs, 1)\n",
        "          total += labels.size(0)\n",
        "          correct += (predicted == labels).sum().item()\n",
        "\n",
        "          accuracy = 100 * correct / total\n",
        "          history.append(accuracy)\n",
        "\n",
        "  model.train()\n",
        "\n",
        "  return history"
      ],
      "execution_count": 45,
      "outputs": []
    },
    {
      "cell_type": "code",
      "metadata": {
        "id": "PJn64N5a7IUB"
      },
      "source": [
        "def train_model(model, opt, scheduler, num_epochs, history=[], verbose=True):\n",
        "  criterion = nn.CrossEntropyLoss()\n",
        "\n",
        "  for epoch in range(num_epochs):\n",
        "    start_time = time.time()\n",
        "    for i, (images, labels) in enumerate(train_loader):\n",
        "      # Write tensor to GPU if available\n",
        "      images, labels = images.to(DEVICE), labels.to(DEVICE)\n",
        "\n",
        "      # Clear Gradient\n",
        "      opt.zero_grad()\n",
        "\n",
        "      # Forward pass\n",
        "      outputs = model(images)\n",
        "      loss = criterion(outputs, labels)\n",
        "\n",
        "      # Backward pass\n",
        "      loss.backward()\n",
        "      opt.step()\n",
        "\n",
        "    history = test_accuracy(model, history)\n",
        "\n",
        "    if verbose:\n",
        "      _, predicted = torch.max(outputs, 1)\n",
        "      total = labels.size(0)\n",
        "      correct = (predicted == labels).sum().item()\n",
        "\n",
        "      train_accuracy = 100 * correct / total\n",
        "      print('EPOCH: {} LR: {} Time: {:.4} sec Train Accuracy: {} % Test Accuracy: {} %'.format(epoch, \n",
        "            scheduler.get_last_lr(), time.time() - start_time, train_accuracy, history[-1]))\n",
        "    \n",
        "    scheduler.step()\n",
        "\n",
        "  return history"
      ],
      "execution_count": 46,
      "outputs": []
    },
    {
      "cell_type": "code",
      "metadata": {
        "id": "g83wTAZnVDhz"
      },
      "source": [
        "model = ResNet()\n",
        "model.to(DEVICE)\n",
        "opt = optim.Adam(model.parameters(), lr=1e-3)\n",
        "scheduler = optim.lr_scheduler.MultiStepLR(opt, milestones=[100, 125], gamma=0.1)\n",
        "history = []"
      ],
      "execution_count": 55,
      "outputs": []
    },
    {
      "cell_type": "code",
      "metadata": {
        "id": "9XWU6ZAPl3li",
        "outputId": "824de8c3-d816-4532-d5e2-5c025e013c21",
        "colab": {
          "base_uri": "https://localhost:8080/"
        }
      },
      "source": [
        "history = train_model(model, opt, scheduler, num_epochs=150, history=history)"
      ],
      "execution_count": 56,
      "outputs": [
        {
          "output_type": "stream",
          "text": [
            "EPOCH: 0 LR: [0.001] Time: 66.72 sec Train Accuracy: 6.25 % Test Accuracy: 5.48 %\n",
            "EPOCH: 1 LR: [0.001] Time: 66.12 sec Train Accuracy: 6.25 % Test Accuracy: 8.08 %\n",
            "EPOCH: 2 LR: [0.001] Time: 65.98 sec Train Accuracy: 10.0 % Test Accuracy: 9.04 %\n",
            "EPOCH: 3 LR: [0.001] Time: 66.28 sec Train Accuracy: 7.5 % Test Accuracy: 10.77 %\n",
            "EPOCH: 4 LR: [0.001] Time: 66.25 sec Train Accuracy: 8.75 % Test Accuracy: 11.88 %\n",
            "EPOCH: 5 LR: [0.001] Time: 66.24 sec Train Accuracy: 13.75 % Test Accuracy: 12.61 %\n",
            "EPOCH: 6 LR: [0.001] Time: 66.19 sec Train Accuracy: 11.25 % Test Accuracy: 12.88 %\n",
            "EPOCH: 7 LR: [0.001] Time: 66.4 sec Train Accuracy: 11.25 % Test Accuracy: 13.78 %\n",
            "EPOCH: 8 LR: [0.001] Time: 66.05 sec Train Accuracy: 11.25 % Test Accuracy: 14.45 %\n",
            "EPOCH: 9 LR: [0.001] Time: 66.17 sec Train Accuracy: 15.0 % Test Accuracy: 15.68 %\n",
            "EPOCH: 10 LR: [0.001] Time: 66.35 sec Train Accuracy: 15.0 % Test Accuracy: 15.75 %\n",
            "EPOCH: 11 LR: [0.001] Time: 66.44 sec Train Accuracy: 16.25 % Test Accuracy: 16.31 %\n",
            "EPOCH: 12 LR: [0.001] Time: 66.25 sec Train Accuracy: 13.75 % Test Accuracy: 17.7 %\n",
            "EPOCH: 13 LR: [0.001] Time: 66.18 sec Train Accuracy: 17.5 % Test Accuracy: 18.39 %\n",
            "EPOCH: 14 LR: [0.001] Time: 66.26 sec Train Accuracy: 17.5 % Test Accuracy: 20.69 %\n",
            "EPOCH: 15 LR: [0.001] Time: 66.36 sec Train Accuracy: 18.75 % Test Accuracy: 21.51 %\n",
            "EPOCH: 16 LR: [0.001] Time: 66.4 sec Train Accuracy: 20.0 % Test Accuracy: 21.82 %\n",
            "EPOCH: 17 LR: [0.001] Time: 66.42 sec Train Accuracy: 22.5 % Test Accuracy: 22.93 %\n",
            "EPOCH: 18 LR: [0.001] Time: 66.37 sec Train Accuracy: 23.75 % Test Accuracy: 22.93 %\n",
            "EPOCH: 19 LR: [0.001] Time: 66.33 sec Train Accuracy: 25.0 % Test Accuracy: 24.4 %\n",
            "EPOCH: 20 LR: [0.001] Time: 66.34 sec Train Accuracy: 25.0 % Test Accuracy: 24.45 %\n",
            "EPOCH: 21 LR: [0.001] Time: 66.26 sec Train Accuracy: 28.75 % Test Accuracy: 25.16 %\n",
            "EPOCH: 22 LR: [0.001] Time: 66.28 sec Train Accuracy: 28.75 % Test Accuracy: 25.77 %\n",
            "EPOCH: 23 LR: [0.001] Time: 66.31 sec Train Accuracy: 26.25 % Test Accuracy: 26.01 %\n",
            "EPOCH: 24 LR: [0.001] Time: 66.41 sec Train Accuracy: 30.0 % Test Accuracy: 27.26 %\n",
            "EPOCH: 25 LR: [0.001] Time: 66.37 sec Train Accuracy: 27.5 % Test Accuracy: 28.03 %\n",
            "EPOCH: 26 LR: [0.001] Time: 66.21 sec Train Accuracy: 28.75 % Test Accuracy: 28.02 %\n",
            "EPOCH: 27 LR: [0.001] Time: 66.23 sec Train Accuracy: 30.0 % Test Accuracy: 28.39 %\n",
            "EPOCH: 28 LR: [0.001] Time: 66.32 sec Train Accuracy: 33.75 % Test Accuracy: 28.63 %\n",
            "EPOCH: 29 LR: [0.001] Time: 66.29 sec Train Accuracy: 32.5 % Test Accuracy: 28.81 %\n",
            "EPOCH: 30 LR: [0.001] Time: 66.25 sec Train Accuracy: 32.5 % Test Accuracy: 30.21 %\n",
            "EPOCH: 31 LR: [0.001] Time: 66.26 sec Train Accuracy: 32.5 % Test Accuracy: 30.31 %\n",
            "EPOCH: 32 LR: [0.001] Time: 66.29 sec Train Accuracy: 36.25 % Test Accuracy: 30.79 %\n",
            "EPOCH: 33 LR: [0.001] Time: 66.36 sec Train Accuracy: 36.25 % Test Accuracy: 31.3 %\n",
            "EPOCH: 34 LR: [0.001] Time: 66.3 sec Train Accuracy: 38.75 % Test Accuracy: 31.9 %\n",
            "EPOCH: 35 LR: [0.001] Time: 66.35 sec Train Accuracy: 36.25 % Test Accuracy: 31.78 %\n",
            "EPOCH: 36 LR: [0.001] Time: 66.48 sec Train Accuracy: 38.75 % Test Accuracy: 32.46 %\n",
            "EPOCH: 37 LR: [0.001] Time: 66.42 sec Train Accuracy: 38.75 % Test Accuracy: 32.85 %\n",
            "EPOCH: 38 LR: [0.001] Time: 66.29 sec Train Accuracy: 37.5 % Test Accuracy: 33.75 %\n",
            "EPOCH: 39 LR: [0.001] Time: 66.34 sec Train Accuracy: 41.25 % Test Accuracy: 33.8 %\n",
            "EPOCH: 40 LR: [0.001] Time: 66.43 sec Train Accuracy: 40.0 % Test Accuracy: 34.43 %\n",
            "EPOCH: 41 LR: [0.001] Time: 66.37 sec Train Accuracy: 37.5 % Test Accuracy: 34.16 %\n",
            "EPOCH: 42 LR: [0.001] Time: 66.25 sec Train Accuracy: 43.75 % Test Accuracy: 34.26 %\n",
            "EPOCH: 43 LR: [0.001] Time: 66.23 sec Train Accuracy: 38.75 % Test Accuracy: 34.4 %\n",
            "EPOCH: 44 LR: [0.001] Time: 66.27 sec Train Accuracy: 43.75 % Test Accuracy: 35.03 %\n",
            "EPOCH: 45 LR: [0.001] Time: 66.48 sec Train Accuracy: 43.75 % Test Accuracy: 35.4 %\n",
            "EPOCH: 46 LR: [0.001] Time: 66.42 sec Train Accuracy: 43.75 % Test Accuracy: 35.63 %\n",
            "EPOCH: 47 LR: [0.001] Time: 66.24 sec Train Accuracy: 43.75 % Test Accuracy: 36.53 %\n",
            "EPOCH: 48 LR: [0.001] Time: 66.12 sec Train Accuracy: 42.5 % Test Accuracy: 35.81 %\n",
            "EPOCH: 49 LR: [0.001] Time: 66.25 sec Train Accuracy: 43.75 % Test Accuracy: 36.08 %\n",
            "EPOCH: 50 LR: [0.001] Time: 66.34 sec Train Accuracy: 45.0 % Test Accuracy: 35.89 %\n",
            "EPOCH: 51 LR: [0.001] Time: 66.11 sec Train Accuracy: 46.25 % Test Accuracy: 36.76 %\n",
            "EPOCH: 52 LR: [0.001] Time: 66.04 sec Train Accuracy: 45.0 % Test Accuracy: 36.02 %\n",
            "EPOCH: 53 LR: [0.001] Time: 66.04 sec Train Accuracy: 42.5 % Test Accuracy: 36.74 %\n",
            "EPOCH: 54 LR: [0.001] Time: 65.98 sec Train Accuracy: 45.0 % Test Accuracy: 37.18 %\n",
            "EPOCH: 55 LR: [0.001] Time: 66.0 sec Train Accuracy: 43.75 % Test Accuracy: 37.71 %\n",
            "EPOCH: 56 LR: [0.001] Time: 66.14 sec Train Accuracy: 46.25 % Test Accuracy: 38.02 %\n",
            "EPOCH: 57 LR: [0.001] Time: 66.26 sec Train Accuracy: 46.25 % Test Accuracy: 37.06 %\n",
            "EPOCH: 58 LR: [0.001] Time: 66.14 sec Train Accuracy: 47.5 % Test Accuracy: 38.32 %\n",
            "EPOCH: 59 LR: [0.001] Time: 66.06 sec Train Accuracy: 48.75 % Test Accuracy: 37.91 %\n",
            "EPOCH: 60 LR: [0.001] Time: 66.03 sec Train Accuracy: 48.75 % Test Accuracy: 38.61 %\n",
            "EPOCH: 61 LR: [0.001] Time: 66.17 sec Train Accuracy: 51.25 % Test Accuracy: 39.08 %\n",
            "EPOCH: 62 LR: [0.001] Time: 66.22 sec Train Accuracy: 50.0 % Test Accuracy: 39.1 %\n",
            "EPOCH: 63 LR: [0.001] Time: 66.11 sec Train Accuracy: 51.25 % Test Accuracy: 39.34 %\n",
            "EPOCH: 64 LR: [0.001] Time: 66.06 sec Train Accuracy: 51.25 % Test Accuracy: 39.83 %\n",
            "EPOCH: 65 LR: [0.001] Time: 66.1 sec Train Accuracy: 53.75 % Test Accuracy: 39.97 %\n",
            "EPOCH: 66 LR: [0.001] Time: 66.16 sec Train Accuracy: 51.25 % Test Accuracy: 40.05 %\n",
            "EPOCH: 67 LR: [0.001] Time: 66.1 sec Train Accuracy: 53.75 % Test Accuracy: 39.99 %\n",
            "EPOCH: 68 LR: [0.001] Time: 66.07 sec Train Accuracy: 52.5 % Test Accuracy: 40.33 %\n",
            "EPOCH: 69 LR: [0.001] Time: 66.07 sec Train Accuracy: 53.75 % Test Accuracy: 40.34 %\n",
            "EPOCH: 70 LR: [0.001] Time: 66.08 sec Train Accuracy: 53.75 % Test Accuracy: 40.45 %\n",
            "EPOCH: 71 LR: [0.001] Time: 66.09 sec Train Accuracy: 53.75 % Test Accuracy: 40.9 %\n",
            "EPOCH: 72 LR: [0.001] Time: 66.1 sec Train Accuracy: 53.75 % Test Accuracy: 40.85 %\n",
            "EPOCH: 73 LR: [0.001] Time: 66.07 sec Train Accuracy: 55.0 % Test Accuracy: 41.23 %\n",
            "EPOCH: 74 LR: [0.001] Time: 66.07 sec Train Accuracy: 55.0 % Test Accuracy: 41.4 %\n",
            "EPOCH: 75 LR: [0.001] Time: 66.06 sec Train Accuracy: 53.75 % Test Accuracy: 41.56 %\n",
            "EPOCH: 76 LR: [0.001] Time: 66.19 sec Train Accuracy: 56.25 % Test Accuracy: 41.39 %\n",
            "EPOCH: 77 LR: [0.001] Time: 66.07 sec Train Accuracy: 55.0 % Test Accuracy: 41.12 %\n",
            "EPOCH: 78 LR: [0.001] Time: 66.13 sec Train Accuracy: 55.0 % Test Accuracy: 41.93 %\n",
            "EPOCH: 79 LR: [0.001] Time: 66.08 sec Train Accuracy: 53.75 % Test Accuracy: 42.07 %\n",
            "EPOCH: 80 LR: [0.001] Time: 66.07 sec Train Accuracy: 56.25 % Test Accuracy: 41.98 %\n",
            "EPOCH: 81 LR: [0.001] Time: 66.04 sec Train Accuracy: 56.25 % Test Accuracy: 41.95 %\n",
            "EPOCH: 82 LR: [0.001] Time: 66.07 sec Train Accuracy: 56.25 % Test Accuracy: 42.47 %\n",
            "EPOCH: 83 LR: [0.001] Time: 66.03 sec Train Accuracy: 56.25 % Test Accuracy: 41.77 %\n",
            "EPOCH: 84 LR: [0.001] Time: 66.05 sec Train Accuracy: 58.75 % Test Accuracy: 42.81 %\n",
            "EPOCH: 85 LR: [0.001] Time: 66.01 sec Train Accuracy: 58.75 % Test Accuracy: 42.88 %\n",
            "EPOCH: 86 LR: [0.001] Time: 66.09 sec Train Accuracy: 60.0 % Test Accuracy: 42.5 %\n",
            "EPOCH: 87 LR: [0.001] Time: 66.06 sec Train Accuracy: 57.5 % Test Accuracy: 42.49 %\n",
            "EPOCH: 88 LR: [0.001] Time: 66.09 sec Train Accuracy: 58.75 % Test Accuracy: 42.61 %\n",
            "EPOCH: 89 LR: [0.001] Time: 66.16 sec Train Accuracy: 56.25 % Test Accuracy: 42.34 %\n",
            "EPOCH: 90 LR: [0.001] Time: 66.2 sec Train Accuracy: 60.0 % Test Accuracy: 42.55 %\n",
            "EPOCH: 91 LR: [0.001] Time: 66.21 sec Train Accuracy: 61.25 % Test Accuracy: 42.13 %\n",
            "EPOCH: 92 LR: [0.001] Time: 66.22 sec Train Accuracy: 57.5 % Test Accuracy: 42.43 %\n",
            "EPOCH: 93 LR: [0.001] Time: 66.35 sec Train Accuracy: 60.0 % Test Accuracy: 43.01 %\n",
            "EPOCH: 94 LR: [0.001] Time: 66.27 sec Train Accuracy: 61.25 % Test Accuracy: 42.62 %\n",
            "EPOCH: 95 LR: [0.001] Time: 66.12 sec Train Accuracy: 61.25 % Test Accuracy: 43.3 %\n",
            "EPOCH: 96 LR: [0.001] Time: 66.11 sec Train Accuracy: 62.5 % Test Accuracy: 43.64 %\n",
            "EPOCH: 97 LR: [0.001] Time: 66.19 sec Train Accuracy: 63.75 % Test Accuracy: 43.69 %\n",
            "EPOCH: 98 LR: [0.001] Time: 66.27 sec Train Accuracy: 62.5 % Test Accuracy: 43.18 %\n",
            "EPOCH: 99 LR: [0.001] Time: 66.28 sec Train Accuracy: 63.75 % Test Accuracy: 43.52 %\n",
            "EPOCH: 100 LR: [0.0001] Time: 66.16 sec Train Accuracy: 63.75 % Test Accuracy: 44.76 %\n",
            "EPOCH: 101 LR: [0.0001] Time: 65.93 sec Train Accuracy: 63.75 % Test Accuracy: 45.05 %\n",
            "EPOCH: 102 LR: [0.0001] Time: 66.06 sec Train Accuracy: 63.75 % Test Accuracy: 45.21 %\n",
            "EPOCH: 103 LR: [0.0001] Time: 66.2 sec Train Accuracy: 63.75 % Test Accuracy: 45.16 %\n",
            "EPOCH: 104 LR: [0.0001] Time: 66.17 sec Train Accuracy: 63.75 % Test Accuracy: 45.29 %\n",
            "EPOCH: 105 LR: [0.0001] Time: 66.17 sec Train Accuracy: 63.75 % Test Accuracy: 45.36 %\n",
            "EPOCH: 106 LR: [0.0001] Time: 66.19 sec Train Accuracy: 63.75 % Test Accuracy: 45.19 %\n",
            "EPOCH: 107 LR: [0.0001] Time: 66.12 sec Train Accuracy: 65.0 % Test Accuracy: 45.21 %\n",
            "EPOCH: 108 LR: [0.0001] Time: 66.3 sec Train Accuracy: 63.75 % Test Accuracy: 45.28 %\n",
            "EPOCH: 109 LR: [0.0001] Time: 66.3 sec Train Accuracy: 65.0 % Test Accuracy: 45.15 %\n",
            "EPOCH: 110 LR: [0.0001] Time: 66.26 sec Train Accuracy: 62.5 % Test Accuracy: 45.31 %\n",
            "EPOCH: 111 LR: [0.0001] Time: 66.27 sec Train Accuracy: 65.0 % Test Accuracy: 45.42 %\n",
            "EPOCH: 112 LR: [0.0001] Time: 66.28 sec Train Accuracy: 65.0 % Test Accuracy: 45.32 %\n",
            "EPOCH: 113 LR: [0.0001] Time: 66.17 sec Train Accuracy: 65.0 % Test Accuracy: 45.4 %\n",
            "EPOCH: 114 LR: [0.0001] Time: 66.04 sec Train Accuracy: 65.0 % Test Accuracy: 45.29 %\n",
            "EPOCH: 115 LR: [0.0001] Time: 66.09 sec Train Accuracy: 65.0 % Test Accuracy: 45.24 %\n",
            "EPOCH: 116 LR: [0.0001] Time: 66.15 sec Train Accuracy: 63.75 % Test Accuracy: 45.3 %\n",
            "EPOCH: 117 LR: [0.0001] Time: 66.09 sec Train Accuracy: 62.5 % Test Accuracy: 45.37 %\n",
            "EPOCH: 118 LR: [0.0001] Time: 66.09 sec Train Accuracy: 65.0 % Test Accuracy: 45.29 %\n",
            "EPOCH: 119 LR: [0.0001] Time: 66.17 sec Train Accuracy: 65.0 % Test Accuracy: 45.32 %\n",
            "EPOCH: 120 LR: [0.0001] Time: 66.24 sec Train Accuracy: 65.0 % Test Accuracy: 45.04 %\n",
            "EPOCH: 121 LR: [0.0001] Time: 66.24 sec Train Accuracy: 65.0 % Test Accuracy: 45.25 %\n",
            "EPOCH: 122 LR: [0.0001] Time: 66.31 sec Train Accuracy: 65.0 % Test Accuracy: 45.17 %\n",
            "EPOCH: 123 LR: [0.0001] Time: 66.24 sec Train Accuracy: 65.0 % Test Accuracy: 45.34 %\n",
            "EPOCH: 124 LR: [0.0001] Time: 66.26 sec Train Accuracy: 65.0 % Test Accuracy: 45.28 %\n",
            "EPOCH: 125 LR: [1e-05] Time: 66.22 sec Train Accuracy: 65.0 % Test Accuracy: 45.29 %\n",
            "EPOCH: 126 LR: [1e-05] Time: 66.2 sec Train Accuracy: 65.0 % Test Accuracy: 45.19 %\n",
            "EPOCH: 127 LR: [1e-05] Time: 66.24 sec Train Accuracy: 65.0 % Test Accuracy: 45.3 %\n",
            "EPOCH: 128 LR: [1e-05] Time: 66.29 sec Train Accuracy: 65.0 % Test Accuracy: 45.28 %\n",
            "EPOCH: 129 LR: [1e-05] Time: 66.36 sec Train Accuracy: 65.0 % Test Accuracy: 45.38 %\n",
            "EPOCH: 130 LR: [1e-05] Time: 66.34 sec Train Accuracy: 65.0 % Test Accuracy: 45.32 %\n",
            "EPOCH: 131 LR: [1e-05] Time: 66.35 sec Train Accuracy: 65.0 % Test Accuracy: 45.44 %\n",
            "EPOCH: 132 LR: [1e-05] Time: 66.27 sec Train Accuracy: 65.0 % Test Accuracy: 45.41 %\n",
            "EPOCH: 133 LR: [1e-05] Time: 66.21 sec Train Accuracy: 65.0 % Test Accuracy: 45.39 %\n",
            "EPOCH: 134 LR: [1e-05] Time: 66.09 sec Train Accuracy: 65.0 % Test Accuracy: 45.27 %\n",
            "EPOCH: 135 LR: [1e-05] Time: 66.01 sec Train Accuracy: 65.0 % Test Accuracy: 45.37 %\n",
            "EPOCH: 136 LR: [1e-05] Time: 65.98 sec Train Accuracy: 65.0 % Test Accuracy: 45.3 %\n",
            "EPOCH: 137 LR: [1e-05] Time: 66.04 sec Train Accuracy: 66.25 % Test Accuracy: 45.45 %\n",
            "EPOCH: 138 LR: [1e-05] Time: 66.09 sec Train Accuracy: 65.0 % Test Accuracy: 45.41 %\n",
            "EPOCH: 139 LR: [1e-05] Time: 66.17 sec Train Accuracy: 65.0 % Test Accuracy: 45.44 %\n",
            "EPOCH: 140 LR: [1e-05] Time: 66.11 sec Train Accuracy: 65.0 % Test Accuracy: 45.45 %\n",
            "EPOCH: 141 LR: [1e-05] Time: 66.04 sec Train Accuracy: 65.0 % Test Accuracy: 45.36 %\n",
            "EPOCH: 142 LR: [1e-05] Time: 66.07 sec Train Accuracy: 65.0 % Test Accuracy: 45.39 %\n",
            "EPOCH: 143 LR: [1e-05] Time: 66.16 sec Train Accuracy: 65.0 % Test Accuracy: 45.47 %\n",
            "EPOCH: 144 LR: [1e-05] Time: 66.21 sec Train Accuracy: 65.0 % Test Accuracy: 45.43 %\n",
            "EPOCH: 145 LR: [1e-05] Time: 66.14 sec Train Accuracy: 65.0 % Test Accuracy: 45.51 %\n",
            "EPOCH: 146 LR: [1e-05] Time: 66.05 sec Train Accuracy: 66.25 % Test Accuracy: 45.44 %\n",
            "EPOCH: 147 LR: [1e-05] Time: 65.93 sec Train Accuracy: 65.0 % Test Accuracy: 45.4 %\n",
            "EPOCH: 148 LR: [1e-05] Time: 66.04 sec Train Accuracy: 66.25 % Test Accuracy: 45.38 %\n",
            "EPOCH: 149 LR: [1e-05] Time: 66.24 sec Train Accuracy: 65.0 % Test Accuracy: 45.36 %\n"
          ],
          "name": "stdout"
        }
      ]
    },
    {
      "cell_type": "code",
      "metadata": {
        "id": "XDCOfiFwmkxQ",
        "outputId": "c7f2ccff-2eac-499d-970a-cad9ba23f9af",
        "colab": {
          "base_uri": "https://localhost:8080/"
        }
      },
      "source": [
        "!nvidia-smi"
      ],
      "execution_count": 54,
      "outputs": [
        {
          "output_type": "stream",
          "text": [
            "Thu Oct  8 15:23:15 2020       \n",
            "+-----------------------------------------------------------------------------+\n",
            "| NVIDIA-SMI 455.23.05    Driver Version: 418.67       CUDA Version: 10.1     |\n",
            "|-------------------------------+----------------------+----------------------+\n",
            "| GPU  Name        Persistence-M| Bus-Id        Disp.A | Volatile Uncorr. ECC |\n",
            "| Fan  Temp  Perf  Pwr:Usage/Cap|         Memory-Usage | GPU-Util  Compute M. |\n",
            "|                               |                      |               MIG M. |\n",
            "|===============================+======================+======================|\n",
            "|   0  Tesla T4            Off  | 00000000:00:04.0 Off |                    0 |\n",
            "| N/A   75C    P0    34W /  70W |   3879MiB / 15079MiB |      0%      Default |\n",
            "|                               |                      |                 ERR! |\n",
            "+-------------------------------+----------------------+----------------------+\n",
            "                                                                               \n",
            "+-----------------------------------------------------------------------------+\n",
            "| Processes:                                                                  |\n",
            "|  GPU   GI   CI        PID   Type   Process name                  GPU Memory |\n",
            "|        ID   ID                                                   Usage      |\n",
            "|=============================================================================|\n",
            "|  No running processes found                                                 |\n",
            "+-----------------------------------------------------------------------------+\n"
          ],
          "name": "stdout"
        }
      ]
    },
    {
      "cell_type": "code",
      "metadata": {
        "id": "zyXMowvEWccH"
      },
      "source": [
        ""
      ],
      "execution_count": null,
      "outputs": []
    }
  ]
}