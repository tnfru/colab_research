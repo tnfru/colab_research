{
  "nbformat": 4,
  "nbformat_minor": 0,
  "metadata": {
    "colab": {
      "name": "CIFAR100.ipynb",
      "provenance": [],
      "collapsed_sections": [],
      "authorship_tag": "ABX9TyO0fnPh0nhYCr16EaDRlPEV",
      "include_colab_link": true
    },
    "kernelspec": {
      "name": "python3",
      "display_name": "Python 3"
    },
    "accelerator": "GPU",
    "widgets": {
      "application/vnd.jupyter.widget-state+json": {
        "8f0914fbfe7f46fda6a046523ccc58f4": {
          "model_module": "@jupyter-widgets/controls",
          "model_name": "VBoxModel",
          "state": {
            "_view_name": "VBoxView",
            "_dom_classes": [],
            "_model_name": "VBoxModel",
            "_view_module": "@jupyter-widgets/controls",
            "_model_module_version": "1.5.0",
            "_view_count": null,
            "_view_module_version": "1.5.0",
            "box_style": "",
            "layout": "IPY_MODEL_fd667a39756c4cd8bb762e358fe776be",
            "_model_module": "@jupyter-widgets/controls",
            "children": [
              "IPY_MODEL_09d4bcea69384d048778a74aafd60d23",
              "IPY_MODEL_e133100f3cc84a53a953d9ff8258edf1"
            ]
          }
        },
        "fd667a39756c4cd8bb762e358fe776be": {
          "model_module": "@jupyter-widgets/base",
          "model_name": "LayoutModel",
          "state": {
            "_view_name": "LayoutView",
            "grid_template_rows": null,
            "right": null,
            "justify_content": null,
            "_view_module": "@jupyter-widgets/base",
            "overflow": null,
            "_model_module_version": "1.2.0",
            "_view_count": null,
            "flex_flow": null,
            "width": null,
            "min_width": null,
            "border": null,
            "align_items": null,
            "bottom": null,
            "_model_module": "@jupyter-widgets/base",
            "top": null,
            "grid_column": null,
            "overflow_y": null,
            "overflow_x": null,
            "grid_auto_flow": null,
            "grid_area": null,
            "grid_template_columns": null,
            "flex": null,
            "_model_name": "LayoutModel",
            "justify_items": null,
            "grid_row": null,
            "max_height": null,
            "align_content": null,
            "visibility": null,
            "align_self": null,
            "height": null,
            "min_height": null,
            "padding": null,
            "grid_auto_rows": null,
            "grid_gap": null,
            "max_width": null,
            "order": null,
            "_view_module_version": "1.2.0",
            "grid_template_areas": null,
            "object_position": null,
            "object_fit": null,
            "grid_auto_columns": null,
            "margin": null,
            "display": null,
            "left": null
          }
        },
        "09d4bcea69384d048778a74aafd60d23": {
          "model_module": "@jupyter-widgets/controls",
          "model_name": "LabelModel",
          "state": {
            "_view_name": "LabelView",
            "style": "IPY_MODEL_05ca240142384164ab8e2c5ed9c45008",
            "_dom_classes": [],
            "description": "",
            "_model_name": "LabelModel",
            "placeholder": "​",
            "_view_module": "@jupyter-widgets/controls",
            "_model_module_version": "1.5.0",
            "value": " 0.01MB of 0.01MB uploaded (0.00MB deduped)\r",
            "_view_count": null,
            "_view_module_version": "1.5.0",
            "description_tooltip": null,
            "_model_module": "@jupyter-widgets/controls",
            "layout": "IPY_MODEL_ddeeb25ae12a4b6abba4081f5c3f7ff5"
          }
        },
        "e133100f3cc84a53a953d9ff8258edf1": {
          "model_module": "@jupyter-widgets/controls",
          "model_name": "FloatProgressModel",
          "state": {
            "_view_name": "ProgressView",
            "style": "IPY_MODEL_9f5b9336281c4c0a9bb76778c5061c2d",
            "_dom_classes": [],
            "description": "",
            "_model_name": "FloatProgressModel",
            "bar_style": "",
            "max": 1,
            "_view_module": "@jupyter-widgets/controls",
            "_model_module_version": "1.5.0",
            "value": 1,
            "_view_count": null,
            "_view_module_version": "1.5.0",
            "orientation": "horizontal",
            "min": 0,
            "description_tooltip": null,
            "_model_module": "@jupyter-widgets/controls",
            "layout": "IPY_MODEL_589a3466c9204f889bdab6e3db79cb22"
          }
        },
        "05ca240142384164ab8e2c5ed9c45008": {
          "model_module": "@jupyter-widgets/controls",
          "model_name": "DescriptionStyleModel",
          "state": {
            "_view_name": "StyleView",
            "_model_name": "DescriptionStyleModel",
            "description_width": "",
            "_view_module": "@jupyter-widgets/base",
            "_model_module_version": "1.5.0",
            "_view_count": null,
            "_view_module_version": "1.2.0",
            "_model_module": "@jupyter-widgets/controls"
          }
        },
        "ddeeb25ae12a4b6abba4081f5c3f7ff5": {
          "model_module": "@jupyter-widgets/base",
          "model_name": "LayoutModel",
          "state": {
            "_view_name": "LayoutView",
            "grid_template_rows": null,
            "right": null,
            "justify_content": null,
            "_view_module": "@jupyter-widgets/base",
            "overflow": null,
            "_model_module_version": "1.2.0",
            "_view_count": null,
            "flex_flow": null,
            "width": null,
            "min_width": null,
            "border": null,
            "align_items": null,
            "bottom": null,
            "_model_module": "@jupyter-widgets/base",
            "top": null,
            "grid_column": null,
            "overflow_y": null,
            "overflow_x": null,
            "grid_auto_flow": null,
            "grid_area": null,
            "grid_template_columns": null,
            "flex": null,
            "_model_name": "LayoutModel",
            "justify_items": null,
            "grid_row": null,
            "max_height": null,
            "align_content": null,
            "visibility": null,
            "align_self": null,
            "height": null,
            "min_height": null,
            "padding": null,
            "grid_auto_rows": null,
            "grid_gap": null,
            "max_width": null,
            "order": null,
            "_view_module_version": "1.2.0",
            "grid_template_areas": null,
            "object_position": null,
            "object_fit": null,
            "grid_auto_columns": null,
            "margin": null,
            "display": null,
            "left": null
          }
        },
        "9f5b9336281c4c0a9bb76778c5061c2d": {
          "model_module": "@jupyter-widgets/controls",
          "model_name": "ProgressStyleModel",
          "state": {
            "_view_name": "StyleView",
            "_model_name": "ProgressStyleModel",
            "description_width": "",
            "_view_module": "@jupyter-widgets/base",
            "_model_module_version": "1.5.0",
            "_view_count": null,
            "_view_module_version": "1.2.0",
            "bar_color": null,
            "_model_module": "@jupyter-widgets/controls"
          }
        },
        "589a3466c9204f889bdab6e3db79cb22": {
          "model_module": "@jupyter-widgets/base",
          "model_name": "LayoutModel",
          "state": {
            "_view_name": "LayoutView",
            "grid_template_rows": null,
            "right": null,
            "justify_content": null,
            "_view_module": "@jupyter-widgets/base",
            "overflow": null,
            "_model_module_version": "1.2.0",
            "_view_count": null,
            "flex_flow": null,
            "width": null,
            "min_width": null,
            "border": null,
            "align_items": null,
            "bottom": null,
            "_model_module": "@jupyter-widgets/base",
            "top": null,
            "grid_column": null,
            "overflow_y": null,
            "overflow_x": null,
            "grid_auto_flow": null,
            "grid_area": null,
            "grid_template_columns": null,
            "flex": null,
            "_model_name": "LayoutModel",
            "justify_items": null,
            "grid_row": null,
            "max_height": null,
            "align_content": null,
            "visibility": null,
            "align_self": null,
            "height": null,
            "min_height": null,
            "padding": null,
            "grid_auto_rows": null,
            "grid_gap": null,
            "max_width": null,
            "order": null,
            "_view_module_version": "1.2.0",
            "grid_template_areas": null,
            "object_position": null,
            "object_fit": null,
            "grid_auto_columns": null,
            "margin": null,
            "display": null,
            "left": null
          }
        }
      }
    }
  },
  "cells": [
    {
      "cell_type": "markdown",
      "metadata": {
        "id": "view-in-github",
        "colab_type": "text"
      },
      "source": [
        "<a href=\"https://colab.research.google.com/github/tnfru/colab_research/blob/master/CIFAR100.ipynb\" target=\"_parent\"><img src=\"https://colab.research.google.com/assets/colab-badge.svg\" alt=\"Open In Colab\"/></a>"
      ]
    },
    {
      "cell_type": "code",
      "metadata": {
        "id": "AtEAa8_mDnGK"
      },
      "source": [
        "import numpy as np\n",
        "import torch\n",
        "import torch.optim as optim\n",
        "import torch.nn as nn\n",
        "import torch.nn.functional as F\n",
        "from torchvision.datasets import CIFAR100\n",
        "import torchvision.models\n",
        "from torchvision import transforms as T\n",
        "from torch.utils.data import DataLoader\n",
        "from torchsummary import summary\n",
        "import time\n",
        "import wandb"
      ],
      "execution_count": 1,
      "outputs": []
    },
    {
      "cell_type": "code",
      "metadata": {
        "id": "G3UQUmEbWndY",
        "outputId": "d7eb4ded-6088-4764-ff25-10c7ad3d36ec",
        "colab": {
          "base_uri": "https://localhost:8080/",
          "height": 34
        }
      },
      "source": [
        "DEVICE = torch.device('cuda' if torch.cuda.is_available() else 'cpu')\n",
        "print('using device:', DEVICE)\n",
        "torch.backends.cudnn.benchmark = True"
      ],
      "execution_count": 2,
      "outputs": [
        {
          "output_type": "stream",
          "text": [
            "using device: cuda\n"
          ],
          "name": "stdout"
        }
      ]
    },
    {
      "cell_type": "code",
      "metadata": {
        "id": "WcuckUAtHJh4"
      },
      "source": [
        "BATCH_SIZE = 128\n",
        "TRAIN_MEANS = np.array([0.50707516, 0.48654887, 0.44091784])\n",
        "TRAIN_STDS = np.array([0.26733429, 0.25643846, 0.27615047])\n",
        "TEST_MEANS = np.array([0.50879641, 0.48739301, 0.44194221])\n",
        "TEST_STDS = np.array([0.26825157, 0.25736374, 0.27709577])"
      ],
      "execution_count": 3,
      "outputs": []
    },
    {
      "cell_type": "code",
      "metadata": {
        "id": "DEHsG-DtEo4o",
        "outputId": "de46f6e5-8e97-41d0-c30c-55055599f46a",
        "colab": {
          "base_uri": "https://localhost:8080/",
          "height": 52
        }
      },
      "source": [
        "tr_train = T.Compose([T.ToTensor(),\n",
        "                      T.Normalize(TRAIN_MEANS, TRAIN_STDS)])\n",
        "\n",
        "tr_test = T.Compose([T.ToTensor(),\n",
        "                     T.Normalize(TEST_MEANS, TEST_STDS)])\n",
        "\n",
        "train = CIFAR100(\"./data\", train=True, download=True, transform=tr_train)\n",
        "train_loader = DataLoader(train, batch_size=BATCH_SIZE, shuffle=False, pin_memory=True)\n",
        "\n",
        "test = CIFAR100(\"./data\", train=False, download=True, transform=tr_test)\n",
        "test_loader = DataLoader(test, batch_size=BATCH_SIZE, pin_memory=True)"
      ],
      "execution_count": 4,
      "outputs": [
        {
          "output_type": "stream",
          "text": [
            "Files already downloaded and verified\n",
            "Files already downloaded and verified\n"
          ],
          "name": "stdout"
        }
      ]
    },
    {
      "cell_type": "code",
      "metadata": {
        "id": "mbQbSqW6TcGw"
      },
      "source": [
        "class IdentityModule(nn.Module):\n",
        "  def __init__(self, num_channel):\n",
        "    super(IdentityModule, self).__init__()\n",
        "\n",
        "    self.hidden1 = nn.Sequential(\n",
        "        nn.Conv2d(num_channel, num_channel, 3, padding=1, bias=False),\n",
        "        nn.BatchNorm2d(num_channel),\n",
        "        nn.ReLU(inplace=True),\n",
        "        nn.Conv2d(num_channel, num_channel, 3, padding=1, bias=False),\n",
        "        nn.BatchNorm2d(num_channel)\n",
        "    )\n",
        "\n",
        "    self.hidden2 = nn.Sequential(\n",
        "        nn.Conv2d(num_channel, num_channel, 3, padding=1, bias=False),\n",
        "        nn.BatchNorm2d(num_channel),\n",
        "        nn.ReLU(inplace=True),\n",
        "        nn.Conv2d(num_channel, num_channel, 3, padding=1, bias=False),\n",
        "        nn.BatchNorm2d(num_channel)\n",
        "    )\n",
        "  \n",
        "    self.hidden3 = nn.Sequential(\n",
        "        nn.Conv2d(num_channel, num_channel, 3, padding=1, bias=False),\n",
        "        nn.BatchNorm2d(num_channel),\n",
        "        nn.ReLU(inplace=True),\n",
        "        nn.Conv2d(num_channel, num_channel, 3, padding=1, bias=False),\n",
        "        nn.BatchNorm2d(num_channel)\n",
        "    )\n",
        "\n",
        "    self.relu = nn.ReLU(inplace=True)\n",
        "\n",
        "  def forward(self, x):\n",
        "    x = self.hidden1(x) + x\n",
        "    x = self.relu(x)\n",
        "    x = self.hidden2(x) + x\n",
        "    x = self.relu(x)\n",
        "    x = self.hidden3(x) + x\n",
        "    x = self.relu(x)\n",
        "\n",
        "    return x"
      ],
      "execution_count": 5,
      "outputs": []
    },
    {
      "cell_type": "code",
      "metadata": {
        "id": "fz9eIZtLdKpP"
      },
      "source": [
        "class ConvModule(nn.Module):\n",
        "  def __init__(self, in_channel, out_channel, stride=2):\n",
        "    super(ConvModule, self).__init__()\n",
        "\n",
        "    self.hidden1 = nn.Sequential(\n",
        "        nn.Conv2d(in_channel, out_channel, 3, padding=1, stride=stride, bias=False),\n",
        "        nn.BatchNorm2d(out_channel),\n",
        "        nn.ReLU(inplace=True),\n",
        "        nn.Conv2d(out_channel, out_channel, 3, padding=1, bias=False),\n",
        "        nn.BatchNorm2d(out_channel)\n",
        "    )\n",
        "    self.hidden2 = nn.Sequential(\n",
        "        nn.Conv2d(in_channel, out_channel, 1, stride=stride, bias=False),\n",
        "        nn.BatchNorm2d(out_channel)\n",
        "    )\n",
        "\n",
        "    self.relu = nn.ReLU(inplace=True)\n",
        "\n",
        "  def forward(self, x):\n",
        "    x1 = self.hidden1(x)\n",
        "    x2 = self.hidden2(x)\n",
        "    x = x1 + x2\n",
        "    x = self.relu(x)\n",
        "\n",
        "    return x\n"
      ],
      "execution_count": 6,
      "outputs": []
    },
    {
      "cell_type": "code",
      "metadata": {
        "id": "_io8PRSMhVK-"
      },
      "source": [
        "class ResNet(nn.Module):\n",
        "  def __init__(self):\n",
        "    super(ResNet, self).__init__()\n",
        "    self.inp = nn.Sequential(\n",
        "        nn.Conv2d(3, 64, 3, padding=1, bias=False),\n",
        "        nn.BatchNorm2d(64)\n",
        "    )\n",
        "\n",
        "    self.hidden1 = nn.Sequential(\n",
        "        IdentityModule(64),\n",
        "    )\n",
        "\n",
        "    self.hidden2 = nn.Sequential(\n",
        "        ConvModule(64, 128),\n",
        "        IdentityModule(128),\n",
        "        nn.Dropout(0.15)\n",
        "    )\n",
        "\n",
        "    self.hidden3 = nn.Sequential(\n",
        "        ConvModule(128, 256),\n",
        "        IdentityModule(256),\n",
        "        nn.Dropout(0.2)\n",
        "    )\n",
        "\n",
        "    self.out = nn.Sequential(\n",
        "        nn.AvgPool2d(kernel_size=8),\n",
        "        nn.Flatten(),\n",
        "        nn.Linear(256, 100),\n",
        "        nn.ReLU(),\n",
        "        nn.Linear(100, 100),\n",
        "        nn.Softmax(dim=1)\n",
        "    )\n",
        "\n",
        "  def forward(self, x):\n",
        "    x = self.inp(x)\n",
        "    x = self.hidden1(x)\n",
        "    x = self.hidden2(x)\n",
        "    x = self.hidden3(x)\n",
        "    x = self.out(x)\n",
        "\n",
        "    return x"
      ],
      "execution_count": 7,
      "outputs": []
    },
    {
      "cell_type": "code",
      "metadata": {
        "id": "78BUItnR6AAh"
      },
      "source": [
        "def test_accuracy(model, history):\n",
        "  model.eval()\n",
        "  with torch.no_grad():\n",
        "      correct = 0\n",
        "      total = 0\n",
        "\n",
        "      for data, target in test_loader:\n",
        "          images = data.to(DEVICE)\n",
        "          labels = target.to(DEVICE)\n",
        "          outputs = model(images)\n",
        "\n",
        "          _, predicted = torch.max(outputs, 1)\n",
        "          total += labels.size(0)\n",
        "          correct += (predicted == labels).sum().item()\n",
        "\n",
        "          accuracy = 100 * correct / total\n",
        "          history.append(accuracy)\n",
        "\n",
        "  model.train()\n",
        "\n",
        "  return history"
      ],
      "execution_count": 8,
      "outputs": []
    },
    {
      "cell_type": "code",
      "metadata": {
        "id": "PJn64N5a7IUB"
      },
      "source": [
        "def train_model(model, opt, scheduler, num_epochs, history=[], verbose=True):\n",
        "  criterion = nn.CrossEntropyLoss()\n",
        "\n",
        "  for epoch in range(num_epochs):\n",
        "    correct = 0\n",
        "    total = 0\n",
        "    start_time = time.time()\n",
        "\n",
        "    for i, (images, labels) in enumerate(train_loader):\n",
        "      # Write tensor to GPU if available\n",
        "      images, labels = images.to(DEVICE), labels.to(DEVICE)\n",
        "\n",
        "      # Clear Gradient\n",
        "      opt.zero_grad()\n",
        "\n",
        "      # Forward pass\n",
        "      outputs = model(images)\n",
        "      loss = criterion(outputs, labels)\n",
        "\n",
        "      # Backward pass\n",
        "      loss.backward()\n",
        "      opt.step()\n",
        "\n",
        "    history = test_accuracy(model, history)\n",
        "\n",
        "    if verbose:\n",
        "      _, predicted = torch.max(outputs, 1)\n",
        "      total += labels.size(0)\n",
        "      correct += (predicted == labels).sum().item()\n",
        "\n",
        "      train_accuracy = 100 * correct / total\n",
        "      print('EPOCH: {} LR: {} Time: {:.4} sec Train Accuracy: {} % Test Accuracy: {} %'.format(epoch, \n",
        "            scheduler.get_last_lr(), time.time() - start_time, train_accuracy, history[-1]))\n",
        "      \n",
        "      wandb.log({\n",
        "          \"epoch\": epoch,\n",
        "          \"lr\": scheduler.get_last_lr(),\n",
        "          \"time\": time.time() - start_time,\n",
        "          \"train_acc\": train_accuracy,\n",
        "          \"test_acc\": history[-1]\n",
        "      })\n",
        "    \n",
        "    scheduler.step()\n",
        "\n",
        "  return history"
      ],
      "execution_count": 9,
      "outputs": []
    },
    {
      "cell_type": "code",
      "metadata": {
        "id": "_0Z0xB5yHScG",
        "outputId": "df0edc12-7817-44ae-8d1c-dd78d82b75ae",
        "colab": {
          "base_uri": "https://localhost:8080/",
          "height": 139
        }
      },
      "source": [
        "config = wandb.config\n",
        "config.lr = 1e-3\n",
        "config.epochs = 150\n",
        "config.log_interval = 2\n",
        "config.batch_size = BATCH_SIZE"
      ],
      "execution_count": 12,
      "outputs": [
        {
          "output_type": "stream",
          "text": [
            "\u001b[34m\u001b[1mwandb\u001b[0m: Currently logged in as: \u001b[33mtnfru\u001b[0m (use `wandb login --relogin` to force relogin)\n"
          ],
          "name": "stderr"
        },
        {
          "output_type": "display_data",
          "data": {
            "text/html": [
              "\n",
              "                Tracking run with wandb version 0.10.5<br/>\n",
              "                Syncing run <strong style=\"color:#cdcd00\">twilight-salad-1</strong> to <a href=\"https://wandb.ai\" target=\"_blank\">Weights & Biases</a> <a href=\"https://docs.wandb.com/integrations/jupyter.html\" target=\"_blank\">(Documentation)</a>.<br/>\n",
              "                Project page: <a href=\"https://wandb.ai/tnfru/uncategorized\" target=\"_blank\">https://wandb.ai/tnfru/uncategorized</a><br/>\n",
              "                Run page: <a href=\"https://wandb.ai/tnfru/uncategorized/runs/24n0z83h\" target=\"_blank\">https://wandb.ai/tnfru/uncategorized/runs/24n0z83h</a><br/>\n",
              "                Run data is saved locally in <code>wandb/run-20201011_195504-24n0z83h</code><br/><br/>\n",
              "            "
            ],
            "text/plain": [
              "<IPython.core.display.HTML object>"
            ]
          },
          "metadata": {
            "tags": []
          }
        }
      ]
    },
    {
      "cell_type": "code",
      "metadata": {
        "id": "g83wTAZnVDhz"
      },
      "source": [
        "model = ResNet()\n",
        "#model = torchvision.models.resnet50(num_classes=100)\n",
        "model.to(DEVICE)\n",
        "opt = optim.Adam(model.parameters(), lr=config.lr)\n",
        "scheduler = optim.lr_scheduler.MultiStepLR(opt, milestones=[50, 100], gamma=0.1)\n",
        "history = []"
      ],
      "execution_count": 13,
      "outputs": []
    },
    {
      "cell_type": "code",
      "metadata": {
        "id": "9XWU6ZAPl3li",
        "outputId": "25a00398-deae-43d2-f1ca-7820a5c75ba4",
        "colab": {
          "base_uri": "https://localhost:8080/",
          "height": 832,
          "referenced_widgets": [
            "8f0914fbfe7f46fda6a046523ccc58f4",
            "fd667a39756c4cd8bb762e358fe776be",
            "09d4bcea69384d048778a74aafd60d23",
            "e133100f3cc84a53a953d9ff8258edf1",
            "05ca240142384164ab8e2c5ed9c45008",
            "ddeeb25ae12a4b6abba4081f5c3f7ff5",
            "9f5b9336281c4c0a9bb76778c5061c2d",
            "589a3466c9204f889bdab6e3db79cb22"
          ]
        }
      },
      "source": [
        "wandb.init(project=\"cifar-100\", name=\"test_run_resnet_no_wide\")\n",
        "wandb.watch(model, log=\"all\")\n",
        "\n",
        "history = train_model(model, opt, scheduler, num_epochs=config.epochs, history=history)"
      ],
      "execution_count": 14,
      "outputs": [
        {
          "output_type": "stream",
          "text": [
            "\u001b[34m\u001b[1mwandb\u001b[0m: \u001b[33mWARNING\u001b[0m Calling wandb.login() after wandb.init() has no effect.\n"
          ],
          "name": "stderr"
        },
        {
          "output_type": "display_data",
          "data": {
            "text/html": [
              "<br/>Waiting for W&B process to finish, PID 2637<br/>Program ended successfully."
            ],
            "text/plain": [
              "<IPython.core.display.HTML object>"
            ]
          },
          "metadata": {
            "tags": []
          }
        },
        {
          "output_type": "display_data",
          "data": {
            "application/vnd.jupyter.widget-view+json": {
              "model_id": "8f0914fbfe7f46fda6a046523ccc58f4",
              "version_minor": 0,
              "version_major": 2
            },
            "text/plain": [
              "VBox(children=(Label(value=' 0.00MB of 0.00MB uploaded (0.00MB deduped)\\r'), FloatProgress(value=1.0, max=1.0)…"
            ]
          },
          "metadata": {
            "tags": []
          }
        },
        {
          "output_type": "display_data",
          "data": {
            "text/html": [
              "Find user logs for this run at: <code>wandb/run-20201011_195504-24n0z83h/logs/debug.log</code>"
            ],
            "text/plain": [
              "<IPython.core.display.HTML object>"
            ]
          },
          "metadata": {
            "tags": []
          }
        },
        {
          "output_type": "display_data",
          "data": {
            "text/html": [
              "Find internal logs for this run at: <code>wandb/run-20201011_195504-24n0z83h/logs/debug-internal.log</code>"
            ],
            "text/plain": [
              "<IPython.core.display.HTML object>"
            ]
          },
          "metadata": {
            "tags": []
          }
        },
        {
          "output_type": "display_data",
          "data": {
            "text/html": [
              "Synced 5 W&B file(s), 0 media file(s), 0 artifact file(s) and 0 other file(s)"
            ],
            "text/plain": [
              "<IPython.core.display.HTML object>"
            ]
          },
          "metadata": {
            "tags": []
          }
        },
        {
          "output_type": "display_data",
          "data": {
            "text/html": [
              "\n",
              "                    <br/>Synced <strong style=\"color:#cdcd00\">twilight-salad-1</strong>: <a href=\"https://wandb.ai/tnfru/uncategorized/runs/24n0z83h\" target=\"_blank\">https://wandb.ai/tnfru/uncategorized/runs/24n0z83h</a><br/>\n",
              "                "
            ],
            "text/plain": [
              "<IPython.core.display.HTML object>"
            ]
          },
          "metadata": {
            "tags": []
          }
        },
        {
          "output_type": "display_data",
          "data": {
            "text/html": [
              "\n",
              "                Tracking run with wandb version 0.10.5<br/>\n",
              "                Syncing run <strong style=\"color:#cdcd00\">test_run_resnet_no_wide</strong> to <a href=\"https://wandb.ai\" target=\"_blank\">Weights & Biases</a> <a href=\"https://docs.wandb.com/integrations/jupyter.html\" target=\"_blank\">(Documentation)</a>.<br/>\n",
              "                Project page: <a href=\"https://wandb.ai/tnfru/cifar-100\" target=\"_blank\">https://wandb.ai/tnfru/cifar-100</a><br/>\n",
              "                Run page: <a href=\"https://wandb.ai/tnfru/cifar-100/runs/s3e8a4g7\" target=\"_blank\">https://wandb.ai/tnfru/cifar-100/runs/s3e8a4g7</a><br/>\n",
              "                Run data is saved locally in <code>wandb/run-20201011_195521-s3e8a4g7</code><br/><br/>\n",
              "            "
            ],
            "text/plain": [
              "<IPython.core.display.HTML object>"
            ]
          },
          "metadata": {
            "tags": []
          }
        },
        {
          "output_type": "stream",
          "text": [
            "EPOCH: 0 LR: [0.001] Time: 54.42 sec Train Accuracy: 3.75 % Test Accuracy: 3.69 %\n",
            "EPOCH: 1 LR: [0.001] Time: 54.31 sec Train Accuracy: 5.0 % Test Accuracy: 3.83 %\n",
            "EPOCH: 2 LR: [0.001] Time: 54.55 sec Train Accuracy: 7.5 % Test Accuracy: 5.37 %\n",
            "EPOCH: 3 LR: [0.001] Time: 54.23 sec Train Accuracy: 7.5 % Test Accuracy: 5.63 %\n",
            "EPOCH: 4 LR: [0.001] Time: 54.5 sec Train Accuracy: 7.5 % Test Accuracy: 6.9 %\n",
            "EPOCH: 5 LR: [0.001] Time: 54.41 sec Train Accuracy: 8.75 % Test Accuracy: 6.97 %\n",
            "EPOCH: 6 LR: [0.001] Time: 54.49 sec Train Accuracy: 7.5 % Test Accuracy: 7.16 %\n",
            "EPOCH: 7 LR: [0.001] Time: 54.34 sec Train Accuracy: 8.75 % Test Accuracy: 7.48 %\n",
            "EPOCH: 8 LR: [0.001] Time: 54.61 sec Train Accuracy: 8.75 % Test Accuracy: 8.06 %\n",
            "EPOCH: 9 LR: [0.001] Time: 54.39 sec Train Accuracy: 10.0 % Test Accuracy: 7.99 %\n",
            "EPOCH: 10 LR: [0.001] Time: 54.64 sec Train Accuracy: 10.0 % Test Accuracy: 8.75 %\n",
            "EPOCH: 11 LR: [0.001] Time: 54.27 sec Train Accuracy: 10.0 % Test Accuracy: 8.03 %\n",
            "EPOCH: 12 LR: [0.001] Time: 54.54 sec Train Accuracy: 10.0 % Test Accuracy: 8.84 %\n"
          ],
          "name": "stdout"
        },
        {
          "output_type": "error",
          "ename": "KeyboardInterrupt",
          "evalue": "ignored",
          "traceback": [
            "\u001b[0;31m---------------------------------------------------------------------------\u001b[0m",
            "\u001b[0;31mKeyboardInterrupt\u001b[0m                         Traceback (most recent call last)",
            "\u001b[0;32m<ipython-input-14-8f2798e16110>\u001b[0m in \u001b[0;36m<module>\u001b[0;34m()\u001b[0m\n\u001b[1;32m      2\u001b[0m \u001b[0mwandb\u001b[0m\u001b[0;34m.\u001b[0m\u001b[0mwatch\u001b[0m\u001b[0;34m(\u001b[0m\u001b[0mmodel\u001b[0m\u001b[0;34m,\u001b[0m \u001b[0mlog\u001b[0m\u001b[0;34m=\u001b[0m\u001b[0;34m\"all\"\u001b[0m\u001b[0;34m)\u001b[0m\u001b[0;34m\u001b[0m\u001b[0;34m\u001b[0m\u001b[0m\n\u001b[1;32m      3\u001b[0m \u001b[0;34m\u001b[0m\u001b[0m\n\u001b[0;32m----> 4\u001b[0;31m \u001b[0mhistory\u001b[0m \u001b[0;34m=\u001b[0m \u001b[0mtrain_model\u001b[0m\u001b[0;34m(\u001b[0m\u001b[0mmodel\u001b[0m\u001b[0;34m,\u001b[0m \u001b[0mopt\u001b[0m\u001b[0;34m,\u001b[0m \u001b[0mscheduler\u001b[0m\u001b[0;34m,\u001b[0m \u001b[0mnum_epochs\u001b[0m\u001b[0;34m=\u001b[0m\u001b[0mconfig\u001b[0m\u001b[0;34m.\u001b[0m\u001b[0mepochs\u001b[0m\u001b[0;34m,\u001b[0m \u001b[0mhistory\u001b[0m\u001b[0;34m=\u001b[0m\u001b[0mhistory\u001b[0m\u001b[0;34m)\u001b[0m\u001b[0;34m\u001b[0m\u001b[0;34m\u001b[0m\u001b[0m\n\u001b[0m",
            "\u001b[0;32m<ipython-input-9-28becc0caddd>\u001b[0m in \u001b[0;36mtrain_model\u001b[0;34m(model, opt, scheduler, num_epochs, history, verbose)\u001b[0m\n\u001b[1;32m     20\u001b[0m       \u001b[0;31m# Backward pass\u001b[0m\u001b[0;34m\u001b[0m\u001b[0;34m\u001b[0m\u001b[0;34m\u001b[0m\u001b[0m\n\u001b[1;32m     21\u001b[0m       \u001b[0mloss\u001b[0m\u001b[0;34m.\u001b[0m\u001b[0mbackward\u001b[0m\u001b[0;34m(\u001b[0m\u001b[0;34m)\u001b[0m\u001b[0;34m\u001b[0m\u001b[0;34m\u001b[0m\u001b[0m\n\u001b[0;32m---> 22\u001b[0;31m       \u001b[0mopt\u001b[0m\u001b[0;34m.\u001b[0m\u001b[0mstep\u001b[0m\u001b[0;34m(\u001b[0m\u001b[0;34m)\u001b[0m\u001b[0;34m\u001b[0m\u001b[0;34m\u001b[0m\u001b[0m\n\u001b[0m\u001b[1;32m     23\u001b[0m \u001b[0;34m\u001b[0m\u001b[0m\n\u001b[1;32m     24\u001b[0m     \u001b[0mhistory\u001b[0m \u001b[0;34m=\u001b[0m \u001b[0mtest_accuracy\u001b[0m\u001b[0;34m(\u001b[0m\u001b[0mmodel\u001b[0m\u001b[0;34m,\u001b[0m \u001b[0mhistory\u001b[0m\u001b[0;34m)\u001b[0m\u001b[0;34m\u001b[0m\u001b[0;34m\u001b[0m\u001b[0m\n",
            "\u001b[0;32m/usr/local/lib/python3.6/dist-packages/torch/optim/lr_scheduler.py\u001b[0m in \u001b[0;36mwrapper\u001b[0;34m(*args, **kwargs)\u001b[0m\n\u001b[1;32m     65\u001b[0m                 \u001b[0minstance\u001b[0m\u001b[0;34m.\u001b[0m\u001b[0m_step_count\u001b[0m \u001b[0;34m+=\u001b[0m \u001b[0;36m1\u001b[0m\u001b[0;34m\u001b[0m\u001b[0;34m\u001b[0m\u001b[0m\n\u001b[1;32m     66\u001b[0m                 \u001b[0mwrapped\u001b[0m \u001b[0;34m=\u001b[0m \u001b[0mfunc\u001b[0m\u001b[0;34m.\u001b[0m\u001b[0m__get__\u001b[0m\u001b[0;34m(\u001b[0m\u001b[0minstance\u001b[0m\u001b[0;34m,\u001b[0m \u001b[0mcls\u001b[0m\u001b[0;34m)\u001b[0m\u001b[0;34m\u001b[0m\u001b[0;34m\u001b[0m\u001b[0m\n\u001b[0;32m---> 67\u001b[0;31m                 \u001b[0;32mreturn\u001b[0m \u001b[0mwrapped\u001b[0m\u001b[0;34m(\u001b[0m\u001b[0;34m*\u001b[0m\u001b[0margs\u001b[0m\u001b[0;34m,\u001b[0m \u001b[0;34m**\u001b[0m\u001b[0mkwargs\u001b[0m\u001b[0;34m)\u001b[0m\u001b[0;34m\u001b[0m\u001b[0;34m\u001b[0m\u001b[0m\n\u001b[0m\u001b[1;32m     68\u001b[0m \u001b[0;34m\u001b[0m\u001b[0m\n\u001b[1;32m     69\u001b[0m             \u001b[0;31m# Note that the returned function here is no longer a bound method,\u001b[0m\u001b[0;34m\u001b[0m\u001b[0;34m\u001b[0m\u001b[0;34m\u001b[0m\u001b[0m\n",
            "\u001b[0;32m/usr/local/lib/python3.6/dist-packages/torch/autograd/grad_mode.py\u001b[0m in \u001b[0;36mdecorate_context\u001b[0;34m(*args, **kwargs)\u001b[0m\n\u001b[1;32m     13\u001b[0m         \u001b[0;32mdef\u001b[0m \u001b[0mdecorate_context\u001b[0m\u001b[0;34m(\u001b[0m\u001b[0;34m*\u001b[0m\u001b[0margs\u001b[0m\u001b[0;34m,\u001b[0m \u001b[0;34m**\u001b[0m\u001b[0mkwargs\u001b[0m\u001b[0;34m)\u001b[0m\u001b[0;34m:\u001b[0m\u001b[0;34m\u001b[0m\u001b[0;34m\u001b[0m\u001b[0m\n\u001b[1;32m     14\u001b[0m             \u001b[0;32mwith\u001b[0m \u001b[0mself\u001b[0m\u001b[0;34m:\u001b[0m\u001b[0;34m\u001b[0m\u001b[0;34m\u001b[0m\u001b[0m\n\u001b[0;32m---> 15\u001b[0;31m                 \u001b[0;32mreturn\u001b[0m \u001b[0mfunc\u001b[0m\u001b[0;34m(\u001b[0m\u001b[0;34m*\u001b[0m\u001b[0margs\u001b[0m\u001b[0;34m,\u001b[0m \u001b[0;34m**\u001b[0m\u001b[0mkwargs\u001b[0m\u001b[0;34m)\u001b[0m\u001b[0;34m\u001b[0m\u001b[0;34m\u001b[0m\u001b[0m\n\u001b[0m\u001b[1;32m     16\u001b[0m         \u001b[0;32mreturn\u001b[0m \u001b[0mdecorate_context\u001b[0m\u001b[0;34m\u001b[0m\u001b[0;34m\u001b[0m\u001b[0m\n\u001b[1;32m     17\u001b[0m \u001b[0;34m\u001b[0m\u001b[0m\n",
            "\u001b[0;32m/usr/local/lib/python3.6/dist-packages/torch/optim/adam.py\u001b[0m in \u001b[0;36mstep\u001b[0;34m(self, closure)\u001b[0m\n\u001b[1;32m     97\u001b[0m \u001b[0;34m\u001b[0m\u001b[0m\n\u001b[1;32m     98\u001b[0m                 \u001b[0;31m# Decay the first and second moment running average coefficient\u001b[0m\u001b[0;34m\u001b[0m\u001b[0;34m\u001b[0m\u001b[0;34m\u001b[0m\u001b[0m\n\u001b[0;32m---> 99\u001b[0;31m                 \u001b[0mexp_avg\u001b[0m\u001b[0;34m.\u001b[0m\u001b[0mmul_\u001b[0m\u001b[0;34m(\u001b[0m\u001b[0mbeta1\u001b[0m\u001b[0;34m)\u001b[0m\u001b[0;34m.\u001b[0m\u001b[0madd_\u001b[0m\u001b[0;34m(\u001b[0m\u001b[0mgrad\u001b[0m\u001b[0;34m,\u001b[0m \u001b[0malpha\u001b[0m\u001b[0;34m=\u001b[0m\u001b[0;36m1\u001b[0m \u001b[0;34m-\u001b[0m \u001b[0mbeta1\u001b[0m\u001b[0;34m)\u001b[0m\u001b[0;34m\u001b[0m\u001b[0;34m\u001b[0m\u001b[0m\n\u001b[0m\u001b[1;32m    100\u001b[0m                 \u001b[0mexp_avg_sq\u001b[0m\u001b[0;34m.\u001b[0m\u001b[0mmul_\u001b[0m\u001b[0;34m(\u001b[0m\u001b[0mbeta2\u001b[0m\u001b[0;34m)\u001b[0m\u001b[0;34m.\u001b[0m\u001b[0maddcmul_\u001b[0m\u001b[0;34m(\u001b[0m\u001b[0mgrad\u001b[0m\u001b[0;34m,\u001b[0m \u001b[0mgrad\u001b[0m\u001b[0;34m,\u001b[0m \u001b[0mvalue\u001b[0m\u001b[0;34m=\u001b[0m\u001b[0;36m1\u001b[0m \u001b[0;34m-\u001b[0m \u001b[0mbeta2\u001b[0m\u001b[0;34m)\u001b[0m\u001b[0;34m\u001b[0m\u001b[0;34m\u001b[0m\u001b[0m\n\u001b[1;32m    101\u001b[0m                 \u001b[0;32mif\u001b[0m \u001b[0mamsgrad\u001b[0m\u001b[0;34m:\u001b[0m\u001b[0;34m\u001b[0m\u001b[0;34m\u001b[0m\u001b[0m\n",
            "\u001b[0;31mKeyboardInterrupt\u001b[0m: "
          ]
        }
      ]
    },
    {
      "cell_type": "code",
      "metadata": {
        "id": "rBEkEFYHv8py"
      },
      "source": [
        ""
      ],
      "execution_count": null,
      "outputs": []
    },
    {
      "cell_type": "code",
      "metadata": {
        "id": "zyXMowvEWccH"
      },
      "source": [
        ""
      ],
      "execution_count": null,
      "outputs": []
    }
  ]
}