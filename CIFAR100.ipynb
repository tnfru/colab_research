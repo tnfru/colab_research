{
  "nbformat": 4,
  "nbformat_minor": 0,
  "metadata": {
    "colab": {
      "name": "CIFAR100.ipynb",
      "provenance": [],
      "collapsed_sections": [],
      "authorship_tag": "ABX9TyMTbJOPicmCAjenluLicray",
      "include_colab_link": true
    },
    "kernelspec": {
      "name": "python3",
      "display_name": "Python 3"
    }
  },
  "cells": [
    {
      "cell_type": "markdown",
      "metadata": {
        "id": "view-in-github",
        "colab_type": "text"
      },
      "source": [
        "<a href=\"https://colab.research.google.com/github/tnfru/colab_research/blob/master/CIFAR100.ipynb\" target=\"_parent\"><img src=\"https://colab.research.google.com/assets/colab-badge.svg\" alt=\"Open In Colab\"/></a>"
      ]
    },
    {
      "cell_type": "code",
      "metadata": {
        "id": "AtEAa8_mDnGK"
      },
      "source": [
        "import numpy as np\n",
        "import torch\n",
        "import torch.optim as optim\n",
        "import torch.nn as nn\n",
        "import torch.nn.functional as F\n",
        "from torchvision.datasets import CIFAR100\n",
        "from torchvision import transforms as T\n",
        "from torch.utils.data import DataLoader"
      ],
      "execution_count": 35,
      "outputs": []
    },
    {
      "cell_type": "code",
      "metadata": {
        "id": "G3UQUmEbWndY",
        "outputId": "a9a4e216-a0ba-442a-8421-f6d05e74ca27",
        "colab": {
          "base_uri": "https://localhost:8080/"
        }
      },
      "source": [
        "DEVICE = torch.device('cuda' if torch.cuda.is_available() else 'cpu')\n",
        "print('using device:', DEVICE)\n",
        "torch.backends.cudnn.benchmark = True"
      ],
      "execution_count": 24,
      "outputs": [
        {
          "output_type": "stream",
          "text": [
            "using device: cpu\n"
          ],
          "name": "stdout"
        }
      ]
    },
    {
      "cell_type": "code",
      "metadata": {
        "id": "WcuckUAtHJh4"
      },
      "source": [
        "BATCH_SIZE = 64\n",
        "IMG_SIZE = [32, 32]\n",
        "TRAIN_MEANS = np.array([0.50707516, 0.48654887, 0.44091784])\n",
        "TRAIN_STDS = np.array([0.26733429, 0.25643846, 0.27615047])\n",
        "TEST_MEANS = np.array([0.50879641, 0.48739301, 0.44194221])\n",
        "TEST_STDS = np.array([0.26825157, 0.25736374, 0.27709577])"
      ],
      "execution_count": 14,
      "outputs": []
    },
    {
      "cell_type": "code",
      "metadata": {
        "id": "DEHsG-DtEo4o",
        "outputId": "2b90c51e-6c47-4d81-8435-1518f559d37c",
        "colab": {
          "base_uri": "https://localhost:8080/"
        }
      },
      "source": [
        "tr_train = transforms.Compose([T.ToTensor(),\n",
        "                               T.RandomHorizontalFlip(p=0.5),\n",
        "                               T.Normalize(TRAIN_MEANS, TRAIN_STDS)])\n",
        "\n",
        "tr_test = transforms.Compose([T.ToTensor(),\n",
        "                              T.Normalize(TEST_MEANS, TEST_STDS)])\n",
        "\n",
        "train = CIFAR100(\"./data\", train=True, download=True, transform=tr_train)\n",
        "train_loader = DataLoader(train, batch_size=BATCH_SIZE, shuffle=False, pin_memory=True)\n",
        "\n",
        "test = CIFAR100(\"./data\", train=False, download=True, transform=tr_test)\n",
        "test_loader = DataLoader(test, batch_size=BATCH_SIZE, pin_memory=True)"
      ],
      "execution_count": 36,
      "outputs": [
        {
          "output_type": "stream",
          "text": [
            "Files already downloaded and verified\n",
            "Files already downloaded and verified\n"
          ],
          "name": "stdout"
        }
      ]
    },
    {
      "cell_type": "code",
      "metadata": {
        "id": "mbQbSqW6TcGw"
      },
      "source": [
        "class IdentityModule(nn.Module):\n",
        "  def __init__(self, num_channel):\n",
        "    super(IdentityModule, self).__init__()\n",
        "\n",
        "    self.hidden1 = nn.Sequential(\n",
        "        nn.Conv2d(num_channel, num_channel, 3, padding=1),\n",
        "        nn.BatchNorm2d(num_channel),\n",
        "        nn.ReLU(),\n",
        "        nn.Conv2d(num_channel, num_channel, 3, padding=1),\n",
        "        nn.BatchNorm2d(num_channel),\n",
        "        nn.ReLU()\n",
        "    )\n",
        "\n",
        "    self.hidden2 = nn.Sequential(\n",
        "        nn.Conv2d(num_channel, num_channel, 3, padding=1),\n",
        "        nn.BatchNorm2d(num_channel),\n",
        "        nn.ReLU(),\n",
        "        nn.Conv2d(num_channel, num_channel, 3, padding=1),\n",
        "        nn.BatchNorm2d(num_channel),\n",
        "        nn.ReLU()\n",
        "    )\n",
        "  \n",
        "  def forward(self, x): # TODO swap Relu after add\n",
        "    y1 = self.hidden1(x)\n",
        "    y2 = self.hidden2(x)\n",
        "\n",
        "    return x + y1 + y2"
      ],
      "execution_count": 52,
      "outputs": []
    },
    {
      "cell_type": "code",
      "metadata": {
        "id": "fz9eIZtLdKpP"
      },
      "source": [
        "class ConvModule(nn.Module):\n",
        "  def __init__(self, in_channel, out_channel, stride=2):\n",
        "    super(ConvModule, self).__init__()\n",
        "\n",
        "    self.hidden1 = nn.Sequential(\n",
        "        nn.Conv2d(in_channel, out_channel, 3, padding=1, stride=stride),\n",
        "        nn.BatchNorm2d(out_channel),\n",
        "        nn.ReLU(),\n",
        "        nn.Conv2d(out_channel, out_channel, 3, padding=1),\n",
        "        nn.BatchNorm2d(out_channel),\n",
        "        nn.ReLU()\n",
        "    )\n",
        "    self.hidden2 = nn.Sequential(\n",
        "        nn.Conv2d(in_channel, out_channel, 3, padding=1, stride=stride),\n",
        "        nn.BatchNorm2d(out_channel),\n",
        "        nn.ReLU(),\n",
        "        nn.Conv2d(out_channel, out_channel, 3, padding=1),\n",
        "        nn.BatchNorm2d(out_channel),\n",
        "        nn.ReLU()\n",
        "    )\n",
        "    self.hidden3 = nn.Sequential(\n",
        "        nn.Conv2d(in_channel, out_channel, 1, stride=stride),\n",
        "        nn.BatchNorm2d(out_channel)\n",
        "    )\n",
        "\n",
        "  def forward(self, x):\n",
        "    y1 = self.hidden1(x)\n",
        "    y2 = self.hidden2(x)\n",
        "    y3 = self.hidden3(x)\n",
        "\n",
        "    return self.hidden1(x) + self.hidden2(x) + self.hidden3(x)\n"
      ],
      "execution_count": 59,
      "outputs": []
    },
    {
      "cell_type": "code",
      "metadata": {
        "id": "_io8PRSMhVK-"
      },
      "source": [
        "class ResNet(nn.Module):\n",
        "  def __init__(self):\n",
        "    super(ResNet, self).__init__()\n",
        "    self.inp = nn.Sequential(\n",
        "        nn.Conv2d(3, 16, 3, padding=1),\n",
        "        nn.Dropout(0.1)\n",
        "    )\n",
        "\n",
        "    self.hidden1 = nn.Sequential(\n",
        "        ConvModule(16, 64, stride=1),\n",
        "        IdentityModule(64),\n",
        "        nn.Dropout(0.15)\n",
        "    )\n",
        "\n",
        "    self.hidden2 = nn.Sequential(\n",
        "        ConvModule(64, 128),\n",
        "        IdentityModule(128),\n",
        "        nn.Dropout(0.2)\n",
        "    )\n",
        "\n",
        "    self.hidden3 = nn.Sequential(\n",
        "        ConvModule(128, 256),\n",
        "        IdentityModule(256),\n",
        "        nn.Dropout(0.25)\n",
        "    )\n",
        "\n",
        "    self.out = nn.Sequential(\n",
        "        nn.AvgPool2d(kernel_size=8),\n",
        "        nn.Flatten(),\n",
        "        nn.Linear(256, 100),\n",
        "        nn.Softmax(dim=1)\n",
        "    )\n",
        "\n",
        "  def forward(self, x):\n",
        "    x = self.inp(x)\n",
        "    x = self.hidden1(x)\n",
        "    x = self.hidden2(x)\n",
        "    x = self.hidden3(x)\n",
        "    x = self.out(x)\n",
        "\n",
        "    return x"
      ],
      "execution_count": 73,
      "outputs": []
    },
    {
      "cell_type": "code",
      "metadata": {
        "id": "u4g9YWnEmFtb",
        "outputId": "c214e5d2-906b-49e5-d850-fb1de3ffc7bc",
        "colab": {
          "base_uri": "https://localhost:8080/"
        }
      },
      "source": [
        "for x, y in train_loader:\n",
        "  a = ResNet()\n",
        "  print(a(x).shape, x.shape)\n",
        "  break"
      ],
      "execution_count": 74,
      "outputs": [
        {
          "output_type": "stream",
          "text": [
            "torch.Size([64, 100]) torch.Size([64, 3, 32, 32])\n"
          ],
          "name": "stdout"
        }
      ]
    },
    {
      "cell_type": "code",
      "metadata": {
        "id": "g83wTAZnVDhz"
      },
      "source": [
        "™"
      ],
      "execution_count": 44,
      "outputs": []
    }
  ]
}