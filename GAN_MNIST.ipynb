{
  "nbformat": 4,
  "nbformat_minor": 0,
  "metadata": {
    "colab": {
      "name": "GAN_MNIST.ipynb",
      "provenance": [],
      "collapsed_sections": [],
      "authorship_tag": "ABX9TyMPqN46TiWu7bBjWva9yuYl",
      "include_colab_link": true
    },
    "kernelspec": {
      "name": "python3",
      "display_name": "Python 3"
    },
    "accelerator": "GPU"
  },
  "cells": [
    {
      "cell_type": "markdown",
      "metadata": {
        "id": "view-in-github",
        "colab_type": "text"
      },
      "source": [
        "<a href=\"https://colab.research.google.com/github/tnfru/colab_research/blob/master/GAN_MNIST.ipynb\" target=\"_parent\"><img src=\"https://colab.research.google.com/assets/colab-badge.svg\" alt=\"Open In Colab\"/></a>"
      ]
    },
    {
      "cell_type": "code",
      "metadata": {
        "id": "m7GpU5jFf2t-",
        "colab_type": "code",
        "colab": {
          "base_uri": "https://localhost:8080/",
          "height": 52
        },
        "outputId": "fa0c9de5-a7db-4974-a395-7b39ad42bef8"
      },
      "source": [
        "import numpy as np\n",
        "import sys\n",
        "if 'google.colab' in sys.modules:\n",
        "  %tensorflow_version 2.x\n",
        "import tensorflow as tf\n",
        "from keras.datasets import mnist\n",
        "from keras.utils.np_utils import to_categorical\n",
        "from tensorflow.keras.models import Sequential\n",
        "from tensorflow.keras.layers import Dense, Activation, Flatten, Reshape\n",
        "from tensorflow.keras.layers import Conv2D, UpSampling2D\n",
        "from tensorflow.keras.layers import LeakyReLU, Dropout\n",
        "from tensorflow.keras.layers import BatchNormalization\n",
        "from tensorflow.keras.optimizers import Adam, SGD, RMSprop\n",
        "import matplotlib.pyplot as plt\n",
        "\n",
        "AUTO = tf.data.experimental.AUTOTUNE\n",
        "l = tf.keras.layers"
      ],
      "execution_count": 1,
      "outputs": [
        {
          "output_type": "stream",
          "text": [
            "TensorFlow 2.x selected.\n"
          ],
          "name": "stdout"
        },
        {
          "output_type": "stream",
          "text": [
            "Using TensorFlow backend.\n"
          ],
          "name": "stderr"
        }
      ]
    },
    {
      "cell_type": "code",
      "metadata": {
        "id": "LdXCAHY8hIqb",
        "colab_type": "code",
        "outputId": "e2bde4d0-6c1a-4da6-a990-34ddf1f92177",
        "colab": {
          "base_uri": "https://localhost:8080/",
          "height": 52
        }
      },
      "source": [
        "try:\n",
        "  tpu = tf.distribute.cluster_resolver.TPUClusterResolver()\n",
        "except ValueError:\n",
        "  tpu = None\n",
        "  gpus = tf.config.experimental.list_logical_devices(\"GPU\")\n",
        "\n",
        "if tpu:\n",
        "  tf.config.experimental_connect_to_cluster(tpu)\n",
        "  tf.tpu.experimental.initialize_tpu_system(tpu)\n",
        "  strategy = tf.distribute.experimental.TPUStrategy(tpu)\n",
        "  print('Running on TPU ', tpu.master())  \n",
        "elif len(gpus) > 0:\n",
        "  strategy = tf.distribute.MirroredStrategy(gpus)\n",
        "  print('Running on ', len(gpus), ' GPU(s) ')\n",
        "else:\n",
        "  strategy = tf.distribute.get_strategy()\n",
        "  print('Running on CPU')"
      ],
      "execution_count": 2,
      "outputs": [
        {
          "output_type": "stream",
          "text": [
            "INFO:tensorflow:Using MirroredStrategy with devices ('/job:localhost/replica:0/task:0/device:GPU:0',)\n",
            "Running on  1  GPU(s) \n"
          ],
          "name": "stdout"
        }
      ]
    },
    {
      "cell_type": "code",
      "metadata": {
        "id": "WuIU6hA5htiX",
        "colab_type": "code",
        "colab": {}
      },
      "source": [
        "IMG_SIZE = [28, 28]\n",
        "BATCH_SIZE = 128"
      ],
      "execution_count": 0,
      "outputs": []
    },
    {
      "cell_type": "code",
      "metadata": {
        "id": "6eVqENwIgkVF",
        "colab_type": "code",
        "colab": {}
      },
      "source": [
        "(X, Y), (X_test, Y_test) = mnist.load_data()"
      ],
      "execution_count": 0,
      "outputs": []
    },
    {
      "cell_type": "code",
      "metadata": {
        "id": "uD82EtRxhs1V",
        "colab_type": "code",
        "outputId": "3735711f-cc79-44c7-ddf2-3e09562e8ccb",
        "colab": {
          "base_uri": "https://localhost:8080/",
          "height": 34
        }
      },
      "source": [
        "np.isnan(X).sum(), np.isnan(X_test).sum()"
      ],
      "execution_count": 5,
      "outputs": [
        {
          "output_type": "execute_result",
          "data": {
            "text/plain": [
              "(0, 0)"
            ]
          },
          "metadata": {
            "tags": []
          },
          "execution_count": 5
        }
      ]
    },
    {
      "cell_type": "code",
      "metadata": {
        "id": "f93BOBbgh_K5",
        "colab_type": "code",
        "colab": {}
      },
      "source": [
        "def norm_data(X):\n",
        "  X = X / 255.0\n",
        "  #X = X - X.mean(axis=0)\n",
        "  X = X.reshape(-1, *IMG_SIZE, 1)\n",
        "\n",
        "  return X"
      ],
      "execution_count": 0,
      "outputs": []
    },
    {
      "cell_type": "code",
      "metadata": {
        "id": "aF86VXRlidY4",
        "colab_type": "code",
        "colab": {}
      },
      "source": [
        "X = norm_data(X)\n",
        "X_test = norm_data(X_test)"
      ],
      "execution_count": 0,
      "outputs": []
    },
    {
      "cell_type": "code",
      "metadata": {
        "id": "D4e3JKZ7geCY",
        "colab_type": "code",
        "colab": {
          "base_uri": "https://localhost:8080/",
          "height": 34
        },
        "outputId": "926aba2b-7ee2-44ed-9155-ab52b20bf551"
      },
      "source": [
        "X.shape"
      ],
      "execution_count": 8,
      "outputs": [
        {
          "output_type": "execute_result",
          "data": {
            "text/plain": [
              "(60000, 28, 28, 1)"
            ]
          },
          "metadata": {
            "tags": []
          },
          "execution_count": 8
        }
      ]
    },
    {
      "cell_type": "code",
      "metadata": {
        "id": "ziIihhQHiq6E",
        "colab_type": "code",
        "colab": {}
      },
      "source": [
        "def discriminator():\n",
        "  discriminator = tf.keras.Sequential([\n",
        "      l.Conv2D(16, 3, padding='same', input_shape=(*IMG_SIZE, 1)),\n",
        "      l.LeakyReLU(alpha=0.1),\n",
        "      l.BatchNormalization(),\n",
        "      l.Conv2D(16, 3, padding='same'),\n",
        "      l.LeakyReLU(alpha=0.1),\n",
        "      l.BatchNormalization(),\n",
        "      l.Dropout(0.4),\n",
        "      \n",
        "      l.Conv2D(32, 3, padding='same', strides=2),\n",
        "      l.LeakyReLU(alpha=0.1),\n",
        "      l.BatchNormalization(),\n",
        "      l.Conv2D(32, 3, padding='same',),\n",
        "      l.LeakyReLU(alpha=0.1),\n",
        "      l.BatchNormalization(),\n",
        "      l.Dropout(0.4),\n",
        "\n",
        "      l.Conv2D(128, 3, padding='same', strides=2),\n",
        "      l.LeakyReLU(alpha=0.1),\n",
        "      l.BatchNormalization(),\n",
        "      l.Conv2D(128, 3, padding='same'),\n",
        "      l.LeakyReLU(alpha=0.1),\n",
        "      l.BatchNormalization(),\n",
        "      l.Dropout(0.4),\n",
        "\n",
        "      l.Conv2D(256, 3, padding='same'),\n",
        "      l.LeakyReLU(alpha=0.1),\n",
        "      l.BatchNormalization(),\n",
        "      l.Dropout(0.4),\n",
        "\n",
        "\n",
        "      l.Conv2D(512, 3, padding='same', strides=2),\n",
        "      l.LeakyReLU(alpha=0.1),\n",
        "      l.BatchNormalization(),\n",
        "      l.Dropout(0.4),\n",
        "\n",
        "      l.Flatten(),\n",
        "      l.Dense(1, activation='sigmoid')\n",
        "  ]) \n",
        "  \n",
        "  #discriminator.summary()\n",
        "\n",
        "  return discriminator"
      ],
      "execution_count": 0,
      "outputs": []
    },
    {
      "cell_type": "code",
      "metadata": {
        "id": "d1yqMG1ixJP6",
        "colab_type": "code",
        "colab": {}
      },
      "source": [
        "def discriminator_tut():\n",
        "    \n",
        "    net = tf.keras.Sequential()\n",
        "    input_shape = (28, 28, 1)\n",
        "    dropout_prob = 0.4\n",
        "\n",
        "    net.add(l.Conv2D(64, 5, strides=2, input_shape=input_shape, padding='same'))\n",
        "    net.add(l.LeakyReLU())\n",
        "    \n",
        "    net.add(l.Conv2D(128, 5, strides=2, padding='same'))\n",
        "    net.add(l.LeakyReLU())\n",
        "    net.add(l.Dropout(dropout_prob))\n",
        "    \n",
        "    net.add(l.Conv2D(256, 5, strides=2, padding='same'))\n",
        "    net.add(l.LeakyReLU())\n",
        "    net.add(l.Dropout(dropout_prob))\n",
        "    \n",
        "    net.add(l.Conv2D(512, 5, strides=1, padding='same'))\n",
        "    net.add(l.LeakyReLU())\n",
        "    net.add(l.Dropout(dropout_prob))\n",
        "    \n",
        "    net.add(l.Flatten())\n",
        "    net.add(l.Dense(1))\n",
        "    net.add(l.Activation('sigmoid'))\n",
        "    \n",
        "    return net"
      ],
      "execution_count": 0,
      "outputs": []
    },
    {
      "cell_type": "code",
      "metadata": {
        "id": "rm5RBjtZ6T9m",
        "colab_type": "code",
        "colab": {}
      },
      "source": [
        "def generator_tut():\n",
        "    \n",
        "    net = Sequential()\n",
        "    dropout_prob = 0.4\n",
        "    \n",
        "    net.add(Dense(7*7*256, input_dim=100))\n",
        "    net.add(BatchNormalization(momentum=0.9))\n",
        "    net.add(LeakyReLU())\n",
        "    net.add(Reshape((7,7,256)))\n",
        "    net.add(Dropout(dropout_prob))\n",
        "    \n",
        "    net.add(UpSampling2D())\n",
        "    net.add(Conv2D(128, 5, padding='same'))\n",
        "    net.add(BatchNormalization(momentum=0.9))\n",
        "    net.add(LeakyReLU())\n",
        "    \n",
        "    net.add(UpSampling2D())\n",
        "    net.add(Conv2D(64, 5, padding='same'))\n",
        "    net.add(BatchNormalization(momentum=0.9))\n",
        "    net.add(LeakyReLU())\n",
        "    \n",
        "    net.add(Conv2D(32, 5, padding='same'))\n",
        "    net.add(BatchNormalization(momentum=0.9))\n",
        "    net.add(LeakyReLU())\n",
        "    \n",
        "    net.add(Conv2D(1, 5, padding='same'))\n",
        "    net.add(Activation('sigmoid'))\n",
        "    \n",
        "    return net"
      ],
      "execution_count": 0,
      "outputs": []
    },
    {
      "cell_type": "code",
      "metadata": {
        "id": "wfelyTRqj1Fm",
        "colab_type": "code",
        "colab": {}
      },
      "source": [
        "def generator():\n",
        "  generator = tf.keras.Sequential([\n",
        "      l.Dense(7 * 7 * 256, input_dim=100),\n",
        "      l.BatchNormalization(momentum=0.9),\n",
        "      l.LeakyReLU(),\n",
        "      l.Reshape((7, 7, 256)),\n",
        "      l.Dropout(0.4),\n",
        "\n",
        "      l.UpSampling2D(),\n",
        "      l.Conv2D(128, 5, padding='same'),\n",
        "      l.LeakyReLU(),\n",
        "      l.BatchNormalization(momentum=0.9),\n",
        "      l.Conv2D(128, 5, padding='same'),\n",
        "      l.LeakyReLU(),\n",
        "      l.BatchNormalization(momentum=0.9),\n",
        "\n",
        "      l.UpSampling2D(),\n",
        "      l.Conv2D(64, 5, padding='same'),\n",
        "      l.LeakyReLU(),\n",
        "      l.BatchNormalization(momentum=0.9),\n",
        "      l.Conv2D(64, 5, padding='same'),\n",
        "      l.LeakyReLU(),\n",
        "      l.BatchNormalization(momentum=0.9),\n",
        "\n",
        "      l.Conv2D(32, 5, padding='same'),\n",
        "      l.LeakyReLU(),\n",
        "      l.BatchNormalization(momentum=0.9),\n",
        "\n",
        "      l.Conv2D(1, 5, padding='same'),\n",
        "      l.Activation('sigmoid')\n",
        "  ])\n",
        "\n",
        "  #generator.summary()\n",
        "\n",
        "  return generator"
      ],
      "execution_count": 0,
      "outputs": []
    },
    {
      "cell_type": "code",
      "metadata": {
        "id": "P5tVR4OcqeIm",
        "colab_type": "code",
        "colab": {}
      },
      "source": [
        "def create_models():\n",
        "  optim_discriminator = tf.keras.optimizers.RMSprop(lr=0.0008, clipvalue=1.0, decay=1e-10)\n",
        "\n",
        "  model_discriminator = tf.keras.Sequential()\n",
        "  net_discriminator = discriminator_tut()\n",
        "  #net_discriminator = discriminator()\n",
        "  model_discriminator.add(net_discriminator)\n",
        "  model_discriminator.compile(loss='binary_crossentropy', \n",
        "                                optimizer=optim_discriminator, \n",
        "                                metrics=['accuracy'])\n",
        "      \n",
        "  optim_adversarial = tf.keras.optimizers.Adam(lr=0.0004, clipvalue=1.0, decay=1e-10)\n",
        "\n",
        "  model_adversarial = tf.keras.Sequential()\n",
        "  #net_gen = generator()\n",
        "  net_gen = generator_tut()\n",
        "  model_adversarial.add(net_gen)\n",
        "\n",
        "  for layer in net_discriminator.layers:\n",
        "    layer.trainable = False\n",
        "\n",
        "  model_adversarial.add(net_discriminator)\n",
        "  model_adversarial.compile(loss='binary_crossentropy', \n",
        "                              optimizer=optim_adversarial, \n",
        "                              metrics=['accuracy'])\n",
        "    \n",
        "  return model_discriminator, model_adversarial, net_gen, net_discriminator"
      ],
      "execution_count": 0,
      "outputs": []
    },
    {
      "cell_type": "code",
      "metadata": {
        "id": "zOfsNciV1lkk",
        "colab_type": "code",
        "colab": {}
      },
      "source": [
        "model_discriminator, model_adversarial, net_gen, net_discriminator = create_models()"
      ],
      "execution_count": 0,
      "outputs": []
    },
    {
      "cell_type": "code",
      "metadata": {
        "id": "yHNNIUvju3id",
        "colab_type": "code",
        "outputId": "bec49329-6c19-4b1e-c962-660b51cbb1ec",
        "colab": {
          "base_uri": "https://localhost:8080/",
          "height": 225
        }
      },
      "source": [
        "model_adversarial.summary()"
      ],
      "execution_count": 23,
      "outputs": [
        {
          "output_type": "stream",
          "text": [
            "Model: \"sequential_10\"\n",
            "_________________________________________________________________\n",
            "Layer (type)                 Output Shape              Param #   \n",
            "=================================================================\n",
            "sequential_11 (Sequential)   (None, 28, 28, 1)         2394241   \n",
            "_________________________________________________________________\n",
            "sequential_9 (Sequential)    (None, 1)                 4311553   \n",
            "=================================================================\n",
            "Total params: 6,705,794\n",
            "Trainable params: 2,368,705\n",
            "Non-trainable params: 4,337,089\n",
            "_________________________________________________________________\n"
          ],
          "name": "stdout"
        }
      ]
    },
    {
      "cell_type": "code",
      "metadata": {
        "id": "kXuYdAtz3uZ3",
        "colab_type": "code",
        "outputId": "b52bd31c-6d73-45f8-f8fc-3d47c9802d27",
        "colab": {
          "base_uri": "https://localhost:8080/",
          "height": 208
        }
      },
      "source": [
        "for i in range(1001):\n",
        "  noise = np.random.uniform(-1.0, 1.0, size=[BATCH_SIZE, 100])\n",
        "\n",
        "  real_imgs = X[(np.random.randint(0, X.shape[0], size=BATCH_SIZE)), :, :, :]\n",
        "  fake_imgs = net_gen.predict(noise)\n",
        "\n",
        "  imgs = np.concatenate((real_imgs, fake_imgs))\n",
        "  labels = np.ones((2*BATCH_SIZE, 1))\n",
        "  labels[BATCH_SIZE:,:] = 0\n",
        "\n",
        "  d_stats = model_discriminator.train_on_batch(imgs, labels)\n",
        "  \n",
        "  labels = np.ones([BATCH_SIZE, 1])\n",
        "  noise = np.random.uniform(-1.0, 1.0, size=[BATCH_SIZE, 100])\n",
        "  a_stats = model_adversarial.train_on_batch(noise, labels)\n",
        "\n",
        "  if i % 100 == 0:\n",
        "    print(\"{}: [Dis. loss: {:.4f}, acc: {:.4f}] [Gen. loss: {:.4f}, acc: {:.4f}]\".format(i, d_stats[0], d_stats[1], a_stats[0], a_stats[1]))"
      ],
      "execution_count": 24,
      "outputs": [
        {
          "output_type": "stream",
          "text": [
            "0: [Dis. loss: 0.6932, acc: 0.5039] [Gen. loss: 2.7599, acc: 0.0000]\n",
            "100: [Dis. loss: 0.2482, acc: 0.9297] [Gen. loss: 1.5745, acc: 0.1250]\n",
            "200: [Dis. loss: 0.3476, acc: 0.8359] [Gen. loss: 2.3474, acc: 0.0469]\n",
            "300: [Dis. loss: 0.3833, acc: 0.8320] [Gen. loss: 1.9940, acc: 0.0703]\n",
            "400: [Dis. loss: 0.5541, acc: 0.6914] [Gen. loss: 1.6782, acc: 0.0703]\n",
            "500: [Dis. loss: 0.5430, acc: 0.7031] [Gen. loss: 1.1374, acc: 0.2969]\n",
            "600: [Dis. loss: 0.4876, acc: 0.7773] [Gen. loss: 1.3851, acc: 0.2266]\n",
            "700: [Dis. loss: 0.4237, acc: 0.8125] [Gen. loss: 1.7317, acc: 0.1406]\n",
            "800: [Dis. loss: 0.3864, acc: 0.8398] [Gen. loss: 1.2648, acc: 0.2812]\n",
            "900: [Dis. loss: 0.5409, acc: 0.7227] [Gen. loss: 1.0740, acc: 0.3906]\n",
            "1000: [Dis. loss: 0.4996, acc: 0.7695] [Gen. loss: 2.1898, acc: 0.0312]\n"
          ],
          "name": "stdout"
        }
      ]
    },
    {
      "cell_type": "code",
      "metadata": {
        "id": "PaEt_YmR-Mo4",
        "colab_type": "code",
        "outputId": "46e1fbd5-cfc4-499f-bc14-c64863043d06",
        "colab": {
          "base_uri": "https://localhost:8080/",
          "height": 297
        }
      },
      "source": [
        "plt.figure(figsize=(15,4))\n",
        "\n",
        "for i in range(40):\n",
        "  #  noise = np.zeros([1,100]) - 1 + (i * 0.2)\n",
        "    noise = np.random.uniform(-1.0, 1.0, size=[1, 100])\n",
        "    images = net_gen.predict(noise)\n",
        "    \n",
        "    image = images[0, :, :, :]\n",
        "    image = np.reshape(image, [28, 28])\n",
        "          \n",
        "    plt.subplot(4, 10, i+1)\n",
        "    plt.imshow(image, cmap='gray')\n",
        "    plt.axis('off')\n",
        "\n",
        "plt.tight_layout()\n",
        "plt.show()"
      ],
      "execution_count": 25,
      "outputs": [
        {
          "output_type": "display_data",
          "data": {
            "image/png": "[encoded data removed]",
            "text/plain": [
              "<Figure size 1080x288 with 40 Axes>"
            ]
          },
          "metadata": {
            "tags": []
          }
        }
      ]
    },
    {
      "cell_type": "code",
      "metadata": {
        "id": "saWEfteF7t9a",
        "colab_type": "code",
        "colab": {
          "base_uri": "https://localhost:8080/",
          "height": 357
        },
        "outputId": "b0147cad-2e78-4be4-ceb1-1a749b3509b9"
      },
      "source": [
        "plt.figure(figsize=(15,6))\n",
        "\n",
        "for i in range(40):\n",
        "    image = X[i, :, :, :]\n",
        "    image = np.reshape(image, [28, 28])\n",
        "          \n",
        "    plt.subplot(4, 10, i+1)\n",
        "    plt.imshow(image, cmap='gray')\n",
        "    plt.axis('off')"
      ],
      "execution_count": 26,
      "outputs": [
        {
          "output_type": "display_data",
          "data": {
            "image/png": "[encoded data removed]",
            "text/plain": [
              "<Figure size 1080x432 with 40 Axes>"
            ]
          },
          "metadata": {
            "tags": []
          }
        }
      ]
    },
    {
      "cell_type": "code",
      "metadata": {
        "id": "UGlZ40jMjWgP",
        "colab_type": "code",
        "colab": {}
      },
      "source": [
        ""
      ],
      "execution_count": 0,
      "outputs": []
    }
  ]
}