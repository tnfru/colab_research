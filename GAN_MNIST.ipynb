{
  "nbformat": 4,
  "nbformat_minor": 0,
  "metadata": {
    "colab": {
      "name": "GAN_MNIST.ipynb",
      "provenance": [],
      "collapsed_sections": [],
      "authorship_tag": "ABX9TyOdmCG43czY4JUD+GuS6T16",
      "include_colab_link": true
    },
    "kernelspec": {
      "name": "python3",
      "display_name": "Python 3"
    },
    "accelerator": "GPU"
  },
  "cells": [
    {
      "cell_type": "markdown",
      "metadata": {
        "id": "view-in-github",
        "colab_type": "text"
      },
      "source": [
        "<a href=\"https://colab.research.google.com/github/tnfru/colab_research/blob/master/GAN_MNIST.ipynb\" target=\"_parent\"><img src=\"https://colab.research.google.com/assets/colab-badge.svg\" alt=\"Open In Colab\"/></a>"
      ]
    },
    {
      "cell_type": "code",
      "metadata": {
        "id": "m7GpU5jFf2t-",
        "colab_type": "code",
        "outputId": "9ac2d8fb-b728-4621-8884-75c62f3e3797",
        "colab": {
          "base_uri": "https://localhost:8080/",
          "height": 52
        }
      },
      "source": [
        "import numpy as np\n",
        "import sys\n",
        "if 'google.colab' in sys.modules:\n",
        "  %tensorflow_version 2.x\n",
        "import tensorflow as tf\n",
        "from keras.datasets import mnist\n",
        "from keras.utils.np_utils import to_categorical\n",
        "from tensorflow.keras.models import Sequential\n",
        "from tensorflow.keras.layers import Dense, Activation, Flatten, Reshape\n",
        "from tensorflow.keras.layers import Conv2D, UpSampling2D\n",
        "from tensorflow.keras.layers import LeakyReLU, Dropout\n",
        "from tensorflow.keras.layers import BatchNormalization\n",
        "from tensorflow.keras.optimizers import Adam, SGD, RMSprop\n",
        "import matplotlib.pyplot as plt\n",
        "\n",
        "AUTO = tf.data.experimental.AUTOTUNE\n",
        "l = tf.keras.layers"
      ],
      "execution_count": 1,
      "outputs": [
        {
          "output_type": "stream",
          "text": [
            "TensorFlow 2.x selected.\n"
          ],
          "name": "stdout"
        },
        {
          "output_type": "stream",
          "text": [
            "Using TensorFlow backend.\n"
          ],
          "name": "stderr"
        }
      ]
    },
    {
      "cell_type": "code",
      "metadata": {
        "id": "LdXCAHY8hIqb",
        "colab_type": "code",
        "outputId": "b7263436-e70e-4b36-cd90-b2aafb5fe18f",
        "colab": {
          "base_uri": "https://localhost:8080/",
          "height": 52
        }
      },
      "source": [
        "try:\n",
        "  tpu = tf.distribute.cluster_resolver.TPUClusterResolver()\n",
        "except ValueError:\n",
        "  tpu = None\n",
        "  gpus = tf.config.experimental.list_logical_devices(\"GPU\")\n",
        "\n",
        "if tpu:\n",
        "  tf.config.experimental_connect_to_cluster(tpu)\n",
        "  tf.tpu.experimental.initialize_tpu_system(tpu)\n",
        "  strategy = tf.distribute.experimental.TPUStrategy(tpu)\n",
        "  print('Running on TPU ', tpu.master())  \n",
        "elif len(gpus) > 0:\n",
        "  strategy = tf.distribute.MirroredStrategy(gpus)\n",
        "  print('Running on ', len(gpus), ' GPU(s) ')\n",
        "else:\n",
        "  strategy = tf.distribute.get_strategy()\n",
        "  print('Running on CPU')"
      ],
      "execution_count": 2,
      "outputs": [
        {
          "output_type": "stream",
          "text": [
            "INFO:tensorflow:Using MirroredStrategy with devices ('/job:localhost/replica:0/task:0/device:GPU:0',)\n",
            "Running on  1  GPU(s) \n"
          ],
          "name": "stdout"
        }
      ]
    },
    {
      "cell_type": "code",
      "metadata": {
        "id": "WuIU6hA5htiX",
        "colab_type": "code",
        "colab": {}
      },
      "source": [
        "IMG_SIZE = [28, 28]\n",
        "BATCH_SIZE = 128"
      ],
      "execution_count": 0,
      "outputs": []
    },
    {
      "cell_type": "code",
      "metadata": {
        "id": "6eVqENwIgkVF",
        "colab_type": "code",
        "colab": {}
      },
      "source": [
        "(X, Y), (X_test, Y_test) = mnist.load_data()"
      ],
      "execution_count": 0,
      "outputs": []
    },
    {
      "cell_type": "code",
      "metadata": {
        "id": "uD82EtRxhs1V",
        "colab_type": "code",
        "outputId": "7c30f571-6c0c-4616-dc79-05514e809650",
        "colab": {
          "base_uri": "https://localhost:8080/",
          "height": 34
        }
      },
      "source": [
        "np.isnan(X).sum(), np.isnan(X_test).sum()"
      ],
      "execution_count": 5,
      "outputs": [
        {
          "output_type": "execute_result",
          "data": {
            "text/plain": [
              "(0, 0)"
            ]
          },
          "metadata": {
            "tags": []
          },
          "execution_count": 5
        }
      ]
    },
    {
      "cell_type": "code",
      "metadata": {
        "id": "f93BOBbgh_K5",
        "colab_type": "code",
        "colab": {}
      },
      "source": [
        "def norm_data(X):\n",
        "  X = X / 255.0\n",
        "  #X = X - X.mean(axis=0)\n",
        "  X = X.reshape(-1, *IMG_SIZE, 1)\n",
        "\n",
        "  return X"
      ],
      "execution_count": 0,
      "outputs": []
    },
    {
      "cell_type": "code",
      "metadata": {
        "id": "aF86VXRlidY4",
        "colab_type": "code",
        "colab": {}
      },
      "source": [
        "X = norm_data(X)\n",
        "X_test = norm_data(X_test)"
      ],
      "execution_count": 0,
      "outputs": []
    },
    {
      "cell_type": "code",
      "metadata": {
        "id": "D4e3JKZ7geCY",
        "colab_type": "code",
        "outputId": "34e84b60-8a9e-4401-d428-bd53714988ef",
        "colab": {
          "base_uri": "https://localhost:8080/",
          "height": 34
        }
      },
      "source": [
        "X.shape"
      ],
      "execution_count": 8,
      "outputs": [
        {
          "output_type": "execute_result",
          "data": {
            "text/plain": [
              "(60000, 28, 28, 1)"
            ]
          },
          "metadata": {
            "tags": []
          },
          "execution_count": 8
        }
      ]
    },
    {
      "cell_type": "code",
      "metadata": {
        "id": "ziIihhQHiq6E",
        "colab_type": "code",
        "colab": {}
      },
      "source": [
        "def discriminator():\n",
        "  discriminator = tf.keras.Sequential([\n",
        "      l.Conv2D(16, 3, padding='same', input_shape=(*IMG_SIZE, 1)),\n",
        "      l.LeakyReLU(),\n",
        "      l.Dropout(0.4),\n",
        "      \n",
        "      l.Conv2D(32, 3, padding='same', strides=2),\n",
        "      l.LeakyReLU(),\n",
        "      l.Dropout(0.4),\n",
        "\n",
        "      l.Conv2D(64, 3, padding='same', strides=2),\n",
        "      l.LeakyReLU(),\n",
        "      l.Dropout(0.4),\n",
        "\n",
        "\n",
        "      l.Conv2D(128, 3, padding='same', strides=2),\n",
        "      l.LeakyReLU(),\n",
        "      l.Dropout(0.4),\n",
        "\n",
        "      l.Conv2D(256, 3, padding='same', strides=2),\n",
        "      l.LeakyReLU(),\n",
        "      l.Dropout(0.4),\n",
        "\n",
        "\n",
        "      l.Conv2D(512, 3, padding='same', strides=2),\n",
        "      l.LeakyReLU(),\n",
        "      l.Dropout(0.4),\n",
        "\n",
        "      l.Flatten(),\n",
        "      l.Dense(1, activation='sigmoid')\n",
        "  ]) \n",
        "  \n",
        "  #discriminator.summary()\n",
        "\n",
        "  return discriminator"
      ],
      "execution_count": 0,
      "outputs": []
    },
    {
      "cell_type": "code",
      "metadata": {
        "id": "A3U7GwDOavRS",
        "colab_type": "code",
        "colab": {
          "base_uri": "https://localhost:8080/",
          "height": 851
        },
        "outputId": "e8bcc8d1-a0c7-437e-94d5-5394ea39c2c1"
      },
      "source": [
        "discriminator().summary()"
      ],
      "execution_count": 10,
      "outputs": [
        {
          "output_type": "stream",
          "text": [
            "Model: \"sequential\"\n",
            "_________________________________________________________________\n",
            "Layer (type)                 Output Shape              Param #   \n",
            "=================================================================\n",
            "conv2d (Conv2D)              (None, 28, 28, 16)        160       \n",
            "_________________________________________________________________\n",
            "leaky_re_lu (LeakyReLU)      (None, 28, 28, 16)        0         \n",
            "_________________________________________________________________\n",
            "dropout (Dropout)            (None, 28, 28, 16)        0         \n",
            "_________________________________________________________________\n",
            "conv2d_1 (Conv2D)            (None, 14, 14, 32)        4640      \n",
            "_________________________________________________________________\n",
            "leaky_re_lu_1 (LeakyReLU)    (None, 14, 14, 32)        0         \n",
            "_________________________________________________________________\n",
            "dropout_1 (Dropout)          (None, 14, 14, 32)        0         \n",
            "_________________________________________________________________\n",
            "conv2d_2 (Conv2D)            (None, 7, 7, 64)          18496     \n",
            "_________________________________________________________________\n",
            "leaky_re_lu_2 (LeakyReLU)    (None, 7, 7, 64)          0         \n",
            "_________________________________________________________________\n",
            "dropout_2 (Dropout)          (None, 7, 7, 64)          0         \n",
            "_________________________________________________________________\n",
            "conv2d_3 (Conv2D)            (None, 4, 4, 128)         73856     \n",
            "_________________________________________________________________\n",
            "leaky_re_lu_3 (LeakyReLU)    (None, 4, 4, 128)         0         \n",
            "_________________________________________________________________\n",
            "dropout_3 (Dropout)          (None, 4, 4, 128)         0         \n",
            "_________________________________________________________________\n",
            "conv2d_4 (Conv2D)            (None, 2, 2, 256)         295168    \n",
            "_________________________________________________________________\n",
            "leaky_re_lu_4 (LeakyReLU)    (None, 2, 2, 256)         0         \n",
            "_________________________________________________________________\n",
            "dropout_4 (Dropout)          (None, 2, 2, 256)         0         \n",
            "_________________________________________________________________\n",
            "conv2d_5 (Conv2D)            (None, 1, 1, 512)         1180160   \n",
            "_________________________________________________________________\n",
            "leaky_re_lu_5 (LeakyReLU)    (None, 1, 1, 512)         0         \n",
            "_________________________________________________________________\n",
            "dropout_5 (Dropout)          (None, 1, 1, 512)         0         \n",
            "_________________________________________________________________\n",
            "flatten (Flatten)            (None, 512)               0         \n",
            "_________________________________________________________________\n",
            "dense (Dense)                (None, 1)                 513       \n",
            "=================================================================\n",
            "Total params: 1,572,993\n",
            "Trainable params: 1,572,993\n",
            "Non-trainable params: 0\n",
            "_________________________________________________________________\n"
          ],
          "name": "stdout"
        }
      ]
    },
    {
      "cell_type": "code",
      "metadata": {
        "id": "d1yqMG1ixJP6",
        "colab_type": "code",
        "colab": {}
      },
      "source": [
        "def discriminator_tut():\n",
        "    \n",
        "    net = tf.keras.Sequential()\n",
        "    input_shape = (28, 28, 1)\n",
        "    dropout_prob = 0.4\n",
        "\n",
        "    net.add(l.Conv2D(64, 5, strides=2, input_shape=input_shape, padding='same'))\n",
        "    net.add(l.LeakyReLU())\n",
        "    \n",
        "    net.add(l.Conv2D(128, 5, strides=2, padding='same'))\n",
        "    net.add(l.LeakyReLU())\n",
        "    net.add(l.Dropout(dropout_prob))\n",
        "    \n",
        "    net.add(l.Conv2D(256, 5, strides=2, padding='same'))\n",
        "    net.add(l.LeakyReLU())\n",
        "    net.add(l.Dropout(dropout_prob))\n",
        "    \n",
        "    net.add(l.Conv2D(512, 5, strides=1, padding='same'))\n",
        "    net.add(l.LeakyReLU())\n",
        "    net.add(l.Dropout(dropout_prob))\n",
        "    \n",
        "    net.add(l.Flatten())\n",
        "    net.add(l.Dense(1))\n",
        "    net.add(l.Activation('sigmoid'))\n",
        "    \n",
        "    return net"
      ],
      "execution_count": 0,
      "outputs": []
    },
    {
      "cell_type": "code",
      "metadata": {
        "id": "rm5RBjtZ6T9m",
        "colab_type": "code",
        "colab": {}
      },
      "source": [
        "def generator_tut():\n",
        "    \n",
        "    net = Sequential()\n",
        "    dropout_prob = 0.4\n",
        "    \n",
        "    net.add(Dense(7*7*256, input_dim=100))\n",
        "    net.add(BatchNormalization(momentum=0.9))\n",
        "    net.add(LeakyReLU())\n",
        "    net.add(Reshape((7,7,256)))\n",
        "    net.add(Dropout(dropout_prob))\n",
        "    \n",
        "    net.add(UpSampling2D())\n",
        "    net.add(Conv2D(128, 5, padding='same'))\n",
        "    net.add(BatchNormalization(momentum=0.9))\n",
        "    net.add(LeakyReLU())\n",
        "    \n",
        "    net.add(UpSampling2D())\n",
        "    net.add(Conv2D(64, 5, padding='same'))\n",
        "    net.add(BatchNormalization(momentum=0.9))\n",
        "    net.add(LeakyReLU())\n",
        "    \n",
        "    net.add(Conv2D(32, 5, padding='same'))\n",
        "    net.add(BatchNormalization(momentum=0.9))\n",
        "    net.add(LeakyReLU())\n",
        "    \n",
        "    net.add(Conv2D(1, 5, padding='same'))\n",
        "    net.add(Activation('sigmoid'))\n",
        "    \n",
        "    return net"
      ],
      "execution_count": 0,
      "outputs": []
    },
    {
      "cell_type": "code",
      "metadata": {
        "id": "wfelyTRqj1Fm",
        "colab_type": "code",
        "colab": {}
      },
      "source": [
        "def generator():\n",
        "  generator = tf.keras.Sequential([\n",
        "      l.Dense(7 * 7 * 256, input_dim=100),\n",
        "      l.BatchNormalization(momentum=0.9),\n",
        "      l.LeakyReLU(),\n",
        "      l.Reshape((7, 7, 256)),\n",
        "      l.Dropout(0.4),\n",
        "\n",
        "      l.UpSampling2D(),\n",
        "      l.Conv2D(128, 5, padding='same'),\n",
        "      l.BatchNormalization(momentum=0.9),\n",
        "      l.LeakyReLU(),\n",
        "      l.Conv2D(128, 5, padding='same'),\n",
        "      l.BatchNormalization(momentum=0.9),\n",
        "      l.LeakyReLU(),\n",
        "\n",
        "      l.UpSampling2D(),\n",
        "      l.Conv2D(64, 5, padding='same'),\n",
        "      l.BatchNormalization(momentum=0.9),\n",
        "      l.LeakyReLU(),\n",
        "      l.Conv2D(64, 5, padding='same'),\n",
        "      l.BatchNormalization(momentum=0.9),\n",
        "      l.LeakyReLU(),\n",
        "\n",
        "      l.Conv2D(32, 5, padding='same'),\n",
        "      l.BatchNormalization(momentum=0.9),\n",
        "      l.LeakyReLU(),\n",
        "\n",
        "      l.Conv2D(1, 5, padding='same'),\n",
        "      l.Activation('sigmoid')\n",
        "  ])\n",
        "\n",
        "  #generator.summary()\n",
        "\n",
        "  return generator"
      ],
      "execution_count": 0,
      "outputs": []
    },
    {
      "cell_type": "code",
      "metadata": {
        "id": "P5tVR4OcqeIm",
        "colab_type": "code",
        "colab": {}
      },
      "source": [
        "def create_models():\n",
        "  optim_discriminator = tf.keras.optimizers.RMSprop(lr=0.0008, clipvalue=1.0, decay=1e-10)\n",
        "\n",
        "  model_discriminator = tf.keras.Sequential()\n",
        "  #net_discriminator = discriminator_tut()\n",
        "  net_discriminator = discriminator()\n",
        "  model_discriminator.add(net_discriminator)\n",
        "  model_discriminator.compile(loss='binary_crossentropy', \n",
        "                                optimizer=optim_discriminator, \n",
        "                                metrics=['accuracy'])\n",
        "      \n",
        "  optim_adversarial = tf.keras.optimizers.Adam(lr=0.0004, clipvalue=1.0, decay=1e-10)\n",
        "\n",
        "  model_adversarial = tf.keras.Sequential()\n",
        "  net_gen = generator()\n",
        "  #net_gen = generator_tut()\n",
        "  model_adversarial.add(net_gen)\n",
        "\n",
        "  for layer in net_discriminator.layers:\n",
        "    layer.trainable = False\n",
        "\n",
        "  model_adversarial.add(net_discriminator)\n",
        "  model_adversarial.compile(loss='binary_crossentropy', \n",
        "                              optimizer=optim_adversarial, \n",
        "                              metrics=['accuracy'])\n",
        "    \n",
        "  return model_discriminator, model_adversarial, net_gen, net_discriminator"
      ],
      "execution_count": 0,
      "outputs": []
    },
    {
      "cell_type": "code",
      "metadata": {
        "id": "zOfsNciV1lkk",
        "colab_type": "code",
        "colab": {}
      },
      "source": [
        "model_discriminator, model_adversarial, net_gen, net_discriminator = create_models()"
      ],
      "execution_count": 0,
      "outputs": []
    },
    {
      "cell_type": "code",
      "metadata": {
        "id": "yHNNIUvju3id",
        "colab_type": "code",
        "outputId": "37d4111b-43be-44d9-a800-624f421bd963",
        "colab": {
          "base_uri": "https://localhost:8080/",
          "height": 225
        }
      },
      "source": [
        "model_adversarial.summary()"
      ],
      "execution_count": 16,
      "outputs": [
        {
          "output_type": "stream",
          "text": [
            "Model: \"sequential_3\"\n",
            "_________________________________________________________________\n",
            "Layer (type)                 Output Shape              Param #   \n",
            "=================================================================\n",
            "sequential_4 (Sequential)    (None, 28, 28, 1)         2907201   \n",
            "_________________________________________________________________\n",
            "sequential_2 (Sequential)    (None, 1)                 1572993   \n",
            "=================================================================\n",
            "Total params: 4,480,194\n",
            "Trainable params: 2,881,281\n",
            "Non-trainable params: 1,598,913\n",
            "_________________________________________________________________\n"
          ],
          "name": "stdout"
        }
      ]
    },
    {
      "cell_type": "code",
      "metadata": {
        "id": "kXuYdAtz3uZ3",
        "colab_type": "code",
        "outputId": "6f553cf4-2f8a-44a4-94c9-93d6e5d8a6ba",
        "colab": {
          "base_uri": "https://localhost:8080/",
          "height": 903
        }
      },
      "source": [
        "for i in range(5001):\n",
        "  noise = np.random.uniform(-1.0, 1.0, size=[BATCH_SIZE, 100])\n",
        "\n",
        "  real_imgs = X[(np.random.randint(0, X.shape[0], size=BATCH_SIZE)), :, :, :]\n",
        "  fake_imgs = net_gen.predict(noise)\n",
        "\n",
        "  imgs = np.concatenate((real_imgs, fake_imgs))\n",
        "  labels = np.ones((2*BATCH_SIZE, 1))\n",
        "  labels[BATCH_SIZE:,:] = 0\n",
        "\n",
        "  d_stats = model_discriminator.train_on_batch(imgs, labels)\n",
        "  \n",
        "  labels = np.ones([BATCH_SIZE, 1])\n",
        "  noise = np.random.uniform(-1.0, 1.0, size=[BATCH_SIZE, 100])\n",
        "  a_stats = model_adversarial.train_on_batch(noise, labels)\n",
        "\n",
        "  if i % 100 == 0:\n",
        "    print(\"{}: [Dis. loss: {:.4f}, acc: {:.4f}] [Gen. loss: {:.4f}, acc: {:.4f}]\".format(i, d_stats[0], d_stats[1], a_stats[0], a_stats[1]))"
      ],
      "execution_count": 17,
      "outputs": [
        {
          "output_type": "stream",
          "text": [
            "0: [Dis. loss: 0.6938, acc: 0.5000] [Gen. loss: 1.2556, acc: 0.0000]\n",
            "100: [Dis. loss: 0.4057, acc: 0.8164] [Gen. loss: 1.2626, acc: 0.2109]\n",
            "200: [Dis. loss: 0.7457, acc: 0.5898] [Gen. loss: 0.5133, acc: 0.7734]\n",
            "300: [Dis. loss: 0.5686, acc: 0.6953] [Gen. loss: 1.1448, acc: 0.2188]\n",
            "400: [Dis. loss: 0.3851, acc: 0.8398] [Gen. loss: 1.5523, acc: 0.2109]\n",
            "500: [Dis. loss: 0.2819, acc: 0.8633] [Gen. loss: 0.2776, acc: 0.9219]\n",
            "600: [Dis. loss: 0.6790, acc: 0.5781] [Gen. loss: 2.2788, acc: 0.0625]\n",
            "700: [Dis. loss: 0.4363, acc: 0.7930] [Gen. loss: 1.2375, acc: 0.2969]\n",
            "800: [Dis. loss: 0.5289, acc: 0.7344] [Gen. loss: 0.8408, acc: 0.5234]\n",
            "900: [Dis. loss: 0.5887, acc: 0.6680] [Gen. loss: 1.1659, acc: 0.2734]\n",
            "1000: [Dis. loss: 0.5088, acc: 0.7422] [Gen. loss: 1.6844, acc: 0.1328]\n",
            "1100: [Dis. loss: 0.5192, acc: 0.7773] [Gen. loss: 0.9256, acc: 0.3906]\n",
            "1200: [Dis. loss: 0.5060, acc: 0.7617] [Gen. loss: 1.5902, acc: 0.1797]\n",
            "1300: [Dis. loss: 0.6327, acc: 0.6523] [Gen. loss: 0.8298, acc: 0.4531]\n",
            "1400: [Dis. loss: 0.5298, acc: 0.7344] [Gen. loss: 1.1906, acc: 0.3125]\n",
            "1500: [Dis. loss: 0.4266, acc: 0.8203] [Gen. loss: 2.2156, acc: 0.0859]\n",
            "1600: [Dis. loss: 0.5361, acc: 0.7461] [Gen. loss: 1.4269, acc: 0.1562]\n",
            "1700: [Dis. loss: 0.5625, acc: 0.7031] [Gen. loss: 2.2317, acc: 0.0547]\n",
            "1800: [Dis. loss: 0.5826, acc: 0.6602] [Gen. loss: 1.2984, acc: 0.2578]\n",
            "1900: [Dis. loss: 0.6014, acc: 0.6562] [Gen. loss: 1.3849, acc: 0.1641]\n",
            "2000: [Dis. loss: 0.5264, acc: 0.7461] [Gen. loss: 1.1219, acc: 0.3125]\n",
            "2100: [Dis. loss: 0.6476, acc: 0.6602] [Gen. loss: 0.6241, acc: 0.6875]\n",
            "2200: [Dis. loss: 0.5435, acc: 0.7266] [Gen. loss: 1.1954, acc: 0.3047]\n",
            "2300: [Dis. loss: 0.5506, acc: 0.7070] [Gen. loss: 1.2905, acc: 0.1797]\n",
            "2400: [Dis. loss: 0.5622, acc: 0.6875] [Gen. loss: 1.5734, acc: 0.1328]\n",
            "2500: [Dis. loss: 0.5903, acc: 0.6797] [Gen. loss: 1.4693, acc: 0.1328]\n",
            "2600: [Dis. loss: 0.5687, acc: 0.7031] [Gen. loss: 1.3539, acc: 0.1641]\n",
            "2700: [Dis. loss: 0.5185, acc: 0.7617] [Gen. loss: 1.8173, acc: 0.1094]\n",
            "2800: [Dis. loss: 0.5150, acc: 0.7539] [Gen. loss: 1.5987, acc: 0.1484]\n",
            "2900: [Dis. loss: 0.5119, acc: 0.7188] [Gen. loss: 0.9177, acc: 0.3828]\n",
            "3000: [Dis. loss: 0.5515, acc: 0.7031] [Gen. loss: 1.3463, acc: 0.1953]\n",
            "3100: [Dis. loss: 0.5982, acc: 0.6992] [Gen. loss: 1.3853, acc: 0.2422]\n",
            "3200: [Dis. loss: 0.6023, acc: 0.6523] [Gen. loss: 1.0864, acc: 0.2500]\n",
            "3300: [Dis. loss: 0.5763, acc: 0.7305] [Gen. loss: 1.0650, acc: 0.2969]\n",
            "3400: [Dis. loss: 0.5669, acc: 0.7031] [Gen. loss: 1.5691, acc: 0.1328]\n",
            "3500: [Dis. loss: 0.5418, acc: 0.7383] [Gen. loss: 1.1431, acc: 0.2266]\n",
            "3600: [Dis. loss: 0.5300, acc: 0.7695] [Gen. loss: 1.3055, acc: 0.2031]\n",
            "3700: [Dis. loss: 0.5381, acc: 0.7305] [Gen. loss: 1.2792, acc: 0.2344]\n",
            "3800: [Dis. loss: 0.5763, acc: 0.7070] [Gen. loss: 0.8895, acc: 0.4453]\n",
            "3900: [Dis. loss: 0.5984, acc: 0.6797] [Gen. loss: 1.4450, acc: 0.1016]\n",
            "4000: [Dis. loss: 0.5814, acc: 0.7031] [Gen. loss: 1.2914, acc: 0.2031]\n",
            "4100: [Dis. loss: 0.6190, acc: 0.6367] [Gen. loss: 0.8696, acc: 0.3906]\n",
            "4200: [Dis. loss: 0.5339, acc: 0.7422] [Gen. loss: 1.0673, acc: 0.2656]\n",
            "4300: [Dis. loss: 0.5011, acc: 0.7852] [Gen. loss: 1.1277, acc: 0.2969]\n",
            "4400: [Dis. loss: 0.6737, acc: 0.6289] [Gen. loss: 1.7082, acc: 0.1172]\n",
            "4500: [Dis. loss: 0.5698, acc: 0.7109] [Gen. loss: 0.9376, acc: 0.3828]\n",
            "4600: [Dis. loss: 0.6297, acc: 0.6367] [Gen. loss: 0.9172, acc: 0.2734]\n",
            "4700: [Dis. loss: 0.5832, acc: 0.6914] [Gen. loss: 1.3245, acc: 0.2188]\n",
            "4800: [Dis. loss: 0.5740, acc: 0.6953] [Gen. loss: 1.4109, acc: 0.2109]\n",
            "4900: [Dis. loss: 0.5444, acc: 0.7188] [Gen. loss: 1.1100, acc: 0.2578]\n",
            "5000: [Dis. loss: 0.6248, acc: 0.6445] [Gen. loss: 1.0011, acc: 0.3125]\n"
          ],
          "name": "stdout"
        }
      ]
    },
    {
      "cell_type": "code",
      "metadata": {
        "id": "PaEt_YmR-Mo4",
        "colab_type": "code",
        "outputId": "d4ece76c-03cb-41bf-a759-a261395e73f6",
        "colab": {
          "base_uri": "https://localhost:8080/",
          "height": 297
        }
      },
      "source": [
        "plt.figure(figsize=(15,4))\n",
        "\n",
        "for i in range(40):\n",
        "  #  noise = np.zeros([1,100]) - 1 + (i * 0.2)\n",
        "    noise = np.random.uniform(-1.0, 1.0, size=[1, 100])\n",
        "    images = net_gen.predict(noise)\n",
        "    \n",
        "    image = images[0, :, :, :]\n",
        "    image = np.reshape(image, [28, 28])\n",
        "          \n",
        "    plt.subplot(4, 10, i+1)\n",
        "    plt.imshow(image, cmap='gray')\n",
        "    plt.axis('off')\n",
        "\n",
        "plt.tight_layout()\n",
        "plt.show()"
      ],
      "execution_count": 18,
      "outputs": [
        {
          "output_type": "display_data",
          "data": {
            "image/png": "[encoded data removed]",
            "text/plain": [
              "<Figure size 1080x288 with 40 Axes>"
            ]
          },
          "metadata": {
            "tags": []
          }
        }
      ]
    },
    {
      "cell_type": "code",
      "metadata": {
        "id": "saWEfteF7t9a",
        "colab_type": "code",
        "outputId": "e55a01c8-8910-4f14-e7d7-c20ac5ace6bf",
        "colab": {
          "base_uri": "https://localhost:8080/",
          "height": 357
        }
      },
      "source": [
        "plt.figure(figsize=(15,6))\n",
        "\n",
        "for i in range(40):\n",
        "    image = X[i, :, :, :]\n",
        "    image = np.reshape(image, [28, 28])\n",
        "          \n",
        "    plt.subplot(4, 10, i+1)\n",
        "    plt.imshow(image, cmap='gray')\n",
        "    plt.axis('off')"
      ],
      "execution_count": 19,
      "outputs": [
        {
          "output_type": "display_data",
          "data": {
            "image/png": "[encoded data removed]",
            "text/plain": [
              "<Figure size 1080x432 with 40 Axes>"
            ]
          },
          "metadata": {
            "tags": []
          }
        }
      ]
    },
    {
      "cell_type": "code",
      "metadata": {
        "id": "UGlZ40jMjWgP",
        "colab_type": "code",
        "colab": {}
      },
      "source": [
        ""
      ],
      "execution_count": 0,
      "outputs": []
    }
  ]
}