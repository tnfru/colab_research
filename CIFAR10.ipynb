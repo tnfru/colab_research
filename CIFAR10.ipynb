{
  "nbformat": 4,
  "nbformat_minor": 0,
  "metadata": {
    "colab": {
      "name": "CIFAR10.ipynb",
      "provenance": [],
      "collapsed_sections": [
        "c79b_aXqtb4v",
        "ZaXiYGiSJeO8"
      ],
      "authorship_tag": "ABX9TyPSpNJd+ibvycARwuDenhIo",
      "include_colab_link": true
    },
    "kernelspec": {
      "name": "python3",
      "display_name": "Python 3"
    },
    "accelerator": "GPU"
  },
  "cells": [
    {
      "cell_type": "markdown",
      "metadata": {
        "id": "view-in-github",
        "colab_type": "text"
      },
      "source": [
        "<a href=\"https://colab.research.google.com/github/tnfru/colab_research/blob/master/CIFAR10.ipynb\" target=\"_parent\"><img src=\"https://colab.research.google.com/assets/colab-badge.svg\" alt=\"Open In Colab\"/></a>"
      ]
    },
    {
      "cell_type": "code",
      "metadata": {
        "id": "GUAn_rXHooFB",
        "colab_type": "code",
        "outputId": "3614f9f9-077b-4c46-8415-145944a29764",
        "colab": {
          "base_uri": "https://localhost:8080/",
          "height": 52
        }
      },
      "source": [
        "import pandas as pd\n",
        "import numpy as np\n",
        "from matplotlib import pyplot as plt\n",
        "import sys\n",
        "if 'google.colab' in sys.modules:\n",
        "  %tensorflow_version 2.x\n",
        "import tensorflow as tf\n",
        "from google.colab import drive\n",
        "from sklearn.utils import shuffle\n",
        "from keras.utils.np_utils import to_categorical\n",
        "from keras.datasets import cifar10\n",
        "\n",
        "AUTO = tf.data.experimental.AUTOTUNE"
      ],
      "execution_count": 1,
      "outputs": [
        {
          "output_type": "stream",
          "text": [
            "TensorFlow 2.x selected.\n"
          ],
          "name": "stdout"
        },
        {
          "output_type": "stream",
          "text": [
            "Using TensorFlow backend.\n"
          ],
          "name": "stderr"
        }
      ]
    },
    {
      "cell_type": "markdown",
      "metadata": {
        "id": "c79b_aXqtb4v",
        "colab_type": "text"
      },
      "source": [
        "## Set up TPU and GPU usage"
      ]
    },
    {
      "cell_type": "code",
      "metadata": {
        "id": "ISm9ZgM1risK",
        "colab_type": "code",
        "outputId": "f630f277-30e6-47d5-cf0a-bd972b22612a",
        "colab": {
          "base_uri": "https://localhost:8080/",
          "height": 52
        }
      },
      "source": [
        "try:\n",
        "  tpu = tf.distribute.cluster_resolver.TPUClusterResolver()\n",
        "except ValueError:\n",
        "  tpu = None\n",
        "  gpus = tf.config.experimental.list_logical_devices(\"GPU\")\n",
        "\n",
        "if tpu:\n",
        "  tf.config.experimental_connect_to_cluster(tpu)\n",
        "  tf.tpu.experimental.initialize_tpu_system(tpu)\n",
        "  strategy = tf.distribute.experimental.TPUStrategy(tpu)\n",
        "  print('Running on TPU ', tpu.master())  \n",
        "elif len(gpus) > 0:\n",
        "  strategy = tf.distribute.MirroredStrategy(gpus)\n",
        "  print('Running on ', len(gpus), ' GPU(s) ')\n",
        "else:\n",
        "  strategy = tf.distribute.get_strategy()\n",
        "  print('Running on CPU')"
      ],
      "execution_count": 2,
      "outputs": [
        {
          "output_type": "stream",
          "text": [
            "INFO:tensorflow:Using MirroredStrategy with devices ('/job:localhost/replica:0/task:0/device:GPU:0',)\n",
            "Running on  1  GPU(s) \n"
          ],
          "name": "stdout"
        }
      ]
    },
    {
      "cell_type": "markdown",
      "metadata": {
        "id": "0hCaFfnGwjHN",
        "colab_type": "text"
      },
      "source": [
        "## Read data"
      ]
    },
    {
      "cell_type": "code",
      "metadata": {
        "id": "iPk_QoZHv46F",
        "colab_type": "code",
        "colab": {}
      },
      "source": [
        "IMG_SIZE = [32, 32]\n",
        "BATCH_SIZE = 128"
      ],
      "execution_count": 0,
      "outputs": []
    },
    {
      "cell_type": "code",
      "metadata": {
        "id": "esvZW1IByffT",
        "colab_type": "code",
        "colab": {
          "base_uri": "https://localhost:8080/",
          "height": 52
        },
        "outputId": "addfb978-d011-413f-aec0-fdfbf5ad5516"
      },
      "source": [
        "(X, Y), (X_test, Y_test) = cifar10.load_data()\n",
        "Y = to_categorical(Y, num_classes=10)\n",
        "Y_test = to_categorical(Y_test, num_classes=10)"
      ],
      "execution_count": 4,
      "outputs": [
        {
          "output_type": "stream",
          "text": [
            "Downloading data from https://www.cs.toronto.edu/~kriz/cifar-10-python.tar.gz\n",
            "170500096/170498071 [==============================] - 2s 0us/step\n"
          ],
          "name": "stdout"
        }
      ]
    },
    {
      "cell_type": "code",
      "metadata": {
        "id": "3pCd2aYs3q-S",
        "colab_type": "code",
        "outputId": "fade555c-ace0-485c-b69f-95865a609a8c",
        "colab": {
          "base_uri": "https://localhost:8080/",
          "height": 34
        }
      },
      "source": [
        "X.shape, Y.shape, X_test.shape, Y_test.shape"
      ],
      "execution_count": 5,
      "outputs": [
        {
          "output_type": "execute_result",
          "data": {
            "text/plain": [
              "((50000, 32, 32, 3), (50000, 10), (10000, 32, 32, 3), (10000, 10))"
            ]
          },
          "metadata": {
            "tags": []
          },
          "execution_count": 5
        }
      ]
    },
    {
      "cell_type": "markdown",
      "metadata": {
        "id": "HCSNqPnm-yFA",
        "colab_type": "text"
      },
      "source": [
        "## Zero center and scale to unit variance"
      ]
    },
    {
      "cell_type": "code",
      "metadata": {
        "colab_type": "code",
        "outputId": "29daad28-475f-4a4f-a595-e5aaf07b065a",
        "id": "BgRJTqux3_yG",
        "colab": {
          "base_uri": "https://localhost:8080/",
          "height": 34
        }
      },
      "source": [
        "np.isnan(X).sum(), np.isnan(X_test).sum()"
      ],
      "execution_count": 6,
      "outputs": [
        {
          "output_type": "execute_result",
          "data": {
            "text/plain": [
              "(0, 0)"
            ]
          },
          "metadata": {
            "tags": []
          },
          "execution_count": 6
        }
      ]
    },
    {
      "cell_type": "code",
      "metadata": {
        "id": "R4OyvBq86vs3",
        "colab_type": "code",
        "colab": {}
      },
      "source": [
        "X = X / 255.0\n",
        "X_test = X_test / 255.0\n",
        "X = X - X.mean(axis=0)\n",
        "X_test = X_test - X_test.mean(axis=0)"
      ],
      "execution_count": 0,
      "outputs": []
    },
    {
      "cell_type": "code",
      "metadata": {
        "id": "7y6-BZa3CQUm",
        "colab_type": "code",
        "outputId": "d934ff3e-39b9-4181-9b06-04c106db859b",
        "colab": {
          "base_uri": "https://localhost:8080/",
          "height": 34
        }
      },
      "source": [
        "X.mean()"
      ],
      "execution_count": 8,
      "outputs": [
        {
          "output_type": "execute_result",
          "data": {
            "text/plain": [
              "-1.2150526510860496e-14"
            ]
          },
          "metadata": {
            "tags": []
          },
          "execution_count": 8
        }
      ]
    },
    {
      "cell_type": "code",
      "metadata": {
        "id": "SqgkP_usV_s1",
        "colab_type": "code",
        "colab": {}
      },
      "source": [
        "X = X / X.std(axis=0)\n",
        "X_test = X_test / X_test.std(axis=0)"
      ],
      "execution_count": 0,
      "outputs": []
    },
    {
      "cell_type": "code",
      "metadata": {
        "id": "g1olSX8sIix1",
        "colab_type": "code",
        "outputId": "73cd0709-da31-4794-c64b-86df759c6376",
        "colab": {
          "base_uri": "https://localhost:8080/",
          "height": 34
        }
      },
      "source": [
        "X.std(axis=0).sum() / (32 * 32 * 3)"
      ],
      "execution_count": 10,
      "outputs": [
        {
          "output_type": "execute_result",
          "data": {
            "text/plain": [
              "1.000000000000001"
            ]
          },
          "metadata": {
            "tags": []
          },
          "execution_count": 10
        }
      ]
    },
    {
      "cell_type": "markdown",
      "metadata": {
        "id": "j2mHKDxAaVNw",
        "colab_type": "text"
      },
      "source": [
        "## Convert Data to batches"
      ]
    },
    {
      "cell_type": "code",
      "metadata": {
        "id": "BnKDKK6mE-JK",
        "colab_type": "code",
        "colab": {}
      },
      "source": [
        "def data_augment(image, label):\n",
        "  image = tf.image.random_flip_left_right(image)\n",
        "  image = tf.image.random_saturation(image, lower=0, upper=2)\n",
        "  return image, label"
      ],
      "execution_count": 0,
      "outputs": []
    },
    {
      "cell_type": "code",
      "metadata": {
        "id": "elfENK_MahUu",
        "colab_type": "code",
        "colab": {}
      },
      "source": [
        "def get_batched_dataset(dataset, train=False):\n",
        "  if train:\n",
        "    dataset = dataset.repeat()\n",
        "    dataset = dataset.map(data_augment, num_parallel_calls=AUTO)\n",
        "    dataset = dataset.shuffle(1337)\n",
        "\n",
        "  dataset = dataset.batch(BATCH_SIZE)\n",
        "  dataset = dataset.prefetch(AUTO)\n",
        "  return dataset"
      ],
      "execution_count": 0,
      "outputs": []
    },
    {
      "cell_type": "code",
      "metadata": {
        "id": "IIic4FECalbX",
        "colab_type": "code",
        "colab": {}
      },
      "source": [
        "train_dataset = tf.data.Dataset.from_tensor_slices((X, Y))\n",
        "test_dataset = tf.data.Dataset.from_tensor_slices((X_test, Y_test))\n",
        "\n",
        "train = get_batched_dataset(train_dataset, train=True)\n",
        "test = get_batched_dataset(test_dataset)"
      ],
      "execution_count": 0,
      "outputs": []
    },
    {
      "cell_type": "code",
      "metadata": {
        "id": "7wAcYIn1bWnE",
        "colab_type": "code",
        "colab": {}
      },
      "source": [
        "l = tf.keras.layers"
      ],
      "execution_count": 0,
      "outputs": []
    },
    {
      "cell_type": "markdown",
      "metadata": {
        "id": "ZaXiYGiSJeO8",
        "colab_type": "text"
      },
      "source": [
        "## Old Model"
      ]
    },
    {
      "cell_type": "code",
      "metadata": {
        "id": "P8m1bHs2dT33",
        "colab_type": "code",
        "colab": {}
      },
      "source": [
        "def create_model():\n",
        "  model = tf.keras.Sequential([\n",
        "    l.Conv2D(kernel_size=3, filters=16, padding='same', activation='relu', input_shape=(*IMG_SIZE, 3)),\n",
        "    l.BatchNormalization(),\n",
        "    l.Conv2D(kernel_size=3, filters=32, padding='same', activation='relu'),\n",
        "    l.BatchNormalization(),\n",
        "    l.MaxPooling2D(),\n",
        "    l.Dropout(0.5),\n",
        "\n",
        "    l.Conv2D(kernel_size=3, filters=64, padding='same', activation='relu'),\n",
        "    l.BatchNormalization(),\n",
        "    l.Conv2D(kernel_size=3, filters=64, padding='same', activation='relu'),\n",
        "    l.BatchNormalization(),\n",
        "    l.MaxPooling2D(),\n",
        "    l.Dropout(0.5),\n",
        "    \n",
        "    l.Conv2D(kernel_size=3, filters=128, padding='same', activation='relu'),\n",
        "    l.BatchNormalization(),\n",
        "    l.Conv2D(kernel_size=3, filters=128, padding='same', activation='relu'),\n",
        "    l.BatchNormalization(),\n",
        "    l.MaxPooling2D(),\n",
        "    l.Dropout(0.5),\n",
        "\n",
        "    l.Conv2D(kernel_size=3, filters=128, padding='same', activation='relu'),\n",
        "    l.BatchNormalization(),\n",
        "    l.Flatten(),\n",
        "    l.Dense(10, activation='softmax')\n",
        "  ])\n",
        "\n",
        "  model.compile(\n",
        "      optimizer='adam',\n",
        "      loss='categorical_crossentropy',\n",
        "      metrics=['accuracy']\n",
        "  )\n",
        "\n",
        "  return model"
      ],
      "execution_count": 0,
      "outputs": []
    },
    {
      "cell_type": "markdown",
      "metadata": {
        "id": "C_kHaA56Jimh",
        "colab_type": "text"
      },
      "source": [
        "## Updated Architecture"
      ]
    },
    {
      "cell_type": "code",
      "metadata": {
        "id": "nNDG6S0rhLYB",
        "colab_type": "code",
        "colab": {}
      },
      "source": [
        "def lr_fun(x):\n",
        "  if x > 75:\n",
        "    return 5e-4\n",
        "    \n",
        "  return 1e-3"
      ],
      "execution_count": 0,
      "outputs": []
    },
    {
      "cell_type": "code",
      "metadata": {
        "id": "fuXg4o16eTnf",
        "colab_type": "code",
        "colab": {}
      },
      "source": [
        "datagen = tf.keras.preprocessing.image.ImageDataGenerator(\n",
        "    rotation_range=10,\n",
        "    horizontal_flip=True,\n",
        "    zoom_range=0.1,\n",
        "    width_shift_range=0.1,\n",
        "    height_shift_range=0.1\n",
        ")\n",
        "datagen.fit(X)"
      ],
      "execution_count": 0,
      "outputs": []
    },
    {
      "cell_type": "code",
      "metadata": {
        "id": "bU16BH2u8j36",
        "colab_type": "code",
        "colab": {}
      },
      "source": [
        "def inception(x, squeeze, expand):\n",
        "  y_1 = l.Conv2D(filters=squeeze, kernel_size=1, padding='same', activation='relu')(x)\n",
        "  y_1 = l.BatchNormalization()(y_1)\n",
        "  y_1 = l.Conv2D(filters=expand//4, kernel_size=3, padding='same', activation='relu')(y_1)\n",
        "  y_1 = l.BatchNormalization()(y_1)\n",
        "\n",
        "  y_2 = l.Conv2D(filters=squeeze, kernel_size=1, padding='same', activation='relu')(x)\n",
        "  y_2 = l.BatchNormalization()(y_2)\n",
        "  y_2 = l.Conv2D(filters=expand//4, kernel_size=5, padding='same', activation='relu')(y_2)\n",
        "  y_2 = l.BatchNormalization()(y_2)\n",
        "\n",
        "  y_3 = l.Conv2D(filters=expand//4, kernel_size=1, padding='same', activation='relu')(x)\n",
        "  y_3 = l.BatchNormalization()(y_3)\n",
        "\n",
        "  return l.concatenate([y_1, y_2, y_3, x])\n",
        "  #return l.concatenate([y_1, y_2, y_3])\n",
        "\n",
        "def inception_module(squeeze, expand):\n",
        "  return lambda x: inception(x, squeeze, expand)"
      ],
      "execution_count": 0,
      "outputs": []
    },
    {
      "cell_type": "code",
      "metadata": {
        "id": "qERuiIwFDWmr",
        "colab_type": "code",
        "colab": {}
      },
      "source": [
        "def create_inception_net():\n",
        "  x = l.Input(shape=[*IMG_SIZE, 3])\n",
        "  y = l.Conv2D(filters=16, kernel_size=6, padding='same', activation='relu')(x)\n",
        "  y = l.BatchNormalization()(y)\n",
        "  y = inception_module(32, 32)(y)\n",
        "  y = l.MaxPooling2D()(y)\n",
        "  y = l.Dropout(0.3)(y)\n",
        "\n",
        "  y = inception_module(64, 64)(y)\n",
        "  y = inception_module(128, 128)(y)\n",
        "  y = l.MaxPooling2D()(y)\n",
        "  y = l.Dropout(0.4)(y)\n",
        "  \n",
        "  y = inception_module(64, 64)(y)\n",
        "  y = l.MaxPooling2D()(y)\n",
        "  y = l.Dropout(0.5)(y)\n",
        "\n",
        "  y = inception_module(32, 32)(y)\n",
        "  y = l.Flatten()(y)\n",
        "  y = l.Dense(10, activation='softmax')(y)\n",
        "\n",
        "  model = tf.keras.Model(x, y)\n",
        "\n",
        "  model.compile(\n",
        "      loss='categorical_crossentropy',\n",
        "      optimizer='adam',\n",
        "      metrics=['accuracy']\n",
        "  )\n",
        "\n",
        "  return model"
      ],
      "execution_count": 0,
      "outputs": []
    },
    {
      "cell_type": "code",
      "metadata": {
        "id": "fByVbBlugtU2",
        "colab_type": "code",
        "outputId": "7b2e3d60-e948-4c8f-c9b6-5518832f1515",
        "colab": {
          "base_uri": "https://localhost:8080/",
          "height": 1000
        }
      },
      "source": [
        "with strategy.scope():\n",
        "  model = create_inception_net()\n",
        "\n",
        "  model.summary()"
      ],
      "execution_count": 100,
      "outputs": [
        {
          "output_type": "stream",
          "text": [
            "Model: \"model_20\"\n",
            "__________________________________________________________________________________________________\n",
            "Layer (type)                    Output Shape         Param #     Connected to                     \n",
            "==================================================================================================\n",
            "input_29 (InputLayer)           [(None, 32, 32, 3)]  0                                            \n",
            "__________________________________________________________________________________________________\n",
            "conv2d_590 (Conv2D)             (None, 32, 32, 16)   1744        input_29[0][0]                   \n",
            "__________________________________________________________________________________________________\n",
            "batch_normalization_587 (BatchN (None, 32, 32, 16)   64          conv2d_590[0][0]                 \n",
            "__________________________________________________________________________________________________\n",
            "conv2d_591 (Conv2D)             (None, 32, 32, 32)   544         batch_normalization_587[0][0]    \n",
            "__________________________________________________________________________________________________\n",
            "conv2d_593 (Conv2D)             (None, 32, 32, 32)   544         batch_normalization_587[0][0]    \n",
            "__________________________________________________________________________________________________\n",
            "batch_normalization_588 (BatchN (None, 32, 32, 32)   128         conv2d_591[0][0]                 \n",
            "__________________________________________________________________________________________________\n",
            "batch_normalization_590 (BatchN (None, 32, 32, 32)   128         conv2d_593[0][0]                 \n",
            "__________________________________________________________________________________________________\n",
            "conv2d_592 (Conv2D)             (None, 32, 32, 8)    2312        batch_normalization_588[0][0]    \n",
            "__________________________________________________________________________________________________\n",
            "conv2d_594 (Conv2D)             (None, 32, 32, 8)    6408        batch_normalization_590[0][0]    \n",
            "__________________________________________________________________________________________________\n",
            "conv2d_595 (Conv2D)             (None, 32, 32, 8)    136         batch_normalization_587[0][0]    \n",
            "__________________________________________________________________________________________________\n",
            "batch_normalization_589 (BatchN (None, 32, 32, 8)    32          conv2d_592[0][0]                 \n",
            "__________________________________________________________________________________________________\n",
            "batch_normalization_591 (BatchN (None, 32, 32, 8)    32          conv2d_594[0][0]                 \n",
            "__________________________________________________________________________________________________\n",
            "batch_normalization_592 (BatchN (None, 32, 32, 8)    32          conv2d_595[0][0]                 \n",
            "__________________________________________________________________________________________________\n",
            "concatenate_111 (Concatenate)   (None, 32, 32, 40)   0           batch_normalization_589[0][0]    \n",
            "                                                                 batch_normalization_591[0][0]    \n",
            "                                                                 batch_normalization_592[0][0]    \n",
            "                                                                 batch_normalization_587[0][0]    \n",
            "__________________________________________________________________________________________________\n",
            "max_pooling2d_80 (MaxPooling2D) (None, 16, 16, 40)   0           concatenate_111[0][0]            \n",
            "__________________________________________________________________________________________________\n",
            "dropout_9 (Dropout)             (None, 16, 16, 40)   0           max_pooling2d_80[0][0]           \n",
            "__________________________________________________________________________________________________\n",
            "conv2d_596 (Conv2D)             (None, 16, 16, 64)   2624        dropout_9[0][0]                  \n",
            "__________________________________________________________________________________________________\n",
            "conv2d_598 (Conv2D)             (None, 16, 16, 64)   2624        dropout_9[0][0]                  \n",
            "__________________________________________________________________________________________________\n",
            "batch_normalization_593 (BatchN (None, 16, 16, 64)   256         conv2d_596[0][0]                 \n",
            "__________________________________________________________________________________________________\n",
            "batch_normalization_595 (BatchN (None, 16, 16, 64)   256         conv2d_598[0][0]                 \n",
            "__________________________________________________________________________________________________\n",
            "conv2d_597 (Conv2D)             (None, 16, 16, 16)   9232        batch_normalization_593[0][0]    \n",
            "__________________________________________________________________________________________________\n",
            "conv2d_599 (Conv2D)             (None, 16, 16, 16)   25616       batch_normalization_595[0][0]    \n",
            "__________________________________________________________________________________________________\n",
            "conv2d_600 (Conv2D)             (None, 16, 16, 16)   656         dropout_9[0][0]                  \n",
            "__________________________________________________________________________________________________\n",
            "batch_normalization_594 (BatchN (None, 16, 16, 16)   64          conv2d_597[0][0]                 \n",
            "__________________________________________________________________________________________________\n",
            "batch_normalization_596 (BatchN (None, 16, 16, 16)   64          conv2d_599[0][0]                 \n",
            "__________________________________________________________________________________________________\n",
            "batch_normalization_597 (BatchN (None, 16, 16, 16)   64          conv2d_600[0][0]                 \n",
            "__________________________________________________________________________________________________\n",
            "concatenate_112 (Concatenate)   (None, 16, 16, 88)   0           batch_normalization_594[0][0]    \n",
            "                                                                 batch_normalization_596[0][0]    \n",
            "                                                                 batch_normalization_597[0][0]    \n",
            "                                                                 dropout_9[0][0]                  \n",
            "__________________________________________________________________________________________________\n",
            "conv2d_601 (Conv2D)             (None, 16, 16, 128)  11392       concatenate_112[0][0]            \n",
            "__________________________________________________________________________________________________\n",
            "conv2d_603 (Conv2D)             (None, 16, 16, 128)  11392       concatenate_112[0][0]            \n",
            "__________________________________________________________________________________________________\n",
            "batch_normalization_598 (BatchN (None, 16, 16, 128)  512         conv2d_601[0][0]                 \n",
            "__________________________________________________________________________________________________\n",
            "batch_normalization_600 (BatchN (None, 16, 16, 128)  512         conv2d_603[0][0]                 \n",
            "__________________________________________________________________________________________________\n",
            "conv2d_602 (Conv2D)             (None, 16, 16, 32)   36896       batch_normalization_598[0][0]    \n",
            "__________________________________________________________________________________________________\n",
            "conv2d_604 (Conv2D)             (None, 16, 16, 32)   102432      batch_normalization_600[0][0]    \n",
            "__________________________________________________________________________________________________\n",
            "conv2d_605 (Conv2D)             (None, 16, 16, 32)   2848        concatenate_112[0][0]            \n",
            "__________________________________________________________________________________________________\n",
            "batch_normalization_599 (BatchN (None, 16, 16, 32)   128         conv2d_602[0][0]                 \n",
            "__________________________________________________________________________________________________\n",
            "batch_normalization_601 (BatchN (None, 16, 16, 32)   128         conv2d_604[0][0]                 \n",
            "__________________________________________________________________________________________________\n",
            "batch_normalization_602 (BatchN (None, 16, 16, 32)   128         conv2d_605[0][0]                 \n",
            "__________________________________________________________________________________________________\n",
            "concatenate_113 (Concatenate)   (None, 16, 16, 184)  0           batch_normalization_599[0][0]    \n",
            "                                                                 batch_normalization_601[0][0]    \n",
            "                                                                 batch_normalization_602[0][0]    \n",
            "                                                                 concatenate_112[0][0]            \n",
            "__________________________________________________________________________________________________\n",
            "max_pooling2d_81 (MaxPooling2D) (None, 8, 8, 184)    0           concatenate_113[0][0]            \n",
            "__________________________________________________________________________________________________\n",
            "dropout_10 (Dropout)            (None, 8, 8, 184)    0           max_pooling2d_81[0][0]           \n",
            "__________________________________________________________________________________________________\n",
            "conv2d_606 (Conv2D)             (None, 8, 8, 64)     11840       dropout_10[0][0]                 \n",
            "__________________________________________________________________________________________________\n",
            "conv2d_608 (Conv2D)             (None, 8, 8, 64)     11840       dropout_10[0][0]                 \n",
            "__________________________________________________________________________________________________\n",
            "batch_normalization_603 (BatchN (None, 8, 8, 64)     256         conv2d_606[0][0]                 \n",
            "__________________________________________________________________________________________________\n",
            "batch_normalization_605 (BatchN (None, 8, 8, 64)     256         conv2d_608[0][0]                 \n",
            "__________________________________________________________________________________________________\n",
            "conv2d_607 (Conv2D)             (None, 8, 8, 16)     9232        batch_normalization_603[0][0]    \n",
            "__________________________________________________________________________________________________\n",
            "conv2d_609 (Conv2D)             (None, 8, 8, 16)     25616       batch_normalization_605[0][0]    \n",
            "__________________________________________________________________________________________________\n",
            "conv2d_610 (Conv2D)             (None, 8, 8, 16)     2960        dropout_10[0][0]                 \n",
            "__________________________________________________________________________________________________\n",
            "batch_normalization_604 (BatchN (None, 8, 8, 16)     64          conv2d_607[0][0]                 \n",
            "__________________________________________________________________________________________________\n",
            "batch_normalization_606 (BatchN (None, 8, 8, 16)     64          conv2d_609[0][0]                 \n",
            "__________________________________________________________________________________________________\n",
            "batch_normalization_607 (BatchN (None, 8, 8, 16)     64          conv2d_610[0][0]                 \n",
            "__________________________________________________________________________________________________\n",
            "concatenate_114 (Concatenate)   (None, 8, 8, 232)    0           batch_normalization_604[0][0]    \n",
            "                                                                 batch_normalization_606[0][0]    \n",
            "                                                                 batch_normalization_607[0][0]    \n",
            "                                                                 dropout_10[0][0]                 \n",
            "__________________________________________________________________________________________________\n",
            "max_pooling2d_82 (MaxPooling2D) (None, 4, 4, 232)    0           concatenate_114[0][0]            \n",
            "__________________________________________________________________________________________________\n",
            "dropout_11 (Dropout)            (None, 4, 4, 232)    0           max_pooling2d_82[0][0]           \n",
            "__________________________________________________________________________________________________\n",
            "conv2d_611 (Conv2D)             (None, 4, 4, 32)     7456        dropout_11[0][0]                 \n",
            "__________________________________________________________________________________________________\n",
            "conv2d_613 (Conv2D)             (None, 4, 4, 32)     7456        dropout_11[0][0]                 \n",
            "__________________________________________________________________________________________________\n",
            "batch_normalization_608 (BatchN (None, 4, 4, 32)     128         conv2d_611[0][0]                 \n",
            "__________________________________________________________________________________________________\n",
            "batch_normalization_610 (BatchN (None, 4, 4, 32)     128         conv2d_613[0][0]                 \n",
            "__________________________________________________________________________________________________\n",
            "conv2d_612 (Conv2D)             (None, 4, 4, 8)      2312        batch_normalization_608[0][0]    \n",
            "__________________________________________________________________________________________________\n",
            "conv2d_614 (Conv2D)             (None, 4, 4, 8)      6408        batch_normalization_610[0][0]    \n",
            "__________________________________________________________________________________________________\n",
            "conv2d_615 (Conv2D)             (None, 4, 4, 8)      1864        dropout_11[0][0]                 \n",
            "__________________________________________________________________________________________________\n",
            "batch_normalization_609 (BatchN (None, 4, 4, 8)      32          conv2d_612[0][0]                 \n",
            "__________________________________________________________________________________________________\n",
            "batch_normalization_611 (BatchN (None, 4, 4, 8)      32          conv2d_614[0][0]                 \n",
            "__________________________________________________________________________________________________\n",
            "batch_normalization_612 (BatchN (None, 4, 4, 8)      32          conv2d_615[0][0]                 \n",
            "__________________________________________________________________________________________________\n",
            "concatenate_115 (Concatenate)   (None, 4, 4, 256)    0           batch_normalization_609[0][0]    \n",
            "                                                                 batch_normalization_611[0][0]    \n",
            "                                                                 batch_normalization_612[0][0]    \n",
            "                                                                 dropout_11[0][0]                 \n",
            "__________________________________________________________________________________________________\n",
            "flatten_10 (Flatten)            (None, 4096)         0           concatenate_115[0][0]            \n",
            "__________________________________________________________________________________________________\n",
            "dense_23 (Dense)                (None, 10)           40970       flatten_10[0][0]                 \n",
            "==================================================================================================\n",
            "Total params: 348,938\n",
            "Trainable params: 347,146\n",
            "Non-trainable params: 1,792\n",
            "__________________________________________________________________________________________________\n"
          ],
          "name": "stdout"
        }
      ]
    },
    {
      "cell_type": "code",
      "metadata": {
        "id": "0LEvqebghQ5K",
        "colab_type": "code",
        "outputId": "f2054568-5200-442e-8b81-5b4f4f95e4c2",
        "colab": {
          "base_uri": "https://localhost:8080/",
          "height": 1000
        }
      },
      "source": [
        "EPOCHS = 50\n",
        "\n",
        "annealer = tf.keras.callbacks.LearningRateScheduler(lr_fun)\n",
        "steps_per_epoch = X.shape[0] // BATCH_SIZE\n",
        "\n",
        "history = model.fit(train,\n",
        "                    steps_per_epoch=steps_per_epoch, \n",
        "                    epochs=EPOCHS, \n",
        "                    validation_data=test, \n",
        "                    callbacks=[annealer]\n",
        "                    )"
      ],
      "execution_count": 110,
      "outputs": [
        {
          "output_type": "stream",
          "text": [
            "Train for 390 steps, validate for 79 steps\n",
            "Epoch 1/50\n",
            "390/390 [==============================] - 27s 68ms/step - loss: 0.4649 - accuracy: 0.8377 - val_loss: 0.7162 - val_accuracy: 0.7885\n",
            "Epoch 2/50\n",
            "390/390 [==============================] - 22s 55ms/step - loss: 0.4568 - accuracy: 0.8401 - val_loss: 0.5891 - val_accuracy: 0.8141\n",
            "Epoch 3/50\n",
            "390/390 [==============================] - 21s 55ms/step - loss: 0.4553 - accuracy: 0.8417 - val_loss: 0.6147 - val_accuracy: 0.8075\n",
            "Epoch 4/50\n",
            "390/390 [==============================] - 21s 55ms/step - loss: 0.4552 - accuracy: 0.8403 - val_loss: 0.5880 - val_accuracy: 0.8163\n",
            "Epoch 5/50\n",
            "390/390 [==============================] - 21s 55ms/step - loss: 0.4428 - accuracy: 0.8454 - val_loss: 0.7305 - val_accuracy: 0.7913\n",
            "Epoch 6/50\n",
            "390/390 [==============================] - 22s 55ms/step - loss: 0.4490 - accuracy: 0.8445 - val_loss: 0.5742 - val_accuracy: 0.8246\n",
            "Epoch 7/50\n",
            "390/390 [==============================] - 22s 55ms/step - loss: 0.4423 - accuracy: 0.8462 - val_loss: 0.5876 - val_accuracy: 0.8173\n",
            "Epoch 8/50\n",
            "390/390 [==============================] - 22s 56ms/step - loss: 0.4404 - accuracy: 0.8460 - val_loss: 0.6489 - val_accuracy: 0.8033\n",
            "Epoch 9/50\n",
            "390/390 [==============================] - 21s 54ms/step - loss: 0.4334 - accuracy: 0.8502 - val_loss: 0.5822 - val_accuracy: 0.8229\n",
            "Epoch 10/50\n",
            "390/390 [==============================] - 21s 54ms/step - loss: 0.4283 - accuracy: 0.8494 - val_loss: 0.6978 - val_accuracy: 0.8002\n",
            "Epoch 11/50\n",
            "390/390 [==============================] - 21s 55ms/step - loss: 0.4305 - accuracy: 0.8490 - val_loss: 0.5628 - val_accuracy: 0.8197\n",
            "Epoch 12/50\n",
            "390/390 [==============================] - 21s 55ms/step - loss: 0.4192 - accuracy: 0.8516 - val_loss: 0.6043 - val_accuracy: 0.8188\n",
            "Epoch 13/50\n",
            "390/390 [==============================] - 21s 55ms/step - loss: 0.4280 - accuracy: 0.8514 - val_loss: 0.6224 - val_accuracy: 0.8168\n",
            "Epoch 14/50\n",
            "390/390 [==============================] - 21s 55ms/step - loss: 0.4232 - accuracy: 0.8513 - val_loss: 0.5769 - val_accuracy: 0.8172\n",
            "Epoch 15/50\n",
            "390/390 [==============================] - 21s 55ms/step - loss: 0.4122 - accuracy: 0.8548 - val_loss: 0.5593 - val_accuracy: 0.8281\n",
            "Epoch 16/50\n",
            "390/390 [==============================] - 22s 55ms/step - loss: 0.4095 - accuracy: 0.8567 - val_loss: 0.6009 - val_accuracy: 0.8120\n",
            "Epoch 17/50\n",
            "390/390 [==============================] - 21s 55ms/step - loss: 0.4150 - accuracy: 0.8549 - val_loss: 0.5830 - val_accuracy: 0.8190\n",
            "Epoch 18/50\n",
            "390/390 [==============================] - 21s 55ms/step - loss: 0.4105 - accuracy: 0.8561 - val_loss: 0.6299 - val_accuracy: 0.8070\n",
            "Epoch 19/50\n",
            "390/390 [==============================] - 21s 54ms/step - loss: 0.4020 - accuracy: 0.8590 - val_loss: 0.6515 - val_accuracy: 0.7994\n",
            "Epoch 20/50\n",
            "390/390 [==============================] - 21s 54ms/step - loss: 0.3995 - accuracy: 0.8615 - val_loss: 0.6398 - val_accuracy: 0.8073\n",
            "Epoch 21/50\n",
            "390/390 [==============================] - 21s 53ms/step - loss: 0.3960 - accuracy: 0.8622 - val_loss: 0.5772 - val_accuracy: 0.8254\n",
            "Epoch 22/50\n",
            "390/390 [==============================] - 21s 54ms/step - loss: 0.4002 - accuracy: 0.8601 - val_loss: 0.6875 - val_accuracy: 0.7971\n",
            "Epoch 23/50\n",
            "390/390 [==============================] - 21s 54ms/step - loss: 0.3941 - accuracy: 0.8628 - val_loss: 0.6569 - val_accuracy: 0.8073\n",
            "Epoch 24/50\n",
            "390/390 [==============================] - 21s 54ms/step - loss: 0.3909 - accuracy: 0.8622 - val_loss: 0.5462 - val_accuracy: 0.8266\n",
            "Epoch 25/50\n",
            "390/390 [==============================] - 21s 53ms/step - loss: 0.3950 - accuracy: 0.8612 - val_loss: 0.5815 - val_accuracy: 0.8180\n",
            "Epoch 26/50\n",
            "390/390 [==============================] - 21s 53ms/step - loss: 0.3875 - accuracy: 0.8640 - val_loss: 0.5343 - val_accuracy: 0.8335\n",
            "Epoch 27/50\n",
            "390/390 [==============================] - 21s 54ms/step - loss: 0.3870 - accuracy: 0.8633 - val_loss: 0.6311 - val_accuracy: 0.8120\n",
            "Epoch 28/50\n",
            "390/390 [==============================] - 21s 54ms/step - loss: 0.3832 - accuracy: 0.8655 - val_loss: 0.6136 - val_accuracy: 0.8177\n",
            "Epoch 29/50\n",
            "390/390 [==============================] - 21s 54ms/step - loss: 0.3812 - accuracy: 0.8656 - val_loss: 0.5375 - val_accuracy: 0.8313\n",
            "Epoch 30/50\n",
            "390/390 [==============================] - 21s 54ms/step - loss: 0.3839 - accuracy: 0.8661 - val_loss: 0.6004 - val_accuracy: 0.8163\n",
            "Epoch 31/50\n",
            "390/390 [==============================] - 21s 53ms/step - loss: 0.3738 - accuracy: 0.8688 - val_loss: 0.6214 - val_accuracy: 0.8132\n",
            "Epoch 32/50\n",
            "390/390 [==============================] - 21s 53ms/step - loss: 0.3778 - accuracy: 0.8678 - val_loss: 0.6382 - val_accuracy: 0.8143\n",
            "Epoch 33/50\n",
            "390/390 [==============================] - 21s 54ms/step - loss: 0.3791 - accuracy: 0.8678 - val_loss: 0.5428 - val_accuracy: 0.8324\n",
            "Epoch 34/50\n",
            "390/390 [==============================] - 21s 54ms/step - loss: 0.3716 - accuracy: 0.8700 - val_loss: 0.6745 - val_accuracy: 0.7974\n",
            "Epoch 35/50\n",
            "390/390 [==============================] - 21s 54ms/step - loss: 0.3725 - accuracy: 0.8689 - val_loss: 0.5608 - val_accuracy: 0.8311\n",
            "Epoch 36/50\n",
            "390/390 [==============================] - 21s 54ms/step - loss: 0.3681 - accuracy: 0.8716 - val_loss: 0.5519 - val_accuracy: 0.8303\n",
            "Epoch 37/50\n",
            "390/390 [==============================] - 21s 54ms/step - loss: 0.3659 - accuracy: 0.8724 - val_loss: 0.5659 - val_accuracy: 0.8267\n",
            "Epoch 38/50\n",
            "390/390 [==============================] - 21s 54ms/step - loss: 0.3722 - accuracy: 0.8699 - val_loss: 0.5825 - val_accuracy: 0.8229\n",
            "Epoch 39/50\n",
            "390/390 [==============================] - 21s 54ms/step - loss: 0.3622 - accuracy: 0.8719 - val_loss: 0.6176 - val_accuracy: 0.8190\n",
            "Epoch 40/50\n",
            "390/390 [==============================] - 21s 54ms/step - loss: 0.3615 - accuracy: 0.8724 - val_loss: 0.5326 - val_accuracy: 0.8358\n",
            "Epoch 41/50\n",
            "390/390 [==============================] - 21s 54ms/step - loss: 0.3562 - accuracy: 0.8739 - val_loss: 0.5813 - val_accuracy: 0.8247\n",
            "Epoch 42/50\n",
            "390/390 [==============================] - 21s 54ms/step - loss: 0.3617 - accuracy: 0.8725 - val_loss: 0.5413 - val_accuracy: 0.8350\n",
            "Epoch 43/50\n",
            "390/390 [==============================] - 21s 54ms/step - loss: 0.3600 - accuracy: 0.8739 - val_loss: 0.5289 - val_accuracy: 0.8379\n",
            "Epoch 44/50\n",
            "390/390 [==============================] - 21s 53ms/step - loss: 0.3584 - accuracy: 0.8742 - val_loss: 0.5462 - val_accuracy: 0.8305\n",
            "Epoch 45/50\n",
            "390/390 [==============================] - 21s 53ms/step - loss: 0.3553 - accuracy: 0.8755 - val_loss: 0.5887 - val_accuracy: 0.8206\n",
            "Epoch 46/50\n",
            "390/390 [==============================] - 21s 53ms/step - loss: 0.3517 - accuracy: 0.8760 - val_loss: 0.4930 - val_accuracy: 0.8460\n",
            "Epoch 47/50\n",
            "390/390 [==============================] - 21s 54ms/step - loss: 0.3501 - accuracy: 0.8768 - val_loss: 0.5763 - val_accuracy: 0.8324\n",
            "Epoch 48/50\n",
            "390/390 [==============================] - 21s 53ms/step - loss: 0.3488 - accuracy: 0.8768 - val_loss: 0.5844 - val_accuracy: 0.8209\n",
            "Epoch 49/50\n",
            "390/390 [==============================] - 21s 54ms/step - loss: 0.3478 - accuracy: 0.8773 - val_loss: 0.4920 - val_accuracy: 0.8445\n",
            "Epoch 50/50\n",
            "390/390 [==============================] - 21s 54ms/step - loss: 0.3494 - accuracy: 0.8773 - val_loss: 0.5440 - val_accuracy: 0.8338\n"
          ],
          "name": "stdout"
        }
      ]
    },
    {
      "cell_type": "code",
      "metadata": {
        "id": "Tt2uWFX6lZhQ",
        "colab_type": "code",
        "colab": {}
      },
      "source": [
        "def display_training_curves(training, validation, title, subplot):\n",
        "  #stolen from google cnn tutorial\n",
        "  if subplot%10==1:\n",
        "    plt.subplots(figsize=(10,10), facecolor='#F0F0F0')\n",
        "    plt.tight_layout()\n",
        "  ax = plt.subplot(subplot)\n",
        "  ax.set_facecolor('#F8F8F8')\n",
        "  ax.plot(training)\n",
        "  ax.plot(validation)\n",
        "  ax.set_title('model '+ title)\n",
        "  ax.set_ylabel(title)\n",
        "  ax.set_xlabel('epoch')\n",
        "  ax.legend(['train', 'valid.'])"
      ],
      "execution_count": 0,
      "outputs": []
    },
    {
      "cell_type": "code",
      "metadata": {
        "id": "6Zh539LdhpVV",
        "colab_type": "code",
        "outputId": "09729b32-175c-4272-d3a7-1d2c79208bfb",
        "colab": {
          "base_uri": "https://localhost:8080/",
          "height": 755
        }
      },
      "source": [
        "display_training_curves(history.history['accuracy'], history.history['val_accuracy'], 'accuracy', 211)\n",
        "display_training_curves(history.history['loss'], history.history['val_loss'], 'loss', 212)"
      ],
      "execution_count": 112,
      "outputs": [
        {
          "output_type": "display_data",
          "data": {
            "image/png": "[encoded data removed]",
            "text/plain": [
              "<Figure size 720x720 with 2 Axes>"
            ]
          },
          "metadata": {
            "tags": []
          }
        }
      ]
    },
    {
      "cell_type": "markdown",
      "metadata": {
        "id": "jYeXKv1eyeFB",
        "colab_type": "text"
      },
      "source": [
        "## View some examples"
      ]
    },
    {
      "cell_type": "code",
      "metadata": {
        "id": "rRuBTzFItF43",
        "colab_type": "code",
        "colab": {}
      },
      "source": [
        "def plot_CIFAR(ind, X):\n",
        "  # credit https://www.quora.com/How-can-l-visualize-cifar-10-data-RGB-using-python-matplotlib\n",
        "\n",
        "    arr = X[ind]\n",
        "    R = arr[0:1024].reshape(32,32)/255.0\n",
        "    G = arr[1024:2048].reshape(32,32)/255.0\n",
        "    B = arr[2048:].reshape(32,32)/255.0\n",
        " \n",
        "    img = np.dstack((R,G,B))\n",
        "    fig = plt.figure(figsize=(3,3))\n",
        "    ax = fig.add_subplot(111)\n",
        "    ax.imshow(img,interpolation='bicubic')\n"
      ],
      "execution_count": 0,
      "outputs": []
    },
    {
      "cell_type": "code",
      "metadata": {
        "id": "T0w36fv-xIKB",
        "colab_type": "code",
        "colab": {}
      },
      "source": [
        "def prediction_vs_true(ind, X):\n",
        "  print(\"Model prediction\", labels[np.argmax(model.predict(X[b'data'][ind].reshape(-1, 32, 32, 3)))])\n",
        "  print(\"Correct prediction\", labels[X[b'labels'][ind]])"
      ],
      "execution_count": 0,
      "outputs": []
    },
    {
      "cell_type": "code",
      "metadata": {
        "id": "pU3mpZESwQM1",
        "colab_type": "code",
        "colab": {
          "base_uri": "https://localhost:8080/",
          "height": 183
        },
        "outputId": "30c3d67e-0b7b-4db2-9d58-f0123f39ab24"
      },
      "source": [
        "labels = meta[b'label_names']\n",
        "labels"
      ],
      "execution_count": 107,
      "outputs": [
        {
          "output_type": "error",
          "ename": "NameError",
          "evalue": "ignored",
          "traceback": [
            "\u001b[0;31m---------------------------------------------------------------------------\u001b[0m",
            "\u001b[0;31mNameError\u001b[0m                                 Traceback (most recent call last)",
            "\u001b[0;32m<ipython-input-107-81252c27feff>\u001b[0m in \u001b[0;36m<module>\u001b[0;34m()\u001b[0m\n\u001b[0;32m----> 1\u001b[0;31m \u001b[0mlabels\u001b[0m \u001b[0;34m=\u001b[0m \u001b[0mmeta\u001b[0m\u001b[0;34m[\u001b[0m\u001b[0;34mb'label_names'\u001b[0m\u001b[0;34m]\u001b[0m\u001b[0;34m\u001b[0m\u001b[0;34m\u001b[0m\u001b[0m\n\u001b[0m\u001b[1;32m      2\u001b[0m \u001b[0mlabels\u001b[0m\u001b[0;34m\u001b[0m\u001b[0;34m\u001b[0m\u001b[0m\n",
            "\u001b[0;31mNameError\u001b[0m: name 'meta' is not defined"
          ]
        }
      ]
    },
    {
      "cell_type": "code",
      "metadata": {
        "id": "OVNT6H_UtJ9t",
        "colab_type": "code",
        "colab": {
          "base_uri": "https://localhost:8080/",
          "height": 165
        },
        "outputId": "76eb9384-6e39-458a-8cfa-e09b0d1be756"
      },
      "source": [
        "plot_CIFAR(5, db_1[b'data'])"
      ],
      "execution_count": 108,
      "outputs": [
        {
          "output_type": "error",
          "ename": "NameError",
          "evalue": "ignored",
          "traceback": [
            "\u001b[0;31m---------------------------------------------------------------------------\u001b[0m",
            "\u001b[0;31mNameError\u001b[0m                                 Traceback (most recent call last)",
            "\u001b[0;32m<ipython-input-108-3fb2af11bae8>\u001b[0m in \u001b[0;36m<module>\u001b[0;34m()\u001b[0m\n\u001b[0;32m----> 1\u001b[0;31m \u001b[0mplot_CIFAR\u001b[0m\u001b[0;34m(\u001b[0m\u001b[0;36m5\u001b[0m\u001b[0;34m,\u001b[0m \u001b[0mdb_1\u001b[0m\u001b[0;34m[\u001b[0m\u001b[0;34mb'data'\u001b[0m\u001b[0;34m]\u001b[0m\u001b[0;34m)\u001b[0m\u001b[0;34m\u001b[0m\u001b[0;34m\u001b[0m\u001b[0m\n\u001b[0m",
            "\u001b[0;31mNameError\u001b[0m: name 'db_1' is not defined"
          ]
        }
      ]
    },
    {
      "cell_type": "code",
      "metadata": {
        "id": "xWI90jAIwYZ-",
        "colab_type": "code",
        "colab": {}
      },
      "source": [
        "prediction_vs_true(5, db_1)"
      ],
      "execution_count": 0,
      "outputs": []
    },
    {
      "cell_type": "code",
      "metadata": {
        "id": "jHmOkCW0teZa",
        "colab_type": "code",
        "colab": {}
      },
      "source": [
        "plot_CIFAR(7, db_1[b'data'])"
      ],
      "execution_count": 0,
      "outputs": []
    },
    {
      "cell_type": "code",
      "metadata": {
        "id": "MTSiVFItx2Y6",
        "colab_type": "code",
        "colab": {}
      },
      "source": [
        "prediction_vs_true(7, db_1)"
      ],
      "execution_count": 0,
      "outputs": []
    },
    {
      "cell_type": "code",
      "metadata": {
        "id": "udd18KhOtfrh",
        "colab_type": "code",
        "colab": {
          "base_uri": "https://localhost:8080/",
          "height": 165
        },
        "outputId": "1e415f54-5f31-4c59-b1d6-20be963a0682"
      },
      "source": [
        "plot_CIFAR(30, db_1[b'data'])"
      ],
      "execution_count": 109,
      "outputs": [
        {
          "output_type": "error",
          "ename": "NameError",
          "evalue": "ignored",
          "traceback": [
            "\u001b[0;31m---------------------------------------------------------------------------\u001b[0m",
            "\u001b[0;31mNameError\u001b[0m                                 Traceback (most recent call last)",
            "\u001b[0;32m<ipython-input-109-cf8f79e593db>\u001b[0m in \u001b[0;36m<module>\u001b[0;34m()\u001b[0m\n\u001b[0;32m----> 1\u001b[0;31m \u001b[0mplot_CIFAR\u001b[0m\u001b[0;34m(\u001b[0m\u001b[0;36m30\u001b[0m\u001b[0;34m,\u001b[0m \u001b[0mdb_1\u001b[0m\u001b[0;34m[\u001b[0m\u001b[0;34mb'data'\u001b[0m\u001b[0;34m]\u001b[0m\u001b[0;34m)\u001b[0m\u001b[0;34m\u001b[0m\u001b[0;34m\u001b[0m\u001b[0m\n\u001b[0m",
            "\u001b[0;31mNameError\u001b[0m: name 'db_1' is not defined"
          ]
        }
      ]
    },
    {
      "cell_type": "code",
      "metadata": {
        "id": "h9zGqT0nyVwM",
        "colab_type": "code",
        "colab": {}
      },
      "source": [
        "prediction_vs_true(30, db_1)"
      ],
      "execution_count": 0,
      "outputs": []
    },
    {
      "cell_type": "code",
      "metadata": {
        "id": "oci83Qxo0JUD",
        "colab_type": "code",
        "colab": {}
      },
      "source": [
        "plot_CIFAR(20, db_1[b'data'])"
      ],
      "execution_count": 0,
      "outputs": []
    },
    {
      "cell_type": "code",
      "metadata": {
        "id": "s9AXUEL22VEH",
        "colab_type": "code",
        "colab": {}
      },
      "source": [
        "prediction_vs_true(20, db_1)"
      ],
      "execution_count": 0,
      "outputs": []
    },
    {
      "cell_type": "code",
      "metadata": {
        "id": "Is4GBiAJ0Gbk",
        "colab_type": "code",
        "colab": {}
      },
      "source": [
        "1e-3"
      ],
      "execution_count": 0,
      "outputs": []
    },
    {
      "cell_type": "code",
      "metadata": {
        "id": "PbL8Y-7Z_7Db",
        "colab_type": "code",
        "colab": {}
      },
      "source": [
        ""
      ],
      "execution_count": 0,
      "outputs": []
    }
  ]
}