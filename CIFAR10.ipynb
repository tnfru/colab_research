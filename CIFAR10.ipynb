{
  "nbformat": 4,
  "nbformat_minor": 0,
  "metadata": {
    "colab": {
      "name": "CIFAR10.ipynb",
      "provenance": [],
      "collapsed_sections": [
        "c79b_aXqtb4v",
        "ZaXiYGiSJeO8"
      ],
      "authorship_tag": "ABX9TyOJ/12CuKr6JjQB0UnJuGzD",
      "include_colab_link": true
    },
    "kernelspec": {
      "name": "python3",
      "display_name": "Python 3"
    },
    "accelerator": "GPU"
  },
  "cells": [
    {
      "cell_type": "markdown",
      "metadata": {
        "id": "view-in-github",
        "colab_type": "text"
      },
      "source": [
        "<a href=\"https://colab.research.google.com/github/tnfru/colab_research/blob/master/CIFAR10.ipynb\" target=\"_parent\"><img src=\"https://colab.research.google.com/assets/colab-badge.svg\" alt=\"Open In Colab\"/></a>"
      ]
    },
    {
      "cell_type": "code",
      "metadata": {
        "id": "GUAn_rXHooFB",
        "colab_type": "code",
        "outputId": "3636a0a1-778b-46e0-dca8-c10cba4f1ec7",
        "colab": {
          "base_uri": "https://localhost:8080/",
          "height": 52
        }
      },
      "source": [
        "import pandas as pd\n",
        "import numpy as np\n",
        "from matplotlib import pyplot as plt\n",
        "import sys\n",
        "if 'google.colab' in sys.modules:\n",
        "  %tensorflow_version 2.x\n",
        "import tensorflow as tf\n",
        "from google.colab import drive\n",
        "from sklearn.utils import shuffle\n",
        "from keras.utils.np_utils import to_categorical\n",
        "from keras.datasets import cifar10\n",
        "from keras import regularizers\n",
        "\n",
        "AUTO = tf.data.experimental.AUTOTUNE"
      ],
      "execution_count": 1,
      "outputs": [
        {
          "output_type": "stream",
          "text": [
            "TensorFlow 2.x selected.\n"
          ],
          "name": "stdout"
        },
        {
          "output_type": "stream",
          "text": [
            "Using TensorFlow backend.\n"
          ],
          "name": "stderr"
        }
      ]
    },
    {
      "cell_type": "markdown",
      "metadata": {
        "id": "c79b_aXqtb4v",
        "colab_type": "text"
      },
      "source": [
        "## Set up TPU and GPU usage"
      ]
    },
    {
      "cell_type": "code",
      "metadata": {
        "id": "ISm9ZgM1risK",
        "colab_type": "code",
        "outputId": "c500fa7e-d2ae-41de-9988-0f99164ceec2",
        "colab": {
          "base_uri": "https://localhost:8080/",
          "height": 0
        }
      },
      "source": [
        "try:\n",
        "  tpu = tf.distribute.cluster_resolver.TPUClusterResolver()\n",
        "except ValueError:\n",
        "  tpu = None\n",
        "  gpus = tf.config.experimental.list_logical_devices(\"GPU\")\n",
        "\n",
        "if tpu:\n",
        "  tf.config.experimental_connect_to_cluster(tpu)\n",
        "  tf.tpu.experimental.initialize_tpu_system(tpu)\n",
        "  strategy = tf.distribute.experimental.TPUStrategy(tpu)\n",
        "  print('Running on TPU ', tpu.master())  \n",
        "elif len(gpus) > 0:\n",
        "  strategy = tf.distribute.MirroredStrategy(gpus)\n",
        "  print('Running on ', len(gpus), ' GPU(s) ')\n",
        "else:\n",
        "  strategy = tf.distribute.get_strategy()\n",
        "  print('Running on CPU')"
      ],
      "execution_count": 2,
      "outputs": [
        {
          "output_type": "stream",
          "text": [
            "INFO:tensorflow:Using MirroredStrategy with devices ('/job:localhost/replica:0/task:0/device:GPU:0',)\n",
            "Running on  1  GPU(s) \n"
          ],
          "name": "stdout"
        }
      ]
    },
    {
      "cell_type": "markdown",
      "metadata": {
        "id": "0hCaFfnGwjHN",
        "colab_type": "text"
      },
      "source": [
        "## Read data"
      ]
    },
    {
      "cell_type": "code",
      "metadata": {
        "id": "iPk_QoZHv46F",
        "colab_type": "code",
        "colab": {}
      },
      "source": [
        "IMG_SIZE = [32, 32]\n",
        "BATCH_SIZE = 128"
      ],
      "execution_count": 0,
      "outputs": []
    },
    {
      "cell_type": "code",
      "metadata": {
        "id": "esvZW1IByffT",
        "colab_type": "code",
        "colab": {}
      },
      "source": [
        "(X, Y), (X_test, Y_test) = cifar10.load_data()\n",
        "Y = to_categorical(Y, num_classes=10)\n",
        "Y_test = to_categorical(Y_test, num_classes=10)"
      ],
      "execution_count": 0,
      "outputs": []
    },
    {
      "cell_type": "code",
      "metadata": {
        "id": "3pCd2aYs3q-S",
        "colab_type": "code",
        "outputId": "3b2ad6c9-0092-46c6-b21d-2b9195905c9f",
        "colab": {
          "base_uri": "https://localhost:8080/",
          "height": 34
        }
      },
      "source": [
        "X.shape, Y.shape, X_test.shape, Y_test.shape"
      ],
      "execution_count": 5,
      "outputs": [
        {
          "output_type": "execute_result",
          "data": {
            "text/plain": [
              "((50000, 32, 32, 3), (50000, 10), (10000, 32, 32, 3), (10000, 10))"
            ]
          },
          "metadata": {
            "tags": []
          },
          "execution_count": 5
        }
      ]
    },
    {
      "cell_type": "markdown",
      "metadata": {
        "id": "HCSNqPnm-yFA",
        "colab_type": "text"
      },
      "source": [
        "## Zero center and scale to unit variance"
      ]
    },
    {
      "cell_type": "code",
      "metadata": {
        "colab_type": "code",
        "outputId": "bfeeee19-3b00-48dd-b487-a22b8f91fff3",
        "id": "BgRJTqux3_yG",
        "colab": {
          "base_uri": "https://localhost:8080/",
          "height": 34
        }
      },
      "source": [
        "np.isnan(X).sum(), np.isnan(X_test).sum()"
      ],
      "execution_count": 6,
      "outputs": [
        {
          "output_type": "execute_result",
          "data": {
            "text/plain": [
              "(0, 0)"
            ]
          },
          "metadata": {
            "tags": []
          },
          "execution_count": 6
        }
      ]
    },
    {
      "cell_type": "code",
      "metadata": {
        "id": "R4OyvBq86vs3",
        "colab_type": "code",
        "colab": {}
      },
      "source": [
        "X = X / 255.0\n",
        "X_test = X_test / 255.0\n",
        "X = X - X.mean(axis=0)\n",
        "X_test = X_test - X_test.mean(axis=0)"
      ],
      "execution_count": 0,
      "outputs": []
    },
    {
      "cell_type": "code",
      "metadata": {
        "id": "7y6-BZa3CQUm",
        "colab_type": "code",
        "outputId": "55f8ca69-8986-4fd9-d34e-edc5a9ecae26",
        "colab": {
          "base_uri": "https://localhost:8080/",
          "height": 34
        }
      },
      "source": [
        "X.mean()"
      ],
      "execution_count": 8,
      "outputs": [
        {
          "output_type": "execute_result",
          "data": {
            "text/plain": [
              "-1.2150526510860496e-14"
            ]
          },
          "metadata": {
            "tags": []
          },
          "execution_count": 8
        }
      ]
    },
    {
      "cell_type": "code",
      "metadata": {
        "id": "SqgkP_usV_s1",
        "colab_type": "code",
        "colab": {}
      },
      "source": [
        "X = X / X.std(axis=0)\n",
        "X_test = X_test / X_test.std(axis=0)"
      ],
      "execution_count": 0,
      "outputs": []
    },
    {
      "cell_type": "code",
      "metadata": {
        "id": "g1olSX8sIix1",
        "colab_type": "code",
        "outputId": "1d00234f-d9e8-4348-c68b-5ae26b481115",
        "colab": {
          "base_uri": "https://localhost:8080/",
          "height": 34
        }
      },
      "source": [
        "X.std(axis=0).sum() / (32 * 32 * 3)"
      ],
      "execution_count": 10,
      "outputs": [
        {
          "output_type": "execute_result",
          "data": {
            "text/plain": [
              "1.000000000000001"
            ]
          },
          "metadata": {
            "tags": []
          },
          "execution_count": 10
        }
      ]
    },
    {
      "cell_type": "markdown",
      "metadata": {
        "id": "j2mHKDxAaVNw",
        "colab_type": "text"
      },
      "source": [
        "## Convert Data to batches"
      ]
    },
    {
      "cell_type": "code",
      "metadata": {
        "id": "BnKDKK6mE-JK",
        "colab_type": "code",
        "colab": {}
      },
      "source": [
        "def data_augment(image, label):\n",
        "  image = tf.image.random_flip_left_right(image)\n",
        "  image = tf.image.random_saturation(image, lower=0, upper=2)\n",
        "  return image, label"
      ],
      "execution_count": 0,
      "outputs": []
    },
    {
      "cell_type": "code",
      "metadata": {
        "id": "elfENK_MahUu",
        "colab_type": "code",
        "colab": {}
      },
      "source": [
        "def get_batched_dataset(dataset, train=False):\n",
        "  if train:\n",
        "    dataset = dataset.repeat()\n",
        "    dataset = dataset.map(data_augment, num_parallel_calls=AUTO)\n",
        "    dataset = dataset.shuffle(1337)\n",
        "\n",
        "  dataset = dataset.batch(BATCH_SIZE)\n",
        "  dataset = dataset.prefetch(AUTO)\n",
        "  return dataset"
      ],
      "execution_count": 0,
      "outputs": []
    },
    {
      "cell_type": "code",
      "metadata": {
        "id": "IIic4FECalbX",
        "colab_type": "code",
        "colab": {}
      },
      "source": [
        "train_dataset = tf.data.Dataset.from_tensor_slices((X, Y))\n",
        "test_dataset = tf.data.Dataset.from_tensor_slices((X_test, Y_test))\n",
        "\n",
        "train = get_batched_dataset(train_dataset, train=True)\n",
        "test = get_batched_dataset(test_dataset)"
      ],
      "execution_count": 0,
      "outputs": []
    },
    {
      "cell_type": "code",
      "metadata": {
        "id": "7wAcYIn1bWnE",
        "colab_type": "code",
        "colab": {}
      },
      "source": [
        "l = tf.keras.layers"
      ],
      "execution_count": 0,
      "outputs": []
    },
    {
      "cell_type": "markdown",
      "metadata": {
        "id": "ZaXiYGiSJeO8",
        "colab_type": "text"
      },
      "source": [
        "## LeNet5 architecture"
      ]
    },
    {
      "cell_type": "code",
      "metadata": {
        "id": "P8m1bHs2dT33",
        "colab_type": "code",
        "colab": {}
      },
      "source": [
        "def create_model():\n",
        "  model = tf.keras.Sequential([\n",
        "    l.Conv2D(kernel_size=3, filters=16, padding='same', activation='relu', input_shape=(*IMG_SIZE, 3)),\n",
        "    l.BatchNormalization(),\n",
        "    l.Conv2D(kernel_size=3, filters=32, padding='same', activation='relu'),\n",
        "    l.BatchNormalization(),\n",
        "    l.MaxPooling2D(),\n",
        "    l.Dropout(0.5),\n",
        "\n",
        "    l.Conv2D(kernel_size=3, filters=64, padding='same', activation='relu'),\n",
        "    l.BatchNormalization(),\n",
        "    l.Conv2D(kernel_size=3, filters=64, padding='same', activation='relu'),\n",
        "    l.BatchNormalization(),\n",
        "    l.MaxPooling2D(),\n",
        "    l.Dropout(0.5),\n",
        "    \n",
        "    l.Conv2D(kernel_size=3, filters=128, padding='same', activation='relu'),\n",
        "    l.BatchNormalization(),\n",
        "    l.Conv2D(kernel_size=3, filters=128, padding='same', activation='relu'),\n",
        "    l.BatchNormalization(),\n",
        "    l.MaxPooling2D(),\n",
        "    l.Dropout(0.5),\n",
        "\n",
        "    l.Conv2D(kernel_size=3, filters=128, padding='same', activation='relu'),\n",
        "    l.BatchNormalization(),\n",
        "    l.Flatten(),\n",
        "    l.Dense(10, activation='softmax')\n",
        "  ])\n",
        "\n",
        "  model.compile(\n",
        "      optimizer='adam',\n",
        "      loss='categorical_crossentropy',\n",
        "      metrics=['accuracy']\n",
        "  )\n",
        "\n",
        "  return model"
      ],
      "execution_count": 0,
      "outputs": []
    },
    {
      "cell_type": "markdown",
      "metadata": {
        "id": "C_kHaA56Jimh",
        "colab_type": "text"
      },
      "source": [
        "## Architecture inspired by Inception"
      ]
    },
    {
      "cell_type": "code",
      "metadata": {
        "id": "nNDG6S0rhLYB",
        "colab_type": "code",
        "colab": {}
      },
      "source": [
        "def lr_fun(x):\n",
        "  if x > 20:\n",
        "    return 5e-4\n",
        "    \n",
        "  return 1e-3"
      ],
      "execution_count": 0,
      "outputs": []
    },
    {
      "cell_type": "code",
      "metadata": {
        "id": "fuXg4o16eTnf",
        "colab_type": "code",
        "colab": {}
      },
      "source": [
        "datagen = tf.keras.preprocessing.image.ImageDataGenerator(\n",
        "    rotation_range=10,\n",
        "    horizontal_flip=True,\n",
        "    zoom_range=0.1,\n",
        "    width_shift_range=0.1,\n",
        "    height_shift_range=0.1\n",
        ")\n",
        "datagen.fit(X)"
      ],
      "execution_count": 0,
      "outputs": []
    },
    {
      "cell_type": "code",
      "metadata": {
        "id": "bU16BH2u8j36",
        "colab_type": "code",
        "colab": {}
      },
      "source": [
        "def inception(x, squeeze, expand):\n",
        "  y_1 = l.Conv2D(filters=squeeze, kernel_size=1, padding='same',activation='elu')(x)\n",
        "  y_1 = l.BatchNormalization()(y_1)\n",
        "  y_1 = l.Conv2D(filters=expand//4, kernel_size=3, padding='same',activation='elu')(y_1)\n",
        "  y_1 = l.BatchNormalization()(y_1)\n",
        "\n",
        "  y_2 = l.Conv2D(filters=squeeze, kernel_size=1, padding='same',activation='elu')(x)\n",
        "  y_2 = l.BatchNormalization()(y_2)\n",
        "  y_2 = l.Conv2D(filters=expand//4, kernel_size=5, padding='same',activation='elu')(y_2)\n",
        "  y_2 = l.BatchNormalization()(y_2)\n",
        "\n",
        "  y_3 = l.Conv2D(filters=expand//4, kernel_size=1, padding='same',activation='elu')(x)\n",
        "  y_3 = l.BatchNormalization()(y_3)\n",
        "\n",
        "  return l.concatenate([y_1, y_2, y_3])\n",
        "\n",
        "def inception_module(squeeze, expand):\n",
        "  return lambda x: inception(x, squeeze, expand)"
      ],
      "execution_count": 0,
      "outputs": []
    },
    {
      "cell_type": "code",
      "metadata": {
        "id": "qERuiIwFDWmr",
        "colab_type": "code",
        "colab": {}
      },
      "source": [
        "def create_inception_net():\n",
        "\n",
        "  x = l.Input(shape=[*IMG_SIZE, 3])\n",
        "  y = l.Conv2D(filters=16, kernel_size=6, padding='same', input_shape=[*IMG_SIZE, 3])(x)\n",
        "  y = l.Activation('elu')(y)\n",
        "  y = l.BatchNormalization()(y)\n",
        "  y = inception_module(16, 32)(y)\n",
        "  y = l.MaxPooling2D()(y)\n",
        "  y = l.Dropout(0.1)(y)\n",
        "\n",
        "  y = inception_module(32, 64)(y)\n",
        "  y = inception_module(64, 128)(y)\n",
        "  y = l.MaxPooling2D()(y)\n",
        "  y = l.Dropout(0.2)(y)\n",
        "  \n",
        "  y = inception_module(32, 64)(y)\n",
        "  y = l.MaxPooling2D()(y)\n",
        "  y = l.Dropout(0.3)(y)\n",
        "\n",
        "  y = inception_module(16, 32)(y)\n",
        "  y = l.Flatten()(y)\n",
        "  y = l.Dense(10, activation='softmax')(y)\n",
        "\n",
        "  model = tf.keras.Model(x, y)\n",
        "\n",
        "  model.compile(\n",
        "      loss='categorical_crossentropy',\n",
        "      optimizer='adam',\n",
        "      metrics=['accuracy']\n",
        "  )\n",
        "\n",
        "  return model"
      ],
      "execution_count": 0,
      "outputs": []
    },
    {
      "cell_type": "code",
      "metadata": {
        "id": "fByVbBlugtU2",
        "colab_type": "code",
        "outputId": "5a592333-c00c-424d-d731-ac6f5b27f86e",
        "colab": {
          "base_uri": "https://localhost:8080/",
          "height": 1000
        }
      },
      "source": [
        "with strategy.scope():\n",
        "  model = create_inception_net()\n",
        "\n",
        "  model.summary()"
      ],
      "execution_count": 20,
      "outputs": [
        {
          "output_type": "stream",
          "text": [
            "INFO:tensorflow:Reduce to /job:localhost/replica:0/task:0/device:CPU:0 then broadcast to ('/job:localhost/replica:0/task:0/device:CPU:0',).\n",
            "INFO:tensorflow:Reduce to /job:localhost/replica:0/task:0/device:CPU:0 then broadcast to ('/job:localhost/replica:0/task:0/device:CPU:0',).\n",
            "INFO:tensorflow:Reduce to /job:localhost/replica:0/task:0/device:CPU:0 then broadcast to ('/job:localhost/replica:0/task:0/device:CPU:0',).\n",
            "INFO:tensorflow:Reduce to /job:localhost/replica:0/task:0/device:CPU:0 then broadcast to ('/job:localhost/replica:0/task:0/device:CPU:0',).\n",
            "INFO:tensorflow:Reduce to /job:localhost/replica:0/task:0/device:CPU:0 then broadcast to ('/job:localhost/replica:0/task:0/device:CPU:0',).\n",
            "INFO:tensorflow:Reduce to /job:localhost/replica:0/task:0/device:CPU:0 then broadcast to ('/job:localhost/replica:0/task:0/device:CPU:0',).\n",
            "INFO:tensorflow:Reduce to /job:localhost/replica:0/task:0/device:CPU:0 then broadcast to ('/job:localhost/replica:0/task:0/device:CPU:0',).\n",
            "INFO:tensorflow:Reduce to /job:localhost/replica:0/task:0/device:CPU:0 then broadcast to ('/job:localhost/replica:0/task:0/device:CPU:0',).\n",
            "INFO:tensorflow:Reduce to /job:localhost/replica:0/task:0/device:CPU:0 then broadcast to ('/job:localhost/replica:0/task:0/device:CPU:0',).\n",
            "INFO:tensorflow:Reduce to /job:localhost/replica:0/task:0/device:CPU:0 then broadcast to ('/job:localhost/replica:0/task:0/device:CPU:0',).\n",
            "Model: \"model\"\n",
            "__________________________________________________________________________________________________\n",
            "Layer (type)                    Output Shape         Param #     Connected to                     \n",
            "==================================================================================================\n",
            "input_1 (InputLayer)            [(None, 32, 32, 3)]  0                                            \n",
            "__________________________________________________________________________________________________\n",
            "conv2d (Conv2D)                 (None, 32, 32, 16)   1744        input_1[0][0]                    \n",
            "__________________________________________________________________________________________________\n",
            "activation (Activation)         (None, 32, 32, 16)   0           conv2d[0][0]                     \n",
            "__________________________________________________________________________________________________\n",
            "batch_normalization (BatchNorma (None, 32, 32, 16)   64          activation[0][0]                 \n",
            "__________________________________________________________________________________________________\n",
            "conv2d_1 (Conv2D)               (None, 32, 32, 16)   272         batch_normalization[0][0]        \n",
            "__________________________________________________________________________________________________\n",
            "conv2d_3 (Conv2D)               (None, 32, 32, 16)   272         batch_normalization[0][0]        \n",
            "__________________________________________________________________________________________________\n",
            "batch_normalization_1 (BatchNor (None, 32, 32, 16)   64          conv2d_1[0][0]                   \n",
            "__________________________________________________________________________________________________\n",
            "batch_normalization_3 (BatchNor (None, 32, 32, 16)   64          conv2d_3[0][0]                   \n",
            "__________________________________________________________________________________________________\n",
            "conv2d_2 (Conv2D)               (None, 32, 32, 8)    1160        batch_normalization_1[0][0]      \n",
            "__________________________________________________________________________________________________\n",
            "conv2d_4 (Conv2D)               (None, 32, 32, 8)    3208        batch_normalization_3[0][0]      \n",
            "__________________________________________________________________________________________________\n",
            "conv2d_5 (Conv2D)               (None, 32, 32, 8)    136         batch_normalization[0][0]        \n",
            "__________________________________________________________________________________________________\n",
            "batch_normalization_2 (BatchNor (None, 32, 32, 8)    32          conv2d_2[0][0]                   \n",
            "__________________________________________________________________________________________________\n",
            "batch_normalization_4 (BatchNor (None, 32, 32, 8)    32          conv2d_4[0][0]                   \n",
            "__________________________________________________________________________________________________\n",
            "batch_normalization_5 (BatchNor (None, 32, 32, 8)    32          conv2d_5[0][0]                   \n",
            "__________________________________________________________________________________________________\n",
            "concatenate (Concatenate)       (None, 32, 32, 24)   0           batch_normalization_2[0][0]      \n",
            "                                                                 batch_normalization_4[0][0]      \n",
            "                                                                 batch_normalization_5[0][0]      \n",
            "__________________________________________________________________________________________________\n",
            "max_pooling2d (MaxPooling2D)    (None, 16, 16, 24)   0           concatenate[0][0]                \n",
            "__________________________________________________________________________________________________\n",
            "dropout (Dropout)               (None, 16, 16, 24)   0           max_pooling2d[0][0]              \n",
            "__________________________________________________________________________________________________\n",
            "conv2d_6 (Conv2D)               (None, 16, 16, 32)   800         dropout[0][0]                    \n",
            "__________________________________________________________________________________________________\n",
            "conv2d_8 (Conv2D)               (None, 16, 16, 32)   800         dropout[0][0]                    \n",
            "__________________________________________________________________________________________________\n",
            "batch_normalization_6 (BatchNor (None, 16, 16, 32)   128         conv2d_6[0][0]                   \n",
            "__________________________________________________________________________________________________\n",
            "batch_normalization_8 (BatchNor (None, 16, 16, 32)   128         conv2d_8[0][0]                   \n",
            "__________________________________________________________________________________________________\n",
            "conv2d_7 (Conv2D)               (None, 16, 16, 16)   4624        batch_normalization_6[0][0]      \n",
            "__________________________________________________________________________________________________\n",
            "conv2d_9 (Conv2D)               (None, 16, 16, 16)   12816       batch_normalization_8[0][0]      \n",
            "__________________________________________________________________________________________________\n",
            "conv2d_10 (Conv2D)              (None, 16, 16, 16)   400         dropout[0][0]                    \n",
            "__________________________________________________________________________________________________\n",
            "batch_normalization_7 (BatchNor (None, 16, 16, 16)   64          conv2d_7[0][0]                   \n",
            "__________________________________________________________________________________________________\n",
            "batch_normalization_9 (BatchNor (None, 16, 16, 16)   64          conv2d_9[0][0]                   \n",
            "__________________________________________________________________________________________________\n",
            "batch_normalization_10 (BatchNo (None, 16, 16, 16)   64          conv2d_10[0][0]                  \n",
            "__________________________________________________________________________________________________\n",
            "concatenate_1 (Concatenate)     (None, 16, 16, 48)   0           batch_normalization_7[0][0]      \n",
            "                                                                 batch_normalization_9[0][0]      \n",
            "                                                                 batch_normalization_10[0][0]     \n",
            "__________________________________________________________________________________________________\n",
            "conv2d_11 (Conv2D)              (None, 16, 16, 64)   3136        concatenate_1[0][0]              \n",
            "__________________________________________________________________________________________________\n",
            "conv2d_13 (Conv2D)              (None, 16, 16, 64)   3136        concatenate_1[0][0]              \n",
            "__________________________________________________________________________________________________\n",
            "batch_normalization_11 (BatchNo (None, 16, 16, 64)   256         conv2d_11[0][0]                  \n",
            "__________________________________________________________________________________________________\n",
            "batch_normalization_13 (BatchNo (None, 16, 16, 64)   256         conv2d_13[0][0]                  \n",
            "__________________________________________________________________________________________________\n",
            "conv2d_12 (Conv2D)              (None, 16, 16, 32)   18464       batch_normalization_11[0][0]     \n",
            "__________________________________________________________________________________________________\n",
            "conv2d_14 (Conv2D)              (None, 16, 16, 32)   51232       batch_normalization_13[0][0]     \n",
            "__________________________________________________________________________________________________\n",
            "conv2d_15 (Conv2D)              (None, 16, 16, 32)   1568        concatenate_1[0][0]              \n",
            "__________________________________________________________________________________________________\n",
            "batch_normalization_12 (BatchNo (None, 16, 16, 32)   128         conv2d_12[0][0]                  \n",
            "__________________________________________________________________________________________________\n",
            "batch_normalization_14 (BatchNo (None, 16, 16, 32)   128         conv2d_14[0][0]                  \n",
            "__________________________________________________________________________________________________\n",
            "batch_normalization_15 (BatchNo (None, 16, 16, 32)   128         conv2d_15[0][0]                  \n",
            "__________________________________________________________________________________________________\n",
            "concatenate_2 (Concatenate)     (None, 16, 16, 96)   0           batch_normalization_12[0][0]     \n",
            "                                                                 batch_normalization_14[0][0]     \n",
            "                                                                 batch_normalization_15[0][0]     \n",
            "__________________________________________________________________________________________________\n",
            "max_pooling2d_1 (MaxPooling2D)  (None, 8, 8, 96)     0           concatenate_2[0][0]              \n",
            "__________________________________________________________________________________________________\n",
            "dropout_1 (Dropout)             (None, 8, 8, 96)     0           max_pooling2d_1[0][0]            \n",
            "__________________________________________________________________________________________________\n",
            "conv2d_16 (Conv2D)              (None, 8, 8, 32)     3104        dropout_1[0][0]                  \n",
            "__________________________________________________________________________________________________\n",
            "conv2d_18 (Conv2D)              (None, 8, 8, 32)     3104        dropout_1[0][0]                  \n",
            "__________________________________________________________________________________________________\n",
            "batch_normalization_16 (BatchNo (None, 8, 8, 32)     128         conv2d_16[0][0]                  \n",
            "__________________________________________________________________________________________________\n",
            "batch_normalization_18 (BatchNo (None, 8, 8, 32)     128         conv2d_18[0][0]                  \n",
            "__________________________________________________________________________________________________\n",
            "conv2d_17 (Conv2D)              (None, 8, 8, 16)     4624        batch_normalization_16[0][0]     \n",
            "__________________________________________________________________________________________________\n",
            "conv2d_19 (Conv2D)              (None, 8, 8, 16)     12816       batch_normalization_18[0][0]     \n",
            "__________________________________________________________________________________________________\n",
            "conv2d_20 (Conv2D)              (None, 8, 8, 16)     1552        dropout_1[0][0]                  \n",
            "__________________________________________________________________________________________________\n",
            "batch_normalization_17 (BatchNo (None, 8, 8, 16)     64          conv2d_17[0][0]                  \n",
            "__________________________________________________________________________________________________\n",
            "batch_normalization_19 (BatchNo (None, 8, 8, 16)     64          conv2d_19[0][0]                  \n",
            "__________________________________________________________________________________________________\n",
            "batch_normalization_20 (BatchNo (None, 8, 8, 16)     64          conv2d_20[0][0]                  \n",
            "__________________________________________________________________________________________________\n",
            "concatenate_3 (Concatenate)     (None, 8, 8, 48)     0           batch_normalization_17[0][0]     \n",
            "                                                                 batch_normalization_19[0][0]     \n",
            "                                                                 batch_normalization_20[0][0]     \n",
            "__________________________________________________________________________________________________\n",
            "max_pooling2d_2 (MaxPooling2D)  (None, 4, 4, 48)     0           concatenate_3[0][0]              \n",
            "__________________________________________________________________________________________________\n",
            "dropout_2 (Dropout)             (None, 4, 4, 48)     0           max_pooling2d_2[0][0]            \n",
            "__________________________________________________________________________________________________\n",
            "conv2d_21 (Conv2D)              (None, 4, 4, 16)     784         dropout_2[0][0]                  \n",
            "__________________________________________________________________________________________________\n",
            "conv2d_23 (Conv2D)              (None, 4, 4, 16)     784         dropout_2[0][0]                  \n",
            "__________________________________________________________________________________________________\n",
            "batch_normalization_21 (BatchNo (None, 4, 4, 16)     64          conv2d_21[0][0]                  \n",
            "__________________________________________________________________________________________________\n",
            "batch_normalization_23 (BatchNo (None, 4, 4, 16)     64          conv2d_23[0][0]                  \n",
            "__________________________________________________________________________________________________\n",
            "conv2d_22 (Conv2D)              (None, 4, 4, 8)      1160        batch_normalization_21[0][0]     \n",
            "__________________________________________________________________________________________________\n",
            "conv2d_24 (Conv2D)              (None, 4, 4, 8)      3208        batch_normalization_23[0][0]     \n",
            "__________________________________________________________________________________________________\n",
            "conv2d_25 (Conv2D)              (None, 4, 4, 8)      392         dropout_2[0][0]                  \n",
            "__________________________________________________________________________________________________\n",
            "batch_normalization_22 (BatchNo (None, 4, 4, 8)      32          conv2d_22[0][0]                  \n",
            "__________________________________________________________________________________________________\n",
            "batch_normalization_24 (BatchNo (None, 4, 4, 8)      32          conv2d_24[0][0]                  \n",
            "__________________________________________________________________________________________________\n",
            "batch_normalization_25 (BatchNo (None, 4, 4, 8)      32          conv2d_25[0][0]                  \n",
            "__________________________________________________________________________________________________\n",
            "concatenate_4 (Concatenate)     (None, 4, 4, 24)     0           batch_normalization_22[0][0]     \n",
            "                                                                 batch_normalization_24[0][0]     \n",
            "                                                                 batch_normalization_25[0][0]     \n",
            "__________________________________________________________________________________________________\n",
            "flatten (Flatten)               (None, 384)          0           concatenate_4[0][0]              \n",
            "__________________________________________________________________________________________________\n",
            "dense (Dense)                   (None, 10)           3850        flatten[0][0]                    \n",
            "==================================================================================================\n",
            "Total params: 141,450\n",
            "Trainable params: 140,298\n",
            "Non-trainable params: 1,152\n",
            "__________________________________________________________________________________________________\n"
          ],
          "name": "stdout"
        }
      ]
    },
    {
      "cell_type": "code",
      "metadata": {
        "id": "0LEvqebghQ5K",
        "colab_type": "code",
        "outputId": "f2ed7967-f764-4f89-b08a-09f68fd74ad4",
        "colab": {
          "base_uri": "https://localhost:8080/",
          "height": 1000
        }
      },
      "source": [
        "EPOCHS = 35\n",
        "\n",
        "annealer = tf.keras.callbacks.LearningRateScheduler(lr_fun)\n",
        "steps_per_epoch = X.shape[0] // BATCH_SIZE\n",
        "\n",
        "history = model.fit(train,\n",
        "                    steps_per_epoch=steps_per_epoch, \n",
        "                    epochs=EPOCHS, \n",
        "                    validation_data=test, \n",
        "                    callbacks=[annealer]\n",
        "                    )"
      ],
      "execution_count": 21,
      "outputs": [
        {
          "output_type": "stream",
          "text": [
            "Train for 390 steps, validate for 79 steps\n",
            "Epoch 1/35\n",
            "390/390 [==============================] - 27s 68ms/step - loss: 1.5531 - accuracy: 0.4469 - val_loss: 1.2299 - val_accuracy: 0.5653\n",
            "Epoch 2/35\n",
            "390/390 [==============================] - 17s 43ms/step - loss: 1.1493 - accuracy: 0.5908 - val_loss: 1.1131 - val_accuracy: 0.6159\n",
            "Epoch 3/35\n",
            "390/390 [==============================] - 17s 43ms/step - loss: 1.0013 - accuracy: 0.6472 - val_loss: 0.9080 - val_accuracy: 0.6821\n",
            "Epoch 4/35\n",
            "390/390 [==============================] - 17s 43ms/step - loss: 0.9128 - accuracy: 0.6782 - val_loss: 0.8001 - val_accuracy: 0.7183\n",
            "Epoch 5/35\n",
            "390/390 [==============================] - 17s 44ms/step - loss: 0.8490 - accuracy: 0.6991 - val_loss: 0.7775 - val_accuracy: 0.7287\n",
            "Epoch 6/35\n",
            "390/390 [==============================] - 17s 44ms/step - loss: 0.8046 - accuracy: 0.7167 - val_loss: 0.7769 - val_accuracy: 0.7288\n",
            "Epoch 7/35\n",
            "390/390 [==============================] - 17s 43ms/step - loss: 0.7608 - accuracy: 0.7310 - val_loss: 0.7160 - val_accuracy: 0.7487\n",
            "Epoch 8/35\n",
            "390/390 [==============================] - 17s 43ms/step - loss: 0.7281 - accuracy: 0.7452 - val_loss: 0.6817 - val_accuracy: 0.7673\n",
            "Epoch 9/35\n",
            "390/390 [==============================] - 17s 43ms/step - loss: 0.7005 - accuracy: 0.7543 - val_loss: 0.6736 - val_accuracy: 0.7695\n",
            "Epoch 10/35\n",
            "390/390 [==============================] - 17s 44ms/step - loss: 0.6790 - accuracy: 0.7603 - val_loss: 0.6389 - val_accuracy: 0.7767\n",
            "Epoch 11/35\n",
            "390/390 [==============================] - 17s 43ms/step - loss: 0.6560 - accuracy: 0.7701 - val_loss: 0.6267 - val_accuracy: 0.7820\n",
            "Epoch 12/35\n",
            "390/390 [==============================] - 17s 43ms/step - loss: 0.6381 - accuracy: 0.7796 - val_loss: 0.6312 - val_accuracy: 0.7826\n",
            "Epoch 13/35\n",
            "390/390 [==============================] - 17s 43ms/step - loss: 0.6227 - accuracy: 0.7831 - val_loss: 0.6002 - val_accuracy: 0.7908\n",
            "Epoch 14/35\n",
            "390/390 [==============================] - 17s 43ms/step - loss: 0.6021 - accuracy: 0.7889 - val_loss: 0.5707 - val_accuracy: 0.8051\n",
            "Epoch 15/35\n",
            "390/390 [==============================] - 17s 43ms/step - loss: 0.5895 - accuracy: 0.7933 - val_loss: 0.5856 - val_accuracy: 0.7977\n",
            "Epoch 16/35\n",
            "390/390 [==============================] - 17s 43ms/step - loss: 0.5701 - accuracy: 0.8006 - val_loss: 0.5786 - val_accuracy: 0.8047\n",
            "Epoch 17/35\n",
            "390/390 [==============================] - 17s 43ms/step - loss: 0.5629 - accuracy: 0.8016 - val_loss: 0.5757 - val_accuracy: 0.8035\n",
            "Epoch 18/35\n",
            "390/390 [==============================] - 17s 43ms/step - loss: 0.5498 - accuracy: 0.8082 - val_loss: 0.5716 - val_accuracy: 0.8065\n",
            "Epoch 19/35\n",
            "390/390 [==============================] - 17s 43ms/step - loss: 0.5407 - accuracy: 0.8108 - val_loss: 0.5609 - val_accuracy: 0.8075\n",
            "Epoch 20/35\n",
            "390/390 [==============================] - 17s 43ms/step - loss: 0.5293 - accuracy: 0.8142 - val_loss: 0.5473 - val_accuracy: 0.8138\n",
            "Epoch 21/35\n",
            "390/390 [==============================] - 17s 43ms/step - loss: 0.5216 - accuracy: 0.8182 - val_loss: 0.5802 - val_accuracy: 0.8083\n",
            "Epoch 22/35\n",
            "390/390 [==============================] - 17s 43ms/step - loss: 0.4792 - accuracy: 0.8344 - val_loss: 0.5200 - val_accuracy: 0.8242\n",
            "Epoch 23/35\n",
            "390/390 [==============================] - 17s 43ms/step - loss: 0.4651 - accuracy: 0.8392 - val_loss: 0.5220 - val_accuracy: 0.8258\n",
            "Epoch 24/35\n",
            "390/390 [==============================] - 17s 43ms/step - loss: 0.4581 - accuracy: 0.8410 - val_loss: 0.5012 - val_accuracy: 0.8307\n",
            "Epoch 25/35\n",
            "390/390 [==============================] - 17s 43ms/step - loss: 0.4541 - accuracy: 0.8422 - val_loss: 0.5093 - val_accuracy: 0.8308\n",
            "Epoch 26/35\n",
            "390/390 [==============================] - 17s 43ms/step - loss: 0.4543 - accuracy: 0.8421 - val_loss: 0.5108 - val_accuracy: 0.8290\n",
            "Epoch 27/35\n",
            "390/390 [==============================] - 17s 43ms/step - loss: 0.4426 - accuracy: 0.8458 - val_loss: 0.4872 - val_accuracy: 0.8359\n",
            "Epoch 28/35\n",
            "390/390 [==============================] - 17s 44ms/step - loss: 0.4337 - accuracy: 0.8491 - val_loss: 0.5009 - val_accuracy: 0.8340\n",
            "Epoch 29/35\n",
            "390/390 [==============================] - 17s 44ms/step - loss: 0.4298 - accuracy: 0.8494 - val_loss: 0.5027 - val_accuracy: 0.8302\n",
            "Epoch 30/35\n",
            "390/390 [==============================] - 17s 43ms/step - loss: 0.4306 - accuracy: 0.8496 - val_loss: 0.5207 - val_accuracy: 0.8247\n",
            "Epoch 31/35\n",
            "390/390 [==============================] - 17s 43ms/step - loss: 0.4245 - accuracy: 0.8516 - val_loss: 0.4914 - val_accuracy: 0.8369\n",
            "Epoch 32/35\n",
            "390/390 [==============================] - 17s 43ms/step - loss: 0.4223 - accuracy: 0.8517 - val_loss: 0.5033 - val_accuracy: 0.8321\n",
            "Epoch 33/35\n",
            "390/390 [==============================] - 17s 43ms/step - loss: 0.4117 - accuracy: 0.8556 - val_loss: 0.5062 - val_accuracy: 0.8327\n",
            "Epoch 34/35\n",
            "390/390 [==============================] - 17s 43ms/step - loss: 0.4091 - accuracy: 0.8561 - val_loss: 0.4989 - val_accuracy: 0.8346\n",
            "Epoch 35/35\n",
            "390/390 [==============================] - 17s 43ms/step - loss: 0.4118 - accuracy: 0.8559 - val_loss: 0.5116 - val_accuracy: 0.8282\n"
          ],
          "name": "stdout"
        }
      ]
    },
    {
      "cell_type": "code",
      "metadata": {
        "id": "Tt2uWFX6lZhQ",
        "colab_type": "code",
        "colab": {}
      },
      "source": [
        "def display_training_curves(training, validation, title, subplot):\n",
        "  #stolen from google cnn tutorial\n",
        "  if subplot%10==1:\n",
        "    plt.subplots(figsize=(10,10), facecolor='#F0F0F0')\n",
        "    plt.tight_layout()\n",
        "  ax = plt.subplot(subplot)\n",
        "  ax.set_facecolor('#F8F8F8')\n",
        "  ax.plot(training)\n",
        "  ax.plot(validation)\n",
        "  ax.set_title('model '+ title)\n",
        "  ax.set_ylabel(title)\n",
        "  ax.set_xlabel('epoch')\n",
        "  ax.legend(['train', 'valid.'])"
      ],
      "execution_count": 0,
      "outputs": []
    },
    {
      "cell_type": "code",
      "metadata": {
        "id": "6Zh539LdhpVV",
        "colab_type": "code",
        "outputId": "a38c1271-2f20-489f-c10b-0a46b6ddf9d8",
        "colab": {
          "base_uri": "https://localhost:8080/",
          "height": 755
        }
      },
      "source": [
        "display_training_curves(history.history['accuracy'], history.history['val_accuracy'], 'accuracy', 211)\n",
        "display_training_curves(history.history['loss'], history.history['val_loss'], 'loss', 212)"
      ],
      "execution_count": 23,
      "outputs": [
        {
          "output_type": "display_data",
          "data": {
            "image/png": "[encoded data removed]",
            "text/plain": [
              "<Figure size 720x720 with 2 Axes>"
            ]
          },
          "metadata": {
            "tags": []
          }
        }
      ]
    },
    {
      "cell_type": "markdown",
      "metadata": {
        "id": "jYeXKv1eyeFB",
        "colab_type": "text"
      },
      "source": [
        "## View some examples"
      ]
    },
    {
      "cell_type": "code",
      "metadata": {
        "id": "rRuBTzFItF43",
        "colab_type": "code",
        "colab": {}
      },
      "source": [
        "def plot_CIFAR(ind, X):\n",
        "  # credit https://www.quora.com/How-can-l-visualize-cifar-10-data-RGB-using-python-matplotlib\n",
        "\n",
        "    arr = X[ind]\n",
        "    R = arr[0:1024].reshape(32,32)/255.0\n",
        "    G = arr[1024:2048].reshape(32,32)/255.0\n",
        "    B = arr[2048:].reshape(32,32)/255.0\n",
        " \n",
        "    img = np.dstack((R,G,B))\n",
        "    fig = plt.figure(figsize=(3,3))\n",
        "    ax = fig.add_subplot(111)\n",
        "    ax.imshow(img,interpolation='bicubic')\n"
      ],
      "execution_count": 0,
      "outputs": []
    },
    {
      "cell_type": "code",
      "metadata": {
        "id": "T0w36fv-xIKB",
        "colab_type": "code",
        "colab": {}
      },
      "source": [
        "def prediction_vs_true(ind, X):\n",
        "  print(\"Model prediction\", labels[np.argmax(model.predict(X[ind].reshape(-1, 32, 32, 3)))])\n",
        "  print(\"Correct prediction\", labels[X[ind]])"
      ],
      "execution_count": 0,
      "outputs": []
    },
    {
      "cell_type": "code",
      "metadata": {
        "id": "pU3mpZESwQM1",
        "colab_type": "code",
        "outputId": "978bab7f-13ff-4bd3-e365-059e90bb0c19",
        "colab": {
          "base_uri": "https://localhost:8080/",
          "height": 183
        }
      },
      "source": [
        "abels = meta[b'label_names']\n",
        "labels"
      ],
      "execution_count": 26,
      "outputs": [
        {
          "output_type": "error",
          "ename": "NameError",
          "evalue": "ignored",
          "traceback": [
            "\u001b[0;31m---------------------------------------------------------------------------\u001b[0m",
            "\u001b[0;31mNameError\u001b[0m                                 Traceback (most recent call last)",
            "\u001b[0;32m<ipython-input-26-81252c27feff>\u001b[0m in \u001b[0;36m<module>\u001b[0;34m()\u001b[0m\n\u001b[0;32m----> 1\u001b[0;31m \u001b[0mlabels\u001b[0m \u001b[0;34m=\u001b[0m \u001b[0mmeta\u001b[0m\u001b[0;34m[\u001b[0m\u001b[0;34mb'label_names'\u001b[0m\u001b[0;34m]\u001b[0m\u001b[0;34m\u001b[0m\u001b[0;34m\u001b[0m\u001b[0m\n\u001b[0m\u001b[1;32m      2\u001b[0m \u001b[0mlabels\u001b[0m\u001b[0;34m\u001b[0m\u001b[0;34m\u001b[0m\u001b[0m\n",
            "\u001b[0;31mNameError\u001b[0m: name 'meta' is not defined"
          ]
        }
      ]
    },
    {
      "cell_type": "code",
      "metadata": {
        "id": "OVNT6H_UtJ9t",
        "colab_type": "code",
        "colab": {}
      },
      "source": [
        "plot_CIFAR(5, X)"
      ],
      "execution_count": 0,
      "outputs": []
    },
    {
      "cell_type": "code",
      "metadata": {
        "id": "xWI90jAIwYZ-",
        "colab_type": "code",
        "colab": {}
      },
      "source": [
        "prediction_vs_true(5, X)"
      ],
      "execution_count": 0,
      "outputs": []
    },
    {
      "cell_type": "code",
      "metadata": {
        "id": "jHmOkCW0teZa",
        "colab_type": "code",
        "colab": {}
      },
      "source": [
        "plot_CIFAR(7, X)"
      ],
      "execution_count": 0,
      "outputs": []
    },
    {
      "cell_type": "code",
      "metadata": {
        "id": "MTSiVFItx2Y6",
        "colab_type": "code",
        "colab": {}
      },
      "source": [
        "prediction_vs_true(7, X)"
      ],
      "execution_count": 0,
      "outputs": []
    },
    {
      "cell_type": "code",
      "metadata": {
        "id": "udd18KhOtfrh",
        "colab_type": "code",
        "colab": {}
      },
      "source": [
        "plot_CIFAR(30, X)"
      ],
      "execution_count": 0,
      "outputs": []
    },
    {
      "cell_type": "code",
      "metadata": {
        "id": "h9zGqT0nyVwM",
        "colab_type": "code",
        "colab": {}
      },
      "source": [
        "prediction_vs_true(30, X)"
      ],
      "execution_count": 0,
      "outputs": []
    },
    {
      "cell_type": "code",
      "metadata": {
        "id": "oci83Qxo0JUD",
        "colab_type": "code",
        "colab": {}
      },
      "source": [
        "plot_CIFAR(20, X)"
      ],
      "execution_count": 0,
      "outputs": []
    },
    {
      "cell_type": "code",
      "metadata": {
        "id": "s9AXUEL22VEH",
        "colab_type": "code",
        "colab": {}
      },
      "source": [
        "prediction_vs_true(20, X)"
      ],
      "execution_count": 0,
      "outputs": []
    },
    {
      "cell_type": "code",
      "metadata": {
        "id": "GTRaeJdzysSO",
        "colab_type": "code",
        "colab": {}
      },
      "source": [
        ""
      ],
      "execution_count": 0,
      "outputs": []
    }
  ]
}