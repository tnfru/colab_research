{
  "nbformat": 4,
  "nbformat_minor": 0,
  "metadata": {
    "colab": {
      "name": "CIFAR10.ipynb",
      "provenance": [],
      "collapsed_sections": [],
      "authorship_tag": "ABX9TyON78s1ueIRgnbcONUTIkFo",
      "include_colab_link": true
    },
    "kernelspec": {
      "name": "python3",
      "display_name": "Python 3"
    },
    "accelerator": "GPU"
  },
  "cells": [
    {
      "cell_type": "markdown",
      "metadata": {
        "id": "view-in-github",
        "colab_type": "text"
      },
      "source": [
        "<a href=\"https://colab.research.google.com/github/tnfru/colab_research/blob/master/CIFAR10.ipynb\" target=\"_parent\"><img src=\"https://colab.research.google.com/assets/colab-badge.svg\" alt=\"Open In Colab\"/></a>"
      ]
    },
    {
      "cell_type": "code",
      "metadata": {
        "id": "GUAn_rXHooFB",
        "colab_type": "code",
        "colab": {
          "base_uri": "https://localhost:8080/",
          "height": 52
        },
        "outputId": "6083ac38-c7cb-43de-f5df-f8dde45fc43e"
      },
      "source": [
        "import pandas as pd\n",
        "import numpy as np\n",
        "from matplotlib import pyplot as plt\n",
        "import sys\n",
        "if 'google.colab' in sys.modules:\n",
        "  %tensorflow_version 2.x\n",
        "import tensorflow as tf\n",
        "from google.colab import drive\n",
        "from sklearn.utils import shuffle\n",
        "from keras.utils.np_utils import to_categorical\n",
        "import copy\n",
        "\n",
        "AUTO = tf.data.experimental.AUTOTUNE"
      ],
      "execution_count": 1,
      "outputs": [
        {
          "output_type": "stream",
          "text": [
            "TensorFlow 2.x selected.\n"
          ],
          "name": "stdout"
        },
        {
          "output_type": "stream",
          "text": [
            "Using TensorFlow backend.\n"
          ],
          "name": "stderr"
        }
      ]
    },
    {
      "cell_type": "markdown",
      "metadata": {
        "id": "c79b_aXqtb4v",
        "colab_type": "text"
      },
      "source": [
        "## Set up TPU"
      ]
    },
    {
      "cell_type": "code",
      "metadata": {
        "id": "ISm9ZgM1risK",
        "colab_type": "code",
        "colab": {
          "base_uri": "https://localhost:8080/",
          "height": 52
        },
        "outputId": "ee642ef6-8a10-49cb-db2a-0a13fcb962ba"
      },
      "source": [
        "try: \n",
        "  tpu = tf.distribute.cluster_resolver.TPUClusterResolver()\n",
        "except ValueError:\n",
        "  tpu = None\n",
        "  gpus = tf.config.experimental.list_logical_devices(\"GPU\")\n",
        "\n",
        "if tpu:\n",
        "  tf.config.experimental_connect_to_cluster(tpu)\n",
        "  tf.tpu.experimental.initialize_tpu_system(tpu)\n",
        "  strategy = tf.distribute.experimental.TPUStrategy(tpu)\n",
        "  print('Running on TPU ', tpu.master())  \n",
        "elif len(gpus) > 0:\n",
        "  strategy = tf.distribute.MirroredStrategy(gpus)\n",
        "  print('Running on ', len(gpus), ' GPU(s) ')\n",
        "else:\n",
        "  strategy = tf.distribute.get_strategy()\n",
        "  print('Running on CPU')"
      ],
      "execution_count": 2,
      "outputs": [
        {
          "output_type": "stream",
          "text": [
            "INFO:tensorflow:Using MirroredStrategy with devices ('/job:localhost/replica:0/task:0/device:GPU:0',)\n",
            "Running on  1  GPU(s) \n"
          ],
          "name": "stdout"
        }
      ]
    },
    {
      "cell_type": "markdown",
      "metadata": {
        "id": "QsSdoN9Gtev0",
        "colab_type": "text"
      },
      "source": [
        "## Read Data from Google Drive"
      ]
    },
    {
      "cell_type": "code",
      "metadata": {
        "id": "yIHh7Zc1rlWI",
        "colab_type": "code",
        "colab": {
          "base_uri": "https://localhost:8080/",
          "height": 124
        },
        "outputId": "b118b140-f382-4044-8c6f-a3abc35f3688"
      },
      "source": [
        "drive.mount('/content/drive')"
      ],
      "execution_count": 3,
      "outputs": [
        {
          "output_type": "stream",
          "text": [
            "Go to this URL in a browser: https://accounts.google.com/o/oauth2/auth?client_id=947318989803-6bn6qk8qdgf4n4g3pfee6491hc0brc4i.apps.googleusercontent.com&redirect_uri=urn%3aietf%3awg%3aoauth%3a2.0%3aoob&response_type=code&scope=email%20https%3a%2f%2fwww.googleapis.com%2fauth%2fdocs.test%20https%3a%2f%2fwww.googleapis.com%2fauth%2fdrive%20https%3a%2f%2fwww.googleapis.com%2fauth%2fdrive.photos.readonly%20https%3a%2f%2fwww.googleapis.com%2fauth%2fpeopleapi.readonly\n",
            "\n",
            "Enter your authorization code:\n",
            "··········\n",
            "Mounted at /content/drive\n"
          ],
          "name": "stdout"
        }
      ]
    },
    {
      "cell_type": "code",
      "metadata": {
        "id": "ZifyU4surqe-",
        "colab_type": "code",
        "colab": {}
      },
      "source": [
        "PATH=\"/content/drive/My Drive/data/CIFAR10/\""
      ],
      "execution_count": 0,
      "outputs": []
    },
    {
      "cell_type": "code",
      "metadata": {
        "id": "Cc5RVaeSnygq",
        "colab_type": "code",
        "colab": {}
      },
      "source": [
        "def unpickle(file):\n",
        "    import pickle\n",
        "    with open(file, 'rb') as fo:\n",
        "        dict = pickle.load(fo, encoding='bytes')\n",
        "    return dict"
      ],
      "execution_count": 0,
      "outputs": []
    },
    {
      "cell_type": "code",
      "metadata": {
        "id": "Zh0gcg4Arvqf",
        "colab_type": "code",
        "colab": {}
      },
      "source": [
        "db_1 = unpickle(PATH + \"data_batch_1\")\n",
        "db_2 = unpickle(PATH + \"data_batch_2\")\n",
        "db_3 = unpickle(PATH + \"data_batch_3\")\n",
        "db_4 = unpickle(PATH + \"data_batch_4\")\n",
        "db_5 = unpickle(PATH + \"data_batch_5\")\n",
        "test_data = unpickle(PATH + \"test_batch\")\n",
        "meta = unpickle(PATH + \"batches.meta\")"
      ],
      "execution_count": 0,
      "outputs": []
    },
    {
      "cell_type": "code",
      "metadata": {
        "id": "RKiTLW-8s7Vb",
        "colab_type": "code",
        "colab": {
          "base_uri": "https://localhost:8080/",
          "height": 34
        },
        "outputId": "5b08c0b3-6da4-4b66-b6f4-2768f22926d1"
      },
      "source": [
        "db_1[b'data'].shape, len(db_1[b'labels'])"
      ],
      "execution_count": 7,
      "outputs": [
        {
          "output_type": "execute_result",
          "data": {
            "text/plain": [
              "((10000, 3072), 10000)"
            ]
          },
          "metadata": {
            "tags": []
          },
          "execution_count": 7
        }
      ]
    },
    {
      "cell_type": "markdown",
      "metadata": {
        "id": "0hCaFfnGwjHN",
        "colab_type": "text"
      },
      "source": [
        "## Transform data"
      ]
    },
    {
      "cell_type": "code",
      "metadata": {
        "id": "iPk_QoZHv46F",
        "colab_type": "code",
        "colab": {}
      },
      "source": [
        "IMG_SIZE = [32, 32]\n",
        "BATCH_SIZE = 128"
      ],
      "execution_count": 0,
      "outputs": []
    },
    {
      "cell_type": "code",
      "metadata": {
        "id": "lH81_m4KwzZn",
        "colab_type": "code",
        "colab": {
          "base_uri": "https://localhost:8080/",
          "height": 34
        },
        "outputId": "a550cd9e-e2b1-4b0c-df96-8ec996feb7eb"
      },
      "source": [
        "X = np.append(db_1[b'data'], db_2[b'data'], axis=0)\n",
        "X = np.append(X, db_3[b'data'], axis=0)\n",
        "X = np.append(X, db_4[b'data'], axis=0)\n",
        "X = np.append(X, db_5[b'data'], axis=0)\n",
        "X = X.reshape(-1, *IMG_SIZE, 3)\n",
        "X.shape"
      ],
      "execution_count": 9,
      "outputs": [
        {
          "output_type": "execute_result",
          "data": {
            "text/plain": [
              "(50000, 32, 32, 3)"
            ]
          },
          "metadata": {
            "tags": []
          },
          "execution_count": 9
        }
      ]
    },
    {
      "cell_type": "code",
      "metadata": {
        "id": "esvZW1IByffT",
        "colab_type": "code",
        "colab": {
          "base_uri": "https://localhost:8080/",
          "height": 34
        },
        "outputId": "155bfdef-34c4-43f8-a10e-3cb0675e58b9"
      },
      "source": [
        "Y = copy.copy(db_1[b'labels'])\n",
        "Y.extend(db_2[b'labels'])\n",
        "Y.extend(db_3[b'labels'])\n",
        "Y.extend(db_4[b'labels'])\n",
        "Y.extend(db_5[b'labels'])\n",
        "Y = np.array(Y)\n",
        "Y = to_categorical(Y.reshape(-1, 1), num_classes=10)\n",
        "Y.shape"
      ],
      "execution_count": 10,
      "outputs": [
        {
          "output_type": "execute_result",
          "data": {
            "text/plain": [
              "(50000, 10)"
            ]
          },
          "metadata": {
            "tags": []
          },
          "execution_count": 10
        }
      ]
    },
    {
      "cell_type": "code",
      "metadata": {
        "id": "EKwvPPwFACJQ",
        "colab_type": "code",
        "colab": {
          "base_uri": "https://localhost:8080/",
          "height": 34
        },
        "outputId": "741d4229-2535-450c-dabd-1a9179623b78"
      },
      "source": [
        "X_test = test_data[b'data'].reshape(-1, *IMG_SIZE, 3)\n",
        "Y_test = to_categorical(np.array(test_data[b'labels']).reshape(-1, 1), num_classes=10)\n",
        "X_test.shape, Y_test.shape"
      ],
      "execution_count": 11,
      "outputs": [
        {
          "output_type": "execute_result",
          "data": {
            "text/plain": [
              "((10000, 32, 32, 3), (10000, 10))"
            ]
          },
          "metadata": {
            "tags": []
          },
          "execution_count": 11
        }
      ]
    },
    {
      "cell_type": "markdown",
      "metadata": {
        "id": "HCSNqPnm-yFA",
        "colab_type": "text"
      },
      "source": [
        "## Heal and normalize data"
      ]
    },
    {
      "cell_type": "code",
      "metadata": {
        "id": "1m2gtftjz7nV",
        "colab_type": "code",
        "colab": {
          "base_uri": "https://localhost:8080/",
          "height": 34
        },
        "outputId": "0d958333-5acf-48d2-c559-695f273fc634"
      },
      "source": [
        " np.isnan(X).sum()"
      ],
      "execution_count": 12,
      "outputs": [
        {
          "output_type": "execute_result",
          "data": {
            "text/plain": [
              "0"
            ]
          },
          "metadata": {
            "tags": []
          },
          "execution_count": 12
        }
      ]
    },
    {
      "cell_type": "code",
      "metadata": {
        "id": "R4OyvBq86vs3",
        "colab_type": "code",
        "colab": {}
      },
      "source": [
        "X = X / 255\n",
        "X_test = X_test / 255\n",
        "X = X - X.mean(axis=0)\n",
        "X_test = X_test - X_test.mean(axis=0)"
      ],
      "execution_count": 0,
      "outputs": []
    },
    {
      "cell_type": "code",
      "metadata": {
        "id": "7y6-BZa3CQUm",
        "colab_type": "code",
        "colab": {
          "base_uri": "https://localhost:8080/",
          "height": 34
        },
        "outputId": "aeaa8cf0-3543-4ac6-da1b-de4dd5ce31b5"
      },
      "source": [
        "X.mean()"
      ],
      "execution_count": 14,
      "outputs": [
        {
          "output_type": "execute_result",
          "data": {
            "text/plain": [
              "-1.2150526510860496e-14"
            ]
          },
          "metadata": {
            "tags": []
          },
          "execution_count": 14
        }
      ]
    },
    {
      "cell_type": "code",
      "metadata": {
        "id": "SqgkP_usV_s1",
        "colab_type": "code",
        "colab": {}
      },
      "source": [
        "X = X / X.std(axis=0)\n",
        "X_test = X_test / X_test.std(axis=0)"
      ],
      "execution_count": 0,
      "outputs": []
    },
    {
      "cell_type": "code",
      "metadata": {
        "id": "g1olSX8sIix1",
        "colab_type": "code",
        "colab": {
          "base_uri": "https://localhost:8080/",
          "height": 34
        },
        "outputId": "68c83709-bca8-4f8c-fd34-80b69168d6c3"
      },
      "source": [
        "X.std(axis=0).sum() / (32 * 32 * 3)"
      ],
      "execution_count": 16,
      "outputs": [
        {
          "output_type": "execute_result",
          "data": {
            "text/plain": [
              "1.000000000000001"
            ]
          },
          "metadata": {
            "tags": []
          },
          "execution_count": 16
        }
      ]
    },
    {
      "cell_type": "markdown",
      "metadata": {
        "id": "j2mHKDxAaVNw",
        "colab_type": "text"
      },
      "source": [
        "## Convert Data to batches"
      ]
    },
    {
      "cell_type": "code",
      "metadata": {
        "id": "elfENK_MahUu",
        "colab_type": "code",
        "colab": {}
      },
      "source": [
        "def get_batched_dataset(dataset, train=False):\n",
        "  if train:\n",
        "    dataset = dataset.repeat()\n",
        "    dataset = dataset.shuffle(1337)\n",
        "\n",
        "  dataset = dataset.batch(BATCH_SIZE)\n",
        "  dataset = dataset.prefetch(AUTO)\n",
        "  return dataset"
      ],
      "execution_count": 0,
      "outputs": []
    },
    {
      "cell_type": "code",
      "metadata": {
        "id": "IIic4FECalbX",
        "colab_type": "code",
        "colab": {}
      },
      "source": [
        "train_dataset = tf.data.Dataset.from_tensor_slices((X, Y))\n",
        "test_dataset = tf.data.Dataset.from_tensor_slices((X_test, Y_test))\n",
        "\n",
        "train = get_batched_dataset(train_dataset, train=True)\n",
        "test = get_batched_dataset(test_dataset)"
      ],
      "execution_count": 0,
      "outputs": []
    },
    {
      "cell_type": "code",
      "metadata": {
        "id": "7wAcYIn1bWnE",
        "colab_type": "code",
        "colab": {}
      },
      "source": [
        "l = tf.keras.layers"
      ],
      "execution_count": 0,
      "outputs": []
    },
    {
      "cell_type": "code",
      "metadata": {
        "id": "P8m1bHs2dT33",
        "colab_type": "code",
        "colab": {}
      },
      "source": [
        "def create_model():\n",
        "  model = tf.keras.Sequential([\n",
        "    l.Conv2D(kernel_size=3, filters=16, padding='same', activation='relu', input_shape=(*IMG_SIZE, 3)),\n",
        "    l.BatchNormalization(),\n",
        "    l.Conv2D(kernel_size=3, filters=32, padding='same', activation='relu'),\n",
        "    l.BatchNormalization(),\n",
        "    l.MaxPooling2D(),\n",
        "    l.Dropout(0.5),\n",
        "\n",
        "    l.Conv2D(kernel_size=3, filters=64, padding='same', activation='relu'),\n",
        "    l.BatchNormalization(),\n",
        "    l.Conv2D(kernel_size=3, filters=64, padding='same', activation='relu'),\n",
        "    l.BatchNormalization(),\n",
        "    l.MaxPooling2D(),\n",
        "    l.Dropout(0.5),\n",
        "    \n",
        "    l.Conv2D(kernel_size=3, filters=128, padding='same', activation='relu'),\n",
        "    l.BatchNormalization(),\n",
        "    l.Conv2D(kernel_size=3, filters=128, padding='same', activation='relu'),\n",
        "    l.BatchNormalization(),\n",
        "    l.MaxPooling2D(),\n",
        "    l.Dropout(0.5),\n",
        "\n",
        "    l.Conv2D(kernel_size=3, filters=128, padding='same', activation='relu'),\n",
        "    l.BatchNormalization(),\n",
        "    l.Flatten(),\n",
        "    l.Dense(10, activation='softmax')\n",
        "  ])\n",
        "\n",
        "  model.compile(\n",
        "      optimizer='adam',\n",
        "      loss='categorical_crossentropy',\n",
        "      metrics=['accuracy']\n",
        "  )\n",
        "\n",
        "  return model"
      ],
      "execution_count": 0,
      "outputs": []
    },
    {
      "cell_type": "code",
      "metadata": {
        "id": "fByVbBlugtU2",
        "colab_type": "code",
        "colab": {
          "base_uri": "https://localhost:8080/",
          "height": 1000
        },
        "outputId": "be0ba5b3-ae2e-4473-ae48-e66a47849b39"
      },
      "source": [
        "with strategy.scope():\n",
        "  model = create_model()\n",
        "\n",
        "  model.summary()"
      ],
      "execution_count": 21,
      "outputs": [
        {
          "output_type": "stream",
          "text": [
            "INFO:tensorflow:Reduce to /job:localhost/replica:0/task:0/device:CPU:0 then broadcast to ('/job:localhost/replica:0/task:0/device:CPU:0',).\n",
            "INFO:tensorflow:Reduce to /job:localhost/replica:0/task:0/device:CPU:0 then broadcast to ('/job:localhost/replica:0/task:0/device:CPU:0',).\n",
            "INFO:tensorflow:Reduce to /job:localhost/replica:0/task:0/device:CPU:0 then broadcast to ('/job:localhost/replica:0/task:0/device:CPU:0',).\n",
            "INFO:tensorflow:Reduce to /job:localhost/replica:0/task:0/device:CPU:0 then broadcast to ('/job:localhost/replica:0/task:0/device:CPU:0',).\n",
            "INFO:tensorflow:Reduce to /job:localhost/replica:0/task:0/device:CPU:0 then broadcast to ('/job:localhost/replica:0/task:0/device:CPU:0',).\n",
            "INFO:tensorflow:Reduce to /job:localhost/replica:0/task:0/device:CPU:0 then broadcast to ('/job:localhost/replica:0/task:0/device:CPU:0',).\n",
            "INFO:tensorflow:Reduce to /job:localhost/replica:0/task:0/device:CPU:0 then broadcast to ('/job:localhost/replica:0/task:0/device:CPU:0',).\n",
            "INFO:tensorflow:Reduce to /job:localhost/replica:0/task:0/device:CPU:0 then broadcast to ('/job:localhost/replica:0/task:0/device:CPU:0',).\n",
            "INFO:tensorflow:Reduce to /job:localhost/replica:0/task:0/device:CPU:0 then broadcast to ('/job:localhost/replica:0/task:0/device:CPU:0',).\n",
            "INFO:tensorflow:Reduce to /job:localhost/replica:0/task:0/device:CPU:0 then broadcast to ('/job:localhost/replica:0/task:0/device:CPU:0',).\n",
            "Model: \"sequential\"\n",
            "_________________________________________________________________\n",
            "Layer (type)                 Output Shape              Param #   \n",
            "=================================================================\n",
            "conv2d (Conv2D)              (None, 32, 32, 16)        448       \n",
            "_________________________________________________________________\n",
            "batch_normalization (BatchNo (None, 32, 32, 16)        64        \n",
            "_________________________________________________________________\n",
            "conv2d_1 (Conv2D)            (None, 32, 32, 32)        4640      \n",
            "_________________________________________________________________\n",
            "batch_normalization_1 (Batch (None, 32, 32, 32)        128       \n",
            "_________________________________________________________________\n",
            "max_pooling2d (MaxPooling2D) (None, 16, 16, 32)        0         \n",
            "_________________________________________________________________\n",
            "dropout (Dropout)            (None, 16, 16, 32)        0         \n",
            "_________________________________________________________________\n",
            "conv2d_2 (Conv2D)            (None, 16, 16, 64)        18496     \n",
            "_________________________________________________________________\n",
            "batch_normalization_2 (Batch (None, 16, 16, 64)        256       \n",
            "_________________________________________________________________\n",
            "conv2d_3 (Conv2D)            (None, 16, 16, 64)        36928     \n",
            "_________________________________________________________________\n",
            "batch_normalization_3 (Batch (None, 16, 16, 64)        256       \n",
            "_________________________________________________________________\n",
            "max_pooling2d_1 (MaxPooling2 (None, 8, 8, 64)          0         \n",
            "_________________________________________________________________\n",
            "dropout_1 (Dropout)          (None, 8, 8, 64)          0         \n",
            "_________________________________________________________________\n",
            "conv2d_4 (Conv2D)            (None, 8, 8, 128)         73856     \n",
            "_________________________________________________________________\n",
            "batch_normalization_4 (Batch (None, 8, 8, 128)         512       \n",
            "_________________________________________________________________\n",
            "conv2d_5 (Conv2D)            (None, 8, 8, 128)         147584    \n",
            "_________________________________________________________________\n",
            "batch_normalization_5 (Batch (None, 8, 8, 128)         512       \n",
            "_________________________________________________________________\n",
            "max_pooling2d_2 (MaxPooling2 (None, 4, 4, 128)         0         \n",
            "_________________________________________________________________\n",
            "dropout_2 (Dropout)          (None, 4, 4, 128)         0         \n",
            "_________________________________________________________________\n",
            "conv2d_6 (Conv2D)            (None, 4, 4, 128)         147584    \n",
            "_________________________________________________________________\n",
            "batch_normalization_6 (Batch (None, 4, 4, 128)         512       \n",
            "_________________________________________________________________\n",
            "flatten (Flatten)            (None, 2048)              0         \n",
            "_________________________________________________________________\n",
            "dense (Dense)                (None, 10)                20490     \n",
            "=================================================================\n",
            "Total params: 452,266\n",
            "Trainable params: 451,146\n",
            "Non-trainable params: 1,120\n",
            "_________________________________________________________________\n"
          ],
          "name": "stdout"
        }
      ]
    },
    {
      "cell_type": "code",
      "metadata": {
        "id": "nNDG6S0rhLYB",
        "colab_type": "code",
        "colab": {}
      },
      "source": [
        "def lr_fun(x):\n",
        "  return 1e-3 * 0.95 ** x"
      ],
      "execution_count": 0,
      "outputs": []
    },
    {
      "cell_type": "code",
      "metadata": {
        "id": "Tt2uWFX6lZhQ",
        "colab_type": "code",
        "colab": {}
      },
      "source": [
        "def display_training_curves(training, validation, title, subplot):\n",
        "  #stolen from google cnn tutorial\n",
        "  if subplot%10==1:\n",
        "    plt.subplots(figsize=(10,10), facecolor='#F0F0F0')\n",
        "    plt.tight_layout()\n",
        "  ax = plt.subplot(subplot)\n",
        "  ax.set_facecolor('#F8F8F8')\n",
        "  ax.plot(training)\n",
        "  ax.plot(validation)\n",
        "  ax.set_title('model '+ title)\n",
        "  ax.set_ylabel(title)\n",
        "  ax.set_xlabel('epoch')\n",
        "  ax.legend(['train', 'valid.'])"
      ],
      "execution_count": 0,
      "outputs": []
    },
    {
      "cell_type": "code",
      "metadata": {
        "id": "0ebi-Kk3ka6_",
        "colab_type": "code",
        "colab": {
          "base_uri": "https://localhost:8080/",
          "height": 191
        },
        "outputId": "b64a50bb-1061-40ee-8de5-1890856f3765"
      },
      "source": [
        "meta[b'label_names']"
      ],
      "execution_count": 24,
      "outputs": [
        {
          "output_type": "execute_result",
          "data": {
            "text/plain": [
              "[b'airplane',\n",
              " b'automobile',\n",
              " b'bird',\n",
              " b'cat',\n",
              " b'deer',\n",
              " b'dog',\n",
              " b'frog',\n",
              " b'horse',\n",
              " b'ship',\n",
              " b'truck']"
            ]
          },
          "metadata": {
            "tags": []
          },
          "execution_count": 24
        }
      ]
    },
    {
      "cell_type": "code",
      "metadata": {
        "id": "0LEvqebghQ5K",
        "colab_type": "code",
        "colab": {
          "base_uri": "https://localhost:8080/",
          "height": 1000
        },
        "outputId": "3e5a7642-9b5f-49b5-c3f9-690719fbb1d6"
      },
      "source": [
        "EPOCHS = 35\n",
        "\n",
        "annealer = tf.keras.callbacks.LearningRateScheduler(lr_fun)\n",
        "steps_per_epoch = X.shape[0] // BATCH_SIZE\n",
        "\n",
        "history = model.fit(train, steps_per_epoch=steps_per_epoch, epochs=EPOCHS, validation_data=test, callbacks=[annealer], verbose=1)"
      ],
      "execution_count": 25,
      "outputs": [
        {
          "output_type": "stream",
          "text": [
            "Train for 390 steps, validate for 79 steps\n",
            "Epoch 1/35\n",
            "390/390 [==============================] - 19s 49ms/step - loss: 1.8837 - accuracy: 0.3428 - val_loss: 2.0828 - val_accuracy: 0.3257\n",
            "Epoch 2/35\n",
            "390/390 [==============================] - 7s 18ms/step - loss: 1.5175 - accuracy: 0.4565 - val_loss: 1.7257 - val_accuracy: 0.4343\n",
            "Epoch 3/35\n",
            "390/390 [==============================] - 7s 18ms/step - loss: 1.3822 - accuracy: 0.5032 - val_loss: 1.4859 - val_accuracy: 0.5041\n",
            "Epoch 4/35\n",
            "390/390 [==============================] - 7s 18ms/step - loss: 1.2849 - accuracy: 0.5426 - val_loss: 1.4602 - val_accuracy: 0.5195\n",
            "Epoch 5/35\n",
            "390/390 [==============================] - 7s 18ms/step - loss: 1.2230 - accuracy: 0.5670 - val_loss: 1.2761 - val_accuracy: 0.5664\n",
            "Epoch 6/35\n",
            "390/390 [==============================] - 7s 18ms/step - loss: 1.1569 - accuracy: 0.5873 - val_loss: 1.2038 - val_accuracy: 0.5911\n",
            "Epoch 7/35\n",
            "390/390 [==============================] - 7s 18ms/step - loss: 1.1082 - accuracy: 0.6107 - val_loss: 1.1750 - val_accuracy: 0.5932\n",
            "Epoch 8/35\n",
            "390/390 [==============================] - 7s 18ms/step - loss: 1.0717 - accuracy: 0.6196 - val_loss: 1.1116 - val_accuracy: 0.6159\n",
            "Epoch 9/35\n",
            "390/390 [==============================] - 7s 18ms/step - loss: 1.0295 - accuracy: 0.6355 - val_loss: 1.0725 - val_accuracy: 0.6301\n",
            "Epoch 10/35\n",
            "390/390 [==============================] - 7s 18ms/step - loss: 0.9946 - accuracy: 0.6471 - val_loss: 1.0661 - val_accuracy: 0.6320\n",
            "Epoch 11/35\n",
            "390/390 [==============================] - 7s 18ms/step - loss: 0.9659 - accuracy: 0.6575 - val_loss: 1.0156 - val_accuracy: 0.6468\n",
            "Epoch 12/35\n",
            "390/390 [==============================] - 7s 18ms/step - loss: 0.9413 - accuracy: 0.6684 - val_loss: 0.9999 - val_accuracy: 0.6515\n",
            "Epoch 13/35\n",
            "390/390 [==============================] - 7s 18ms/step - loss: 0.9217 - accuracy: 0.6736 - val_loss: 1.0051 - val_accuracy: 0.6570\n",
            "Epoch 14/35\n",
            "390/390 [==============================] - 7s 18ms/step - loss: 0.9027 - accuracy: 0.6822 - val_loss: 0.9317 - val_accuracy: 0.6778\n",
            "Epoch 15/35\n",
            "390/390 [==============================] - 7s 18ms/step - loss: 0.8812 - accuracy: 0.6897 - val_loss: 0.9387 - val_accuracy: 0.6743\n",
            "Epoch 16/35\n",
            "390/390 [==============================] - 7s 18ms/step - loss: 0.8631 - accuracy: 0.6931 - val_loss: 0.9111 - val_accuracy: 0.6868\n",
            "Epoch 17/35\n",
            "390/390 [==============================] - 7s 18ms/step - loss: 0.8479 - accuracy: 0.7001 - val_loss: 0.9061 - val_accuracy: 0.6872\n",
            "Epoch 18/35\n",
            "390/390 [==============================] - 7s 18ms/step - loss: 0.8287 - accuracy: 0.7063 - val_loss: 0.8896 - val_accuracy: 0.6939\n",
            "Epoch 19/35\n",
            "390/390 [==============================] - 7s 18ms/step - loss: 0.8194 - accuracy: 0.7100 - val_loss: 0.9022 - val_accuracy: 0.6885\n",
            "Epoch 20/35\n",
            "390/390 [==============================] - 7s 18ms/step - loss: 0.8019 - accuracy: 0.7136 - val_loss: 0.9305 - val_accuracy: 0.6814\n",
            "Epoch 21/35\n",
            "390/390 [==============================] - 7s 18ms/step - loss: 0.7894 - accuracy: 0.7211 - val_loss: 0.9044 - val_accuracy: 0.6875\n",
            "Epoch 22/35\n",
            "390/390 [==============================] - 7s 18ms/step - loss: 0.7782 - accuracy: 0.7233 - val_loss: 0.8772 - val_accuracy: 0.7015\n",
            "Epoch 23/35\n",
            "390/390 [==============================] - 7s 18ms/step - loss: 0.7691 - accuracy: 0.7259 - val_loss: 0.8664 - val_accuracy: 0.7042\n",
            "Epoch 24/35\n",
            "390/390 [==============================] - 7s 18ms/step - loss: 0.7543 - accuracy: 0.7299 - val_loss: 0.8793 - val_accuracy: 0.7002\n",
            "Epoch 25/35\n",
            "390/390 [==============================] - 7s 18ms/step - loss: 0.7468 - accuracy: 0.7341 - val_loss: 0.8546 - val_accuracy: 0.7067\n",
            "Epoch 26/35\n",
            "390/390 [==============================] - 7s 18ms/step - loss: 0.7372 - accuracy: 0.7389 - val_loss: 0.8758 - val_accuracy: 0.7013\n",
            "Epoch 27/35\n",
            "390/390 [==============================] - 7s 18ms/step - loss: 0.7297 - accuracy: 0.7404 - val_loss: 0.8796 - val_accuracy: 0.7022\n",
            "Epoch 28/35\n",
            "390/390 [==============================] - 7s 18ms/step - loss: 0.7272 - accuracy: 0.7405 - val_loss: 0.8733 - val_accuracy: 0.7029\n",
            "Epoch 29/35\n",
            "390/390 [==============================] - 7s 18ms/step - loss: 0.7159 - accuracy: 0.7462 - val_loss: 0.8589 - val_accuracy: 0.7045\n",
            "Epoch 30/35\n",
            "390/390 [==============================] - 7s 18ms/step - loss: 0.7073 - accuracy: 0.7466 - val_loss: 0.8481 - val_accuracy: 0.7102\n",
            "Epoch 31/35\n",
            "390/390 [==============================] - 7s 18ms/step - loss: 0.6976 - accuracy: 0.7511 - val_loss: 0.8618 - val_accuracy: 0.7060\n",
            "Epoch 32/35\n",
            "390/390 [==============================] - 7s 18ms/step - loss: 0.6900 - accuracy: 0.7525 - val_loss: 0.8459 - val_accuracy: 0.7116\n",
            "Epoch 33/35\n",
            "390/390 [==============================] - 7s 18ms/step - loss: 0.6890 - accuracy: 0.7545 - val_loss: 0.8464 - val_accuracy: 0.7115\n",
            "Epoch 34/35\n",
            "390/390 [==============================] - 7s 18ms/step - loss: 0.6802 - accuracy: 0.7574 - val_loss: 0.8394 - val_accuracy: 0.7175\n",
            "Epoch 35/35\n",
            "390/390 [==============================] - 7s 18ms/step - loss: 0.6775 - accuracy: 0.7577 - val_loss: 0.8333 - val_accuracy: 0.7186\n"
          ],
          "name": "stdout"
        }
      ]
    },
    {
      "cell_type": "code",
      "metadata": {
        "id": "6Zh539LdhpVV",
        "colab_type": "code",
        "colab": {
          "base_uri": "https://localhost:8080/",
          "height": 755
        },
        "outputId": "dcbd40a6-7847-4845-fe76-a5303a5260c2"
      },
      "source": [
        "display_training_curves(history.history['accuracy'], history.history['val_accuracy'], 'accuracy', 211)\n",
        "display_training_curves(history.history['loss'], history.history['val_loss'], 'loss', 212)"
      ],
      "execution_count": 26,
      "outputs": [
        {
          "output_type": "display_data",
          "data": {
            "image/png": "[encoded data removed]",
            "text/plain": [
              "<Figure size 720x720 with 2 Axes>"
            ]
          },
          "metadata": {
            "tags": []
          }
        }
      ]
    }
  ]
}