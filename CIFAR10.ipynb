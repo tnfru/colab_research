{
  "nbformat": 4,
  "nbformat_minor": 0,
  "metadata": {
    "colab": {
      "name": "CIFAR10.ipynb",
      "provenance": [],
      "collapsed_sections": [],
      "authorship_tag": "ABX9TyOmiIhOhbXEaMspWl/Wiaw5",
      "include_colab_link": true
    },
    "kernelspec": {
      "name": "python3",
      "display_name": "Python 3"
    },
    "accelerator": "GPU"
  },
  "cells": [
    {
      "cell_type": "markdown",
      "metadata": {
        "id": "view-in-github",
        "colab_type": "text"
      },
      "source": [
        "<a href=\"https://colab.research.google.com/github/tnfru/colab_research/blob/master/CIFAR10.ipynb\" target=\"_parent\"><img src=\"https://colab.research.google.com/assets/colab-badge.svg\" alt=\"Open In Colab\"/></a>"
      ]
    },
    {
      "cell_type": "code",
      "metadata": {
        "id": "GUAn_rXHooFB",
        "colab_type": "code",
        "colab": {
          "base_uri": "https://localhost:8080/",
          "height": 52
        },
        "outputId": "53481c72-a494-40f5-932f-6e5cb223ead6"
      },
      "source": [
        "import pandas as pd\n",
        "import numpy as np\n",
        "from matplotlib import pyplot as plt\n",
        "import sys\n",
        "if 'google.colab' in sys.modules:\n",
        "  %tensorflow_version 2.x\n",
        "import tensorflow as tf\n",
        "from google.colab import drive\n",
        "from sklearn.utils import shuffle\n",
        "from keras.utils.np_utils import to_categorical\n",
        "import copy\n",
        "\n",
        "AUTO = tf.data.experimental.AUTOTUNE"
      ],
      "execution_count": 1,
      "outputs": [
        {
          "output_type": "stream",
          "text": [
            "TensorFlow 2.x selected.\n"
          ],
          "name": "stdout"
        },
        {
          "output_type": "stream",
          "text": [
            "Using TensorFlow backend.\n"
          ],
          "name": "stderr"
        }
      ]
    },
    {
      "cell_type": "markdown",
      "metadata": {
        "id": "c79b_aXqtb4v",
        "colab_type": "text"
      },
      "source": [
        "## Set up TPU"
      ]
    },
    {
      "cell_type": "code",
      "metadata": {
        "id": "ISm9ZgM1risK",
        "colab_type": "code",
        "colab": {
          "base_uri": "https://localhost:8080/",
          "height": 52
        },
        "outputId": "b24da460-21aa-4248-f1f2-026cf03cacc9"
      },
      "source": [
        "try: \n",
        "  tpu = tf.distribute.cluster_resolver.TPUClusterResolver()\n",
        "except ValueError:\n",
        "  tpu = None\n",
        "  gpus = tf.config.experimental.list_logical_devices(\"GPU\")\n",
        "\n",
        "if tpu:\n",
        "  tf.config.experimental_connect_to_cluster(tpu)\n",
        "  tf.tpu.experimental.initialize_tpu_system(tpu)\n",
        "  strategy = tf.distribute.experimental.TPUStrategy(tpu)\n",
        "  print('Running on TPU ', tpu.master())  \n",
        "elif len(gpus) > 0:\n",
        "  strategy = tf.distribute.MirroredStrategy(gpus)\n",
        "  print('Running on ', len(gpus), ' GPU(s) ')\n",
        "else:\n",
        "  strategy = tf.distribute.get_strategy()\n",
        "  print('Running on CPU')"
      ],
      "execution_count": 2,
      "outputs": [
        {
          "output_type": "stream",
          "text": [
            "INFO:tensorflow:Using MirroredStrategy with devices ('/job:localhost/replica:0/task:0/device:GPU:0',)\n",
            "Running on  1  GPU(s) \n"
          ],
          "name": "stdout"
        }
      ]
    },
    {
      "cell_type": "markdown",
      "metadata": {
        "id": "QsSdoN9Gtev0",
        "colab_type": "text"
      },
      "source": [
        "## Read Data from Google Drive"
      ]
    },
    {
      "cell_type": "code",
      "metadata": {
        "id": "yIHh7Zc1rlWI",
        "colab_type": "code",
        "colab": {
          "base_uri": "https://localhost:8080/",
          "height": 34
        },
        "outputId": "44b138b8-048d-4402-b25a-79a2813d2af1"
      },
      "source": [
        "drive.mount('/content/drive')"
      ],
      "execution_count": 3,
      "outputs": [
        {
          "output_type": "stream",
          "text": [
            "Drive already mounted at /content/drive; to attempt to forcibly remount, call drive.mount(\"/content/drive\", force_remount=True).\n"
          ],
          "name": "stdout"
        }
      ]
    },
    {
      "cell_type": "code",
      "metadata": {
        "id": "ZifyU4surqe-",
        "colab_type": "code",
        "colab": {}
      },
      "source": [
        "PATH=\"/content/drive/My Drive/data/CIFAR10/\""
      ],
      "execution_count": 0,
      "outputs": []
    },
    {
      "cell_type": "code",
      "metadata": {
        "id": "Cc5RVaeSnygq",
        "colab_type": "code",
        "colab": {}
      },
      "source": [
        "def unpickle(file):\n",
        "    import pickle\n",
        "    with open(file, 'rb') as fo:\n",
        "        dict = pickle.load(fo, encoding='bytes')\n",
        "    return dict"
      ],
      "execution_count": 0,
      "outputs": []
    },
    {
      "cell_type": "code",
      "metadata": {
        "id": "Zh0gcg4Arvqf",
        "colab_type": "code",
        "colab": {}
      },
      "source": [
        "db_1 = unpickle(PATH + \"data_batch_1\")\n",
        "db_2 = unpickle(PATH + \"data_batch_2\")\n",
        "db_3 = unpickle(PATH + \"data_batch_3\")\n",
        "db_4 = unpickle(PATH + \"data_batch_4\")\n",
        "db_5 = unpickle(PATH + \"data_batch_5\")\n",
        "test_data = unpickle(PATH + \"test_batch\")\n",
        "meta = unpickle(PATH + \"batches.meta\")"
      ],
      "execution_count": 0,
      "outputs": []
    },
    {
      "cell_type": "code",
      "metadata": {
        "id": "RKiTLW-8s7Vb",
        "colab_type": "code",
        "colab": {
          "base_uri": "https://localhost:8080/",
          "height": 34
        },
        "outputId": "16b3b416-10e2-4742-ea55-9ea3b57c331b"
      },
      "source": [
        "db_1[b'data'].shape, len(db_1[b'labels'])"
      ],
      "execution_count": 7,
      "outputs": [
        {
          "output_type": "execute_result",
          "data": {
            "text/plain": [
              "((10000, 3072), 10000)"
            ]
          },
          "metadata": {
            "tags": []
          },
          "execution_count": 7
        }
      ]
    },
    {
      "cell_type": "markdown",
      "metadata": {
        "id": "0hCaFfnGwjHN",
        "colab_type": "text"
      },
      "source": [
        "## Transform data"
      ]
    },
    {
      "cell_type": "code",
      "metadata": {
        "id": "iPk_QoZHv46F",
        "colab_type": "code",
        "colab": {}
      },
      "source": [
        "IMG_SIZE = [32, 32]\n",
        "BATCH_SIZE = 128"
      ],
      "execution_count": 0,
      "outputs": []
    },
    {
      "cell_type": "code",
      "metadata": {
        "id": "lH81_m4KwzZn",
        "colab_type": "code",
        "colab": {
          "base_uri": "https://localhost:8080/",
          "height": 34
        },
        "outputId": "75c3f648-01e6-473d-dd5b-e08684611889"
      },
      "source": [
        "X = np.append(db_1[b'data'], db_2[b'data'], axis=0)\n",
        "X = np.append(X, db_3[b'data'], axis=0)\n",
        "X = np.append(X, db_4[b'data'], axis=0)\n",
        "X = np.append(X, db_5[b'data'], axis=0)\n",
        "X = X.reshape(-1, *IMG_SIZE, 3)\n",
        "X.shape"
      ],
      "execution_count": 9,
      "outputs": [
        {
          "output_type": "execute_result",
          "data": {
            "text/plain": [
              "(50000, 32, 32, 3)"
            ]
          },
          "metadata": {
            "tags": []
          },
          "execution_count": 9
        }
      ]
    },
    {
      "cell_type": "code",
      "metadata": {
        "id": "esvZW1IByffT",
        "colab_type": "code",
        "colab": {
          "base_uri": "https://localhost:8080/",
          "height": 34
        },
        "outputId": "d4ed18fe-ef5d-4363-980f-69be5401350e"
      },
      "source": [
        "Y = copy.copy(db_1[b'labels'])\n",
        "Y.extend(db_2[b'labels'])\n",
        "Y.extend(db_3[b'labels'])\n",
        "Y.extend(db_4[b'labels'])\n",
        "Y.extend(db_5[b'labels'])\n",
        "Y = np.array(Y)\n",
        "Y = to_categorical(Y.reshape(-1, 1), num_classes=10)\n",
        "Y.shape"
      ],
      "execution_count": 10,
      "outputs": [
        {
          "output_type": "execute_result",
          "data": {
            "text/plain": [
              "(50000, 10)"
            ]
          },
          "metadata": {
            "tags": []
          },
          "execution_count": 10
        }
      ]
    },
    {
      "cell_type": "code",
      "metadata": {
        "id": "EKwvPPwFACJQ",
        "colab_type": "code",
        "colab": {
          "base_uri": "https://localhost:8080/",
          "height": 34
        },
        "outputId": "76a90535-8e3d-4013-c714-9a81a84e7b2c"
      },
      "source": [
        "X_test = test_data[b'data'].reshape(-1, *IMG_SIZE, 3)\n",
        "Y_test = to_categorical(np.array(test_data[b'labels']).reshape(-1, 1), num_classes=10)\n",
        "X_test.shape, Y_test.shape"
      ],
      "execution_count": 11,
      "outputs": [
        {
          "output_type": "execute_result",
          "data": {
            "text/plain": [
              "((10000, 32, 32, 3), (10000, 10))"
            ]
          },
          "metadata": {
            "tags": []
          },
          "execution_count": 11
        }
      ]
    },
    {
      "cell_type": "markdown",
      "metadata": {
        "id": "HCSNqPnm-yFA",
        "colab_type": "text"
      },
      "source": [
        "## Heal and normalize data"
      ]
    },
    {
      "cell_type": "code",
      "metadata": {
        "id": "1m2gtftjz7nV",
        "colab_type": "code",
        "colab": {
          "base_uri": "https://localhost:8080/",
          "height": 34
        },
        "outputId": "922355ea-7c92-4245-9176-ce5a530e26fb"
      },
      "source": [
        " np.isnan(X).sum()"
      ],
      "execution_count": 12,
      "outputs": [
        {
          "output_type": "execute_result",
          "data": {
            "text/plain": [
              "0"
            ]
          },
          "metadata": {
            "tags": []
          },
          "execution_count": 12
        }
      ]
    },
    {
      "cell_type": "code",
      "metadata": {
        "id": "R4OyvBq86vs3",
        "colab_type": "code",
        "colab": {}
      },
      "source": [
        "X = X / 255.0\n",
        "X_test = X_test / 255.0\n",
        "X = X - X.mean(axis=0)\n",
        "X_test = X_test - X_test.mean(axis=0)"
      ],
      "execution_count": 0,
      "outputs": []
    },
    {
      "cell_type": "code",
      "metadata": {
        "id": "7y6-BZa3CQUm",
        "colab_type": "code",
        "colab": {
          "base_uri": "https://localhost:8080/",
          "height": 34
        },
        "outputId": "7d018280-98be-4417-9d80-5068e68ccd54"
      },
      "source": [
        "X.mean()"
      ],
      "execution_count": 14,
      "outputs": [
        {
          "output_type": "execute_result",
          "data": {
            "text/plain": [
              "-1.2150526510860496e-14"
            ]
          },
          "metadata": {
            "tags": []
          },
          "execution_count": 14
        }
      ]
    },
    {
      "cell_type": "code",
      "metadata": {
        "id": "SqgkP_usV_s1",
        "colab_type": "code",
        "colab": {}
      },
      "source": [
        "X = X / X.std(axis=0)\n",
        "X_test = X_test / X_test.std(axis=0)"
      ],
      "execution_count": 0,
      "outputs": []
    },
    {
      "cell_type": "code",
      "metadata": {
        "id": "g1olSX8sIix1",
        "colab_type": "code",
        "colab": {
          "base_uri": "https://localhost:8080/",
          "height": 34
        },
        "outputId": "fa92d81f-67a4-46ef-fa12-f1ab3d176f86"
      },
      "source": [
        "X.std(axis=0).sum() / (32 * 32 * 3)"
      ],
      "execution_count": 16,
      "outputs": [
        {
          "output_type": "execute_result",
          "data": {
            "text/plain": [
              "1.000000000000001"
            ]
          },
          "metadata": {
            "tags": []
          },
          "execution_count": 16
        }
      ]
    },
    {
      "cell_type": "markdown",
      "metadata": {
        "id": "j2mHKDxAaVNw",
        "colab_type": "text"
      },
      "source": [
        "## Convert Data to batches"
      ]
    },
    {
      "cell_type": "code",
      "metadata": {
        "id": "elfENK_MahUu",
        "colab_type": "code",
        "colab": {}
      },
      "source": [
        "def get_batched_dataset(dataset, train=False):\n",
        "  if train:\n",
        "    dataset = dataset.repeat()\n",
        "    dataset = dataset.shuffle(1337)\n",
        "\n",
        "  dataset = dataset.batch(BATCH_SIZE)\n",
        "  dataset = dataset.prefetch(AUTO)\n",
        "  return dataset"
      ],
      "execution_count": 0,
      "outputs": []
    },
    {
      "cell_type": "code",
      "metadata": {
        "id": "IIic4FECalbX",
        "colab_type": "code",
        "colab": {}
      },
      "source": [
        "train_dataset = tf.data.Dataset.from_tensor_slices((X, Y))\n",
        "test_dataset = tf.data.Dataset.from_tensor_slices((X_test, Y_test))\n",
        "\n",
        "train = get_batched_dataset(train_dataset, train=True)\n",
        "test = get_batched_dataset(test_dataset)"
      ],
      "execution_count": 0,
      "outputs": []
    },
    {
      "cell_type": "code",
      "metadata": {
        "id": "7wAcYIn1bWnE",
        "colab_type": "code",
        "colab": {}
      },
      "source": [
        "l = tf.keras.layers"
      ],
      "execution_count": 0,
      "outputs": []
    },
    {
      "cell_type": "code",
      "metadata": {
        "id": "P8m1bHs2dT33",
        "colab_type": "code",
        "colab": {}
      },
      "source": [
        "def create_model():\n",
        "  model = tf.keras.Sequential([\n",
        "    l.Conv2D(kernel_size=3, filters=16, padding='same', activation='relu', input_shape=(*IMG_SIZE, 3)),\n",
        "    l.BatchNormalization(),\n",
        "    l.Conv2D(kernel_size=3, filters=32, padding='same', activation='relu'),\n",
        "    l.BatchNormalization(),\n",
        "    l.MaxPooling2D(),\n",
        "    l.Dropout(0.5),\n",
        "\n",
        "    l.Conv2D(kernel_size=3, filters=64, padding='same', activation='relu'),\n",
        "    l.BatchNormalization(),\n",
        "    l.Conv2D(kernel_size=3, filters=64, padding='same', activation='relu'),\n",
        "    l.BatchNormalization(),\n",
        "    l.MaxPooling2D(),\n",
        "    l.Dropout(0.5),\n",
        "    \n",
        "    l.Conv2D(kernel_size=3, filters=128, padding='same', activation='relu'),\n",
        "    l.BatchNormalization(),\n",
        "    l.Conv2D(kernel_size=3, filters=128, padding='same', activation='relu'),\n",
        "    l.BatchNormalization(),\n",
        "    l.MaxPooling2D(),\n",
        "    l.Dropout(0.5),\n",
        "\n",
        "    l.Conv2D(kernel_size=3, filters=128, padding='same', activation='relu'),\n",
        "    l.BatchNormalization(),\n",
        "    l.Flatten(),\n",
        "    l.Dense(10, activation='softmax')\n",
        "  ])\n",
        "\n",
        "  model.compile(\n",
        "      optimizer='adam',\n",
        "      loss='categorical_crossentropy',\n",
        "      metrics=['accuracy']\n",
        "  )\n",
        "\n",
        "  return model"
      ],
      "execution_count": 0,
      "outputs": []
    },
    {
      "cell_type": "code",
      "metadata": {
        "id": "fByVbBlugtU2",
        "colab_type": "code",
        "colab": {
          "base_uri": "https://localhost:8080/",
          "height": 1000
        },
        "outputId": "aeb58c7a-b770-410d-af55-305718679234"
      },
      "source": [
        "with strategy.scope():\n",
        "  model = create_model()\n",
        "\n",
        "  model.summary()"
      ],
      "execution_count": 21,
      "outputs": [
        {
          "output_type": "stream",
          "text": [
            "INFO:tensorflow:Reduce to /job:localhost/replica:0/task:0/device:CPU:0 then broadcast to ('/job:localhost/replica:0/task:0/device:CPU:0',).\n",
            "INFO:tensorflow:Reduce to /job:localhost/replica:0/task:0/device:CPU:0 then broadcast to ('/job:localhost/replica:0/task:0/device:CPU:0',).\n",
            "INFO:tensorflow:Reduce to /job:localhost/replica:0/task:0/device:CPU:0 then broadcast to ('/job:localhost/replica:0/task:0/device:CPU:0',).\n",
            "INFO:tensorflow:Reduce to /job:localhost/replica:0/task:0/device:CPU:0 then broadcast to ('/job:localhost/replica:0/task:0/device:CPU:0',).\n",
            "INFO:tensorflow:Reduce to /job:localhost/replica:0/task:0/device:CPU:0 then broadcast to ('/job:localhost/replica:0/task:0/device:CPU:0',).\n",
            "INFO:tensorflow:Reduce to /job:localhost/replica:0/task:0/device:CPU:0 then broadcast to ('/job:localhost/replica:0/task:0/device:CPU:0',).\n",
            "INFO:tensorflow:Reduce to /job:localhost/replica:0/task:0/device:CPU:0 then broadcast to ('/job:localhost/replica:0/task:0/device:CPU:0',).\n",
            "INFO:tensorflow:Reduce to /job:localhost/replica:0/task:0/device:CPU:0 then broadcast to ('/job:localhost/replica:0/task:0/device:CPU:0',).\n",
            "INFO:tensorflow:Reduce to /job:localhost/replica:0/task:0/device:CPU:0 then broadcast to ('/job:localhost/replica:0/task:0/device:CPU:0',).\n",
            "INFO:tensorflow:Reduce to /job:localhost/replica:0/task:0/device:CPU:0 then broadcast to ('/job:localhost/replica:0/task:0/device:CPU:0',).\n",
            "Model: \"sequential\"\n",
            "_________________________________________________________________\n",
            "Layer (type)                 Output Shape              Param #   \n",
            "=================================================================\n",
            "conv2d (Conv2D)              (None, 32, 32, 16)        448       \n",
            "_________________________________________________________________\n",
            "batch_normalization (BatchNo (None, 32, 32, 16)        64        \n",
            "_________________________________________________________________\n",
            "conv2d_1 (Conv2D)            (None, 32, 32, 32)        4640      \n",
            "_________________________________________________________________\n",
            "batch_normalization_1 (Batch (None, 32, 32, 32)        128       \n",
            "_________________________________________________________________\n",
            "max_pooling2d (MaxPooling2D) (None, 16, 16, 32)        0         \n",
            "_________________________________________________________________\n",
            "dropout (Dropout)            (None, 16, 16, 32)        0         \n",
            "_________________________________________________________________\n",
            "conv2d_2 (Conv2D)            (None, 16, 16, 64)        18496     \n",
            "_________________________________________________________________\n",
            "batch_normalization_2 (Batch (None, 16, 16, 64)        256       \n",
            "_________________________________________________________________\n",
            "conv2d_3 (Conv2D)            (None, 16, 16, 64)        36928     \n",
            "_________________________________________________________________\n",
            "batch_normalization_3 (Batch (None, 16, 16, 64)        256       \n",
            "_________________________________________________________________\n",
            "max_pooling2d_1 (MaxPooling2 (None, 8, 8, 64)          0         \n",
            "_________________________________________________________________\n",
            "dropout_1 (Dropout)          (None, 8, 8, 64)          0         \n",
            "_________________________________________________________________\n",
            "conv2d_4 (Conv2D)            (None, 8, 8, 128)         73856     \n",
            "_________________________________________________________________\n",
            "batch_normalization_4 (Batch (None, 8, 8, 128)         512       \n",
            "_________________________________________________________________\n",
            "conv2d_5 (Conv2D)            (None, 8, 8, 128)         147584    \n",
            "_________________________________________________________________\n",
            "batch_normalization_5 (Batch (None, 8, 8, 128)         512       \n",
            "_________________________________________________________________\n",
            "max_pooling2d_2 (MaxPooling2 (None, 4, 4, 128)         0         \n",
            "_________________________________________________________________\n",
            "dropout_2 (Dropout)          (None, 4, 4, 128)         0         \n",
            "_________________________________________________________________\n",
            "conv2d_6 (Conv2D)            (None, 4, 4, 128)         147584    \n",
            "_________________________________________________________________\n",
            "batch_normalization_6 (Batch (None, 4, 4, 128)         512       \n",
            "_________________________________________________________________\n",
            "flatten (Flatten)            (None, 2048)              0         \n",
            "_________________________________________________________________\n",
            "dense (Dense)                (None, 10)                20490     \n",
            "=================================================================\n",
            "Total params: 452,266\n",
            "Trainable params: 451,146\n",
            "Non-trainable params: 1,120\n",
            "_________________________________________________________________\n"
          ],
          "name": "stdout"
        }
      ]
    },
    {
      "cell_type": "code",
      "metadata": {
        "id": "nNDG6S0rhLYB",
        "colab_type": "code",
        "colab": {}
      },
      "source": [
        "def lr_fun(x):\n",
        "  return 1e-3 * 0.95 ** x"
      ],
      "execution_count": 0,
      "outputs": []
    },
    {
      "cell_type": "code",
      "metadata": {
        "id": "Tt2uWFX6lZhQ",
        "colab_type": "code",
        "colab": {}
      },
      "source": [
        "def display_training_curves(training, validation, title, subplot):\n",
        "  #stolen from google cnn tutorial\n",
        "  if subplot%10==1:\n",
        "    plt.subplots(figsize=(10,10), facecolor='#F0F0F0')\n",
        "    plt.tight_layout()\n",
        "  ax = plt.subplot(subplot)\n",
        "  ax.set_facecolor('#F8F8F8')\n",
        "  ax.plot(training)\n",
        "  ax.plot(validation)\n",
        "  ax.set_title('model '+ title)\n",
        "  ax.set_ylabel(title)\n",
        "  ax.set_xlabel('epoch')\n",
        "  ax.legend(['train', 'valid.'])"
      ],
      "execution_count": 0,
      "outputs": []
    },
    {
      "cell_type": "code",
      "metadata": {
        "id": "0ebi-Kk3ka6_",
        "colab_type": "code",
        "colab": {
          "base_uri": "https://localhost:8080/",
          "height": 191
        },
        "outputId": "7c647db5-7f40-4903-e6dd-3d6f4ad73710"
      },
      "source": [
        "meta[b'label_names']"
      ],
      "execution_count": 24,
      "outputs": [
        {
          "output_type": "execute_result",
          "data": {
            "text/plain": [
              "[b'airplane',\n",
              " b'automobile',\n",
              " b'bird',\n",
              " b'cat',\n",
              " b'deer',\n",
              " b'dog',\n",
              " b'frog',\n",
              " b'horse',\n",
              " b'ship',\n",
              " b'truck']"
            ]
          },
          "metadata": {
            "tags": []
          },
          "execution_count": 24
        }
      ]
    },
    {
      "cell_type": "code",
      "metadata": {
        "id": "0LEvqebghQ5K",
        "colab_type": "code",
        "colab": {
          "base_uri": "https://localhost:8080/",
          "height": 555
        },
        "outputId": "c32c7726-6475-4441-f6cc-93eaeffdc253"
      },
      "source": [
        "EPOCHS = 40\n",
        "\n",
        "annealer = tf.keras.callbacks.LearningRateScheduler(lr_fun)\n",
        "steps_per_epoch = X.shape[0] // BATCH_SIZE\n",
        "\n",
        "history = model.fit(train, steps_per_epoch=steps_per_epoch, epochs=EPOCHS, validation_data=test, callbacks=[annealer], verbose=1)"
      ],
      "execution_count": 0,
      "outputs": [
        {
          "output_type": "stream",
          "text": [
            "Train for 390 steps, validate for 79 steps\n",
            "Epoch 1/40\n",
            "390/390 [==============================] - 14s 36ms/step - loss: 1.8533 - accuracy: 0.3505 - val_loss: 1.7100 - val_accuracy: 0.3876\n",
            "Epoch 2/40\n",
            "390/390 [==============================] - 7s 18ms/step - loss: 1.5162 - accuracy: 0.4594 - val_loss: 1.5640 - val_accuracy: 0.4726\n",
            "Epoch 3/40\n",
            "390/390 [==============================] - 7s 18ms/step - loss: 1.3900 - accuracy: 0.5053 - val_loss: 1.5110 - val_accuracy: 0.4984\n",
            "Epoch 4/40\n",
            "390/390 [==============================] - 7s 18ms/step - loss: 1.2962 - accuracy: 0.5415 - val_loss: 1.3049 - val_accuracy: 0.5450\n",
            "Epoch 5/40\n",
            "390/390 [==============================] - 7s 18ms/step - loss: 1.2194 - accuracy: 0.5667 - val_loss: 1.2292 - val_accuracy: 0.5833\n",
            "Epoch 6/40\n",
            "390/390 [==============================] - 7s 18ms/step - loss: 1.1707 - accuracy: 0.5855 - val_loss: 1.2063 - val_accuracy: 0.5899\n",
            "Epoch 7/40\n",
            "390/390 [==============================] - 7s 18ms/step - loss: 1.1224 - accuracy: 0.6038 - val_loss: 1.2050 - val_accuracy: 0.5961\n",
            "Epoch 8/40\n",
            "390/390 [==============================] - 7s 18ms/step - loss: 1.0718 - accuracy: 0.6207 - val_loss: 1.0999 - val_accuracy: 0.6240\n",
            "Epoch 9/40\n",
            "390/390 [==============================] - 7s 18ms/step - loss: 1.0389 - accuracy: 0.6333 - val_loss: 1.0843 - val_accuracy: 0.6287\n",
            "Epoch 10/40\n",
            "390/390 [==============================] - 7s 18ms/step - loss: 1.0111 - accuracy: 0.6443 - val_loss: 1.0488 - val_accuracy: 0.6369\n",
            "Epoch 11/40\n",
            "390/390 [==============================] - 7s 18ms/step - loss: 0.9826 - accuracy: 0.6514 - val_loss: 1.0095 - val_accuracy: 0.6404\n",
            "Epoch 12/40\n",
            "390/390 [==============================] - 7s 18ms/step - loss: 0.9553 - accuracy: 0.6609 - val_loss: 0.9867 - val_accuracy: 0.6601\n",
            "Epoch 13/40\n",
            "390/390 [==============================] - 7s 18ms/step - loss: 0.9305 - accuracy: 0.6685 - val_loss: 0.9856 - val_accuracy: 0.6630\n",
            "Epoch 14/40\n",
            "390/390 [==============================] - 7s 18ms/step - loss: 0.9145 - accuracy: 0.6747 - val_loss: 0.9873 - val_accuracy: 0.6621\n",
            "Epoch 15/40\n",
            "349/390 [=========================>....] - ETA: 0s - loss: 0.8992 - accuracy: 0.6815"
          ],
          "name": "stdout"
        }
      ]
    },
    {
      "cell_type": "code",
      "metadata": {
        "id": "6Zh539LdhpVV",
        "colab_type": "code",
        "colab": {}
      },
      "source": [
        "display_training_curves(history.history['accuracy'], history.history['val_accuracy'], 'accuracy', 211)\n",
        "display_training_curves(history.history['loss'], history.history['val_loss'], 'loss', 212)"
      ],
      "execution_count": 0,
      "outputs": []
    },
    {
      "cell_type": "markdown",
      "metadata": {
        "id": "jYeXKv1eyeFB",
        "colab_type": "text"
      },
      "source": [
        "## View some examples"
      ]
    },
    {
      "cell_type": "code",
      "metadata": {
        "id": "rRuBTzFItF43",
        "colab_type": "code",
        "colab": {}
      },
      "source": [
        "def plot_CIFAR(ind, X):\n",
        "  # credit https://www.quora.com/How-can-l-visualize-cifar-10-data-RGB-using-python-matplotlib\n",
        "\n",
        "    arr = X[ind]\n",
        "    R = arr[0:1024].reshape(32,32)/255.0\n",
        "    G = arr[1024:2048].reshape(32,32)/255.0\n",
        "    B = arr[2048:].reshape(32,32)/255.0\n",
        " \n",
        "    img = np.dstack((R,G,B))\n",
        "    fig = plt.figure(figsize=(3,3))\n",
        "    ax = fig.add_subplot(111)\n",
        "    ax.imshow(img,interpolation='bicubic')\n"
      ],
      "execution_count": 0,
      "outputs": []
    },
    {
      "cell_type": "code",
      "metadata": {
        "id": "T0w36fv-xIKB",
        "colab_type": "code",
        "colab": {}
      },
      "source": [
        "def prediction_vs_true(ind, X):\n",
        "  print(\"Model prediction\", labels[np.argmax(model.predict(X[b'data'][ind].reshape(-1, 32, 32, 3)))])\n",
        "  print(\"Correct prediction\", labels[X[b'labels'][ind]])"
      ],
      "execution_count": 0,
      "outputs": []
    },
    {
      "cell_type": "code",
      "metadata": {
        "id": "pU3mpZESwQM1",
        "colab_type": "code",
        "colab": {}
      },
      "source": [
        "labels = meta[b'label_names']\n",
        "labels"
      ],
      "execution_count": 0,
      "outputs": []
    },
    {
      "cell_type": "code",
      "metadata": {
        "id": "OVNT6H_UtJ9t",
        "colab_type": "code",
        "colab": {}
      },
      "source": [
        "plot_CIFAR(5, db_1[b'data'])"
      ],
      "execution_count": 0,
      "outputs": []
    },
    {
      "cell_type": "code",
      "metadata": {
        "id": "xWI90jAIwYZ-",
        "colab_type": "code",
        "colab": {}
      },
      "source": [
        "prediction_vs_true(5, db_1)"
      ],
      "execution_count": 0,
      "outputs": []
    },
    {
      "cell_type": "code",
      "metadata": {
        "id": "jHmOkCW0teZa",
        "colab_type": "code",
        "colab": {}
      },
      "source": [
        "plot_CIFAR(7, db_1[b'data'])"
      ],
      "execution_count": 0,
      "outputs": []
    },
    {
      "cell_type": "code",
      "metadata": {
        "id": "MTSiVFItx2Y6",
        "colab_type": "code",
        "colab": {}
      },
      "source": [
        "prediction_vs_true(7, db_1)"
      ],
      "execution_count": 0,
      "outputs": []
    },
    {
      "cell_type": "code",
      "metadata": {
        "id": "udd18KhOtfrh",
        "colab_type": "code",
        "colab": {}
      },
      "source": [
        "plot_CIFAR(50, db_1[b'data'])"
      ],
      "execution_count": 0,
      "outputs": []
    },
    {
      "cell_type": "code",
      "metadata": {
        "id": "h9zGqT0nyVwM",
        "colab_type": "code",
        "colab": {}
      },
      "source": [
        "prediction_vs_true(50, db_1)"
      ],
      "execution_count": 0,
      "outputs": []
    }
  ]
}