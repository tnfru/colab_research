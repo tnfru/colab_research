{
  "nbformat": 4,
  "nbformat_minor": 0,
  "metadata": {
    "colab": {
      "name": "PricePred_vec.ipynb",
      "provenance": [],
      "collapsed_sections": [],
      "machine_shape": "hm",
      "authorship_tag": "ABX9TyMoadwTbSuf9Hrep5w/lu1b",
      "include_colab_link": true
    },
    "kernelspec": {
      "name": "python3",
      "display_name": "Python 3"
    }
  },
  "cells": [
    {
      "cell_type": "markdown",
      "metadata": {
        "id": "view-in-github",
        "colab_type": "text"
      },
      "source": [
        "<a href=\"https://colab.research.google.com/github/tnfru/colab_research/blob/master/PricePred_test.ipynb\" target=\"_parent\"><img src=\"https://colab.research.google.com/assets/colab-badge.svg\" alt=\"Open In Colab\"/></a>"
      ]
    },
    {
      "cell_type": "code",
      "metadata": {
        "id": "ofV1C0SIU08u",
        "colab_type": "code",
        "colab": {}
      },
      "source": [
        "import pandas as pd\n",
        "import numpy as np\n",
        "from tensorflow.nn import softmax\n",
        "from copy import deepcopy, copy\n",
        "import time"
      ],
      "execution_count": 0,
      "outputs": []
    },
    {
      "cell_type": "code",
      "metadata": {
        "id": "RZT3V1T2U5wL",
        "colab_type": "code",
        "colab": {}
      },
      "source": [
        "data = pd.read_excel('https://filebin.net/d71dl6ly0ucp7zwg/Beispiel_-_Superstore.xls?t=sn84fyr5')"
      ],
      "execution_count": 0,
      "outputs": []
    },
    {
      "cell_type": "code",
      "metadata": {
        "id": "67SNHxyEU9CX",
        "colab_type": "code",
        "colab": {}
      },
      "source": [
        "df = data.drop(['Kundenname'], axis=1)"
      ],
      "execution_count": 0,
      "outputs": []
    },
    {
      "cell_type": "code",
      "metadata": {
        "colab_type": "code",
        "id": "Ezph_4Ifwc-7",
        "colab": {}
      },
      "source": [
        "def encode(df, column):\n",
        "  df[column] = df[column].astype('category')\n",
        "  df[column + \"_cat\"] = df[column].cat.codes"
      ],
      "execution_count": 0,
      "outputs": []
    },
    {
      "cell_type": "code",
      "metadata": {
        "id": "Ca3tr4LNwIko",
        "colab_type": "code",
        "colab": {}
      },
      "source": [
        "def encode_labels(df):\n",
        "  labels_to_encode = [\"Auftrags-ID\", \"Kunden-ID\", \"Bestelldatum\", \"Produkt-ID\"]\n",
        "  df = df.sort_values(by=[\"Bestelldatum\"])\n",
        "\n",
        "  for label in labels_to_encode:\n",
        "    encode(df, label)\n",
        "\n",
        "  labels_to_encode = [\"Land/Region\", \"Bundesland\", \"Stadt\"]\n",
        "  df = df.sort_values(by=labels_to_encode)\n",
        "\n",
        "  for label in labels_to_encode:\n",
        "    encode(df, label)\n",
        "\n",
        "  df = df.drop([\"Auftrags-ID\", \"Kunden-ID\", \"Bestelldatum\",\n",
        "             \"Land/Region\", \"Bundesland\", \"Stadt\", \"Versanddatum\", \n",
        "             \"Produkt-ID\", \"Zeilen-ID\"], axis=1)\n",
        "  return df"
      ],
      "execution_count": 0,
      "outputs": []
    },
    {
      "cell_type": "code",
      "metadata": {
        "id": "pPnud4AJXWJm",
        "colab_type": "code",
        "colab": {}
      },
      "source": [
        "def get_separated_entities(df):\n",
        "  df = encode_labels(df)\n",
        "\n",
        "  items = df.drop(columns=[\"Kunden-ID_cat\", \"Bestelldatum_cat\", \"Auftrags-ID_cat\", \n",
        "                \"Land/Region_cat\", \"Bundesland_cat\", \"Stadt_cat\", \"Region\", \n",
        "                \"Segment\", \"Versandmodus\"], axis=1)\n",
        "  items = pd.get_dummies(items, columns=[\"Kategorie\" , \"Unterkategorie\"])\n",
        "  \n",
        "\n",
        "\n",
        "  transactions = pd.get_dummies(df, columns=[\"Segment\", \"Versandmodus\", \"Region\", \"Kategorie\"]).drop(\"Produktname\", axis=1)\n",
        "\n",
        "  customers = df.drop(columns=[\"Versandmodus\", \"Produktname\", \"Kategorie\", \"Gewinn\",\n",
        "                             \"Bestelldatum_cat\", \"Produkt-ID_cat\", \"Kunden-ID_cat\", \"Unterkategorie\"], axis=1)\n",
        "  customers = pd.get_dummies(customers, columns=[\"Segment\", \"Region\"])\n",
        "\n",
        "  return items, customers, transactions\n",
        "  "
      ],
      "execution_count": 0,
      "outputs": []
    },
    {
      "cell_type": "code",
      "metadata": {
        "colab_type": "code",
        "id": "ek6FoD91GPxT",
        "colab": {}
      },
      "source": [
        "def cosine_sim(a, b):\n",
        "  return a @ b / (np.linalg.norm(a) * np.linalg.norm(b))"
      ],
      "execution_count": 0,
      "outputs": []
    },
    {
      "cell_type": "code",
      "metadata": {
        "id": "Zi_P0VEoFStj",
        "colab_type": "code",
        "colab": {}
      },
      "source": [
        "def create_CPM(data):\n",
        "  cpm_shape = data[\"Kunden-ID\"].nunique(), data[\"Produkt-ID\"].nunique()\n",
        "  CPM = np.zeros(cpm_shape)\n",
        "  cpm_inp = data.drop(columns=[\"Auftrags-ID\", \"Zeilen-ID\", \"Versanddatum\", \"Bestelldatum\", \n",
        "                   \"Versandmodus\", \"Kundenname\", \"Segment\", \"Stadt\", \"Bundesland\", \n",
        "                   \"Land/Region\", \"Region\", \"Kategorie\", \"Unterkategorie\", \"Umsatz\",\n",
        "                   \"Menge\", \"Rabatt\", \"Gewinn\", \"Produktname\"], axis=1)\n",
        "  encode(cpm_inp, \"Kunden-ID\")\n",
        "  encode(cpm_inp, \"Produkt-ID\")\n",
        "  cpm_inp = cpm_inp.drop([\"Kunden-ID\", \"Produkt-ID\"], axis=1).values\n",
        "\n",
        "  for i in range(len(cpm_inp)):\n",
        "    cust_id = cpm_inp[i][0]\n",
        "    prod_id = cpm_inp[i][1]\n",
        "\n",
        "    CPM[cust_id][prod_id] = 1\n",
        "  \n",
        "  return CPM"
      ],
      "execution_count": 0,
      "outputs": []
    },
    {
      "cell_type": "code",
      "metadata": {
        "id": "Yj0pWEJ_LkyT",
        "colab_type": "code",
        "colab": {}
      },
      "source": [
        "def create_PPM(items, print_progress=False):\n",
        "  ppm_shape = items[\"Produkt-ID_cat\"].nunique(), items[\"Produkt-ID_cat\"].nunique()\n",
        "  PPM = np.zeros(ppm_shape)\n",
        "  \n",
        "  ppm_inp = items.drop([\"Produktname\", \"Gewinn\", \"Rabatt\"], axis=1)\n",
        "  ppm_inp[\"Umsatz\"] = ppm_inp[\"Umsatz\"].values / ppm_inp[\"Menge\"].values\n",
        "  ppm_inp = ppm_inp.rename(columns={\"Umsatz\" : \"Preis\"}).drop([\"Menge\"], axis=1)\n",
        "  ppm_inp['Preis'] = (ppm_inp['Preis'].values - ppm_inp['Preis'].values.mean()) / ppm_inp['Preis'].values.std()\n",
        "\n",
        "  ppm_inp = ppm_inp.groupby([\"Produkt-ID_cat\"]).sum()\n",
        "  number_of_entries = ppm_inp[[\"Kategorie_Bürobedarf\", \"Kategorie_Möbel\", \"Kategorie_Technik\"]].values.sum(axis=1)\n",
        "  ppm_inp = ppm_inp.divide(number_of_entries, axis=0)\n",
        "  ppm_inp = ppm_inp.values\n",
        "\n",
        "  n = ppm_shape[0]\n",
        "\n",
        "  for i in range(n):\n",
        "    for j in range(i + 1, n):\n",
        "      PPM[i][j] = cosine_sim(ppm_inp[i], ppm_inp[j])\n",
        "\n",
        "    if print_progress and i % 100 == 0:\n",
        "      print(round(i / n, 2) * 100 , \"% done\")\n",
        "\n",
        "  return PPM"
      ],
      "execution_count": 0,
      "outputs": []
    },
    {
      "cell_type": "code",
      "metadata": {
        "id": "C3QMLTaj1vix",
        "colab_type": "code",
        "colab": {}
      },
      "source": [
        "def ppm_recommendations(PPM):\n",
        "  return argmax(PPM, axis=1)"
      ],
      "execution_count": 0,
      "outputs": []
    },
    {
      "cell_type": "code",
      "metadata": {
        "id": "gXmdklXhTFre",
        "colab_type": "code",
        "colab": {}
      },
      "source": [
        "def get_item_prior(epsilon=1e-3):\n",
        "  #w'keit dass item von beliebigem nutzer gekauft wird\n",
        "  return (CPM.sum(axis=0) + epsilon) / (num_users + 2 * epsilon) \n",
        "\n",
        "def get_user_prior(epsilon=1e-3):\n",
        "  #w'keit dass nutzer ein beliebiges item kauft\n",
        "  return (CPM.sum(axis=1) + epsilon) / (num_items + 2 * epsilon)"
      ],
      "execution_count": 0,
      "outputs": []
    },
    {
      "cell_type": "markdown",
      "metadata": {
        "id": "ZNc1BbVON5eB",
        "colab_type": "text"
      },
      "source": [
        "## Create CPM and set constants"
      ]
    },
    {
      "cell_type": "code",
      "metadata": {
        "id": "-_0rb9lMOHzq",
        "colab_type": "code",
        "colab": {}
      },
      "source": [
        "items, customers, transactions = get_separated_entities(df)"
      ],
      "execution_count": 0,
      "outputs": []
    },
    {
      "cell_type": "code",
      "metadata": {
        "id": "Z_OaRs_AWmsN",
        "colab_type": "code",
        "colab": {}
      },
      "source": [
        "CPM = create_CPM(data)\n",
        "# PPM = create_PPM(items)\n",
        "\n",
        "num_users = CPM.shape[0]\n",
        "num_items = CPM.shape[1]\n",
        "item_prior = get_item_prior()\n",
        "user_prior = get_user_prior()"
      ],
      "execution_count": 0,
      "outputs": []
    },
    {
      "cell_type": "code",
      "metadata": {
        "id": "fLosEX1oId18",
        "colab_type": "code",
        "colab": {}
      },
      "source": [
        "def user_based(user_id, item_id, epsilon=1e-3):\n",
        "  num_u_ids = len(user_id)\n",
        "  num_i_ids = len(item_id)\n",
        "\n",
        "  k = CPM[user_id]\n",
        "  K = np.tile(k, num_users).reshape(num_u_ids, num_users, num_items)\n",
        "  I = np.tile(CPM[:,item_id], num_items).reshape(num_i_ids, num_items, num_users)\n",
        "\n",
        "  cond = I @ (CPM == K)#.T \n",
        "  items_prob = (cond.sum(axis=-1) + epsilon) / (CPM[:,item_id].sum() + 2 * epsilon)\n",
        "  \n",
        "  return (item_prior[item_id] * np.prod(items_prob)) ** (1/ (1 + num_items))"
      ],
      "execution_count": 0,
      "outputs": []
    },
    {
      "cell_type": "code",
      "metadata": {
        "id": "Wxl5kKySoLfD",
        "colab_type": "code",
        "colab": {
          "base_uri": "https://localhost:8080/",
          "height": 311
        },
        "outputId": "e2c3a21e-d107-42a2-a0e7-cbb9e21d8444"
      },
      "source": [
        "hybrid_score(range(num_users // 10), range(num_items // 10))"
      ],
      "execution_count": 25,
      "outputs": [
        {
          "output_type": "error",
          "ename": "ValueError",
          "evalue": "ignored",
          "traceback": [
            "\u001b[0;31m---------------------------------------------------------------------------\u001b[0m",
            "\u001b[0;31mValueError\u001b[0m                                Traceback (most recent call last)",
            "\u001b[0;32m<ipython-input-25-f76d245f14af>\u001b[0m in \u001b[0;36m<module>\u001b[0;34m()\u001b[0m\n\u001b[0;32m----> 1\u001b[0;31m \u001b[0mhybrid_score\u001b[0m\u001b[0;34m(\u001b[0m\u001b[0mrange\u001b[0m\u001b[0;34m(\u001b[0m\u001b[0mnum_users\u001b[0m \u001b[0;34m//\u001b[0m \u001b[0;36m10\u001b[0m\u001b[0;34m)\u001b[0m\u001b[0;34m,\u001b[0m \u001b[0mrange\u001b[0m\u001b[0;34m(\u001b[0m\u001b[0mnum_items\u001b[0m \u001b[0;34m//\u001b[0m \u001b[0;36m10\u001b[0m\u001b[0;34m)\u001b[0m\u001b[0;34m)\u001b[0m\u001b[0;34m\u001b[0m\u001b[0;34m\u001b[0m\u001b[0m\n\u001b[0m",
            "\u001b[0;32m<ipython-input-20-5b8d65437252>\u001b[0m in \u001b[0;36mhybrid_score\u001b[0;34m(user_id, item_id)\u001b[0m\n\u001b[1;32m      1\u001b[0m \u001b[0;32mdef\u001b[0m \u001b[0mhybrid_score\u001b[0m\u001b[0;34m(\u001b[0m\u001b[0muser_id\u001b[0m\u001b[0;34m,\u001b[0m \u001b[0mitem_id\u001b[0m\u001b[0;34m)\u001b[0m\u001b[0;34m:\u001b[0m\u001b[0;34m\u001b[0m\u001b[0;34m\u001b[0m\u001b[0m\n\u001b[0;32m----> 2\u001b[0;31m   \u001b[0;32mreturn\u001b[0m \u001b[0muser_based\u001b[0m\u001b[0;34m(\u001b[0m\u001b[0muser_id\u001b[0m\u001b[0;34m,\u001b[0m \u001b[0mitem_id\u001b[0m\u001b[0;34m)\u001b[0m \u001b[0;31m#* item_based(user_id, item_id)\u001b[0m\u001b[0;34m\u001b[0m\u001b[0;34m\u001b[0m\u001b[0m\n\u001b[0m",
            "\u001b[0;32m<ipython-input-15-8faea40c21a4>\u001b[0m in \u001b[0;36muser_based\u001b[0;34m(user_id, item_id, epsilon)\u001b[0m\n\u001b[1;32m      7\u001b[0m   \u001b[0mI\u001b[0m \u001b[0;34m=\u001b[0m \u001b[0mnp\u001b[0m\u001b[0;34m.\u001b[0m\u001b[0mtile\u001b[0m\u001b[0;34m(\u001b[0m\u001b[0mCPM\u001b[0m\u001b[0;34m[\u001b[0m\u001b[0;34m:\u001b[0m\u001b[0;34m,\u001b[0m\u001b[0mitem_id\u001b[0m\u001b[0;34m]\u001b[0m\u001b[0;34m,\u001b[0m \u001b[0mnum_items\u001b[0m\u001b[0;34m)\u001b[0m\u001b[0;34m.\u001b[0m\u001b[0mreshape\u001b[0m\u001b[0;34m(\u001b[0m\u001b[0mnum_i_ids\u001b[0m\u001b[0;34m,\u001b[0m \u001b[0mnum_items\u001b[0m\u001b[0;34m,\u001b[0m \u001b[0mnum_users\u001b[0m\u001b[0;34m)\u001b[0m\u001b[0;34m\u001b[0m\u001b[0;34m\u001b[0m\u001b[0m\n\u001b[1;32m      8\u001b[0m \u001b[0;34m\u001b[0m\u001b[0m\n\u001b[0;32m----> 9\u001b[0;31m   \u001b[0mcond\u001b[0m \u001b[0;34m=\u001b[0m \u001b[0mI\u001b[0m \u001b[0;34m@\u001b[0m \u001b[0;34m(\u001b[0m\u001b[0mCPM\u001b[0m \u001b[0;34m==\u001b[0m \u001b[0mK\u001b[0m\u001b[0;34m)\u001b[0m\u001b[0;31m#.T\u001b[0m\u001b[0;34m\u001b[0m\u001b[0;34m\u001b[0m\u001b[0m\n\u001b[0m\u001b[1;32m     10\u001b[0m   \u001b[0mitems_prob\u001b[0m \u001b[0;34m=\u001b[0m \u001b[0;34m(\u001b[0m\u001b[0mcond\u001b[0m\u001b[0;34m.\u001b[0m\u001b[0msum\u001b[0m\u001b[0;34m(\u001b[0m\u001b[0maxis\u001b[0m\u001b[0;34m=\u001b[0m\u001b[0;34m-\u001b[0m\u001b[0;36m1\u001b[0m\u001b[0;34m)\u001b[0m \u001b[0;34m+\u001b[0m \u001b[0mepsilon\u001b[0m\u001b[0;34m)\u001b[0m \u001b[0;34m/\u001b[0m \u001b[0;34m(\u001b[0m\u001b[0mCPM\u001b[0m\u001b[0;34m[\u001b[0m\u001b[0;34m:\u001b[0m\u001b[0;34m,\u001b[0m\u001b[0mitem_id\u001b[0m\u001b[0;34m]\u001b[0m\u001b[0;34m.\u001b[0m\u001b[0msum\u001b[0m\u001b[0;34m(\u001b[0m\u001b[0;34m)\u001b[0m \u001b[0;34m+\u001b[0m \u001b[0;36m2\u001b[0m \u001b[0;34m*\u001b[0m \u001b[0mepsilon\u001b[0m\u001b[0;34m)\u001b[0m\u001b[0;34m\u001b[0m\u001b[0;34m\u001b[0m\u001b[0m\n\u001b[1;32m     11\u001b[0m \u001b[0;34m\u001b[0m\u001b[0m\n",
            "\u001b[0;31mValueError\u001b[0m: operands could not be broadcast together with remapped shapes [original->remapped]: (191,1912,795)->(191,newaxis,newaxis) (79,795,1912)->(79,newaxis,newaxis) and requested shape (1912,1912)"
          ]
        }
      ]
    },
    {
      "cell_type": "code",
      "metadata": {
        "id": "999s6S-pbbGW",
        "colab_type": "code",
        "colab": {}
      },
      "source": [
        "def item_based(user_id, item_id, epsilon=1e-3):\n",
        "  k = CPM[:,item_id]\n",
        "  K = np.tile(k, num_items).reshape(num_items, num_users).T\n",
        "  U = np.tile(CPM[user_id], num_users).reshape(num_users, num_items)\n",
        "  \n",
        "  cond = U * (CPM == K)\n",
        "  users_prob = (cond.sum(axis=-1) + epsilon) / (CPM[user_id].sum() + 2 * epsilon)\n",
        "\n",
        "  return (user_prior[user_id] * np.prod(users_prob)) ** (1/ (1 + num_users))"
      ],
      "execution_count": 0,
      "outputs": []
    },
    {
      "cell_type": "code",
      "metadata": {
        "id": "0FDuF5IetEzh",
        "colab_type": "code",
        "colab": {
          "base_uri": "https://localhost:8080/",
          "height": 34
        },
        "outputId": "7402eeed-0308-454f-c3ed-7d86ca3968fc"
      },
      "source": [
        "a = np.array([[[1, 2, 7], [3, 4, 3]]])\n",
        "a.shape"
      ],
      "execution_count": 18,
      "outputs": [
        {
          "output_type": "execute_result",
          "data": {
            "text/plain": [
              "(1, 2, 3)"
            ]
          },
          "metadata": {
            "tags": []
          },
          "execution_count": 18
        }
      ]
    },
    {
      "cell_type": "code",
      "metadata": {
        "id": "1btWLKz_rOVA",
        "colab_type": "code",
        "colab": {}
      },
      "source": [
        "def hybrid_score(user_id, item_id):\n",
        "  return user_based(user_id, item_id) #* item_based(user_id, item_id)"
      ],
      "execution_count": 0,
      "outputs": []
    },
    {
      "cell_type": "code",
      "metadata": {
        "id": "AV3-zPgZwV6O",
        "colab_type": "code",
        "colab": {}
      },
      "source": [
        "def recommend(user_id=None, item_id=None, n=1, print_time=True):\n",
        "  recs = []\n",
        "\n",
        "  if print_time:\n",
        "    start = time.time()\n",
        "\n",
        "  if user_id is None:\n",
        "    for user_id in range(num_users):\n",
        "      recs.append(hybrid_score(user_id, item_id))\n",
        "\n",
        "  elif item_id is None:\n",
        "    for item_id in range(num_items):\n",
        "      recs.append(hybrid_score(user_id, item_id))\n",
        "\n",
        "  else:\n",
        "    return hybrid_score(user_id, item_id)\n",
        "\n",
        "  top_idx = np.argsort(recs)[-n:]\n",
        "  top_values = [recs[j] for j in top_idx]\n",
        "\n",
        "  if print_time:\n",
        "    print(time.time() - start)\n",
        "\n",
        "  return top_idx, top_values"
      ],
      "execution_count": 0,
      "outputs": []
    },
    {
      "cell_type": "code",
      "metadata": {
        "id": "xNvn4OJhl_jA",
        "colab_type": "code",
        "colab": {}
      },
      "source": [
        "def recommend_all(n=1):\n",
        "  recs = []\n",
        "  for user_id in range(num_users):\n",
        "    recs.append([hybrid_score(user_id, item_id) for item_id in range(num_items)])\n",
        "    print(user_id / num_users, \"%\")\n",
        "\n",
        "  return recs"
      ],
      "execution_count": 0,
      "outputs": []
    },
    {
      "cell_type": "code",
      "metadata": {
        "colab_type": "code",
        "outputId": "5c304ccc-82d8-4849-d60d-67178e71fb88",
        "id": "2wmKWJvINSwD",
        "colab": {
          "base_uri": "https://localhost:8080/",
          "height": 311
        }
      },
      "source": [
        "foo = recommend(item_id=1337, n=10)"
      ],
      "execution_count": 24,
      "outputs": [
        {
          "output_type": "error",
          "ename": "TypeError",
          "evalue": "ignored",
          "traceback": [
            "\u001b[0;31m---------------------------------------------------------------------------\u001b[0m",
            "\u001b[0;31mTypeError\u001b[0m                                 Traceback (most recent call last)",
            "\u001b[0;32m<ipython-input-24-069e3ab8f41e>\u001b[0m in \u001b[0;36m<module>\u001b[0;34m()\u001b[0m\n\u001b[0;32m----> 1\u001b[0;31m \u001b[0mfoo\u001b[0m \u001b[0;34m=\u001b[0m \u001b[0mrecommend\u001b[0m\u001b[0;34m(\u001b[0m\u001b[0mitem_id\u001b[0m\u001b[0;34m=\u001b[0m\u001b[0;36m1337\u001b[0m\u001b[0;34m,\u001b[0m \u001b[0mn\u001b[0m\u001b[0;34m=\u001b[0m\u001b[0;36m10\u001b[0m\u001b[0;34m)\u001b[0m\u001b[0;34m\u001b[0m\u001b[0;34m\u001b[0m\u001b[0m\n\u001b[0m",
            "\u001b[0;32m<ipython-input-21-128f00b8eab8>\u001b[0m in \u001b[0;36mrecommend\u001b[0;34m(user_id, item_id, n, print_time)\u001b[0m\n\u001b[1;32m      7\u001b[0m   \u001b[0;32mif\u001b[0m \u001b[0muser_id\u001b[0m \u001b[0;32mis\u001b[0m \u001b[0;32mNone\u001b[0m\u001b[0;34m:\u001b[0m\u001b[0;34m\u001b[0m\u001b[0;34m\u001b[0m\u001b[0m\n\u001b[1;32m      8\u001b[0m     \u001b[0;32mfor\u001b[0m \u001b[0muser_id\u001b[0m \u001b[0;32min\u001b[0m \u001b[0mrange\u001b[0m\u001b[0;34m(\u001b[0m\u001b[0mnum_users\u001b[0m\u001b[0;34m)\u001b[0m\u001b[0;34m:\u001b[0m\u001b[0;34m\u001b[0m\u001b[0;34m\u001b[0m\u001b[0m\n\u001b[0;32m----> 9\u001b[0;31m       \u001b[0mrecs\u001b[0m\u001b[0;34m.\u001b[0m\u001b[0mappend\u001b[0m\u001b[0;34m(\u001b[0m\u001b[0mhybrid_score\u001b[0m\u001b[0;34m(\u001b[0m\u001b[0muser_id\u001b[0m\u001b[0;34m,\u001b[0m \u001b[0mitem_id\u001b[0m\u001b[0;34m)\u001b[0m\u001b[0;34m)\u001b[0m\u001b[0;34m\u001b[0m\u001b[0;34m\u001b[0m\u001b[0m\n\u001b[0m\u001b[1;32m     10\u001b[0m \u001b[0;34m\u001b[0m\u001b[0m\n\u001b[1;32m     11\u001b[0m   \u001b[0;32melif\u001b[0m \u001b[0mitem_id\u001b[0m \u001b[0;32mis\u001b[0m \u001b[0;32mNone\u001b[0m\u001b[0;34m:\u001b[0m\u001b[0;34m\u001b[0m\u001b[0;34m\u001b[0m\u001b[0m\n",
            "\u001b[0;32m<ipython-input-20-5b8d65437252>\u001b[0m in \u001b[0;36mhybrid_score\u001b[0;34m(user_id, item_id)\u001b[0m\n\u001b[1;32m      1\u001b[0m \u001b[0;32mdef\u001b[0m \u001b[0mhybrid_score\u001b[0m\u001b[0;34m(\u001b[0m\u001b[0muser_id\u001b[0m\u001b[0;34m,\u001b[0m \u001b[0mitem_id\u001b[0m\u001b[0;34m)\u001b[0m\u001b[0;34m:\u001b[0m\u001b[0;34m\u001b[0m\u001b[0;34m\u001b[0m\u001b[0m\n\u001b[0;32m----> 2\u001b[0;31m   \u001b[0;32mreturn\u001b[0m \u001b[0muser_based\u001b[0m\u001b[0;34m(\u001b[0m\u001b[0muser_id\u001b[0m\u001b[0;34m,\u001b[0m \u001b[0mitem_id\u001b[0m\u001b[0;34m)\u001b[0m \u001b[0;31m#* item_based(user_id, item_id)\u001b[0m\u001b[0;34m\u001b[0m\u001b[0;34m\u001b[0m\u001b[0m\n\u001b[0m",
            "\u001b[0;32m<ipython-input-15-8faea40c21a4>\u001b[0m in \u001b[0;36muser_based\u001b[0;34m(user_id, item_id, epsilon)\u001b[0m\n\u001b[1;32m      1\u001b[0m \u001b[0;32mdef\u001b[0m \u001b[0muser_based\u001b[0m\u001b[0;34m(\u001b[0m\u001b[0muser_id\u001b[0m\u001b[0;34m,\u001b[0m \u001b[0mitem_id\u001b[0m\u001b[0;34m,\u001b[0m \u001b[0mepsilon\u001b[0m\u001b[0;34m=\u001b[0m\u001b[0;36m1e-3\u001b[0m\u001b[0;34m)\u001b[0m\u001b[0;34m:\u001b[0m\u001b[0;34m\u001b[0m\u001b[0;34m\u001b[0m\u001b[0m\n\u001b[0;32m----> 2\u001b[0;31m   \u001b[0mnum_u_ids\u001b[0m \u001b[0;34m=\u001b[0m \u001b[0mlen\u001b[0m\u001b[0;34m(\u001b[0m\u001b[0muser_id\u001b[0m\u001b[0;34m)\u001b[0m\u001b[0;34m\u001b[0m\u001b[0;34m\u001b[0m\u001b[0m\n\u001b[0m\u001b[1;32m      3\u001b[0m   \u001b[0mnum_i_ids\u001b[0m \u001b[0;34m=\u001b[0m \u001b[0mlen\u001b[0m\u001b[0;34m(\u001b[0m\u001b[0mitem_id\u001b[0m\u001b[0;34m)\u001b[0m\u001b[0;34m\u001b[0m\u001b[0;34m\u001b[0m\u001b[0m\n\u001b[1;32m      4\u001b[0m \u001b[0;34m\u001b[0m\u001b[0m\n\u001b[1;32m      5\u001b[0m   \u001b[0mk\u001b[0m \u001b[0;34m=\u001b[0m \u001b[0mCPM\u001b[0m\u001b[0;34m[\u001b[0m\u001b[0muser_id\u001b[0m\u001b[0;34m]\u001b[0m\u001b[0;34m\u001b[0m\u001b[0;34m\u001b[0m\u001b[0m\n",
            "\u001b[0;31mTypeError\u001b[0m: object of type 'int' has no len()"
          ]
        }
      ]
    }
  ]
}