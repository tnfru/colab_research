{
  "nbformat": 4,
  "nbformat_minor": 0,
  "metadata": {
    "colab": {
      "name": "PricePred.ipynb",
      "provenance": [],
      "collapsed_sections": [],
      "authorship_tag": "ABX9TyMFYUyaVPe/S1qZqw+SZxeB",
      "include_colab_link": true
    },
    "kernelspec": {
      "name": "python3",
      "display_name": "Python 3"
    }
  },
  "cells": [
    {
      "cell_type": "markdown",
      "metadata": {
        "id": "view-in-github",
        "colab_type": "text"
      },
      "source": [
        "<a href=\"https://colab.research.google.com/github/tnfru/colab_research/blob/master/PricePred.ipynb\" target=\"_parent\"><img src=\"https://colab.research.google.com/assets/colab-badge.svg\" alt=\"Open In Colab\"/></a>"
      ]
    },
    {
      "cell_type": "code",
      "metadata": {
        "id": "ofV1C0SIU08u",
        "colab_type": "code",
        "colab": {}
      },
      "source": [
        "import pandas as pd\n",
        "import numpy as np\n",
        "from tensorflow.nn import softmax"
      ],
      "execution_count": 0,
      "outputs": []
    },
    {
      "cell_type": "code",
      "metadata": {
        "id": "RZT3V1T2U5wL",
        "colab_type": "code",
        "colab": {}
      },
      "source": [
        "data = pd.read_excel('https://filebin.net/d71dl6ly0ucp7zwg/Beispiel_-_Superstore.xls?t=imtlyjhq')"
      ],
      "execution_count": 0,
      "outputs": []
    },
    {
      "cell_type": "code",
      "metadata": {
        "id": "67SNHxyEU9CX",
        "colab_type": "code",
        "colab": {}
      },
      "source": [
        "df = data.drop(['Kundenname'], axis=1)"
      ],
      "execution_count": 0,
      "outputs": []
    },
    {
      "cell_type": "code",
      "metadata": {
        "id": "RzZ6US9PsWPi",
        "colab_type": "code",
        "outputId": "10cf2d55-858a-49a1-89bf-bdbcba15f712",
        "colab": {
          "base_uri": "https://localhost:8080/",
          "height": 1000
        }
      },
      "source": [
        "df.dtypes, df.isnull().sum(), df.isna().sum()"
      ],
      "execution_count": 229,
      "outputs": [
        {
          "output_type": "execute_result",
          "data": {
            "text/plain": [
              "(Zeilen-ID                  int64\n",
              " Auftrags-ID               object\n",
              " Bestelldatum      datetime64[ns]\n",
              " Versanddatum      datetime64[ns]\n",
              " Versandmodus              object\n",
              " Kunden-ID                 object\n",
              " Segment                   object\n",
              " Stadt                     object\n",
              " Bundesland                object\n",
              " Land/Region               object\n",
              " Region                    object\n",
              " Produkt-ID                object\n",
              " Kategorie                 object\n",
              " Unterkategorie            object\n",
              " Produktname               object\n",
              " Umsatz                   float64\n",
              " Menge                      int64\n",
              " Rabatt                   float64\n",
              " Gewinn                   float64\n",
              " dtype: object, Zeilen-ID         0\n",
              " Auftrags-ID       0\n",
              " Bestelldatum      0\n",
              " Versanddatum      0\n",
              " Versandmodus      0\n",
              " Kunden-ID         0\n",
              " Segment           0\n",
              " Stadt             0\n",
              " Bundesland        0\n",
              " Land/Region       0\n",
              " Region            0\n",
              " Produkt-ID        0\n",
              " Kategorie         0\n",
              " Unterkategorie    0\n",
              " Produktname       0\n",
              " Umsatz            0\n",
              " Menge             0\n",
              " Rabatt            0\n",
              " Gewinn            0\n",
              " dtype: int64, Zeilen-ID         0\n",
              " Auftrags-ID       0\n",
              " Bestelldatum      0\n",
              " Versanddatum      0\n",
              " Versandmodus      0\n",
              " Kunden-ID         0\n",
              " Segment           0\n",
              " Stadt             0\n",
              " Bundesland        0\n",
              " Land/Region       0\n",
              " Region            0\n",
              " Produkt-ID        0\n",
              " Kategorie         0\n",
              " Unterkategorie    0\n",
              " Produktname       0\n",
              " Umsatz            0\n",
              " Menge             0\n",
              " Rabatt            0\n",
              " Gewinn            0\n",
              " dtype: int64)"
            ]
          },
          "metadata": {
            "tags": []
          },
          "execution_count": 229
        }
      ]
    },
    {
      "cell_type": "code",
      "metadata": {
        "colab_type": "code",
        "id": "Ezph_4Ifwc-7",
        "colab": {}
      },
      "source": [
        "def encode(df, column):\n",
        "  df[column] = df[column].astype('category')\n",
        "  df[column + \"_cat\"] = df[column].cat.codes"
      ],
      "execution_count": 0,
      "outputs": []
    },
    {
      "cell_type": "code",
      "metadata": {
        "id": "Ca3tr4LNwIko",
        "colab_type": "code",
        "colab": {}
      },
      "source": [
        "def encode_labels(df):\n",
        "  labels_to_encode = [\"Auftrags-ID\", \"Kunden-ID\", \"Bestelldatum\", \"Produkt-ID\"]\n",
        "  df = df.sort_values(by=[\"Bestelldatum\"])\n",
        "\n",
        "  for label in labels_to_encode:\n",
        "    encode(df, label)\n",
        "\n",
        "  labels_to_encode = [\"Land/Region\", \"Bundesland\", \"Stadt\"]\n",
        "  df = df.sort_values(by=labels_to_encode)\n",
        "\n",
        "  for label in labels_to_encode:\n",
        "    encode(df, label)\n",
        "\n",
        "  df = df.drop([\"Auftrags-ID\", \"Kunden-ID\", \"Bestelldatum\",\n",
        "             \"Land/Region\", \"Bundesland\", \"Stadt\", \"Versanddatum\", \n",
        "             \"Produkt-ID\", \"Zeilen-ID\"], axis=1)\n",
        "  return df"
      ],
      "execution_count": 0,
      "outputs": []
    },
    {
      "cell_type": "code",
      "metadata": {
        "id": "pPnud4AJXWJm",
        "colab_type": "code",
        "colab": {}
      },
      "source": [
        "def get_separated_entities(df):\n",
        "  df = encode_labels(df)\n",
        "\n",
        "  items = df.drop(columns=[\"Kunden-ID_cat\", \"Bestelldatum_cat\", \"Auftrags-ID_cat\", \n",
        "                \"Land/Region_cat\", \"Bundesland_cat\", \"Stadt_cat\", \"Region\", \n",
        "                \"Segment\", \"Versandmodus\"], axis=1)\n",
        "  items = pd.get_dummies(items, columns=[\"Kategorie\" , \"Unterkategorie\"])\n",
        "  \n",
        "\n",
        "\n",
        "  transactions = pd.get_dummies(df, columns=[\"Segment\", \"Versandmodus\", \"Region\", \"Kategorie\"]).drop(\"Produktname\", axis=1)\n",
        "\n",
        "  customers = df.drop(columns=[\"Versandmodus\", \"Produktname\", \"Kategorie\", \"Gewinn\",\n",
        "                             \"Bestelldatum_cat\", \"Produkt-ID_cat\", \"Kunden-ID_cat\", \"Unterkategorie\"], axis=1)\n",
        "  customers = pd.get_dummies(customers, columns=[\"Segment\", \"Region\"])\n",
        "\n",
        "  return items, customers, transactions\n",
        "  "
      ],
      "execution_count": 0,
      "outputs": []
    },
    {
      "cell_type": "code",
      "metadata": {
        "colab_type": "code",
        "id": "ek6FoD91GPxT",
        "colab": {}
      },
      "source": [
        "def cosine_sim(a, b):\n",
        "  return a @ b / (np.linalg.norm(a) * np.linalg.norm(b))"
      ],
      "execution_count": 0,
      "outputs": []
    },
    {
      "cell_type": "code",
      "metadata": {
        "id": "Zi_P0VEoFStj",
        "colab_type": "code",
        "colab": {}
      },
      "source": [
        "def create_CPM(data):\n",
        "  cpm_shape = data[\"Kunden-ID\"].nunique(), data[\"Produkt-ID\"].nunique()\n",
        "  CPM = np.zeros(cpm_shape)\n",
        "  cpm_inp = data.drop(columns=[\"Auftrags-ID\", \"Zeilen-ID\", \"Versanddatum\", \"Bestelldatum\", \n",
        "                   \"Versandmodus\", \"Kundenname\", \"Segment\", \"Stadt\", \"Bundesland\", \n",
        "                   \"Land/Region\", \"Region\", \"Kategorie\", \"Unterkategorie\", \"Umsatz\",\n",
        "                   \"Menge\", \"Rabatt\", \"Gewinn\", \"Produktname\"], axis=1)\n",
        "  encode(cpm_inp, \"Kunden-ID\")\n",
        "  encode(cpm_inp, \"Produkt-ID\")\n",
        "  cpm_inp = cpm_inp.drop([\"Kunden-ID\", \"Produkt-ID\"], axis=1).values\n",
        "\n",
        "  for i in range(len(cpm_inp)):\n",
        "    cust_id = cpm_inp[i][0]\n",
        "    prod_id = cpm_inp[i][1]\n",
        "\n",
        "    CPM[cust_id][prod_id] = 1\n",
        "  \n",
        "  return CPM"
      ],
      "execution_count": 0,
      "outputs": []
    },
    {
      "cell_type": "code",
      "metadata": {
        "id": "Yj0pWEJ_LkyT",
        "colab_type": "code",
        "colab": {}
      },
      "source": [
        "def create_PPM(items, print_progress=False):\n",
        "  ppm_shape = items[\"Produkt-ID_cat\"].nunique(), items[\"Produkt-ID_cat\"].nunique()\n",
        "  PPM = np.zeros(ppm_shape)\n",
        "  \n",
        "  ppm_inp = items.drop([\"Produktname\", \"Gewinn\", \"Rabatt\"], axis=1)\n",
        "  ppm_inp[\"Umsatz\"] = ppm_inp[\"Umsatz\"].values / ppm_inp[\"Menge\"].values\n",
        "  ppm_inp = ppm_inp.rename(columns={\"Umsatz\" : \"Preis\"}).drop([\"Menge\"], axis=1)\n",
        "  ppm_inp['Preis'] = (ppm_inp['Preis'].values - ppm_inp['Preis'].values.mean()) / ppm_inp['Preis'].values.std()\n",
        "\n",
        "  ppm_inp = ppm_inp.groupby([\"Produkt-ID_cat\"]).sum()\n",
        "  number_of_entries = ppm_inp[[\"Kategorie_Bürobedarf\", \"Kategorie_Möbel\", \"Kategorie_Technik\"]].values.sum(axis=1)\n",
        "  ppm_inp = ppm_inp.divide(number_of_entries, axis=0)\n",
        "  ppm_inp = ppm_inp.values\n",
        "\n",
        "  n = ppm_shape[0]\n",
        "\n",
        "  for i in range(n):\n",
        "    for j in range(i + 1, n):\n",
        "      PPM[i][j] = cosine_sim(ppm_inp[i], ppm_inp[j])\n",
        "\n",
        "    if print_progress and i % 100 == 0:\n",
        "      print(round(i / n, 2) * 100 , \"% done\")\n",
        "\n",
        "  return PPM"
      ],
      "execution_count": 0,
      "outputs": []
    },
    {
      "cell_type": "code",
      "metadata": {
        "id": "C3QMLTaj1vix",
        "colab_type": "code",
        "colab": {}
      },
      "source": [
        "def ppm_recommendations(PPM):\n",
        "  return argmax(PPM, axis=1)"
      ],
      "execution_count": 0,
      "outputs": []
    },
    {
      "cell_type": "code",
      "metadata": {
        "id": "-_0rb9lMOHzq",
        "colab_type": "code",
        "colab": {}
      },
      "source": [
        "items, customers, transactions = get_separated_entities(df)"
      ],
      "execution_count": 0,
      "outputs": []
    },
    {
      "cell_type": "code",
      "metadata": {
        "id": "Z_OaRs_AWmsN",
        "colab_type": "code",
        "colab": {}
      },
      "source": [
        "CPM = create_CPM(data)"
      ],
      "execution_count": 0,
      "outputs": []
    },
    {
      "cell_type": "code",
      "metadata": {
        "id": "Se9xQKdGpe5y",
        "colab_type": "code",
        "colab": {}
      },
      "source": [
        "PPM = create_PPM(items)"
      ],
      "execution_count": 0,
      "outputs": []
    },
    {
      "cell_type": "code",
      "metadata": {
        "id": "gXmdklXhTFre",
        "colab_type": "code",
        "colab": {}
      },
      "source": [
        "def get_item_prior(CPM, epsilon=1e-3):\n",
        "  num_customers = CPM.shape[1]\n",
        "  return (CPM.sum(axis=0) + epsilon) / (num_customers + 2*epsilon) #w'keit dass item von beliebigem nutzer gekauft wird"
      ],
      "execution_count": 0,
      "outputs": []
    },
    {
      "cell_type": "code",
      "metadata": {
        "id": "8gROd0EJUb46",
        "colab_type": "code",
        "colab": {}
      },
      "source": [
        "def get_user_prior(CPM, epsilon=1e-3):\n",
        "  num_items = CPM.shape[0]\n",
        "  return  (CPM.sum(axis=1) + epsilon) / (num_items + 2*epsilon) #w'keit dass nutzer ein beliebiges item kauft"
      ],
      "execution_count": 0,
      "outputs": []
    },
    {
      "cell_type": "code",
      "metadata": {
        "id": "RNKVHwhEmcpd",
        "colab_type": "code",
        "colab": {}
      },
      "source": [
        "def item_based_between_two(CPM, v, u, k=1, epsilon=1e-3): #eq7\n",
        "  r_u = CPM[u,:]\n",
        "  r_v = CPM[v,:]\n",
        "\n",
        "  return (r_u[r_v == k].sum() + epsilon) / (r_u.sum() + 2*epsilon)"
      ],
      "execution_count": 0,
      "outputs": []
    },
    {
      "cell_type": "code",
      "metadata": {
        "id": "z0xni-ssOfg7",
        "colab_type": "code",
        "colab": {}
      },
      "source": [
        "def item_based(CPM, u, i):\n",
        "  prob = get_user_prior(CPM)[u]\n",
        "  user_quantity = CPM.shape[0]\n",
        "\n",
        "  for v in range(user_quantity):\n",
        "    prob *= item_based_between_two(CPM, v, u, k=CPM[v][i])\n",
        "     \n",
        "  return prob ** (1/ (1 + user_quantity))"
      ],
      "execution_count": 0,
      "outputs": []
    },
    {
      "cell_type": "code",
      "metadata": {
        "id": "GquyIhHrJsP3",
        "colab_type": "code",
        "colab": {}
      },
      "source": [
        "def user_based_between_two(CPM, j, i, k=1, epsilon=1e-3):\n",
        "  return (CPM[CPM[:,j] == k][:,i].sum() + epsilon) / (CPM[:,i].sum() + 2*epsilon)"
      ],
      "execution_count": 0,
      "outputs": []
    },
    {
      "cell_type": "code",
      "metadata": {
        "id": "z3U4oPDEpK3w",
        "colab_type": "code",
        "colab": {}
      },
      "source": [
        "def user_based(CPM, u, i):\n",
        "  prob = get_item_prior(CPM)[i]\n",
        "  item_quantity = CPM.shape[1]\n",
        "\n",
        "  for j in range(item_quantity):\n",
        "    prob *= user_based_between_two(CPM, j, i, k=CPM[u][j])\n",
        "  \n",
        "  return prob ** (1/ (1 + item_quantity))"
      ],
      "execution_count": 0,
      "outputs": []
    },
    {
      "cell_type": "code",
      "metadata": {
        "id": "1btWLKz_rOVA",
        "colab_type": "code",
        "colab": {}
      },
      "source": [
        "def hybrid_score(CPM, u, i):\n",
        "  return user_based(CPM, u, i) * item_based(CPM, u, i)"
      ],
      "execution_count": 0,
      "outputs": []
    },
    {
      "cell_type": "code",
      "metadata": {
        "id": "U3OBTZv-rrK7",
        "colab_type": "code",
        "colab": {
          "base_uri": "https://localhost:8080/",
          "height": 34
        },
        "outputId": "8cbe4797-37d7-4cfa-c035-ef0e784023e5"
      },
      "source": [
        "hybrid_score(CPM, 10, 20)"
      ],
      "execution_count": 247,
      "outputs": [
        {
          "output_type": "execute_result",
          "data": {
            "text/plain": [
              "0.848742963537693"
            ]
          },
          "metadata": {
            "tags": []
          },
          "execution_count": 247
        }
      ]
    },
    {
      "cell_type": "code",
      "metadata": {
        "id": "AV3-zPgZwV6O",
        "colab_type": "code",
        "colab": {}
      },
      "source": [
        "def recommend(CPM, u=None, i=None, print_progress=True):\n",
        "  recs = []\n",
        "\n",
        "  if u is not None:\n",
        "    print(\"Iterating Items\")\n",
        "    for i in range(CPM.shape[1]):\n",
        "      recs.append(hybrid_score(CPM, u, i))\n",
        "\n",
        "      if i % 50 == 0:\n",
        "        print(round(i/CPM.shape[1] * 100, 2), \"%\")\n",
        "\n",
        "  elif i is not None:\n",
        "    print(\"Iterating Users\")\n",
        "    for u in range(CPM.shape[0]):\n",
        "      recs.append(hybrid_score(CPM, u, i))\n",
        "\n",
        "      if u % 10 == 0:\n",
        "        print(round(u/CPM.shape[0] * 100, 2), \"%\")\n",
        "        \n",
        "      if u == 10:\n",
        "        break\n",
        "\n",
        "\n",
        "  return recs"
      ],
      "execution_count": 0,
      "outputs": []
    },
    {
      "cell_type": "code",
      "metadata": {
        "id": "DQBG83XaCp-J",
        "colab_type": "code",
        "colab": {
          "base_uri": "https://localhost:8080/",
          "height": 69
        },
        "outputId": "01137e66-1154-44f6-b8ff-50caab1223ba"
      },
      "source": [
        "recs = recommend(CPM, i=0)"
      ],
      "execution_count": 269,
      "outputs": [
        {
          "output_type": "stream",
          "text": [
            "Iterating Users\n",
            "0.0 %\n",
            "1.26 %\n"
          ],
          "name": "stdout"
        }
      ]
    },
    {
      "cell_type": "code",
      "metadata": {
        "id": "-tfwCs9WEBY0",
        "colab_type": "code",
        "colab": {
          "base_uri": "https://localhost:8080/",
          "height": 34
        },
        "outputId": "bd3c270a-9f71-4cd6-8562-3d7b60610f9f"
      },
      "source": [
        "recs[np.argmax(recs)] == max(recs)"
      ],
      "execution_count": 275,
      "outputs": [
        {
          "output_type": "execute_result",
          "data": {
            "text/plain": [
              "True"
            ]
          },
          "metadata": {
            "tags": []
          },
          "execution_count": 275
        }
      ]
    },
    {
      "cell_type": "code",
      "metadata": {
        "id": "TuqFjXEfKGx1",
        "colab_type": "code",
        "colab": {}
      },
      "source": [
        ""
      ],
      "execution_count": 0,
      "outputs": []
    }
  ]
}