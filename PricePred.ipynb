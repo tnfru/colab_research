{
  "nbformat": 4,
  "nbformat_minor": 0,
  "metadata": {
    "colab": {
      "name": "PricePred.ipynb",
      "provenance": [],
      "collapsed_sections": [
        "FDNKuswNbO-K",
        "ZNc1BbVON5eB",
        "c6zhqdwjbXkR",
        "evHNoszT-5nS",
        "Kb0yDspVd-UN",
        "S4h27513dsrK",
        "-O80xY9LmBiD",
        "FY4kgo_ED5tD"
      ],
      "authorship_tag": "ABX9TyNTjjLTu2v8TttN0YwwCEd+",
      "include_colab_link": true
    },
    "kernelspec": {
      "name": "python3",
      "display_name": "Python 3"
    },
    "accelerator": "GPU"
  },
  "cells": [
    {
      "cell_type": "markdown",
      "metadata": {
        "id": "view-in-github",
        "colab_type": "text"
      },
      "source": [
        "<a href=\"https://colab.research.google.com/github/tnfru/colab_research/blob/master/PricePred.ipynb\" target=\"_parent\"><img src=\"https://colab.research.google.com/assets/colab-badge.svg\" alt=\"Open In Colab\"/></a>"
      ]
    },
    {
      "cell_type": "code",
      "metadata": {
        "id": "ofV1C0SIU08u",
        "colab_type": "code",
        "colab": {}
      },
      "source": [
        "import pandas as pd\n",
        "import numpy as np\n",
        "import cupy as cp\n",
        "import time\n",
        "from copy import copy\n",
        "from matplotlib import pyplot as plt\n",
        "from mpl_toolkits.mplot3d import Axes3D\n",
        "import tensorflow as tf\n",
        "from tensorflow.keras.layers import Input, Dense, Dropout\n",
        "\n",
        "AUTO = tf.data.experimental.AUTOTUNE"
      ],
      "execution_count": 0,
      "outputs": []
    },
    {
      "cell_type": "markdown",
      "metadata": {
        "id": "FDNKuswNbO-K",
        "colab_type": "text"
      },
      "source": [
        "# Read and transform data"
      ]
    },
    {
      "cell_type": "code",
      "metadata": {
        "id": "RZT3V1T2U5wL",
        "colab_type": "code",
        "colab": {}
      },
      "source": [
        "data = pd.read_excel('https://drive.google.com/uc?export=download&id=1BTjcgqQO-NxpcIRyQu2_FNxUSBCvJt7c')"
      ],
      "execution_count": 0,
      "outputs": []
    },
    {
      "cell_type": "code",
      "metadata": {
        "id": "67SNHxyEU9CX",
        "colab_type": "code",
        "colab": {}
      },
      "source": [
        "df = data.drop(['Kundenname'], axis=1)"
      ],
      "execution_count": 0,
      "outputs": []
    },
    {
      "cell_type": "code",
      "metadata": {
        "colab_type": "code",
        "id": "Ezph_4Ifwc-7",
        "colab": {}
      },
      "source": [
        "def encode(df, column):\n",
        "  df[column] = df[column].astype('category')\n",
        "  df[column + \"_cat\"] = df[column].cat.codes"
      ],
      "execution_count": 0,
      "outputs": []
    },
    {
      "cell_type": "code",
      "metadata": {
        "id": "Ca3tr4LNwIko",
        "colab_type": "code",
        "colab": {}
      },
      "source": [
        "def encode_labels(df):\n",
        "  labels_to_encode = [\"Auftrags-ID\", \"Kunden-ID\", \"Bestelldatum\", \"Produkt-ID\"]\n",
        "  df = df.sort_values(by=[\"Bestelldatum\"])\n",
        "\n",
        "  for label in labels_to_encode:\n",
        "    encode(df, label)\n",
        "\n",
        "  labels_to_encode = [\"Land/Region\", \"Bundesland\", \"Stadt\"]\n",
        "  df = df.sort_values(by=labels_to_encode)\n",
        "\n",
        "  for label in labels_to_encode:\n",
        "    encode(df, label)\n",
        "\n",
        "  df = df.drop([\"Auftrags-ID\", \"Kunden-ID\", \"Bestelldatum\",\n",
        "             \"Land/Region\", \"Bundesland\", \"Stadt\", \"Versanddatum\", \n",
        "             \"Produkt-ID\", \"Zeilen-ID\"], axis=1)\n",
        "  return df"
      ],
      "execution_count": 0,
      "outputs": []
    },
    {
      "cell_type": "code",
      "metadata": {
        "id": "pPnud4AJXWJm",
        "colab_type": "code",
        "colab": {}
      },
      "source": [
        "def get_separated_entities(df):\n",
        "  df = encode_labels(df)\n",
        "\n",
        "  items = df.drop(columns=[\"Kunden-ID_cat\", \"Bestelldatum_cat\", \"Auftrags-ID_cat\", \n",
        "                \"Land/Region_cat\", \"Bundesland_cat\", \"Stadt_cat\", \"Region\", \n",
        "                \"Segment\", \"Versandmodus\"], axis=1)\n",
        "  items = pd.get_dummies(items, columns=[\"Kategorie\" , \"Unterkategorie\"])\n",
        "  \n",
        "\n",
        "\n",
        "  transactions = pd.get_dummies(df, columns=[\"Segment\", \"Versandmodus\", \"Region\", \"Kategorie\"]).drop(\"Produktname\", axis=1)\n",
        "\n",
        "  customers = df.drop(columns=[\"Versandmodus\", \"Produktname\", \"Kategorie\", \"Gewinn\",\n",
        "                             \"Bestelldatum_cat\", \"Produkt-ID_cat\", \"Kunden-ID_cat\", \"Unterkategorie\"], axis=1)\n",
        "  customers = pd.get_dummies(customers, columns=[\"Segment\", \"Region\"])\n",
        "\n",
        "  return items, customers, transactions\n",
        "  "
      ],
      "execution_count": 0,
      "outputs": []
    },
    {
      "cell_type": "code",
      "metadata": {
        "colab_type": "code",
        "id": "ek6FoD91GPxT",
        "colab": {}
      },
      "source": [
        "def cosine_sim(a, b):\n",
        "  return a @ b / (cp.linalg.norm(a) * cp.linalg.norm(b))"
      ],
      "execution_count": 0,
      "outputs": []
    },
    {
      "cell_type": "code",
      "metadata": {
        "id": "Zi_P0VEoFStj",
        "colab_type": "code",
        "colab": {}
      },
      "source": [
        "def create_CPM(data):\n",
        "  cpm_shape = data[\"Kunden-ID\"].nunique(), data[\"Produkt-ID\"].nunique()\n",
        "  CPM = cp.zeros(cpm_shape)\n",
        "  cpm_inp = data.drop(columns=[\"Auftrags-ID\", \"Zeilen-ID\", \"Versanddatum\", \"Bestelldatum\", \n",
        "                   \"Versandmodus\", \"Kundenname\", \"Segment\", \"Stadt\", \"Bundesland\", \n",
        "                   \"Land/Region\", \"Region\", \"Kategorie\", \"Unterkategorie\", \"Umsatz\",\n",
        "                   \"Menge\", \"Rabatt\", \"Gewinn\", \"Produktname\"], axis=1)\n",
        "  encode(cpm_inp, \"Kunden-ID\")\n",
        "  encode(cpm_inp, \"Produkt-ID\")\n",
        "  cpm_inp = cpm_inp.drop([\"Kunden-ID\", \"Produkt-ID\"], axis=1).values\n",
        "\n",
        "  for i in range(len(cpm_inp)):\n",
        "    cust_id = cpm_inp[i][0]\n",
        "    prod_id = cpm_inp[i][1]\n",
        "\n",
        "    CPM[cust_id][prod_id] = 1\n",
        "  \n",
        "  return CPM"
      ],
      "execution_count": 0,
      "outputs": []
    },
    {
      "cell_type": "code",
      "metadata": {
        "id": "Yj0pWEJ_LkyT",
        "colab_type": "code",
        "colab": {}
      },
      "source": [
        "def create_PPM(items, print_progress=False):\n",
        "  ppm_shape = items[\"Produkt-ID_cat\"].nunique(), items[\"Produkt-ID_cat\"].nunique()\n",
        "  PPM = cp.zeros(ppm_shape)\n",
        "  \n",
        "  ppm_inp = items.drop([\"Produktname\", \"Gewinn\", \"Rabatt\"], axis=1)\n",
        "  ppm_inp[\"Umsatz\"] = ppm_inp[\"Umsatz\"].values / ppm_inp[\"Menge\"].values\n",
        "  ppm_inp = ppm_inp.rename(columns={\"Umsatz\" : \"Preis\"}).drop([\"Menge\"], axis=1)\n",
        "  ppm_inp['Preis'] = (ppm_inp['Preis'].values - ppm_inp['Preis'].values.mean()) / ppm_inp['Preis'].values.std()\n",
        "\n",
        "  ppm_inp = ppm_inp.groupby([\"Produkt-ID_cat\"]).sum()\n",
        "  number_of_entries = ppm_inp[[\"Kategorie_Bürobedarf\", \"Kategorie_Möbel\", \"Kategorie_Technik\"]].values.sum(axis=1)\n",
        "  ppm_inp = ppm_inp.divide(number_of_entries, axis=0)\n",
        "  ppm_inp = ppm_inp.values\n",
        "\n",
        "  n = ppm_shape[0]\n",
        "\n",
        "  for i in range(n):\n",
        "    for j in range(i + 1, n):\n",
        "      PPM[i][j] = cosine_sim(ppm_inp[i], ppm_inp[j])\n",
        "\n",
        "    if print_progress and i % 100 == 0:\n",
        "      print(round(i / n, 2) * 100 , \"% done\")\n",
        "\n",
        "  return PPM"
      ],
      "execution_count": 0,
      "outputs": []
    },
    {
      "cell_type": "code",
      "metadata": {
        "id": "C3QMLTaj1vix",
        "colab_type": "code",
        "colab": {}
      },
      "source": [
        "def ppm_recommend(item_id,  n=1):\n",
        "  return np.argsort(PPM[item_id])[-n:]"
      ],
      "execution_count": 0,
      "outputs": []
    },
    {
      "cell_type": "markdown",
      "metadata": {
        "id": "ZNc1BbVON5eB",
        "colab_type": "text"
      },
      "source": [
        "# Create CPM and set constants"
      ]
    },
    {
      "cell_type": "code",
      "metadata": {
        "id": "gXmdklXhTFre",
        "colab_type": "code",
        "colab": {}
      },
      "source": [
        "def get_item_prior(epsilon=1e-3):\n",
        "  #w'keit dass item von beliebigem nutzer gekauft wird\n",
        "  return (CPM.sum(axis=0) + epsilon) / (num_users + 2 * epsilon) \n",
        "\n",
        "def get_user_prior(epsilon=1e-3):\n",
        "  #w'keit dass nutzer ein beliebiges item kauft\n",
        "  return (CPM.sum(axis=1) + epsilon) / (num_items + 2 * epsilon)"
      ],
      "execution_count": 0,
      "outputs": []
    },
    {
      "cell_type": "code",
      "metadata": {
        "id": "-_0rb9lMOHzq",
        "colab_type": "code",
        "colab": {}
      },
      "source": [
        "items, customers, transactions = get_separated_entities(df)"
      ],
      "execution_count": 0,
      "outputs": []
    },
    {
      "cell_type": "code",
      "metadata": {
        "id": "Z_OaRs_AWmsN",
        "colab_type": "code",
        "colab": {}
      },
      "source": [
        "CPM = create_CPM(data)\n",
        "#PPM = create_PPM(items)\n",
        "\n",
        "num_users = CPM.shape[0]\n",
        "num_items = CPM.shape[1]\n",
        "item_prior = get_item_prior()\n",
        "user_prior = get_user_prior()"
      ],
      "execution_count": 0,
      "outputs": []
    },
    {
      "cell_type": "markdown",
      "metadata": {
        "id": "c6zhqdwjbXkR",
        "colab_type": "text"
      },
      "source": [
        "# Naive Bayes Hybrid aproach"
      ]
    },
    {
      "cell_type": "code",
      "metadata": {
        "id": "fLosEX1oId18",
        "colab_type": "code",
        "colab": {}
      },
      "source": [
        "def user_based(user_id, item_id, epsilon=1e-3):\n",
        "  k = CPM[user_id]\n",
        "  i = CPM[:,item_id]\n",
        "  K = cp.tile(k, num_users).reshape(num_users, num_items)\n",
        "  I = cp.tile(i, num_items).reshape(num_items, num_users)\n",
        "\n",
        "  cond = I * (CPM == K).T \n",
        "  items_probs = (cond.sum(axis=-1) + epsilon) / (i.sum() + 2 * epsilon)\n",
        "  \n",
        "  return (item_prior[item_id] * cp.prod(items_probs)) ** (1/ (1 + num_items))"
      ],
      "execution_count": 0,
      "outputs": []
    },
    {
      "cell_type": "code",
      "metadata": {
        "id": "GNChCji2641v",
        "colab_type": "code",
        "colab": {}
      },
      "source": [
        "def test_user_based(user_id, item_id, epsilon=1e-3):\n",
        "  k = CPM[user_id]\n",
        "  i = CPM[:,item_id]\n",
        "  K = cp.tile(k, num_users).reshape(num_users, num_users, num_items)\n",
        "  I = cp.tile(i, (num_users, num_items)).reshape(num_users, num_items, num_users)\n",
        "\n",
        "  cond = I * (CPM == K).T \n",
        "  items_probs = (cond.sum(axis=-1) + epsilon) / (i.sum() + 2 * epsilon)\n",
        "  \n",
        "  return (item_prior[item_id] * cp.prod(items_probs)) ** (1/ (1 + num_items))"
      ],
      "execution_count": 0,
      "outputs": []
    },
    {
      "cell_type": "code",
      "metadata": {
        "id": "999s6S-pbbGW",
        "colab_type": "code",
        "colab": {}
      },
      "source": [
        "def item_based(user_id, item_id, epsilon=1e-3):\n",
        "  k = CPM[:,item_id]\n",
        "  u = CPM[user_id]\n",
        "  K = cp.tile(k, num_items).reshape(num_items, num_users).T\n",
        "  U = cp.tile(u, num_users).reshape(num_users, num_items)\n",
        "  \n",
        "  cond = U * (CPM == K)\n",
        "  user_probs = (cond.sum(axis=-1) + epsilon) / (u.sum() + 2 * epsilon)\n",
        "\n",
        "  return (user_prior[user_id] * cp.prod(user_probs)) ** (1/ (1 + num_users))"
      ],
      "execution_count": 0,
      "outputs": []
    },
    {
      "cell_type": "code",
      "metadata": {
        "id": "1btWLKz_rOVA",
        "colab_type": "code",
        "colab": {}
      },
      "source": [
        "def hybrid_score(user_id, item_id):\n",
        "  return user_based(user_id, item_id) * item_based(user_id, item_id)"
      ],
      "execution_count": 0,
      "outputs": []
    },
    {
      "cell_type": "code",
      "metadata": {
        "id": "A0cs2UoMu-Yr",
        "colab_type": "code",
        "colab": {}
      },
      "source": [
        "def create_recommendation_matrix(verbose=False):\n",
        "  if verbose:\n",
        "    start = time.time()\n",
        "\n",
        "  recs = []\n",
        "\n",
        "  for item_id in range(num_items):\n",
        "    recs.append([hybrid_score(user_id, item_id) for user_id in range(num_users)]) \n",
        "     \n",
        "    if verbose and item_id % 100 == 0:\n",
        "      print(int(100 * item_id / num_items), \"% done\")\n",
        "\n",
        "  if verbose:\n",
        "    print(\"Took\", int(time.time() - start) / 60, \"minutes\")\n",
        "\n",
        "  return cp.array(recs, dtype=cp.float32).T"
      ],
      "execution_count": 0,
      "outputs": []
    },
    {
      "cell_type": "code",
      "metadata": {
        "id": "AV3-zPgZwV6O",
        "colab_type": "code",
        "colab": {}
      },
      "source": [
        "def get_recommendations(R, user_id=None, item_id=None, n=4):\n",
        "  if user_id is None and item_id is not None:\n",
        "    recs = R[:, item_id]\n",
        "  elif item_id is None and user_id is not None:\n",
        "    recs = R[user_id]\n",
        "\n",
        "  else:\n",
        "    raise ValueError(\"Either user_id or item_id needs to be None\")\n",
        "\n",
        "  top_idx = np.argsort(recs)[-n:]\n",
        "  top_values = cp.array([recs[j] for j in top_idx], dtype=cp.float32)\n",
        "\n",
        "  return top_idx, top_values"
      ],
      "execution_count": 0,
      "outputs": []
    },
    {
      "cell_type": "code",
      "metadata": {
        "id": "O3zFQ1GSQwwI",
        "colab_type": "code",
        "colab": {}
      },
      "source": [
        "def single_recommendation(CPM, user_id=None, item_id=None):\n",
        "  if user_id is None and item_id is not None:\n",
        "    return np.array([hybrid_score(user_id, item_id) for user_id in range(num_users)], dtype=np.float32).reshape(-1, 1)\n",
        "\n",
        "  elif item_id is None and user_id is not None:\n",
        "    return np.array([hybrid_score(user_id, item_id) for item_id in range(num_items)], dtype=np.float32).reshape(-1, 1).T\n",
        "\n",
        "  else:\n",
        "    raise ValueError(\"Either user_id or item_id needs to be None\")"
      ],
      "execution_count": 0,
      "outputs": []
    },
    {
      "cell_type": "code",
      "metadata": {
        "id": "5LVtei_xtXt1",
        "colab_type": "code",
        "colab": {}
      },
      "source": [
        "def rec_above_threshold(threshold, user_id=None, item_id=None):\n",
        "  if item_id is None and user_id is not None:\n",
        "    above_threshold = R[user_id] > threshold\n",
        "\n",
        "  elif user_id is None and item_id is not None:\n",
        "    above_threshold = R[:,item_id] > threshold\n",
        "\n",
        "  else:\n",
        "    raise ValueError(\"Either user_id or item_id needs to be None\")\n",
        "\n",
        "  return np.argwhere(above_threshold == 1)"
      ],
      "execution_count": 0,
      "outputs": []
    },
    {
      "cell_type": "markdown",
      "metadata": {
        "id": "EGrMcPP82829",
        "colab_type": "text"
      },
      "source": [
        "# Save / load  Matrix"
      ]
    },
    {
      "cell_type": "code",
      "metadata": {
        "id": "0YB0QOiy2eu2",
        "colab_type": "code",
        "outputId": "9dfcfcd9-ce6a-49cc-db1e-58db5c54ba7c",
        "colab": {
          "base_uri": "https://localhost:8080/",
          "height": 34
        }
      },
      "source": [
        "from google.colab import drive\n",
        "\n",
        "drive.mount('/content/gdrive')"
      ],
      "execution_count": 22,
      "outputs": [
        {
          "output_type": "stream",
          "text": [
            "Drive already mounted at /content/gdrive; to attempt to forcibly remount, call drive.mount(\"/content/gdrive\", force_remount=True).\n"
          ],
          "name": "stdout"
        }
      ]
    },
    {
      "cell_type": "code",
      "metadata": {
        "id": "9lRSF9gftjU1",
        "colab_type": "code",
        "colab": {}
      },
      "source": [
        "#R = create_recommendation_matrix(verbose=True)"
      ],
      "execution_count": 0,
      "outputs": []
    },
    {
      "cell_type": "code",
      "metadata": {
        "id": "WaU899n37c9G",
        "colab_type": "code",
        "colab": {}
      },
      "source": [
        "#np.save(\"./gdrive/My Drive/alan/recommendation_matrix\", R)"
      ],
      "execution_count": 0,
      "outputs": []
    },
    {
      "cell_type": "code",
      "metadata": {
        "id": "PAtrrl_TSxcC",
        "colab_type": "code",
        "colab": {}
      },
      "source": [
        "R = np.load(\"./gdrive/My Drive/alan/recommendation_matrix.npy\")"
      ],
      "execution_count": 0,
      "outputs": []
    },
    {
      "cell_type": "code",
      "metadata": {
        "id": "p3WIrYt-76WN",
        "colab_type": "code",
        "outputId": "ce10c2ad-93cd-45de-b2ae-25c49f703a03",
        "colab": {
          "base_uri": "https://localhost:8080/",
          "height": 34
        }
      },
      "source": [
        "!ls gdrive/My\\ Drive/alan"
      ],
      "execution_count": 26,
      "outputs": [
        {
          "output_type": "stream",
          "text": [
            "recommendation_matrix.npy\n"
          ],
          "name": "stdout"
        }
      ]
    },
    {
      "cell_type": "code",
      "metadata": {
        "id": "el2rgKFw8D4H",
        "colab_type": "code",
        "outputId": "5caead6e-1787-49d4-b3c8-a2064225f813",
        "colab": {
          "base_uri": "https://localhost:8080/",
          "height": 34
        }
      },
      "source": [
        "CPM.shape, R.shape"
      ],
      "execution_count": 27,
      "outputs": [
        {
          "output_type": "execute_result",
          "data": {
            "text/plain": [
              "((795, 1912), (795, 1912))"
            ]
          },
          "metadata": {
            "tags": []
          },
          "execution_count": 27
        }
      ]
    },
    {
      "cell_type": "markdown",
      "metadata": {
        "id": "evHNoszT-5nS",
        "colab_type": "text"
      },
      "source": [
        "# Test results"
      ]
    },
    {
      "cell_type": "markdown",
      "metadata": {
        "id": "Kb0yDspVd-UN",
        "colab_type": "text"
      },
      "source": [
        "## Threshold"
      ]
    },
    {
      "cell_type": "markdown",
      "metadata": {
        "id": "J2sKKjbGdpJp",
        "colab_type": "text"
      },
      "source": [
        "### Plotting functions"
      ]
    },
    {
      "cell_type": "code",
      "metadata": {
        "id": "zB6ByDEUSzE7",
        "colab_type": "code",
        "colab": {}
      },
      "source": [
        "def plot_threshold_recs(user_id=None, item_id=None, threshold_range=[.8, .999], num_points=10, recs=None):\n",
        "  thresholds = np.linspace(threshold_range[0], threshold_range[1], num_points)\n",
        "  if recs is None:\n",
        "    recs = np.array([rec_above_threshold(threshold, user_id=user_id).shape[0] for threshold in thresholds])\n",
        "  \n",
        "  plt.plot(thresholds, recs)\n",
        "  plt.grid()\n",
        "  plt.xlim(threshold_range[0], 1)\n",
        "  plt.xlabel(\"Threshold\")\n",
        "  plt.ylabel(\"# recommendations\");"
      ],
      "execution_count": 0,
      "outputs": []
    },
    {
      "cell_type": "code",
      "metadata": {
        "id": "XCRi7eyESVtk",
        "colab_type": "code",
        "colab": {}
      },
      "source": [
        "def plot_threshold_recs_3d(threshold_range=[.8, .999], num_points=10):\n",
        "  thresholds = np.linspace(threshold_range[0], threshold_range[1], num_points)\n",
        "  z = np.array([[rec_above_threshold(threshold, user_id=user_id).shape[0] for threshold in thresholds] for user_id in range(num_users)])\n",
        "    \n",
        "  x, y = np.meshgrid(np.arange(num_users), thresholds)\n",
        "\n",
        "  fig = plt.figure(figsize=(10,6))\n",
        "  ax = fig.add_subplot(111, projection='3d')\n",
        "  ax.scatter(x,y,z, cmap='viridis', alpha=0.2)\n",
        "\n",
        "  ax.view_init(15,15)\n",
        "  ax.set_xticks([])\n",
        "  ax.set_yticks([.8, .9, 1])\n",
        "  ax.set_zticks([0, 500, 1000, 1500, 2000])\n",
        "  ax.set_xlabel(\"user id\")\n",
        "  ax.set_ylabel(\"Recommendation probability\")\n",
        "  ax.set_zlabel(\"# Recommendations\");"
      ],
      "execution_count": 0,
      "outputs": []
    },
    {
      "cell_type": "markdown",
      "metadata": {
        "id": "S4h27513dsrK",
        "colab_type": "text"
      },
      "source": [
        "### Vizualize results"
      ]
    },
    {
      "cell_type": "code",
      "metadata": {
        "id": "A3bQb1tW3e6K",
        "colab_type": "code",
        "outputId": "880be809-537e-40bb-e2c0-1f3319b267e2",
        "colab": {
          "base_uri": "https://localhost:8080/",
          "height": 0
        }
      },
      "source": [
        "plot_threshold_recs(0)"
      ],
      "execution_count": 30,
      "outputs": [
        {
          "output_type": "display_data",
          "data": {
            "image/png": "[encoded data removed]",
            "text/plain": [
              "<Figure size 432x288 with 1 Axes>"
            ]
          },
          "metadata": {
            "tags": [],
            "needs_background": "light"
          }
        }
      ]
    },
    {
      "cell_type": "code",
      "metadata": {
        "id": "8J7bE0b8it9j",
        "colab_type": "code",
        "colab": {}
      },
      "source": [
        "thresholds = np.linspace(.8, .999, 10)\n",
        "means = np.array([[rec_above_threshold(threshold, user_id=user_id).shape[0] for threshold in thresholds] for user_id in range(num_users)]).sum(axis=0) / num_users"
      ],
      "execution_count": 0,
      "outputs": []
    },
    {
      "cell_type": "code",
      "metadata": {
        "id": "rUPea1RIj1eo",
        "colab_type": "code",
        "outputId": "409c0b60-46e2-4449-86a9-545299f506ee",
        "colab": {
          "base_uri": "https://localhost:8080/",
          "height": 0
        }
      },
      "source": [
        "plot_threshold_recs(recs=means)"
      ],
      "execution_count": 32,
      "outputs": [
        {
          "output_type": "display_data",
          "data": {
            "image/png": "[encoded data removed]",
            "text/plain": [
              "<Figure size 432x288 with 1 Axes>"
            ]
          },
          "metadata": {
            "tags": [],
            "needs_background": "light"
          }
        }
      ]
    },
    {
      "cell_type": "code",
      "metadata": {
        "id": "g4mRSo9N8tZa",
        "colab_type": "code",
        "outputId": "9f5f620e-dcd2-4676-ebcb-2a2c4408dfaa",
        "colab": {
          "base_uri": "https://localhost:8080/",
          "height": 0
        }
      },
      "source": [
        "plot_threshold_recs_3d()"
      ],
      "execution_count": 33,
      "outputs": [
        {
          "output_type": "display_data",
          "data": {
            "image/png": "[encoded data removed]",
            "text/plain": [
              "<Figure size 720x432 with 1 Axes>"
            ]
          },
          "metadata": {
            "tags": [],
            "needs_background": "light"
          }
        }
      ]
    },
    {
      "cell_type": "markdown",
      "metadata": {
        "id": "-O80xY9LmBiD",
        "colab_type": "text"
      },
      "source": [
        "## Confusion Matrix and metrics"
      ]
    },
    {
      "cell_type": "code",
      "metadata": {
        "id": "lh8oO5zj9xYZ",
        "colab_type": "code",
        "colab": {}
      },
      "source": [
        "def single_confusion_matrix(user_id, threshold=.925):\n",
        "  \"\"\"\n",
        "  TODO: Alternativ zu user_id x und y übergeben\n",
        "  \"\"\"\n",
        "\n",
        "  idx = rec_above_threshold(threshold, user_id=user_id)\n",
        "\n",
        "  true_positive = true_pos(user_id, idx, threshold)\n",
        "  false_positive = idx.shape[0] - true_positive\n",
        "  true_negative = true_neg(user_id, idx, threshold)\n",
        "  false_negative = false_neg(user_id, idx, threshold)\n",
        "\n",
        "  assert true_positive + false_positive + true_negative + false_negative == num_items\n",
        "\n",
        "  return np.array([true_positive, false_positive, true_negative, false_negative])"
      ],
      "execution_count": 0,
      "outputs": []
    },
    {
      "cell_type": "code",
      "metadata": {
        "id": "4cldghP7oeHX",
        "colab_type": "code",
        "colab": {}
      },
      "source": [
        "def confusion_matrix(threshold=.925, mean=False, as_dict=False):\n",
        "  results = np.zeros(4)\n",
        "\n",
        "  for user_id in range(num_users):\n",
        "    results += single_confusion_matrix(user_id, threshold)\n",
        "\n",
        "  if mean:\n",
        "    results = np.round(results / num_users, 3)\n",
        "    if as_dict:\n",
        "      return {'True Positive' : results[0], 'False Positive' : results[1], \n",
        "              'True Negative' : results[2], 'False Negative' : results[3]}\n",
        "    return results\n",
        "\n",
        "  results = results.astype(int)\n",
        "  if as_dict:\n",
        "    return {'True Positive' : results[0], 'False Positive' : results[1], \n",
        "            'True Negative' : results[2], 'False Negative' : results[3]}\n",
        "  return results"
      ],
      "execution_count": 0,
      "outputs": []
    },
    {
      "cell_type": "code",
      "metadata": {
        "id": "FYnJuZY1xtUg",
        "colab_type": "code",
        "colab": {}
      },
      "source": [
        "def true_pos(user_id, idx, threshold=.925):\n",
        "  return int(np.sum(CPM[user_id, idx]).item())"
      ],
      "execution_count": 0,
      "outputs": []
    },
    {
      "cell_type": "code",
      "metadata": {
        "id": "kTbq-c1p399y",
        "colab_type": "code",
        "colab": {}
      },
      "source": [
        "def true_neg(user_id, idx, threshold=.925):\n",
        "  pred = np.zeros_like(CPM[user_id])\n",
        "  pred[idx] = 1\n",
        "  negs = pred[CPM[user_id] == 0]\n",
        "  return int(negs.shape[0] - negs.sum().item()) "
      ],
      "execution_count": 0,
      "outputs": []
    },
    {
      "cell_type": "code",
      "metadata": {
        "id": "5w_GRaliFL7J",
        "colab_type": "code",
        "colab": {}
      },
      "source": [
        "def false_neg(user_id, idx, threshold=.925):\n",
        "  pred = np.zeros_like(CPM[user_id])\n",
        "  pred[idx] = 1\n",
        "  negs = pred[CPM[user_id] == 1]\n",
        "  return int(negs.shape[0] - negs.sum().item())"
      ],
      "execution_count": 0,
      "outputs": []
    },
    {
      "cell_type": "code",
      "metadata": {
        "id": "y8ilYPXkzgl-",
        "colab_type": "code",
        "colab": {}
      },
      "source": [
        "def calculate_accuracy(cf, threshold=.925):\n",
        "  return (cf[0] + cf[2]) / np.sum(cf)\n",
        "\n",
        "def calculate_precision(cf, threshold=.925):\n",
        "  return cf[0] / (cf[0] + cf[1])\n",
        "\n",
        "def calculate_recall(cf, threshold=.925):\n",
        "  return cf[0] / (cf[0] + cf[3])\n",
        "\n",
        "def calculate_specificity(cf, threshold=.925):\n",
        "  return cf[2] / (cf[2] + cf[1])\n",
        "\n",
        "def calculate_metrics(threshold=.925):\n",
        "  cf = confusion_matrix(threshold)\n",
        "\n",
        "  acc = np.round(calculate_accuracy(cf, threshold), 5)\n",
        "  prec = np.round(calculate_precision(cf, threshold), 5)\n",
        "  rec = np.round(calculate_recall(cf, threshold), 5)\n",
        "  f_1 = np.round((2 * rec * prec) / (rec + prec), 5)\n",
        "  spec = np.round(calculate_specificity(cf, threshold), 5)\n",
        "\n",
        "  return {'Accuracy': acc, 'Precision': prec, 'Recall': rec, \n",
        "          'F1-Score': f_1, 'Specificity': spec}\n"
      ],
      "execution_count": 0,
      "outputs": []
    },
    {
      "cell_type": "code",
      "metadata": {
        "id": "q2iZQQObS8KS",
        "colab_type": "code",
        "colab": {}
      },
      "source": [
        "def user_bitflip(user_id):\n",
        "  user = cp.asnumpy(CPM[user_id])\n",
        "  num_items_bought = int(user.sum())\n",
        "  items_bought = np.argwhere(user == 1).squeeze()\n",
        "\n",
        "  X = np.tile(user, (num_items_bought, 1))\n",
        "  Y = np.tile(user, (num_items_bought, 1))\n",
        "\n",
        "  if num_items_bought == 1:\n",
        "    X[0, items_bought.item()] = 0\n",
        "    return X, Y\n",
        "\n",
        "  for i in range(num_items_bought):\n",
        "    X[i, items_bought[i]] = 0\n",
        "\n",
        "  assert int(X.sum() / num_items_bought) == num_items_bought - 1\n",
        "\n",
        "  return X, Y"
      ],
      "execution_count": 0,
      "outputs": []
    },
    {
      "cell_type": "code",
      "metadata": {
        "id": "aviaNu0OdH3T",
        "colab_type": "code",
        "colab": {}
      },
      "source": [
        "def bitflip():\n",
        "  test = []\n",
        "\n",
        "  for user_id in range(num_users):\n",
        "    test.append(user_bitflip(user_id))\n",
        "\n",
        "  return test"
      ],
      "execution_count": 0,
      "outputs": []
    },
    {
      "cell_type": "markdown",
      "metadata": {
        "id": "FY4kgo_ED5tD",
        "colab_type": "text"
      },
      "source": [
        "# Create Metrics"
      ]
    },
    {
      "cell_type": "code",
      "metadata": {
        "id": "fNOox0OPokKl",
        "colab_type": "code",
        "outputId": "898edffa-94dc-427e-f461-e351c6bf9ebb",
        "colab": {
          "base_uri": "https://localhost:8080/",
          "height": 0
        }
      },
      "source": [
        "confusion_matrix(as_dict=True)"
      ],
      "execution_count": 42,
      "outputs": [
        {
          "output_type": "execute_result",
          "data": {
            "text/plain": [
              "{'False Negative': 2055,\n",
              " 'False Positive': 9028,\n",
              " 'True Negative': 1501061,\n",
              " 'True Positive': 7896}"
            ]
          },
          "metadata": {
            "tags": []
          },
          "execution_count": 42
        }
      ]
    },
    {
      "cell_type": "code",
      "metadata": {
        "id": "pcOvw2_Lq0_j",
        "colab_type": "code",
        "outputId": "89a46507-a9f1-4de7-b754-097ae0fedc31",
        "colab": {
          "base_uri": "https://localhost:8080/",
          "height": 0
        }
      },
      "source": [
        "confusion_matrix(mean=True, as_dict=True)"
      ],
      "execution_count": 43,
      "outputs": [
        {
          "output_type": "execute_result",
          "data": {
            "text/plain": [
              "{'False Negative': 2.585,\n",
              " 'False Positive': 11.356,\n",
              " 'True Negative': 1888.127,\n",
              " 'True Positive': 9.932}"
            ]
          },
          "metadata": {
            "tags": []
          },
          "execution_count": 43
        }
      ]
    },
    {
      "cell_type": "code",
      "metadata": {
        "id": "CSYwfypODR30",
        "colab_type": "code",
        "outputId": "7bf958b3-8ebb-4e05-d483-0ea895b723ac",
        "colab": {
          "base_uri": "https://localhost:8080/",
          "height": 0
        }
      },
      "source": [
        "calculate_metrics()"
      ],
      "execution_count": 44,
      "outputs": [
        {
          "output_type": "execute_result",
          "data": {
            "text/plain": [
              "{'Accuracy': 0.99271,\n",
              " 'F1-Score': 0.58761,\n",
              " 'Precision': 0.46656,\n",
              " 'Recall': 0.79349,\n",
              " 'Specificity': 0.99402}"
            ]
          },
          "metadata": {
            "tags": []
          },
          "execution_count": 44
        }
      ]
    },
    {
      "cell_type": "code",
      "metadata": {
        "id": "cby10TJ0IcnS",
        "colab_type": "code",
        "colab": {}
      },
      "source": [
        "foo = bitflip()"
      ],
      "execution_count": 0,
      "outputs": []
    },
    {
      "cell_type": "code",
      "metadata": {
        "id": "tJRRFNALIhMf",
        "colab_type": "code",
        "colab": {
          "base_uri": "https://localhost:8080/",
          "height": 0
        },
        "outputId": "160d6bc0-6797-430f-b7ef-e485e342ed03"
      },
      "source": [
        "foo[1][0].shape, foo[1][1].shape"
      ],
      "execution_count": 46,
      "outputs": [
        {
          "output_type": "execute_result",
          "data": {
            "text/plain": [
              "((6, 1912), (6, 1912))"
            ]
          },
          "metadata": {
            "tags": []
          },
          "execution_count": 46
        }
      ]
    },
    {
      "cell_type": "markdown",
      "metadata": {
        "id": "qj9Hw2-p4wv2",
        "colab_type": "text"
      },
      "source": [
        "# Pred / Fit"
      ]
    },
    {
      "cell_type": "code",
      "metadata": {
        "id": "SgIYo29K4yWd",
        "colab_type": "code",
        "colab": {}
      },
      "source": [
        "def training_example(user_id):\n",
        "  user = cp.asnumpy(CPM[user_id])\n",
        "  num_items_bought = int(user.sum())\n",
        "  items_bought = np.argwhere(user == 1).squeeze()\n",
        "\n",
        "  X = np.tile(user, (num_items_bought, 1))\n",
        "  Y = np.zeros((num_items_bought, num_items))\n",
        "\n",
        "  if num_items_bought == 1:\n",
        "    X[0, items_bought.item()] = 0\n",
        "    Y[0, items_bought.item()] = 1\n",
        "    return X, Y\n",
        "\n",
        "  for i in range(num_items_bought):\n",
        "    X[i, items_bought[i]] = 0\n",
        "    Y[i, items_bought[i]] = 1\n",
        "\n",
        "  assert int(X.sum() / num_items_bought) == num_items_bought - 1\n",
        "  assert X.shape == Y.shape\n",
        "\n",
        "  return X, Y"
      ],
      "execution_count": 0,
      "outputs": []
    },
    {
      "cell_type": "code",
      "metadata": {
        "id": "a47mnuQBjV3K",
        "colab_type": "code",
        "colab": {}
      },
      "source": [
        "def create_test_set(hierarchy=False):\n",
        "  if hierarchy:\n",
        "    test = []\n",
        "    for user_id in range(num_users):\n",
        "      test.append(training_example(user_id))\n",
        "    return test\n",
        "\n",
        "  X, Y = training_example(0)\n",
        "\n",
        "  for user_id in range(1, num_users):\n",
        "    x, y = training_example(user_id)\n",
        "    X = np.concatenate((X, x), axis=0)\n",
        "    Y = np.concatenate((Y, y), axis=0)\n",
        "\n",
        "  return X, Y"
      ],
      "execution_count": 0,
      "outputs": []
    },
    {
      "cell_type": "code",
      "metadata": {
        "id": "_B0HB1uswGAQ",
        "colab_type": "code",
        "colab": {}
      },
      "source": [
        "def get_batched_dataset(dataset, BATCH_SIZE=128, train=False):\n",
        "  if train:\n",
        "    dataset = dataset.repeat()\n",
        "    dataset = dataset.shuffle(1337)\n",
        "\n",
        "  dataset = dataset.batch(BATCH_SIZE)\n",
        "  dataset = dataset.prefetch(AUTO)\n",
        "  return dataset"
      ],
      "execution_count": 0,
      "outputs": []
    },
    {
      "cell_type": "code",
      "metadata": {
        "id": "eZnjpJUrx50l",
        "colab_type": "code",
        "colab": {}
      },
      "source": [
        "def train_test_split(X, Y, ratio=0.7):\n",
        "  N = X.shape[0]\n",
        "  SPLIT = int(N * 0.7)\n",
        "  np.random.seed(1337)\n",
        "  idx = np.random.randint(N, size=SPLIT)\n",
        "\n",
        "  train = tf.data.Dataset.from_tensor_slices((X[idx,:], Y[idx,:]))\n",
        "  test = tf.data.Dataset.from_tensor_slices((np.delete(X, idx, 0), np.delete(Y, idx, 0)))\n",
        "\n",
        "  train = get_batched_dataset(train, train=True)\n",
        "  test = get_batched_dataset(test)\n",
        "\n",
        "  return train, test"
      ],
      "execution_count": 0,
      "outputs": []
    },
    {
      "cell_type": "code",
      "metadata": {
        "id": "_YqW8ixoow85",
        "colab_type": "code",
        "colab": {}
      },
      "source": [
        "X, Y = create_test_set()"
      ],
      "execution_count": 0,
      "outputs": []
    },
    {
      "cell_type": "code",
      "metadata": {
        "id": "FSYGd3DBpHhF",
        "colab_type": "code",
        "colab": {
          "base_uri": "https://localhost:8080/",
          "height": 34
        },
        "outputId": "435b90b7-9f19-40e1-8ccf-952cecc96416"
      },
      "source": [
        "train, test = train_test_split(X, Y)"
      ],
      "execution_count": 180,
      "outputs": [
        {
          "output_type": "stream",
          "text": [
            "3223\n"
          ],
          "name": "stdout"
        }
      ]
    },
    {
      "cell_type": "code",
      "metadata": {
        "id": "hLylsEB2yV3a",
        "colab_type": "code",
        "colab": {}
      },
      "source": [
        " def create_model():\n",
        "  model = tf.keras.Sequential([\n",
        "                               Input(shape=(num_items)),\n",
        "                               Dense(100, activation='relu'),\n",
        "                               Dropout(0.4),\n",
        "                               Dense(100, activation='relu'),\n",
        "                               Dropout(0.2),\n",
        "                               Dense(num_items, activation='softmax')\n",
        "  ])\n",
        "\n",
        "  model.compile(\n",
        "      optimizer='adam',\n",
        "      loss='categorical_crossentropy',\n",
        "      metrics=['accuracy', tf.keras.metrics.Recall(), tf.keras.metrics.Precision()]\n",
        "  )\n",
        "  return model"
      ],
      "execution_count": 0,
      "outputs": []
    },
    {
      "cell_type": "code",
      "metadata": {
        "id": "3oXyXq4ZJsS8",
        "colab_type": "code",
        "outputId": "400a45ef-d4b9-4ac3-c1c1-e07da8a06c8e",
        "colab": {
          "base_uri": "https://localhost:8080/",
          "height": 330
        }
      },
      "source": [
        "model = create_model()\n",
        "model.summary()"
      ],
      "execution_count": 211,
      "outputs": [
        {
          "output_type": "stream",
          "text": [
            "Model: \"sequential_20\"\n",
            "_________________________________________________________________\n",
            "Layer (type)                 Output Shape              Param #   \n",
            "=================================================================\n",
            "dense_60 (Dense)             (None, 100)               191300    \n",
            "_________________________________________________________________\n",
            "dropout_38 (Dropout)         (None, 100)               0         \n",
            "_________________________________________________________________\n",
            "dense_61 (Dense)             (None, 100)               10100     \n",
            "_________________________________________________________________\n",
            "dropout_39 (Dropout)         (None, 100)               0         \n",
            "_________________________________________________________________\n",
            "dense_62 (Dense)             (None, 1912)              193112    \n",
            "=================================================================\n",
            "Total params: 394,512\n",
            "Trainable params: 394,512\n",
            "Non-trainable params: 0\n",
            "_________________________________________________________________\n"
          ],
          "name": "stdout"
        }
      ]
    },
    {
      "cell_type": "code",
      "metadata": {
        "id": "eEFPJuHgrQSI",
        "colab_type": "code",
        "colab": {
          "base_uri": "https://localhost:8080/",
          "height": 1000
        },
        "outputId": "c183dc32-f338-4559-90f7-5afb1c6a4f41"
      },
      "source": [
        "epochs = 50\n",
        "batch_size = 128\n",
        "steps_per_epoch = 20 * X.shape[0] // batch_size\n",
        "\n",
        "model.fit(train,\n",
        "          steps_per_epoch=steps_per_epoch,\n",
        "          epochs=epochs,\n",
        "          validation_data=test\n",
        "        )"
      ],
      "execution_count": 212,
      "outputs": [
        {
          "output_type": "stream",
          "text": [
            "Epoch 1/50\n",
            "1554/1554 [==============================] - 9s 6ms/step - loss: 4.6610 - accuracy: 0.1345 - recall: 0.0157 - precision_1: 0.3509 - val_loss: 12.7625 - val_accuracy: 0.0000e+00 - val_recall: 0.0000e+00 - val_precision_1: 0.0000e+00\n",
            "Epoch 2/50\n",
            "1554/1554 [==============================] - 9s 6ms/step - loss: 2.7683 - accuracy: 0.3025 - recall: 0.1057 - precision_1: 0.6253 - val_loss: 14.2135 - val_accuracy: 0.0000e+00 - val_recall: 0.0000e+00 - val_precision_1: 0.0000e+00\n",
            "Epoch 3/50\n",
            "1554/1554 [==============================] - 9s 6ms/step - loss: 1.7419 - accuracy: 0.5490 - recall: 0.3314 - precision_1: 0.8538 - val_loss: 14.0013 - val_accuracy: 4.0527e-04 - val_recall: 0.0000e+00 - val_precision_1: 0.0000e+00\n",
            "Epoch 4/50\n",
            "1554/1554 [==============================] - 9s 6ms/step - loss: 0.9434 - accuracy: 0.7637 - recall: 0.5999 - precision_1: 0.9296 - val_loss: 13.2086 - val_accuracy: 0.0168 - val_recall: 0.0069 - val_precision_1: 0.0246\n",
            "Epoch 5/50\n",
            "1554/1554 [==============================] - 9s 6ms/step - loss: 0.5606 - accuracy: 0.8590 - recall: 0.7590 - precision_1: 0.9523 - val_loss: 12.4706 - val_accuracy: 0.0395 - val_recall: 0.0213 - val_precision_1: 0.0680\n",
            "Epoch 6/50\n",
            "1554/1554 [==============================] - 9s 6ms/step - loss: 0.3852 - accuracy: 0.9008 - recall: 0.8381 - precision_1: 0.9612 - val_loss: 12.0046 - val_accuracy: 0.0652 - val_recall: 0.0409 - val_precision_1: 0.1167\n",
            "Epoch 7/50\n",
            "1554/1554 [==============================] - 9s 6ms/step - loss: 0.3008 - accuracy: 0.9199 - recall: 0.8752 - precision_1: 0.9641 - val_loss: 11.7688 - val_accuracy: 0.0912 - val_recall: 0.0624 - val_precision_1: 0.1584\n",
            "Epoch 8/50\n",
            "1554/1554 [==============================] - 9s 6ms/step - loss: 0.2523 - accuracy: 0.9309 - recall: 0.8968 - precision_1: 0.9665 - val_loss: 11.3509 - val_accuracy: 0.1185 - val_recall: 0.0873 - val_precision_1: 0.2159\n",
            "Epoch 9/50\n",
            "1554/1554 [==============================] - 9s 6ms/step - loss: 0.2231 - accuracy: 0.9376 - recall: 0.9112 - precision_1: 0.9675 - val_loss: 11.1469 - val_accuracy: 0.1305 - val_recall: 0.0981 - val_precision_1: 0.2330\n",
            "Epoch 10/50\n",
            "1554/1554 [==============================] - 9s 6ms/step - loss: 0.2009 - accuracy: 0.9437 - recall: 0.9222 - precision_1: 0.9699 - val_loss: 10.8372 - val_accuracy: 0.1538 - val_recall: 0.1218 - val_precision_1: 0.2728\n",
            "Epoch 11/50\n",
            "1554/1554 [==============================] - 9s 6ms/step - loss: 0.1853 - accuracy: 0.9465 - recall: 0.9277 - precision_1: 0.9695 - val_loss: 10.8058 - val_accuracy: 0.1662 - val_recall: 0.1374 - val_precision_1: 0.2807\n",
            "Epoch 12/50\n",
            "1554/1554 [==============================] - 9s 6ms/step - loss: 0.1753 - accuracy: 0.9491 - recall: 0.9329 - precision_1: 0.9698 - val_loss: 10.6716 - val_accuracy: 0.1836 - val_recall: 0.1477 - val_precision_1: 0.3015\n",
            "Epoch 13/50\n",
            "1554/1554 [==============================] - 9s 6ms/step - loss: 0.1657 - accuracy: 0.9514 - recall: 0.9370 - precision_1: 0.9701 - val_loss: 10.5089 - val_accuracy: 0.1917 - val_recall: 0.1589 - val_precision_1: 0.3127\n",
            "Epoch 14/50\n",
            "1554/1554 [==============================] - 9s 6ms/step - loss: 0.1535 - accuracy: 0.9548 - recall: 0.9413 - precision_1: 0.9719 - val_loss: 10.3723 - val_accuracy: 0.2010 - val_recall: 0.1704 - val_precision_1: 0.3221\n",
            "Epoch 15/50\n",
            "1554/1554 [==============================] - 9s 6ms/step - loss: 0.1487 - accuracy: 0.9557 - recall: 0.9440 - precision_1: 0.9711 - val_loss: 10.1364 - val_accuracy: 0.2182 - val_recall: 0.1858 - val_precision_1: 0.3492\n",
            "Epoch 16/50\n",
            "1554/1554 [==============================] - 9s 6ms/step - loss: 0.1434 - accuracy: 0.9568 - recall: 0.9464 - precision_1: 0.9724 - val_loss: 10.0766 - val_accuracy: 0.2237 - val_recall: 0.1937 - val_precision_1: 0.3465\n",
            "Epoch 17/50\n",
            "1554/1554 [==============================] - 9s 6ms/step - loss: 0.1394 - accuracy: 0.9588 - recall: 0.9482 - precision_1: 0.9728 - val_loss: 10.1052 - val_accuracy: 0.2318 - val_recall: 0.2034 - val_precision_1: 0.3574\n",
            "Epoch 18/50\n",
            "1554/1554 [==============================] - 9s 6ms/step - loss: 0.1302 - accuracy: 0.9606 - recall: 0.9517 - precision_1: 0.9735 - val_loss: 10.0225 - val_accuracy: 0.2415 - val_recall: 0.2136 - val_precision_1: 0.3657\n",
            "Epoch 19/50\n",
            "1554/1554 [==============================] - 9s 6ms/step - loss: 0.1309 - accuracy: 0.9606 - recall: 0.9520 - precision_1: 0.9729 - val_loss: 9.8952 - val_accuracy: 0.2492 - val_recall: 0.2265 - val_precision_1: 0.3761\n",
            "Epoch 20/50\n",
            "1554/1554 [==============================] - 9s 6ms/step - loss: 0.1242 - accuracy: 0.9629 - recall: 0.9552 - precision_1: 0.9748 - val_loss: 9.6718 - val_accuracy: 0.2578 - val_recall: 0.2294 - val_precision_1: 0.3903\n",
            "Epoch 21/50\n",
            "1554/1554 [==============================] - 9s 6ms/step - loss: 0.1212 - accuracy: 0.9636 - recall: 0.9557 - precision_1: 0.9747 - val_loss: 9.6309 - val_accuracy: 0.2616 - val_recall: 0.2326 - val_precision_1: 0.3907\n",
            "Epoch 22/50\n",
            "1554/1554 [==============================] - 9s 6ms/step - loss: 0.1191 - accuracy: 0.9641 - recall: 0.9568 - precision_1: 0.9750 - val_loss: 9.5995 - val_accuracy: 0.2681 - val_recall: 0.2456 - val_precision_1: 0.4040\n",
            "Epoch 23/50\n",
            "1554/1554 [==============================] - 9s 6ms/step - loss: 0.1185 - accuracy: 0.9639 - recall: 0.9572 - precision_1: 0.9743 - val_loss: 9.5971 - val_accuracy: 0.2827 - val_recall: 0.2547 - val_precision_1: 0.4059\n",
            "Epoch 24/50\n",
            "1554/1554 [==============================] - 10s 6ms/step - loss: 0.1167 - accuracy: 0.9648 - recall: 0.9585 - precision_1: 0.9747 - val_loss: 9.4426 - val_accuracy: 0.2845 - val_recall: 0.2582 - val_precision_1: 0.4039\n",
            "Epoch 25/50\n",
            "1554/1554 [==============================] - 9s 6ms/step - loss: 0.1094 - accuracy: 0.9670 - recall: 0.9610 - precision_1: 0.9766 - val_loss: 9.4441 - val_accuracy: 0.2898 - val_recall: 0.2628 - val_precision_1: 0.4157\n",
            "Epoch 26/50\n",
            "1554/1554 [==============================] - 9s 6ms/step - loss: 0.1100 - accuracy: 0.9667 - recall: 0.9611 - precision_1: 0.9757 - val_loss: 9.2799 - val_accuracy: 0.3019 - val_recall: 0.2772 - val_precision_1: 0.4307\n",
            "Epoch 27/50\n",
            "1554/1554 [==============================] - 9s 6ms/step - loss: 0.1065 - accuracy: 0.9682 - recall: 0.9626 - precision_1: 0.9772 - val_loss: 9.3591 - val_accuracy: 0.3092 - val_recall: 0.2847 - val_precision_1: 0.4409\n",
            "Epoch 28/50\n",
            "1554/1554 [==============================] - 9s 6ms/step - loss: 0.1056 - accuracy: 0.9684 - recall: 0.9630 - precision_1: 0.9765 - val_loss: 9.3112 - val_accuracy: 0.2977 - val_recall: 0.2770 - val_precision_1: 0.4205\n",
            "Epoch 29/50\n",
            "1554/1554 [==============================] - 9s 6ms/step - loss: 0.1030 - accuracy: 0.9692 - recall: 0.9645 - precision_1: 0.9770 - val_loss: 9.2954 - val_accuracy: 0.3169 - val_recall: 0.2904 - val_precision_1: 0.4342\n",
            "Epoch 30/50\n",
            "1554/1554 [==============================] - 9s 6ms/step - loss: 0.0972 - accuracy: 0.9711 - recall: 0.9662 - precision_1: 0.9784 - val_loss: 9.3198 - val_accuracy: 0.3167 - val_recall: 0.2950 - val_precision_1: 0.4411\n",
            "Epoch 31/50\n",
            "1554/1554 [==============================] - 9s 6ms/step - loss: 0.0993 - accuracy: 0.9703 - recall: 0.9655 - precision_1: 0.9775 - val_loss: 9.3051 - val_accuracy: 0.3114 - val_recall: 0.2873 - val_precision_1: 0.4263\n",
            "Epoch 32/50\n",
            "1554/1554 [==============================] - 9s 6ms/step - loss: 0.0962 - accuracy: 0.9712 - recall: 0.9667 - precision_1: 0.9783 - val_loss: 9.0666 - val_accuracy: 0.3260 - val_recall: 0.3035 - val_precision_1: 0.4524\n",
            "Epoch 33/50\n",
            "1554/1554 [==============================] - 9s 6ms/step - loss: 0.0945 - accuracy: 0.9719 - recall: 0.9675 - precision_1: 0.9788 - val_loss: 9.1144 - val_accuracy: 0.3252 - val_recall: 0.3025 - val_precision_1: 0.4481\n",
            "Epoch 34/50\n",
            "1554/1554 [==============================] - 9s 6ms/step - loss: 0.0946 - accuracy: 0.9721 - recall: 0.9677 - precision_1: 0.9788 - val_loss: 9.3023 - val_accuracy: 0.3319 - val_recall: 0.3106 - val_precision_1: 0.4519\n",
            "Epoch 35/50\n",
            "1554/1554 [==============================] - 9s 6ms/step - loss: 0.0942 - accuracy: 0.9719 - recall: 0.9677 - precision_1: 0.9789 - val_loss: 9.0472 - val_accuracy: 0.3323 - val_recall: 0.3106 - val_precision_1: 0.4582\n",
            "Epoch 36/50\n",
            "1554/1554 [==============================] - 9s 6ms/step - loss: 0.0921 - accuracy: 0.9727 - recall: 0.9688 - precision_1: 0.9790 - val_loss: 8.8506 - val_accuracy: 0.3406 - val_recall: 0.3183 - val_precision_1: 0.4618\n",
            "Epoch 37/50\n",
            "1554/1554 [==============================] - 9s 6ms/step - loss: 0.0889 - accuracy: 0.9736 - recall: 0.9696 - precision_1: 0.9798 - val_loss: 9.0028 - val_accuracy: 0.3402 - val_recall: 0.3198 - val_precision_1: 0.4567\n",
            "Epoch 38/50\n",
            "1554/1554 [==============================] - 9s 6ms/step - loss: 0.0890 - accuracy: 0.9733 - recall: 0.9695 - precision_1: 0.9796 - val_loss: 8.9386 - val_accuracy: 0.3562 - val_recall: 0.3366 - val_precision_1: 0.4736\n",
            "Epoch 39/50\n",
            "1554/1554 [==============================] - 9s 6ms/step - loss: 0.0867 - accuracy: 0.9742 - recall: 0.9707 - precision_1: 0.9801 - val_loss: 8.9165 - val_accuracy: 0.3469 - val_recall: 0.3232 - val_precision_1: 0.4629\n",
            "Epoch 40/50\n",
            "1554/1554 [==============================] - 9s 6ms/step - loss: 0.0861 - accuracy: 0.9745 - recall: 0.9709 - precision_1: 0.9800 - val_loss: 9.0760 - val_accuracy: 0.3467 - val_recall: 0.3266 - val_precision_1: 0.4590\n",
            "Epoch 41/50\n",
            "1554/1554 [==============================] - 9s 6ms/step - loss: 0.0825 - accuracy: 0.9753 - recall: 0.9717 - precision_1: 0.9805 - val_loss: 9.0653 - val_accuracy: 0.3431 - val_recall: 0.3230 - val_precision_1: 0.4579\n",
            "Epoch 42/50\n",
            "1554/1554 [==============================] - 9s 6ms/step - loss: 0.0832 - accuracy: 0.9752 - recall: 0.9719 - precision_1: 0.9807 - val_loss: 8.9485 - val_accuracy: 0.3502 - val_recall: 0.3313 - val_precision_1: 0.4644\n",
            "Epoch 43/50\n",
            "1554/1554 [==============================] - 9s 6ms/step - loss: 0.0798 - accuracy: 0.9762 - recall: 0.9730 - precision_1: 0.9814 - val_loss: 8.8000 - val_accuracy: 0.3589 - val_recall: 0.3402 - val_precision_1: 0.4782\n",
            "Epoch 44/50\n",
            "1554/1554 [==============================] - 9s 6ms/step - loss: 0.0795 - accuracy: 0.9762 - recall: 0.9733 - precision_1: 0.9813 - val_loss: 8.9495 - val_accuracy: 0.3597 - val_recall: 0.3410 - val_precision_1: 0.4697\n",
            "Epoch 45/50\n",
            "1554/1554 [==============================] - 9s 6ms/step - loss: 0.0784 - accuracy: 0.9766 - recall: 0.9735 - precision_1: 0.9814 - val_loss: 8.9533 - val_accuracy: 0.3581 - val_recall: 0.3372 - val_precision_1: 0.4689\n",
            "Epoch 46/50\n",
            "1554/1554 [==============================] - 9s 6ms/step - loss: 0.0802 - accuracy: 0.9759 - recall: 0.9729 - precision_1: 0.9810 - val_loss: 8.7454 - val_accuracy: 0.3684 - val_recall: 0.3514 - val_precision_1: 0.4835\n",
            "Epoch 47/50\n",
            "1554/1554 [==============================] - 9s 6ms/step - loss: 0.0751 - accuracy: 0.9778 - recall: 0.9748 - precision_1: 0.9822 - val_loss: 8.8637 - val_accuracy: 0.3759 - val_recall: 0.3544 - val_precision_1: 0.4844\n",
            "Epoch 48/50\n",
            "1554/1554 [==============================] - 9s 6ms/step - loss: 0.0777 - accuracy: 0.9770 - recall: 0.9742 - precision_1: 0.9814 - val_loss: 9.0239 - val_accuracy: 0.3629 - val_recall: 0.3459 - val_precision_1: 0.4734\n",
            "Epoch 49/50\n",
            "1554/1554 [==============================] - 9s 6ms/step - loss: 0.0737 - accuracy: 0.9782 - recall: 0.9755 - precision_1: 0.9826 - val_loss: 8.8793 - val_accuracy: 0.3737 - val_recall: 0.3566 - val_precision_1: 0.4883\n",
            "Epoch 50/50\n",
            "1554/1554 [==============================] - 9s 6ms/step - loss: 0.0740 - accuracy: 0.9782 - recall: 0.9755 - precision_1: 0.9827 - val_loss: 8.8359 - val_accuracy: 0.3812 - val_recall: 0.3615 - val_precision_1: 0.4956\n"
          ],
          "name": "stdout"
        },
        {
          "output_type": "execute_result",
          "data": {
            "text/plain": [
              "<tensorflow.python.keras.callbacks.History at 0x7f2cfea6fa58>"
            ]
          },
          "metadata": {
            "tags": []
          },
          "execution_count": 212
        }
      ]
    },
    {
      "cell_type": "code",
      "metadata": {
        "id": "iCnXSelOWEPN",
        "colab_type": "code",
        "colab": {}
      },
      "source": [
        "import torch\n",
        "from torch import optim\n",
        "from torch import nn"
      ],
      "execution_count": 0,
      "outputs": []
    },
    {
      "cell_type": "code",
      "metadata": {
        "id": "ng_j2E9YWFgO",
        "colab_type": "code",
        "colab": {}
      },
      "source": [
        "class Net(nn.Module):\n",
        "  def __init__(self):\n",
        "    super(Net, self).__init__()\n",
        "    self.layer1 = nn.Sequential(\n",
        "        nn.Linear(num_items, 100),\n",
        "        nn.Tanh())\n",
        "    self.layer2 = nn.Sequential(\n",
        "        nn.Linear(100, 100),\n",
        "        nn.Tanh())\n",
        "    self.layer3 = nn.Sequential(\n",
        "        nn.Linear(100, num_items))\n",
        "\n",
        "  def forward(self, x):\n",
        "    x = self.layer1(x)\n",
        "    x = self.layer2(x)\n",
        "    x = self.layer3(x)\n",
        "    return x"
      ],
      "execution_count": 0,
      "outputs": []
    },
    {
      "cell_type": "code",
      "metadata": {
        "id": "OxWVS-7jZVtg",
        "colab_type": "code",
        "colab": {}
      },
      "source": [
        ""
      ],
      "execution_count": 0,
      "outputs": []
    }
  ]
}