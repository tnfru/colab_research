{
  "nbformat": 4,
  "nbformat_minor": 0,
  "metadata": {
    "colab": {
      "name": "PricePred.ipynb",
      "provenance": [],
      "collapsed_sections": [],
      "authorship_tag": "ABX9TyMiqpw0aT2RvcXISnecoC4o",
      "include_colab_link": true
    },
    "kernelspec": {
      "name": "python3",
      "display_name": "Python 3"
    },
    "accelerator": "GPU"
  },
  "cells": [
    {
      "cell_type": "markdown",
      "metadata": {
        "id": "view-in-github",
        "colab_type": "text"
      },
      "source": [
        "<a href=\"https://colab.research.google.com/github/tnfru/colab_research/blob/master/PricePred.ipynb\" target=\"_parent\"><img src=\"https://colab.research.google.com/assets/colab-badge.svg\" alt=\"Open In Colab\"/></a>"
      ]
    },
    {
      "cell_type": "code",
      "metadata": {
        "id": "ofV1C0SIU08u",
        "colab_type": "code",
        "colab": {}
      },
      "source": [
        "import pandas as pd\n",
        "import numpy as np\n",
        "import cupy as cp\n",
        "import time"
      ],
      "execution_count": 0,
      "outputs": []
    },
    {
      "cell_type": "markdown",
      "metadata": {
        "id": "FDNKuswNbO-K",
        "colab_type": "text"
      },
      "source": [
        "## Read and transform data"
      ]
    },
    {
      "cell_type": "code",
      "metadata": {
        "id": "RZT3V1T2U5wL",
        "colab_type": "code",
        "colab": {}
      },
      "source": [
        "data = pd.read_excel('https://drive.google.com/uc?export=download&id=1BTjcgqQO-NxpcIRyQu2_FNxUSBCvJt7c')"
      ],
      "execution_count": 0,
      "outputs": []
    },
    {
      "cell_type": "code",
      "metadata": {
        "id": "67SNHxyEU9CX",
        "colab_type": "code",
        "colab": {}
      },
      "source": [
        "df = data.drop(['Kundenname'], axis=1)"
      ],
      "execution_count": 0,
      "outputs": []
    },
    {
      "cell_type": "code",
      "metadata": {
        "colab_type": "code",
        "id": "Ezph_4Ifwc-7",
        "colab": {}
      },
      "source": [
        "def encode(df, column):\n",
        "  df[column] = df[column].astype('category')\n",
        "  df[column + \"_cat\"] = df[column].cat.codes"
      ],
      "execution_count": 0,
      "outputs": []
    },
    {
      "cell_type": "code",
      "metadata": {
        "id": "Ca3tr4LNwIko",
        "colab_type": "code",
        "colab": {}
      },
      "source": [
        "def encode_labels(df):\n",
        "  labels_to_encode = [\"Auftrags-ID\", \"Kunden-ID\", \"Bestelldatum\", \"Produkt-ID\"]\n",
        "  df = df.sort_values(by=[\"Bestelldatum\"])\n",
        "\n",
        "  for label in labels_to_encode:\n",
        "    encode(df, label)\n",
        "\n",
        "  labels_to_encode = [\"Land/Region\", \"Bundesland\", \"Stadt\"]\n",
        "  df = df.sort_values(by=labels_to_encode)\n",
        "\n",
        "  for label in labels_to_encode:\n",
        "    encode(df, label)\n",
        "\n",
        "  df = df.drop([\"Auftrags-ID\", \"Kunden-ID\", \"Bestelldatum\",\n",
        "             \"Land/Region\", \"Bundesland\", \"Stadt\", \"Versanddatum\", \n",
        "             \"Produkt-ID\", \"Zeilen-ID\"], axis=1)\n",
        "  return df"
      ],
      "execution_count": 0,
      "outputs": []
    },
    {
      "cell_type": "code",
      "metadata": {
        "id": "pPnud4AJXWJm",
        "colab_type": "code",
        "colab": {}
      },
      "source": [
        "def get_separated_entities(df):\n",
        "  df = encode_labels(df)\n",
        "\n",
        "  items = df.drop(columns=[\"Kunden-ID_cat\", \"Bestelldatum_cat\", \"Auftrags-ID_cat\", \n",
        "                \"Land/Region_cat\", \"Bundesland_cat\", \"Stadt_cat\", \"Region\", \n",
        "                \"Segment\", \"Versandmodus\"], axis=1)\n",
        "  items = pd.get_dummies(items, columns=[\"Kategorie\" , \"Unterkategorie\"])\n",
        "  \n",
        "\n",
        "\n",
        "  transactions = pd.get_dummies(df, columns=[\"Segment\", \"Versandmodus\", \"Region\", \"Kategorie\"]).drop(\"Produktname\", axis=1)\n",
        "\n",
        "  customers = df.drop(columns=[\"Versandmodus\", \"Produktname\", \"Kategorie\", \"Gewinn\",\n",
        "                             \"Bestelldatum_cat\", \"Produkt-ID_cat\", \"Kunden-ID_cat\", \"Unterkategorie\"], axis=1)\n",
        "  customers = pd.get_dummies(customers, columns=[\"Segment\", \"Region\"])\n",
        "\n",
        "  return items, customers, transactions\n",
        "  "
      ],
      "execution_count": 0,
      "outputs": []
    },
    {
      "cell_type": "code",
      "metadata": {
        "colab_type": "code",
        "id": "ek6FoD91GPxT",
        "colab": {}
      },
      "source": [
        "def cosine_sim(a, b):\n",
        "  return a @ b / (cp.linalg.norm(a) * cp.linalg.norm(b))"
      ],
      "execution_count": 0,
      "outputs": []
    },
    {
      "cell_type": "code",
      "metadata": {
        "id": "Zi_P0VEoFStj",
        "colab_type": "code",
        "colab": {}
      },
      "source": [
        "def create_CPM(data):\n",
        "  cpm_shape = data[\"Kunden-ID\"].nunique(), data[\"Produkt-ID\"].nunique()\n",
        "  CPM = cp.zeros(cpm_shape)\n",
        "  cpm_inp = data.drop(columns=[\"Auftrags-ID\", \"Zeilen-ID\", \"Versanddatum\", \"Bestelldatum\", \n",
        "                   \"Versandmodus\", \"Kundenname\", \"Segment\", \"Stadt\", \"Bundesland\", \n",
        "                   \"Land/Region\", \"Region\", \"Kategorie\", \"Unterkategorie\", \"Umsatz\",\n",
        "                   \"Menge\", \"Rabatt\", \"Gewinn\", \"Produktname\"], axis=1)\n",
        "  encode(cpm_inp, \"Kunden-ID\")\n",
        "  encode(cpm_inp, \"Produkt-ID\")\n",
        "  cpm_inp = cpm_inp.drop([\"Kunden-ID\", \"Produkt-ID\"], axis=1).values\n",
        "\n",
        "  for i in range(len(cpm_inp)):\n",
        "    cust_id = cpm_inp[i][0]\n",
        "    prod_id = cpm_inp[i][1]\n",
        "\n",
        "    CPM[cust_id][prod_id] = 1\n",
        "  \n",
        "  return CPM"
      ],
      "execution_count": 0,
      "outputs": []
    },
    {
      "cell_type": "code",
      "metadata": {
        "id": "Yj0pWEJ_LkyT",
        "colab_type": "code",
        "colab": {}
      },
      "source": [
        "def create_PPM(items, print_progress=False):\n",
        "  ppm_shape = items[\"Produkt-ID_cat\"].nunique(), items[\"Produkt-ID_cat\"].nunique()\n",
        "  PPM = np.zeros(ppm_shape)\n",
        "  \n",
        "  ppm_inp = items.drop([\"Produktname\", \"Gewinn\", \"Rabatt\"], axis=1)\n",
        "  ppm_inp[\"Umsatz\"] = ppm_inp[\"Umsatz\"].values / ppm_inp[\"Menge\"].values\n",
        "  ppm_inp = ppm_inp.rename(columns={\"Umsatz\" : \"Preis\"}).drop([\"Menge\"], axis=1)\n",
        "  ppm_inp['Preis'] = (ppm_inp['Preis'].values - ppm_inp['Preis'].values.mean()) / ppm_inp['Preis'].values.std()\n",
        "\n",
        "  ppm_inp = ppm_inp.groupby([\"Produkt-ID_cat\"]).sum()\n",
        "  number_of_entries = ppm_inp[[\"Kategorie_Bürobedarf\", \"Kategorie_Möbel\", \"Kategorie_Technik\"]].values.sum(axis=1)\n",
        "  ppm_inp = ppm_inp.divide(number_of_entries, axis=0)\n",
        "  ppm_inp = ppm_inp.values\n",
        "\n",
        "  n = ppm_shape[0]\n",
        "\n",
        "  for i in range(n):\n",
        "    for j in range(i + 1, n):\n",
        "      PPM[i][j] = cosine_sim(ppm_inp[i], ppm_inp[j])\n",
        "\n",
        "    if print_progress and i % 100 == 0:\n",
        "      print(round(i / n, 2) * 100 , \"% done\")\n",
        "\n",
        "  return PPM"
      ],
      "execution_count": 0,
      "outputs": []
    },
    {
      "cell_type": "code",
      "metadata": {
        "id": "C3QMLTaj1vix",
        "colab_type": "code",
        "colab": {}
      },
      "source": [
        "def ppm_recommend(item_id,  n=1):\n",
        "  return np.argsort(PPM[item_id])[-n:]"
      ],
      "execution_count": 0,
      "outputs": []
    },
    {
      "cell_type": "markdown",
      "metadata": {
        "id": "ZNc1BbVON5eB",
        "colab_type": "text"
      },
      "source": [
        "## Create CPM and set constants"
      ]
    },
    {
      "cell_type": "code",
      "metadata": {
        "id": "gXmdklXhTFre",
        "colab_type": "code",
        "colab": {}
      },
      "source": [
        "def get_item_prior(epsilon=1e-3):\n",
        "  #w'keit dass item von beliebigem nutzer gekauft wird\n",
        "  return (CPM.sum(axis=0) + epsilon) / (num_users + 2 * epsilon) \n",
        "\n",
        "def get_user_prior(epsilon=1e-3):\n",
        "  #w'keit dass nutzer ein beliebiges item kauft\n",
        "  return (CPM.sum(axis=1) + epsilon) / (num_items + 2 * epsilon)"
      ],
      "execution_count": 0,
      "outputs": []
    },
    {
      "cell_type": "code",
      "metadata": {
        "id": "-_0rb9lMOHzq",
        "colab_type": "code",
        "colab": {}
      },
      "source": [
        "items, customers, transactions = get_separated_entities(df)"
      ],
      "execution_count": 0,
      "outputs": []
    },
    {
      "cell_type": "code",
      "metadata": {
        "id": "Z_OaRs_AWmsN",
        "colab_type": "code",
        "colab": {}
      },
      "source": [
        "CPM = create_CPM(data)\n",
        "#PPM = create_PPM(items)\n",
        "\n",
        "num_users = CPM.shape[0]\n",
        "num_items = CPM.shape[1]\n",
        "item_prior = get_item_prior()\n",
        "user_prior = get_user_prior()"
      ],
      "execution_count": 0,
      "outputs": []
    },
    {
      "cell_type": "markdown",
      "metadata": {
        "id": "c6zhqdwjbXkR",
        "colab_type": "text"
      },
      "source": [
        "## Naive Bayes Hybrid aproach"
      ]
    },
    {
      "cell_type": "code",
      "metadata": {
        "id": "fLosEX1oId18",
        "colab_type": "code",
        "colab": {}
      },
      "source": [
        "def user_based(user_id, item_id, epsilon=1e-3):\n",
        "  k = CPM[user_id]\n",
        "  K = cp.tile(k, num_users).reshape(num_users, num_items)\n",
        "  I = cp.tile(CPM[:,item_id], num_items).reshape(num_items, num_users)\n",
        "\n",
        "  cond = I * (CPM == K).T \n",
        "  items_probs = (cond.sum(axis=-1) + epsilon) / (CPM[:,item_id].sum() + 2 * epsilon)\n",
        "  \n",
        "  return (item_prior[item_id] * cp.prod(items_probs)) ** (1/ (1 + num_items))"
      ],
      "execution_count": 0,
      "outputs": []
    },
    {
      "cell_type": "code",
      "metadata": {
        "id": "999s6S-pbbGW",
        "colab_type": "code",
        "colab": {}
      },
      "source": [
        "def item_based(user_id, item_id, epsilon=1e-3):\n",
        "  k = CPM[:,item_id]\n",
        "  K = cp.tile(k, num_items).reshape(num_items, num_users).T\n",
        "  U = cp.tile(CPM[user_id], num_users).reshape(num_users, num_items)\n",
        "  \n",
        "  cond = U * (CPM == K)\n",
        "  user_probs = (cond.sum(axis=-1) + epsilon) / (CPM[user_id].sum() + 2 * epsilon)\n",
        "\n",
        "  return (user_prior[user_id] * cp.prod(user_probs)) ** (1/ (1 + num_users))"
      ],
      "execution_count": 0,
      "outputs": []
    },
    {
      "cell_type": "code",
      "metadata": {
        "id": "1btWLKz_rOVA",
        "colab_type": "code",
        "colab": {}
      },
      "source": [
        "def hybrid_score(user_id, item_id):\n",
        "  return user_based(user_id, item_id) * item_based(user_id, item_id)"
      ],
      "execution_count": 0,
      "outputs": []
    },
    {
      "cell_type": "code",
      "metadata": {
        "id": "AV3-zPgZwV6O",
        "colab_type": "code",
        "colab": {}
      },
      "source": [
        "def get_recommendations(R, user_id=None, item_id=None, n=4):\n",
        "  if user_id is None:\n",
        "    recs = R[:, item_id]\n",
        "  else:\n",
        "    recs = R[user_id]\n",
        "\n",
        "  top_idx = np.argsort(recs)[-n:]\n",
        "  top_values = cp.array([recs[j] for j in top_idx], dtype=cp.float32)\n",
        "\n",
        "  return top_idx, top_values"
      ],
      "execution_count": 0,
      "outputs": []
    },
    {
      "cell_type": "code",
      "metadata": {
        "id": "A0cs2UoMu-Yr",
        "colab_type": "code",
        "colab": {}
      },
      "source": [
        "def create_recommendation_matrix(print_progress=False):\n",
        "  if print_progress:\n",
        "    start = time.time()\n",
        "\n",
        "  recs = []\n",
        "\n",
        "  for item_id in range(num_items):\n",
        "    for user_id in range(num_users):\n",
        "      recs.append(hybrid_score(user_id, item_id))\n",
        "\n",
        "    if print_progress and item_id % 100 == 0:\n",
        "      print(np.round(item_id / num_items, 2) * 100, \"% done\")\n",
        "\n",
        "  print(\"Took\", np.round((time.time() - start) / 60, 2), \"minutes\")\n",
        "\n",
        "  return cp.array(recs, dtype=cp.float32).T"
      ],
      "execution_count": 0,
      "outputs": []
    },
    {
      "cell_type": "code",
      "metadata": {
        "id": "9lRSF9gftjU1",
        "colab_type": "code",
        "outputId": "4d9edd4a-d5bd-4099-c471-b66fea08d526",
        "colab": {
          "base_uri": "https://localhost:8080/",
          "height": 382
        }
      },
      "source": [
        "R = create_recommendation_matrix(print_progress=True)"
      ],
      "execution_count": 92,
      "outputs": [
        {
          "output_type": "stream",
          "text": [
            "0.0 % done\n",
            "5.0 % done\n",
            "10.0 % done\n",
            "16.0 % done\n",
            "21.0 % done\n",
            "26.0 % done\n",
            "31.0 % done\n",
            "37.0 % done\n",
            "42.0 % done\n",
            "47.0 % done\n",
            "52.0 % done\n",
            "57.99999999999999 % done\n",
            "63.0 % done\n",
            "68.0 % done\n",
            "73.0 % done\n",
            "78.0 % done\n",
            "84.0 % done\n",
            "89.0 % done\n",
            "94.0 % done\n",
            "99.0 % done\n",
            "Took 17.693223973115284 minutes\n"
          ],
          "name": "stdout"
        }
      ]
    },
    {
      "cell_type": "markdown",
      "metadata": {
        "id": "EGrMcPP82829",
        "colab_type": "text"
      },
      "source": [
        "## Save Matrix to disc"
      ]
    },
    {
      "cell_type": "code",
      "metadata": {
        "id": "0YB0QOiy2eu2",
        "colab_type": "code",
        "colab": {
          "base_uri": "https://localhost:8080/",
          "height": 124
        },
        "outputId": "13c924c3-76d4-4750-a149-31b810f40fdd"
      },
      "source": [
        "from google.colab import drive\n",
        "\n",
        "drive.mount('/content/gdrive')"
      ],
      "execution_count": 88,
      "outputs": [
        {
          "output_type": "stream",
          "text": [
            "Go to this URL in a browser: https://accounts.google.com/o/oauth2/auth?client_id=947318989803-6bn6qk8qdgf4n4g3pfee6491hc0brc4i.apps.googleusercontent.com&redirect_uri=urn%3aietf%3awg%3aoauth%3a2.0%3aoob&response_type=code&scope=email%20https%3a%2f%2fwww.googleapis.com%2fauth%2fdocs.test%20https%3a%2f%2fwww.googleapis.com%2fauth%2fdrive%20https%3a%2f%2fwww.googleapis.com%2fauth%2fdrive.photos.readonly%20https%3a%2f%2fwww.googleapis.com%2fauth%2fpeopleapi.readonly\n",
            "\n",
            "Enter your authorization code:\n",
            "··········\n",
            "Mounted at /content/gdrive\n"
          ],
          "name": "stdout"
        }
      ]
    },
    {
      "cell_type": "code",
      "metadata": {
        "id": "WaU899n37c9G",
        "colab_type": "code",
        "colab": {}
      },
      "source": [
        "np.save(\"recommendation_matrix\", R)"
      ],
      "execution_count": 0,
      "outputs": []
    },
    {
      "cell_type": "code",
      "metadata": {
        "id": "p3WIrYt-76WN",
        "colab_type": "code",
        "colab": {
          "base_uri": "https://localhost:8080/",
          "height": 34
        },
        "outputId": "54e7dd02-d0a4-427c-eac0-b818bab586f8"
      },
      "source": [
        "!ls"
      ],
      "execution_count": 117,
      "outputs": [
        {
          "output_type": "stream",
          "text": [
            "gdrive\trecommendation_matrix.npy  sample_data\ttest.npy\n"
          ],
          "name": "stdout"
        }
      ]
    },
    {
      "cell_type": "code",
      "metadata": {
        "id": "el2rgKFw8D4H",
        "colab_type": "code",
        "colab": {
          "base_uri": "https://localhost:8080/",
          "height": 34
        },
        "outputId": "97e26e20-87ca-4045-b40f-70e125247815"
      },
      "source": [
        "CPM.shape, R.shape"
      ],
      "execution_count": 120,
      "outputs": [
        {
          "output_type": "execute_result",
          "data": {
            "text/plain": [
              "((795, 1912), (795, 1912))"
            ]
          },
          "metadata": {
            "tags": []
          },
          "execution_count": 120
        }
      ]
    },
    {
      "cell_type": "markdown",
      "metadata": {
        "id": "evHNoszT-5nS",
        "colab_type": "text"
      },
      "source": [
        "## Test results"
      ]
    },
    {
      "cell_type": "code",
      "metadata": {
        "id": "l30FjRNT-7yU",
        "colab_type": "code",
        "colab": {}
      },
      "source": [
        ""
      ],
      "execution_count": 0,
      "outputs": []
    }
  ]
}