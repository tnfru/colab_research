{
  "nbformat": 4,
  "nbformat_minor": 0,
  "metadata": {
    "colab": {
      "name": "PricePred.ipynb",
      "provenance": [],
      "collapsed_sections": [
        "FDNKuswNbO-K",
        "ZNc1BbVON5eB",
        "c6zhqdwjbXkR",
        "evHNoszT-5nS",
        "J2sKKjbGdpJp",
        "S4h27513dsrK",
        "-O80xY9LmBiD",
        "FY4kgo_ED5tD",
        "qj9Hw2-p4wv2"
      ],
      "authorship_tag": "ABX9TyPInmNq6LUDrHJi8IT5uLfS",
      "include_colab_link": true
    },
    "kernelspec": {
      "name": "python3",
      "display_name": "Python 3"
    },
    "accelerator": "GPU"
  },
  "cells": [
    {
      "cell_type": "markdown",
      "metadata": {
        "id": "view-in-github",
        "colab_type": "text"
      },
      "source": [
        "<a href=\"https://colab.research.google.com/github/tnfru/colab_research/blob/master/PricePred.ipynb\" target=\"_parent\"><img src=\"https://colab.research.google.com/assets/colab-badge.svg\" alt=\"Open In Colab\"/></a>"
      ]
    },
    {
      "cell_type": "code",
      "metadata": {
        "id": "ofV1C0SIU08u",
        "colab_type": "code",
        "colab": {}
      },
      "source": [
        "import pandas as pd\n",
        "import numpy as np\n",
        "import cupy as cp\n",
        "import time\n",
        "from copy import copy\n",
        "from matplotlib import pyplot as plt\n",
        "from mpl_toolkits.mplot3d import Axes3D\n",
        "import tensorflow as tf\n",
        "from tensorflow.keras.layers import Input, Dense, Dropout\n",
        "import datetime\n",
        "import torch\n",
        "from torch import optim\n",
        "from torch import nn\n",
        "\n",
        "AUTO = tf.data.experimental.AUTOTUNE"
      ],
      "execution_count": 0,
      "outputs": []
    },
    {
      "cell_type": "markdown",
      "metadata": {
        "id": "FDNKuswNbO-K",
        "colab_type": "text"
      },
      "source": [
        "# Read and transform data"
      ]
    },
    {
      "cell_type": "code",
      "metadata": {
        "id": "RZT3V1T2U5wL",
        "colab_type": "code",
        "colab": {}
      },
      "source": [
        "data = pd.read_excel('https://drive.google.com/uc?export=download&id=1BTjcgqQO-NxpcIRyQu2_FNxUSBCvJt7c')"
      ],
      "execution_count": 0,
      "outputs": []
    },
    {
      "cell_type": "code",
      "metadata": {
        "id": "67SNHxyEU9CX",
        "colab_type": "code",
        "colab": {}
      },
      "source": [
        "df = data.drop(['Kundenname'], axis=1)"
      ],
      "execution_count": 0,
      "outputs": []
    },
    {
      "cell_type": "code",
      "metadata": {
        "colab_type": "code",
        "id": "Ezph_4Ifwc-7",
        "colab": {}
      },
      "source": [
        "def encode(df, column):\n",
        "  df[column] = df[column].astype('category')\n",
        "  df[column + \"_cat\"] = df[column].cat.codes"
      ],
      "execution_count": 0,
      "outputs": []
    },
    {
      "cell_type": "code",
      "metadata": {
        "id": "Ca3tr4LNwIko",
        "colab_type": "code",
        "colab": {}
      },
      "source": [
        "def encode_labels(df):\n",
        "  labels_to_encode = [\"Auftrags-ID\", \"Kunden-ID\", \"Bestelldatum\", \"Produkt-ID\"]\n",
        "  df = df.sort_values(by=[\"Bestelldatum\"])\n",
        "\n",
        "  for label in labels_to_encode:\n",
        "    encode(df, label)\n",
        "\n",
        "  labels_to_encode = [\"Land/Region\", \"Bundesland\", \"Stadt\"]\n",
        "  df = df.sort_values(by=labels_to_encode)\n",
        "\n",
        "  for label in labels_to_encode:\n",
        "    encode(df, label)\n",
        "\n",
        "  df = df.drop([\"Auftrags-ID\", \"Kunden-ID\", \"Bestelldatum\",\n",
        "             \"Land/Region\", \"Bundesland\", \"Stadt\", \"Versanddatum\", \n",
        "             \"Produkt-ID\", \"Zeilen-ID\"], axis=1)\n",
        "  return df"
      ],
      "execution_count": 0,
      "outputs": []
    },
    {
      "cell_type": "code",
      "metadata": {
        "id": "pPnud4AJXWJm",
        "colab_type": "code",
        "colab": {}
      },
      "source": [
        "def get_separated_entities(df):\n",
        "  df = encode_labels(df)\n",
        "\n",
        "  items = df.drop(columns=[\"Kunden-ID_cat\", \"Bestelldatum_cat\", \"Auftrags-ID_cat\", \n",
        "                \"Land/Region_cat\", \"Bundesland_cat\", \"Stadt_cat\", \"Region\", \n",
        "                \"Segment\", \"Versandmodus\"], axis=1)\n",
        "  items = pd.get_dummies(items, columns=[\"Kategorie\" , \"Unterkategorie\"])\n",
        "  \n",
        "  transactions = pd.get_dummies(df, columns=[\"Segment\", \"Versandmodus\", \"Region\", \"Kategorie\"]).drop(\"Produktname\", axis=1)\n",
        "\n",
        "  customers = df.drop(columns=[\"Versandmodus\", \"Produktname\", \"Kategorie\", \"Gewinn\",\n",
        "                             \"Bestelldatum_cat\", \"Produkt-ID_cat\", \"Kunden-ID_cat\", \"Unterkategorie\"], axis=1)\n",
        "  customers = pd.get_dummies(customers, columns=[\"Segment\", \"Region\"])\n",
        "\n",
        "  return items, customers, transactions\n",
        "  "
      ],
      "execution_count": 0,
      "outputs": []
    },
    {
      "cell_type": "code",
      "metadata": {
        "colab_type": "code",
        "id": "ek6FoD91GPxT",
        "colab": {}
      },
      "source": [
        "def cosine_sim(a, b):\n",
        "  return a @ b / (cp.linalg.norm(a) * cp.linalg.norm(b))"
      ],
      "execution_count": 0,
      "outputs": []
    },
    {
      "cell_type": "code",
      "metadata": {
        "id": "Zi_P0VEoFStj",
        "colab_type": "code",
        "colab": {}
      },
      "source": [
        "def create_CPM(data):\n",
        "  cpm_shape = data[\"Kunden-ID\"].nunique(), data[\"Produkt-ID\"].nunique()\n",
        "  CPM = cp.zeros(cpm_shape)\n",
        "  cpm_inp = data.drop(columns=[\"Auftrags-ID\", \"Zeilen-ID\", \"Versanddatum\", \"Bestelldatum\", \n",
        "                   \"Versandmodus\", \"Kundenname\", \"Segment\", \"Stadt\", \"Bundesland\", \n",
        "                   \"Land/Region\", \"Region\", \"Kategorie\", \"Unterkategorie\", \"Umsatz\",\n",
        "                   \"Menge\", \"Rabatt\", \"Gewinn\", \"Produktname\"], axis=1)\n",
        "  encode(cpm_inp, \"Kunden-ID\")\n",
        "  encode(cpm_inp, \"Produkt-ID\")\n",
        "  cpm_inp = cpm_inp.drop([\"Kunden-ID\", \"Produkt-ID\"], axis=1).values\n",
        "\n",
        "  for i in range(len(cpm_inp)):\n",
        "    cust_id = cpm_inp[i][0]\n",
        "    prod_id = cpm_inp[i][1]\n",
        "\n",
        "    CPM[cust_id][prod_id] = 1\n",
        "  \n",
        "  return CPM"
      ],
      "execution_count": 0,
      "outputs": []
    },
    {
      "cell_type": "code",
      "metadata": {
        "id": "Yj0pWEJ_LkyT",
        "colab_type": "code",
        "colab": {}
      },
      "source": [
        "def create_PPM(items, print_progress=False):\n",
        "  ppm_shape = items[\"Produkt-ID_cat\"].nunique(), items[\"Produkt-ID_cat\"].nunique()\n",
        "  PPM = cp.zeros(ppm_shape)\n",
        "  \n",
        "  ppm_inp = items.drop([\"Produktname\", \"Gewinn\", \"Rabatt\"], axis=1)\n",
        "  ppm_inp[\"Umsatz\"] = ppm_inp[\"Umsatz\"].values / ppm_inp[\"Menge\"].values\n",
        "  ppm_inp = ppm_inp.rename(columns={\"Umsatz\" : \"Preis\"}).drop([\"Menge\"], axis=1)\n",
        "  ppm_inp['Preis'] = (ppm_inp['Preis'].values - ppm_inp['Preis'].values.mean()) / ppm_inp['Preis'].values.std()\n",
        "\n",
        "  ppm_inp = ppm_inp.groupby([\"Produkt-ID_cat\"]).sum()\n",
        "  number_of_entries = ppm_inp[[\"Kategorie_Bürobedarf\", \"Kategorie_Möbel\", \"Kategorie_Technik\"]].values.sum(axis=1)\n",
        "  ppm_inp = ppm_inp.divide(number_of_entries, axis=0)\n",
        "  ppm_inp = ppm_inp.values\n",
        "\n",
        "  n = ppm_shape[0]\n",
        "\n",
        "  for i in range(n):\n",
        "    for j in range(i + 1, n):\n",
        "      PPM[i][j] = cosine_sim(ppm_inp[i], ppm_inp[j])\n",
        "\n",
        "    if print_progress and i % 100 == 0:\n",
        "      print(round(i / n, 2) * 100 , \"% done\")\n",
        "\n",
        "  return PPM"
      ],
      "execution_count": 0,
      "outputs": []
    },
    {
      "cell_type": "code",
      "metadata": {
        "id": "C3QMLTaj1vix",
        "colab_type": "code",
        "colab": {}
      },
      "source": [
        "def ppm_recommend(item_id,  n=1):\n",
        "  return np.argsort(PPM[item_id])[-n:]"
      ],
      "execution_count": 0,
      "outputs": []
    },
    {
      "cell_type": "markdown",
      "metadata": {
        "id": "ZNc1BbVON5eB",
        "colab_type": "text"
      },
      "source": [
        "# Create CPM and set constants"
      ]
    },
    {
      "cell_type": "code",
      "metadata": {
        "id": "gXmdklXhTFre",
        "colab_type": "code",
        "colab": {}
      },
      "source": [
        "def get_item_prior(epsilon=1e-3):\n",
        "  #w'keit dass item von beliebigem nutzer gekauft wird\n",
        "  return (CPM.sum(axis=0) + epsilon) / (num_users + 2 * epsilon) \n",
        "\n",
        "def get_user_prior(epsilon=1e-3):\n",
        "  #w'keit dass nutzer ein beliebiges item kauft\n",
        "  return (CPM.sum(axis=1) + epsilon) / (num_items + 2 * epsilon)"
      ],
      "execution_count": 0,
      "outputs": []
    },
    {
      "cell_type": "code",
      "metadata": {
        "id": "-_0rb9lMOHzq",
        "colab_type": "code",
        "colab": {}
      },
      "source": [
        "items, customers, transactions = get_separated_entities(df)"
      ],
      "execution_count": 0,
      "outputs": []
    },
    {
      "cell_type": "code",
      "metadata": {
        "id": "Z_OaRs_AWmsN",
        "colab_type": "code",
        "colab": {}
      },
      "source": [
        "CPM = create_CPM(data)\n",
        "#PPM = create_PPM(items)\n",
        "\n",
        "num_users = CPM.shape[0]\n",
        "num_items = CPM.shape[1]\n",
        "item_prior = get_item_prior()\n",
        "user_prior = get_user_prior()"
      ],
      "execution_count": 0,
      "outputs": []
    },
    {
      "cell_type": "markdown",
      "metadata": {
        "id": "c6zhqdwjbXkR",
        "colab_type": "text"
      },
      "source": [
        "# Naive Bayes Hybrid aproach"
      ]
    },
    {
      "cell_type": "code",
      "metadata": {
        "id": "fLosEX1oId18",
        "colab_type": "code",
        "colab": {}
      },
      "source": [
        "def user_based(user_id, item_id, epsilon=1e-3):\n",
        "  k = CPM[user_id]\n",
        "  i = CPM[:,item_id]\n",
        "  K = cp.tile(k, num_users).reshape(num_users, num_items)\n",
        "  I = cp.tile(i, num_items).reshape(num_items, num_users)\n",
        "\n",
        "  cond = I * (CPM == K).T \n",
        "  items_probs = (cond.sum(axis=-1) + epsilon) / (i.sum() + 2 * epsilon)\n",
        "  \n",
        "  return (item_prior[item_id] * cp.prod(items_probs)) ** (1/ (1 + num_items))"
      ],
      "execution_count": 0,
      "outputs": []
    },
    {
      "cell_type": "code",
      "metadata": {
        "id": "999s6S-pbbGW",
        "colab_type": "code",
        "colab": {}
      },
      "source": [
        "def item_based(user_id, item_id, epsilon=1e-3):\n",
        "  k = CPM[:,item_id]\n",
        "  u = CPM[user_id]\n",
        "  K = cp.tile(k, num_items).reshape(num_items, num_users).T\n",
        "  U = cp.tile(u, num_users).reshape(num_users, num_items)\n",
        "  \n",
        "  cond = U * (CPM == K)\n",
        "  user_probs = (cond.sum(axis=-1) + epsilon) / (u.sum() + 2 * epsilon)\n",
        "\n",
        "  return (user_prior[user_id] * cp.prod(user_probs)) ** (1/ (1 + num_users))"
      ],
      "execution_count": 0,
      "outputs": []
    },
    {
      "cell_type": "code",
      "metadata": {
        "id": "1btWLKz_rOVA",
        "colab_type": "code",
        "colab": {}
      },
      "source": [
        "def hybrid_score(user_id, item_id):\n",
        "  return user_based(user_id, item_id) * item_based(user_id, item_id)"
      ],
      "execution_count": 0,
      "outputs": []
    },
    {
      "cell_type": "code",
      "metadata": {
        "id": "A0cs2UoMu-Yr",
        "colab_type": "code",
        "colab": {}
      },
      "source": [
        "def create_recommendation_matrix(verbose=False):\n",
        "  if verbose:\n",
        "    start = time.time()\n",
        "\n",
        "  recs = []\n",
        "\n",
        "  for item_id in range(num_items):\n",
        "    recs.append([hybrid_score(user_id, item_id) for user_id in range(num_users)]) \n",
        "     \n",
        "    if verbose and item_id % 100 == 0:\n",
        "      print(int(100 * item_id / num_items), \"% done\")\n",
        "\n",
        "  if verbose:\n",
        "    print(\"Took\", int(time.time() - start) / 60, \"minutes\")\n",
        "\n",
        "  return cp.array(recs, dtype=cp.float32).T"
      ],
      "execution_count": 0,
      "outputs": []
    },
    {
      "cell_type": "code",
      "metadata": {
        "id": "AV3-zPgZwV6O",
        "colab_type": "code",
        "colab": {}
      },
      "source": [
        "def get_recommendations(R, user_id=None, item_id=None, n=4):\n",
        "  if user_id is None and item_id is not None:\n",
        "    recs = R[:, item_id]\n",
        "  elif item_id is None and user_id is not None:\n",
        "    recs = R[user_id]\n",
        "\n",
        "  else:\n",
        "    raise ValueError(\"Either user_id or item_id needs to be None\")\n",
        "\n",
        "  top_idx = np.argsort(recs)[-n:]\n",
        "  top_values = cp.array([recs[j] for j in top_idx], dtype=cp.float32)\n",
        "\n",
        "  return top_idx, top_values"
      ],
      "execution_count": 0,
      "outputs": []
    },
    {
      "cell_type": "code",
      "metadata": {
        "id": "O3zFQ1GSQwwI",
        "colab_type": "code",
        "colab": {}
      },
      "source": [
        "def single_recommendation(CPM, user_id=None, item_id=None):\n",
        "  if user_id is None and item_id is not None:\n",
        "    return np.array([hybrid_score(user_id, item_id) for user_id in range(num_users)], dtype=np.float32).reshape(-1, 1)\n",
        "\n",
        "  elif item_id is None and user_id is not None:\n",
        "    return np.array([hybrid_score(user_id, item_id) for item_id in range(num_items)], dtype=np.float32).reshape(-1, 1).T\n",
        "\n",
        "  else:\n",
        "    raise ValueError(\"Either user_id or item_id needs to be None\")"
      ],
      "execution_count": 0,
      "outputs": []
    },
    {
      "cell_type": "code",
      "metadata": {
        "id": "5LVtei_xtXt1",
        "colab_type": "code",
        "colab": {}
      },
      "source": [
        "def rec_above_threshold(threshold, user_id=None, item_id=None):\n",
        "  if item_id is None and user_id is not None:\n",
        "    above_threshold = R[user_id] > threshold\n",
        "\n",
        "  elif user_id is None and item_id is not None:\n",
        "    above_threshold = R[:,item_id] > threshold\n",
        "\n",
        "  else:\n",
        "    raise ValueError(\"Either user_id or item_id needs to be None\")\n",
        "\n",
        "  return np.argwhere(above_threshold == 1)"
      ],
      "execution_count": 0,
      "outputs": []
    },
    {
      "cell_type": "markdown",
      "metadata": {
        "id": "EGrMcPP82829",
        "colab_type": "text"
      },
      "source": [
        "# Save / load  Matrix"
      ]
    },
    {
      "cell_type": "code",
      "metadata": {
        "id": "0YB0QOiy2eu2",
        "colab_type": "code",
        "colab": {}
      },
      "source": [
        "from google.colab import drive\n",
        "\n",
        "drive.mount('/content/gdrive')"
      ],
      "execution_count": 0,
      "outputs": []
    },
    {
      "cell_type": "code",
      "metadata": {
        "id": "9lRSF9gftjU1",
        "colab_type": "code",
        "colab": {}
      },
      "source": [
        "#R = create_recommendation_matrix(verbose=True)"
      ],
      "execution_count": 0,
      "outputs": []
    },
    {
      "cell_type": "code",
      "metadata": {
        "id": "WaU899n37c9G",
        "colab_type": "code",
        "colab": {}
      },
      "source": [
        "#np.save(\"./gdrive/My Drive/alan/recommendation_matrix\", R)"
      ],
      "execution_count": 0,
      "outputs": []
    },
    {
      "cell_type": "code",
      "metadata": {
        "id": "PAtrrl_TSxcC",
        "colab_type": "code",
        "colab": {}
      },
      "source": [
        "R = np.load(\"./gdrive/My Drive/alan/recommendation_matrix.npy\")"
      ],
      "execution_count": 0,
      "outputs": []
    },
    {
      "cell_type": "code",
      "metadata": {
        "id": "eODhiihlKtkT",
        "colab_type": "code",
        "colab": {}
      },
      "source": [
        "#np.savetxt(\"./gdrive/My Drive/alan/recommendations.csv\", R, delimiter=\",\", fmt='%f')"
      ],
      "execution_count": 0,
      "outputs": []
    },
    {
      "cell_type": "markdown",
      "metadata": {
        "id": "evHNoszT-5nS",
        "colab_type": "text"
      },
      "source": [
        "# Test results"
      ]
    },
    {
      "cell_type": "code",
      "metadata": {
        "id": "s1o2K25f2-mE",
        "colab_type": "code",
        "colab": {}
      },
      "source": [
        "def test_item_based(CPM, u, item_id, epsilon=1e-3):\n",
        "  num_users = CPM.shape[0]\n",
        "  num_items = CPM.shape[1]\n",
        "\n",
        "  k = CPM[:,item_id]\n",
        "  K = cp.tile(k, num_items).reshape(num_items, num_users).T\n",
        "  U = cp.tile(u, num_users).reshape(num_users, num_items)\n",
        "  \n",
        "  cond = U * (CPM == K)\n",
        "  user_probs = (cond.sum(axis=-1) + epsilon) / (u.sum() + 2 * epsilon)\n",
        "  \n",
        "  user_prior = (u.sum() + epsilon) / (num_items + 2 * epsilon)\n",
        "\n",
        "  return (user_prior * cp.prod(user_probs)) ** (1/ (1 + num_users))"
      ],
      "execution_count": 0,
      "outputs": []
    },
    {
      "cell_type": "code",
      "metadata": {
        "id": "FnYPU-FU1czm",
        "colab_type": "code",
        "colab": {}
      },
      "source": [
        "def test_user_based(CPM, k, item_id, epsilon=1e-3):\n",
        "  num_users = CPM.shape[0]\n",
        "  num_items = CPM.shape[1]\n",
        "\n",
        "  i = CPM[:,item_id]\n",
        "  K = cp.tile(k, num_users).reshape(num_users, num_items)\n",
        "  I = cp.tile(i, num_items).reshape(num_items, num_users)\n",
        "\n",
        "  cond = I * (CPM == K).T \n",
        "  items_probs = (cond.sum(axis=-1) + epsilon) / (i.sum() + 2 * epsilon)\n",
        "\n",
        "  item_prior = (CPM.sum(axis=0) + epsilon) / (num_users + 2 * epsilon)\n",
        "  return (item_prior[item_id] * cp.prod(items_probs)) ** (1/ (1 + num_items))"
      ],
      "execution_count": 0,
      "outputs": []
    },
    {
      "cell_type": "code",
      "metadata": {
        "id": "q8vGbwix39Ma",
        "colab_type": "code",
        "colab": {}
      },
      "source": [
        "def test_hybrid_score(CPM, u, item_id):\n",
        "  return test_user_based(CPM, u, item_id) * test_item_based(CPM, u, item_id)"
      ],
      "execution_count": 0,
      "outputs": []
    },
    {
      "cell_type": "code",
      "metadata": {
        "id": "iRFb62HvpmBm",
        "colab_type": "code",
        "colab": {}
      },
      "source": [
        "CPM_SPLIT = int(num_users * 0.7)\n",
        "train_CPM = CPM[:CPM_SPLIT]\n",
        "test_CPM = CPM[CPM_SPLIT:]\n",
        "user_id = CPM_SPLIT + 17\n",
        "\n",
        "assert user_id < num_users"
      ],
      "execution_count": 0,
      "outputs": []
    },
    {
      "cell_type": "code",
      "metadata": {
        "id": "PMYjkRl39U-_",
        "colab_type": "code",
        "colab": {}
      },
      "source": [
        "def test_user_all_items(train_CPM, real_CPM, u, user_id, R, threshold=.9125):\n",
        "  probs = np.array([test_hybrid_score(train_CPM, u, item_id) for item_id in range(num_items)], dtype=np.float32).reshape(-1, 1).T\n",
        "\n",
        "  losses = {}\n",
        "  losses['ABS'] = np.abs(R[user_id] - probs).squeeze()\n",
        "  losses['ABS sum'] = np.sum(losses['ABS'])\n",
        "  losses['ABS mean'] = losses['ABS sum'] / num_items\n",
        "\n",
        "  above_threshold = (probs > threshold).squeeze()\n",
        "  idx = np.argwhere(above_threshold == 1)\n",
        "\n",
        "  info = {}\n",
        "  info['Probabilities'] = probs.squeeze()\n",
        "  info['True Positive'] = true_pos(user_id, idx, threshold)\n",
        "  info['True Negative'] = true_neg(user_id, idx, threshold)\n",
        "  info['False Positive'] = int(idx.shape[0] - info['True Positive'])\n",
        "  info['False Negative'] = false_neg(user_id, idx, threshold)\n",
        "  info['Recommendations'] = idx.squeeze()\n",
        "\n",
        "  assert info['True Positive'] + info['True Negative'] + info['False Positive'] + info['False Negative'] == num_items\n",
        "\n",
        "  cf = np.array([info['True Positive'], info['False Positive'], info['True Negative'], info['False Negative']])\n",
        "\n",
        "  metrics = {}\n",
        "  metrics['Accuracy'] = np.round(calculate_accuracy(cf, threshold), 5)\n",
        "  metrics['Precision'] = np.round(calculate_precision(cf, threshold), 5)\n",
        "  metrics['Recall'] = np.round(calculate_recall(cf, threshold), 5)\n",
        "  metrics['F1-Score'] = np.round((2 * metrics['Recall'] * metrics['Precision']) / (metrics['Recall'] + metrics['Precision']), 5)\n",
        "  metrics['Specificity'] = np.round(calculate_specificity(cf, threshold), 5)\n",
        "\n",
        "  return info, losses, metrics"
      ],
      "execution_count": 0,
      "outputs": []
    },
    {
      "cell_type": "code",
      "metadata": {
        "id": "2RuZfEfj_cR8",
        "colab_type": "code",
        "colab": {}
      },
      "source": [
        "info, losses, metrics = test_user_all_items(train_CPM, CPM, CPM[user_id], user_id, R)"
      ],
      "execution_count": 0,
      "outputs": []
    },
    {
      "cell_type": "code",
      "metadata": {
        "id": "UlJgiR-yPNKX",
        "colab_type": "code",
        "outputId": "b939f117-876b-4aba-da62-7f540a9d075b",
        "colab": {
          "base_uri": "https://localhost:8080/",
          "height": 139
        }
      },
      "source": [
        "info"
      ],
      "execution_count": 73,
      "outputs": [
        {
          "output_type": "execute_result",
          "data": {
            "text/plain": [
              "{'False Negative': 9,\n",
              " 'False Positive': 6,\n",
              " 'Probabilities': array([0.8129404 , 0.81335455, 0.77029836, ..., 0.8852167 , 0.        ,\n",
              "        0.8420996 ], dtype=float32),\n",
              " 'Recommendations': array([ 296,  829, 1340, 1359, 1480, 1655, 1672, 1729, 1775]),\n",
              " 'True Negative': 1894,\n",
              " 'True Positive': 3}"
            ]
          },
          "metadata": {
            "tags": []
          },
          "execution_count": 73
        }
      ]
    },
    {
      "cell_type": "code",
      "metadata": {
        "id": "-I4BOu1aTUmM",
        "colab_type": "code",
        "outputId": "fb6b2383-e4d5-4477-91b6-3dc957db058c",
        "colab": {
          "base_uri": "https://localhost:8080/",
          "height": 86
        }
      },
      "source": [
        "losses"
      ],
      "execution_count": 74,
      "outputs": [
        {
          "output_type": "execute_result",
          "data": {
            "text/plain": [
              "{'ABS': array([0.00797766, 0.00871849, 0.02550948, ..., 0.00105631, 0.8814576 ,\n",
              "        0.00268191], dtype=float32),\n",
              " 'ABS mean': 0.05768364144169636,\n",
              " 'ABS sum': 110.29112}"
            ]
          },
          "metadata": {
            "tags": []
          },
          "execution_count": 74
        }
      ]
    },
    {
      "cell_type": "code",
      "metadata": {
        "id": "PN-nyOCnVLS3",
        "colab_type": "code",
        "outputId": "9e2292ce-4140-4a06-9cc4-6347c80a6c2e",
        "colab": {
          "base_uri": "https://localhost:8080/",
          "height": 104
        }
      },
      "source": [
        "metrics"
      ],
      "execution_count": 75,
      "outputs": [
        {
          "output_type": "execute_result",
          "data": {
            "text/plain": [
              "{'Accuracy': 0.99215,\n",
              " 'F1-Score': 0.28571,\n",
              " 'Precision': 0.33333,\n",
              " 'Recall': 0.25,\n",
              " 'Specificity': 0.99684}"
            ]
          },
          "metadata": {
            "tags": []
          },
          "execution_count": 75
        }
      ]
    },
    {
      "cell_type": "markdown",
      "metadata": {
        "id": "Kb0yDspVd-UN",
        "colab_type": "text"
      },
      "source": [
        "## Threshold"
      ]
    },
    {
      "cell_type": "markdown",
      "metadata": {
        "id": "J2sKKjbGdpJp",
        "colab_type": "text"
      },
      "source": [
        "### Plotting functions"
      ]
    },
    {
      "cell_type": "code",
      "metadata": {
        "id": "zB6ByDEUSzE7",
        "colab_type": "code",
        "colab": {}
      },
      "source": [
        "def plot_threshold_recs(user_id=None, item_id=None, threshold_range=[.8, .999], num_points=10, recs=None):\n",
        "  thresholds = np.linspace(threshold_range[0], threshold_range[1], num_points)\n",
        "  if recs is None:\n",
        "    recs = np.array([rec_above_threshold(threshold, user_id=user_id).shape[0] for threshold in thresholds])\n",
        "  \n",
        "  plt.plot(thresholds, recs)\n",
        "  plt.grid()\n",
        "  plt.xlim(threshold_range[0], 1)\n",
        "  plt.xlabel(\"Threshold\")\n",
        "  plt.ylabel(\"# recommendations\");"
      ],
      "execution_count": 0,
      "outputs": []
    },
    {
      "cell_type": "code",
      "metadata": {
        "id": "XCRi7eyESVtk",
        "colab_type": "code",
        "colab": {}
      },
      "source": [
        "def plot_threshold_recs_3d(threshold_range=[.8, .999], num_points=10):\n",
        "  thresholds = np.linspace(threshold_range[0], threshold_range[1], num_points)\n",
        "  z = np.array([[rec_above_threshold(threshold, user_id=user_id).shape[0] for threshold in thresholds] for user_id in range(num_users)])\n",
        "    \n",
        "  x, y = np.meshgrid(np.arange(num_users), thresholds)\n",
        "\n",
        "  fig = plt.figure(figsize=(10,6))\n",
        "  ax = fig.add_subplot(111, projection='3d')\n",
        "  ax.scatter(x,y,z, cmap='viridis', alpha=0.2)\n",
        "\n",
        "  ax.view_init(15,15)\n",
        "  ax.set_xticks([])\n",
        "  ax.set_yticks([.8, .9, 1])\n",
        "  ax.set_zticks([0, 500, 1000, 1500, 2000])\n",
        "  ax.set_xlabel(\"user id\")\n",
        "  ax.set_ylabel(\"Recommendation probability\")\n",
        "  ax.set_zlabel(\"# Recommendations\");"
      ],
      "execution_count": 0,
      "outputs": []
    },
    {
      "cell_type": "markdown",
      "metadata": {
        "id": "S4h27513dsrK",
        "colab_type": "text"
      },
      "source": [
        "### Vizualize results"
      ]
    },
    {
      "cell_type": "code",
      "metadata": {
        "id": "A3bQb1tW3e6K",
        "colab_type": "code",
        "colab": {}
      },
      "source": [
        "plot_threshold_recs(0)"
      ],
      "execution_count": 0,
      "outputs": []
    },
    {
      "cell_type": "code",
      "metadata": {
        "id": "8J7bE0b8it9j",
        "colab_type": "code",
        "colab": {}
      },
      "source": [
        "thresholds = np.linspace(.8, .999, 10)\n",
        "means = np.array([[rec_above_threshold(threshold, user_id=user_id).shape[0] for threshold in thresholds] for user_id in range(num_users)]).sum(axis=0) / num_users"
      ],
      "execution_count": 0,
      "outputs": []
    },
    {
      "cell_type": "code",
      "metadata": {
        "id": "rUPea1RIj1eo",
        "colab_type": "code",
        "colab": {}
      },
      "source": [
        "plot_threshold_recs(recs=means)"
      ],
      "execution_count": 0,
      "outputs": []
    },
    {
      "cell_type": "code",
      "metadata": {
        "id": "g4mRSo9N8tZa",
        "colab_type": "code",
        "colab": {}
      },
      "source": [
        "plot_threshold_recs_3d()"
      ],
      "execution_count": 0,
      "outputs": []
    },
    {
      "cell_type": "markdown",
      "metadata": {
        "id": "-O80xY9LmBiD",
        "colab_type": "text"
      },
      "source": [
        "## Confusion Matrix and metrics"
      ]
    },
    {
      "cell_type": "code",
      "metadata": {
        "id": "lh8oO5zj9xYZ",
        "colab_type": "code",
        "colab": {}
      },
      "source": [
        "def single_confusion_matrix(user_id, threshold=.925):\n",
        "  idx = rec_above_threshold(threshold, user_id=user_id)\n",
        "\n",
        "  true_positive = true_pos(user_id, idx, threshold)\n",
        "  false_positive = idx.shape[0] - true_positive\n",
        "  true_negative = true_neg(user_id, idx, threshold)\n",
        "  false_negative = false_neg(user_id, idx, threshold)\n",
        "\n",
        "  assert true_positive + false_positive + true_negative + false_negative == num_items\n",
        "\n",
        "  return np.array([true_positive, false_positive, true_negative, false_negative])"
      ],
      "execution_count": 0,
      "outputs": []
    },
    {
      "cell_type": "code",
      "metadata": {
        "id": "4cldghP7oeHX",
        "colab_type": "code",
        "colab": {}
      },
      "source": [
        "def confusion_matrix(threshold=.925, mean=False, as_dict=False):\n",
        "  results = np.zeros(4)\n",
        "\n",
        "  for user_id in range(num_users):\n",
        "    results += single_confusion_matrix(user_id, threshold)\n",
        "\n",
        "  if mean:\n",
        "    results = np.round(results / num_users, 3)\n",
        "    if as_dict:\n",
        "      return {'True Positive' : results[0], 'False Positive' : results[1], \n",
        "              'True Negative' : results[2], 'False Negative' : results[3]}\n",
        "    return results\n",
        "\n",
        "  results = results.astype(int)\n",
        "  if as_dict:\n",
        "    return {'True Positive' : results[0], 'False Positive' : results[1], \n",
        "            'True Negative' : results[2], 'False Negative' : results[3]}\n",
        "  return results"
      ],
      "execution_count": 0,
      "outputs": []
    },
    {
      "cell_type": "code",
      "metadata": {
        "id": "FYnJuZY1xtUg",
        "colab_type": "code",
        "colab": {}
      },
      "source": [
        "def true_pos(user_id, idx, threshold=.925):\n",
        "  return int(np.sum(CPM[user_id, idx]).item())"
      ],
      "execution_count": 0,
      "outputs": []
    },
    {
      "cell_type": "code",
      "metadata": {
        "id": "kTbq-c1p399y",
        "colab_type": "code",
        "colab": {}
      },
      "source": [
        "def true_neg(user_id, idx, threshold=.925):\n",
        "  pred = np.zeros_like(CPM[user_id])\n",
        "  pred[idx] = 1\n",
        "  negs = pred[CPM[user_id] == 0]\n",
        "  return int(negs.shape[0] - negs.sum().item()) "
      ],
      "execution_count": 0,
      "outputs": []
    },
    {
      "cell_type": "code",
      "metadata": {
        "id": "5w_GRaliFL7J",
        "colab_type": "code",
        "colab": {}
      },
      "source": [
        "def false_neg(user_id, idx, threshold=.925):\n",
        "  pred = np.zeros_like(CPM[user_id])\n",
        "  pred[idx] = 1\n",
        "  negs = pred[CPM[user_id] == 1]\n",
        "  return int(negs.shape[0] - negs.sum().item())"
      ],
      "execution_count": 0,
      "outputs": []
    },
    {
      "cell_type": "code",
      "metadata": {
        "id": "y8ilYPXkzgl-",
        "colab_type": "code",
        "colab": {}
      },
      "source": [
        "def calculate_accuracy(cf, threshold=.925):\n",
        "  return (cf[0] + cf[2]) / np.sum(cf)\n",
        "\n",
        "def calculate_precision(cf, threshold=.925):\n",
        "  return cf[0] / (cf[0] + cf[1])\n",
        "\n",
        "def calculate_recall(cf, threshold=.925):\n",
        "  return cf[0] / (cf[0] + cf[3])\n",
        "\n",
        "def calculate_specificity(cf, threshold=.925):\n",
        "  return cf[2] / (cf[2] + cf[1])\n",
        "\n",
        "def calculate_metrics(threshold=.925):\n",
        "  cf = confusion_matrix(threshold)\n",
        "\n",
        "  acc = np.round(calculate_accuracy(cf, threshold), 5)\n",
        "  prec = np.round(calculate_precision(cf, threshold), 5)\n",
        "  rec = np.round(calculate_recall(cf, threshold), 5)\n",
        "  f_1 = np.round((2 * rec * prec) / (rec + prec), 5)\n",
        "  spec = np.round(calculate_specificity(cf, threshold), 5)\n",
        "\n",
        "  return {'Accuracy': acc, 'Precision': prec, 'Recall': rec, \n",
        "          'F1-Score': f_1, 'Specificity': spec}\n"
      ],
      "execution_count": 0,
      "outputs": []
    },
    {
      "cell_type": "code",
      "metadata": {
        "id": "q2iZQQObS8KS",
        "colab_type": "code",
        "colab": {}
      },
      "source": [
        "def user_bitflip(user_id):\n",
        "  user = cp.asnumpy(CPM[user_id])\n",
        "  num_items_bought = int(user.sum())\n",
        "  items_bought = np.argwhere(user == 1).squeeze()\n",
        "\n",
        "  X = np.tile(user, (num_items_bought, 1))\n",
        "  Y = np.tile(user, (num_items_bought, 1))\n",
        "\n",
        "  if num_items_bought == 1:\n",
        "    X[0, items_bought.item()] = 0\n",
        "    return X, Y\n",
        "\n",
        "  for i in range(num_items_bought):\n",
        "    X[i, items_bought[i]] = 0\n",
        "\n",
        "  assert int(X.sum() / num_items_bought) == num_items_bought - 1\n",
        "\n",
        "  return X, Y"
      ],
      "execution_count": 0,
      "outputs": []
    },
    {
      "cell_type": "code",
      "metadata": {
        "id": "aviaNu0OdH3T",
        "colab_type": "code",
        "colab": {}
      },
      "source": [
        "def bitflip():\n",
        "  test = []\n",
        "\n",
        "  for user_id in range(num_users):\n",
        "    test.append(user_bitflip(user_id))\n",
        "\n",
        "  return test"
      ],
      "execution_count": 0,
      "outputs": []
    },
    {
      "cell_type": "markdown",
      "metadata": {
        "id": "FY4kgo_ED5tD",
        "colab_type": "text"
      },
      "source": [
        "# Create Metrics"
      ]
    },
    {
      "cell_type": "code",
      "metadata": {
        "id": "fNOox0OPokKl",
        "colab_type": "code",
        "outputId": "6e54c7c6-44a3-488c-efd1-e04c06a2775a",
        "colab": {
          "base_uri": "https://localhost:8080/",
          "height": 86
        }
      },
      "source": [
        "confusion_matrix(as_dict=True)"
      ],
      "execution_count": 0,
      "outputs": [
        {
          "output_type": "execute_result",
          "data": {
            "text/plain": [
              "{'False Negative': 2055,\n",
              " 'False Positive': 9028,\n",
              " 'True Negative': 1501061,\n",
              " 'True Positive': 7896}"
            ]
          },
          "metadata": {
            "tags": []
          },
          "execution_count": 374
        }
      ]
    },
    {
      "cell_type": "code",
      "metadata": {
        "id": "pcOvw2_Lq0_j",
        "colab_type": "code",
        "outputId": "eeda9021-85fb-486b-b97a-c9f86d2598ff",
        "colab": {
          "base_uri": "https://localhost:8080/",
          "height": 86
        }
      },
      "source": [
        "confusion_matrix(mean=True, as_dict=True)"
      ],
      "execution_count": 0,
      "outputs": [
        {
          "output_type": "execute_result",
          "data": {
            "text/plain": [
              "{'False Negative': 2.585,\n",
              " 'False Positive': 11.356,\n",
              " 'True Negative': 1888.127,\n",
              " 'True Positive': 9.932}"
            ]
          },
          "metadata": {
            "tags": []
          },
          "execution_count": 375
        }
      ]
    },
    {
      "cell_type": "code",
      "metadata": {
        "id": "CSYwfypODR30",
        "colab_type": "code",
        "outputId": "95275553-91dc-4594-816e-3d71451e9db3",
        "colab": {
          "base_uri": "https://localhost:8080/",
          "height": 104
        }
      },
      "source": [
        "calculate_metrics()"
      ],
      "execution_count": 0,
      "outputs": [
        {
          "output_type": "execute_result",
          "data": {
            "text/plain": [
              "{'Accuracy': 0.99271,\n",
              " 'F1-Score': 0.58761,\n",
              " 'Precision': 0.46656,\n",
              " 'Recall': 0.79349,\n",
              " 'Specificity': 0.99402}"
            ]
          },
          "metadata": {
            "tags": []
          },
          "execution_count": 376
        }
      ]
    },
    {
      "cell_type": "markdown",
      "metadata": {
        "id": "q18Bjrpb70PJ",
        "colab_type": "text"
      },
      "source": [
        "# Export results"
      ]
    },
    {
      "cell_type": "code",
      "metadata": {
        "id": "iSpQvYTLmhtC",
        "colab_type": "code",
        "colab": {}
      },
      "source": [
        "def back_to_df(R, data):\n",
        "  back = data.drop(columns=[\"Zeilen-ID\", \"Versanddatum\", \"Bestelldatum\", \n",
        "                   \"Versandmodus\", \"Kundenname\", \"Segment\", \"Stadt\", \"Bundesland\", \n",
        "                   \"Land/Region\", \"Region\", \"Kategorie\", \"Unterkategorie\", \"Umsatz\",\n",
        "                   \"Menge\", \"Rabatt\", \"Gewinn\", \"Produktname\"], axis=1)\n",
        "  encode(back, \"Kunden-ID\")\n",
        "  encode(back, \"Produkt-ID\")\n",
        "\n",
        "  back = back.sort_values([\"Kunden-ID_cat\", \"Produkt-ID_cat\"])\n",
        "\n",
        "  user_lookup = []\n",
        "  for i in back['Kunden-ID'].unique():\n",
        "    user_lookup.append(i)\n",
        "\n",
        "  item_lookup = []\n",
        "  for i in back.sort_values([\"Produkt-ID_cat\"])['Produkt-ID'].unique():\n",
        "    item_lookup.append(i)\n",
        "\n",
        "  cust = []\n",
        "  for u in list(user_lookup):\n",
        "    cust += [u] * num_items\n",
        "\n",
        "  prod = list(item_lookup) * num_users\n",
        "\n",
        "  new_data = {'Kunden-ID': cust, 'Produkt-ID': prod, 'Recommendation': R.flatten()}\n",
        "\n",
        "\n",
        "  return pd.DataFrame(new_data)\n"
      ],
      "execution_count": 0,
      "outputs": []
    },
    {
      "cell_type": "code",
      "metadata": {
        "id": "V-88ItT_8IIk",
        "colab_type": "code",
        "colab": {}
      },
      "source": [
        "ndf = back_to_df(R, data)"
      ],
      "execution_count": 0,
      "outputs": []
    },
    {
      "cell_type": "code",
      "metadata": {
        "id": "z877caRL8Ng1",
        "colab_type": "code",
        "colab": {}
      },
      "source": [
        "ndf.to_csv('./gdrive/My Drive/alan/recommendations.csv', index=False, encoding='utf-8')"
      ],
      "execution_count": 0,
      "outputs": []
    },
    {
      "cell_type": "markdown",
      "metadata": {
        "id": "qj9Hw2-p4wv2",
        "colab_type": "text"
      },
      "source": [
        "# Pred / Fit"
      ]
    },
    {
      "cell_type": "code",
      "metadata": {
        "id": "SgIYo29K4yWd",
        "colab_type": "code",
        "colab": {}
      },
      "source": [
        "def training_example(user_id):\n",
        "  user = cp.asnumpy(CPM[user_id])\n",
        "  num_items_bought = int(user.sum())\n",
        "  items_bought = np.argwhere(user == 1).squeeze()\n",
        "\n",
        "  X = np.tile(user, (num_items_bought, 1))\n",
        "  Y = np.zeros((num_items_bought, num_items))\n",
        "\n",
        "  if num_items_bought == 1:\n",
        "    X[0, items_bought.item()] = 0\n",
        "    Y[0, items_bought.item()] = 1\n",
        "    return X, Y\n",
        "\n",
        "  for i in range(num_items_bought):\n",
        "    X[i, items_bought[i]] = 0\n",
        "    Y[i, items_bought[i]] = 1\n",
        "\n",
        "  assert int(X.sum() / num_items_bought) == num_items_bought - 1\n",
        "  assert X.shape == Y.shape\n",
        "\n",
        "  return X, Y"
      ],
      "execution_count": 0,
      "outputs": []
    },
    {
      "cell_type": "code",
      "metadata": {
        "id": "a47mnuQBjV3K",
        "colab_type": "code",
        "colab": {}
      },
      "source": [
        "def create_test_set(hierarchy=False):\n",
        "  if hierarchy:\n",
        "    test = []\n",
        "    for user_id in range(num_users):\n",
        "      test.append(training_example(user_id))\n",
        "    return test\n",
        "\n",
        "  X, Y = training_example(0)\n",
        "\n",
        "  for user_id in range(1, num_users):\n",
        "    x, y = training_example(user_id)\n",
        "    X = np.concatenate((X, x), axis=0)\n",
        "    Y = np.concatenate((Y, y), axis=0)\n",
        "\n",
        "  return X, Y"
      ],
      "execution_count": 0,
      "outputs": []
    },
    {
      "cell_type": "code",
      "metadata": {
        "id": "_B0HB1uswGAQ",
        "colab_type": "code",
        "colab": {}
      },
      "source": [
        "def get_batched_dataset(dataset, BATCH_SIZE=128, train=False):\n",
        "  if train:\n",
        "    dataset = dataset.repeat()\n",
        "    dataset = dataset.shuffle(1337)\n",
        "\n",
        "  dataset = dataset.batch(BATCH_SIZE)\n",
        "  dataset = dataset.prefetch(AUTO)\n",
        "  return dataset"
      ],
      "execution_count": 0,
      "outputs": []
    },
    {
      "cell_type": "code",
      "metadata": {
        "id": "eZnjpJUrx50l",
        "colab_type": "code",
        "colab": {}
      },
      "source": [
        "def train_test_split(X, Y, ratio=0.7, for_torch=False):\n",
        "  N = X.shape[0]\n",
        "  SPLIT = int(N * 0.7)\n",
        "  np.random.seed(1337)\n",
        "  idx = np.random.randint(N, size=SPLIT)\n",
        "\n",
        "  if for_torch:\n",
        "    return (X[idx,:], Y[idx,:]), (np.delete(X, idx, 0), np.delete(Y, idx, 0))\n",
        "\n",
        "  train = tf.data.Dataset.from_tensor_slices((X[idx,:], Y[idx,:]))\n",
        "  test = tf.data.Dataset.from_tensor_slices((np.delete(X, idx, 0), np.delete(Y, idx, 0)))\n",
        "\n",
        "  train = get_batched_dataset(train, train=True)\n",
        "  test = get_batched_dataset(test)\n",
        "\n",
        "  return train, test"
      ],
      "execution_count": 0,
      "outputs": []
    },
    {
      "cell_type": "code",
      "metadata": {
        "id": "_YqW8ixoow85",
        "colab_type": "code",
        "colab": {}
      },
      "source": [
        "X, Y = create_test_set()"
      ],
      "execution_count": 0,
      "outputs": []
    },
    {
      "cell_type": "code",
      "metadata": {
        "id": "FSYGd3DBpHhF",
        "colab_type": "code",
        "colab": {}
      },
      "source": [
        "train, test = train_test_split(X, Y)"
      ],
      "execution_count": 0,
      "outputs": []
    },
    {
      "cell_type": "code",
      "metadata": {
        "id": "hLylsEB2yV3a",
        "colab_type": "code",
        "colab": {}
      },
      "source": [
        " def create_model():\n",
        "  model = tf.keras.Sequential([\n",
        "                               Input(shape=(num_items)),\n",
        "                               Dense(100, activation='relu'),\n",
        "                               Dropout(0.4),\n",
        "                               Dense(100, activation='relu'),\n",
        "                               Dropout(0.2),\n",
        "                               Dense(num_items, activation='softmax')\n",
        "  ])\n",
        "\n",
        "  model.compile(\n",
        "      optimizer='adam',\n",
        "      loss='categorical_crossentropy',\n",
        "      metrics=['accuracy', 'binary_accuracy', tf.keras.metrics.Recall(), tf.keras.metrics.Precision()]\n",
        "  )\n",
        "  return model"
      ],
      "execution_count": 0,
      "outputs": []
    },
    {
      "cell_type": "code",
      "metadata": {
        "id": "3oXyXq4ZJsS8",
        "colab_type": "code",
        "outputId": "bc7dce5a-ac6b-4ade-d59a-f40ef68c67a4",
        "colab": {
          "base_uri": "https://localhost:8080/",
          "height": 330
        }
      },
      "source": [
        "model = create_model()\n",
        "model.summary()"
      ],
      "execution_count": 0,
      "outputs": [
        {
          "output_type": "stream",
          "text": [
            "Model: \"sequential_1\"\n",
            "_________________________________________________________________\n",
            "Layer (type)                 Output Shape              Param #   \n",
            "=================================================================\n",
            "dense_3 (Dense)              (None, 100)               191300    \n",
            "_________________________________________________________________\n",
            "dropout_2 (Dropout)          (None, 100)               0         \n",
            "_________________________________________________________________\n",
            "dense_4 (Dense)              (None, 100)               10100     \n",
            "_________________________________________________________________\n",
            "dropout_3 (Dropout)          (None, 100)               0         \n",
            "_________________________________________________________________\n",
            "dense_5 (Dense)              (None, 1912)              193112    \n",
            "=================================================================\n",
            "Total params: 394,512\n",
            "Trainable params: 394,512\n",
            "Non-trainable params: 0\n",
            "_________________________________________________________________\n"
          ],
          "name": "stdout"
        }
      ]
    },
    {
      "cell_type": "code",
      "metadata": {
        "id": "eEFPJuHgrQSI",
        "colab_type": "code",
        "outputId": "1bd5455a-67c1-443b-fd4b-53846fa07a8f",
        "colab": {
          "base_uri": "https://localhost:8080/",
          "height": 1000
        }
      },
      "source": [
        "epochs = 50\n",
        "batch_size = 128\n",
        "steps_per_epoch = 20 * X.shape[0] // batch_size\n",
        "\n",
        "log_dir = \"logs/fit/\" + datetime.datetime.now().strftime(\"%Y%m%d-%H%M%S\")\n",
        "tensorboard_callback = tf.keras.callbacks.TensorBoard(log_dir=log_dir, histogram_freq=1)\n",
        "\n",
        "\n",
        "model.fit(train,\n",
        "          steps_per_epoch=steps_per_epoch,\n",
        "          epochs=epochs,\n",
        "          validation_data=test,\n",
        "          callbacks=[tensorboard_callback]\n",
        "        )"
      ],
      "execution_count": 0,
      "outputs": [
        {
          "output_type": "stream",
          "text": [
            "Epoch 1/50\n",
            "1554/1554 [==============================] - 16s 10ms/step - loss: 4.6561 - accuracy: 0.1344 - binary_accuracy: 0.9995 - recall_1: 0.0160 - precision_1: 0.3530 - val_loss: 12.7625 - val_accuracy: 0.0000e+00 - val_binary_accuracy: 0.9994 - val_recall_1: 0.0000e+00 - val_precision_1: 0.0000e+00\n",
            "Epoch 2/50\n",
            "1554/1554 [==============================] - 15s 10ms/step - loss: 2.7741 - accuracy: 0.3008 - binary_accuracy: 0.9995 - recall_1: 0.1049 - precision_1: 0.6254 - val_loss: 14.2208 - val_accuracy: 0.0000e+00 - val_binary_accuracy: 0.9994 - val_recall_1: 0.0000e+00 - val_precision_1: 0.0000e+00\n",
            "Epoch 3/50\n",
            "1554/1554 [==============================] - 15s 10ms/step - loss: 1.7648 - accuracy: 0.5432 - binary_accuracy: 0.9996 - recall_1: 0.3243 - precision_1: 0.8476 - val_loss: 14.0680 - val_accuracy: 0.0010 - val_binary_accuracy: 0.9994 - val_recall_1: 2.0263e-04 - val_precision_1: 9.1075e-04\n",
            "Epoch 4/50\n",
            "1554/1554 [==============================] - 15s 10ms/step - loss: 0.9551 - accuracy: 0.7600 - binary_accuracy: 0.9998 - recall_1: 0.5950 - precision_1: 0.9301 - val_loss: 13.4145 - val_accuracy: 0.0144 - val_binary_accuracy: 0.9993 - val_recall_1: 0.0043 - val_precision_1: 0.0145\n",
            "Epoch 5/50\n",
            "1554/1554 [==============================] - 15s 10ms/step - loss: 0.5649 - accuracy: 0.8582 - binary_accuracy: 0.9999 - recall_1: 0.7575 - precision_1: 0.9526 - val_loss: 12.8462 - val_accuracy: 0.0373 - val_binary_accuracy: 0.9993 - val_recall_1: 0.0172 - val_precision_1: 0.0522\n",
            "Epoch 6/50\n",
            "1554/1554 [==============================] - 16s 10ms/step - loss: 0.3957 - accuracy: 0.8973 - binary_accuracy: 0.9999 - recall_1: 0.8332 - precision_1: 0.9592 - val_loss: 12.2973 - val_accuracy: 0.0638 - val_binary_accuracy: 0.9993 - val_recall_1: 0.0391 - val_precision_1: 0.1065\n",
            "Epoch 7/50\n",
            "1554/1554 [==============================] - 15s 10ms/step - loss: 0.3090 - accuracy: 0.9176 - binary_accuracy: 0.9999 - recall_1: 0.8718 - precision_1: 0.9637 - val_loss: 11.9793 - val_accuracy: 0.0898 - val_binary_accuracy: 0.9993 - val_recall_1: 0.0602 - val_precision_1: 0.1528\n",
            "Epoch 8/50\n",
            "1554/1554 [==============================] - 15s 10ms/step - loss: 0.2608 - accuracy: 0.9281 - binary_accuracy: 0.9999 - recall_1: 0.8943 - precision_1: 0.9657 - val_loss: 11.6758 - val_accuracy: 0.1125 - val_binary_accuracy: 0.9993 - val_recall_1: 0.0823 - val_precision_1: 0.1969\n",
            "Epoch 9/50\n",
            "1554/1554 [==============================] - 15s 10ms/step - loss: 0.2252 - accuracy: 0.9370 - binary_accuracy: 0.9999 - recall_1: 0.9103 - precision_1: 0.9673 - val_loss: 11.4216 - val_accuracy: 0.1323 - val_binary_accuracy: 0.9993 - val_recall_1: 0.1011 - val_precision_1: 0.2270\n",
            "Epoch 10/50\n",
            "1554/1554 [==============================] - 16s 10ms/step - loss: 0.2059 - accuracy: 0.9412 - binary_accuracy: 0.9999 - recall_1: 0.9192 - precision_1: 0.9681 - val_loss: 11.0728 - val_accuracy: 0.1514 - val_binary_accuracy: 0.9994 - val_recall_1: 0.1187 - val_precision_1: 0.2570\n",
            "Epoch 11/50\n",
            "1554/1554 [==============================] - 16s 10ms/step - loss: 0.1868 - accuracy: 0.9465 - binary_accuracy: 1.0000 - recall_1: 0.9275 - precision_1: 0.9703 - val_loss: 10.9971 - val_accuracy: 0.1637 - val_binary_accuracy: 0.9994 - val_recall_1: 0.1348 - val_precision_1: 0.2719\n",
            "Epoch 12/50\n",
            "1554/1554 [==============================] - 16s 10ms/step - loss: 0.1737 - accuracy: 0.9492 - binary_accuracy: 1.0000 - recall_1: 0.9328 - precision_1: 0.9704 - val_loss: 10.8580 - val_accuracy: 0.1733 - val_binary_accuracy: 0.9994 - val_recall_1: 0.1447 - val_precision_1: 0.2863\n",
            "Epoch 13/50\n",
            "1554/1554 [==============================] - 16s 10ms/step - loss: 0.1680 - accuracy: 0.9509 - binary_accuracy: 1.0000 - recall_1: 0.9354 - precision_1: 0.9706 - val_loss: 10.7460 - val_accuracy: 0.1824 - val_binary_accuracy: 0.9994 - val_recall_1: 0.1544 - val_precision_1: 0.3024\n",
            "Epoch 14/50\n",
            "1554/1554 [==============================] - 16s 10ms/step - loss: 0.1566 - accuracy: 0.9536 - binary_accuracy: 1.0000 - recall_1: 0.9404 - precision_1: 0.9711 - val_loss: 10.6792 - val_accuracy: 0.1887 - val_binary_accuracy: 0.9994 - val_recall_1: 0.1609 - val_precision_1: 0.3008\n",
            "Epoch 15/50\n",
            "1554/1554 [==============================] - 15s 10ms/step - loss: 0.1513 - accuracy: 0.9553 - binary_accuracy: 1.0000 - recall_1: 0.9432 - precision_1: 0.9716 - val_loss: 10.4828 - val_accuracy: 0.2075 - val_binary_accuracy: 0.9994 - val_recall_1: 0.1791 - val_precision_1: 0.3235\n",
            "Epoch 16/50\n",
            "1554/1554 [==============================] - 15s 10ms/step - loss: 0.1467 - accuracy: 0.9563 - binary_accuracy: 1.0000 - recall_1: 0.9452 - precision_1: 0.9720 - val_loss: 10.3635 - val_accuracy: 0.2107 - val_binary_accuracy: 0.9994 - val_recall_1: 0.1836 - val_precision_1: 0.3301\n",
            "Epoch 17/50\n",
            "1554/1554 [==============================] - 16s 10ms/step - loss: 0.1383 - accuracy: 0.9586 - binary_accuracy: 1.0000 - recall_1: 0.9488 - precision_1: 0.9724 - val_loss: 10.1358 - val_accuracy: 0.2215 - val_binary_accuracy: 0.9994 - val_recall_1: 0.1959 - val_precision_1: 0.3460\n",
            "Epoch 18/50\n",
            "1554/1554 [==============================] - 16s 10ms/step - loss: 0.1360 - accuracy: 0.9592 - binary_accuracy: 1.0000 - recall_1: 0.9501 - precision_1: 0.9728 - val_loss: 10.1940 - val_accuracy: 0.2294 - val_binary_accuracy: 0.9994 - val_recall_1: 0.2022 - val_precision_1: 0.3471\n",
            "Epoch 19/50\n",
            "1554/1554 [==============================] - 16s 10ms/step - loss: 0.1321 - accuracy: 0.9603 - binary_accuracy: 1.0000 - recall_1: 0.9518 - precision_1: 0.9733 - val_loss: 9.9750 - val_accuracy: 0.2421 - val_binary_accuracy: 0.9994 - val_recall_1: 0.2103 - val_precision_1: 0.3528\n",
            "Epoch 20/50\n",
            "1554/1554 [==============================] - 16s 10ms/step - loss: 0.1289 - accuracy: 0.9615 - binary_accuracy: 1.0000 - recall_1: 0.9532 - precision_1: 0.9737 - val_loss: 9.8856 - val_accuracy: 0.2474 - val_binary_accuracy: 0.9994 - val_recall_1: 0.2182 - val_precision_1: 0.3693\n",
            "Epoch 21/50\n",
            "1554/1554 [==============================] - 16s 10ms/step - loss: 0.1249 - accuracy: 0.9628 - binary_accuracy: 1.0000 - recall_1: 0.9550 - precision_1: 0.9743 - val_loss: 9.8433 - val_accuracy: 0.2541 - val_binary_accuracy: 0.9994 - val_recall_1: 0.2255 - val_precision_1: 0.3721\n",
            "Epoch 22/50\n",
            "1554/1554 [==============================] - 16s 10ms/step - loss: 0.1219 - accuracy: 0.9636 - binary_accuracy: 1.0000 - recall_1: 0.9563 - precision_1: 0.9746 - val_loss: 9.7752 - val_accuracy: 0.2547 - val_binary_accuracy: 0.9994 - val_recall_1: 0.2308 - val_precision_1: 0.3747\n",
            "Epoch 23/50\n",
            "1554/1554 [==============================] - 16s 10ms/step - loss: 0.1209 - accuracy: 0.9636 - binary_accuracy: 1.0000 - recall_1: 0.9565 - precision_1: 0.9747 - val_loss: 9.8311 - val_accuracy: 0.2636 - val_binary_accuracy: 0.9994 - val_recall_1: 0.2367 - val_precision_1: 0.3789\n",
            "Epoch 24/50\n",
            "1554/1554 [==============================] - 16s 10ms/step - loss: 0.1123 - accuracy: 0.9662 - binary_accuracy: 1.0000 - recall_1: 0.9596 - precision_1: 0.9760 - val_loss: 9.7279 - val_accuracy: 0.2683 - val_binary_accuracy: 0.9994 - val_recall_1: 0.2371 - val_precision_1: 0.3801\n",
            "Epoch 25/50\n",
            "1554/1554 [==============================] - 16s 10ms/step - loss: 0.1154 - accuracy: 0.9657 - binary_accuracy: 1.0000 - recall_1: 0.9592 - precision_1: 0.9751 - val_loss: 9.6072 - val_accuracy: 0.2770 - val_binary_accuracy: 0.9994 - val_recall_1: 0.2470 - val_precision_1: 0.3877\n",
            "Epoch 26/50\n",
            "1554/1554 [==============================] - 16s 10ms/step - loss: 0.1101 - accuracy: 0.9668 - binary_accuracy: 1.0000 - recall_1: 0.9609 - precision_1: 0.9760 - val_loss: 9.5474 - val_accuracy: 0.2792 - val_binary_accuracy: 0.9994 - val_recall_1: 0.2541 - val_precision_1: 0.3968\n",
            "Epoch 27/50\n",
            "1554/1554 [==============================] - 16s 10ms/step - loss: 0.1113 - accuracy: 0.9668 - binary_accuracy: 1.0000 - recall_1: 0.9615 - precision_1: 0.9758 - val_loss: 9.4514 - val_accuracy: 0.2839 - val_binary_accuracy: 0.9994 - val_recall_1: 0.2618 - val_precision_1: 0.4044\n",
            "Epoch 28/50\n",
            "1554/1554 [==============================] - 16s 10ms/step - loss: 0.1070 - accuracy: 0.9681 - binary_accuracy: 1.0000 - recall_1: 0.9627 - precision_1: 0.9764 - val_loss: 9.5263 - val_accuracy: 0.2920 - val_binary_accuracy: 0.9994 - val_recall_1: 0.2669 - val_precision_1: 0.4082\n",
            "Epoch 29/50\n",
            "1554/1554 [==============================] - 16s 10ms/step - loss: 0.1077 - accuracy: 0.9676 - binary_accuracy: 1.0000 - recall_1: 0.9624 - precision_1: 0.9763 - val_loss: 9.4391 - val_accuracy: 0.2904 - val_binary_accuracy: 0.9994 - val_recall_1: 0.2665 - val_precision_1: 0.4085\n",
            "Epoch 30/50\n",
            "1554/1554 [==============================] - 16s 10ms/step - loss: 0.1046 - accuracy: 0.9688 - binary_accuracy: 1.0000 - recall_1: 0.9638 - precision_1: 0.9765 - val_loss: 9.3456 - val_accuracy: 0.3029 - val_binary_accuracy: 0.9994 - val_recall_1: 0.2829 - val_precision_1: 0.4234\n",
            "Epoch 31/50\n",
            "1554/1554 [==============================] - 16s 10ms/step - loss: 0.1003 - accuracy: 0.9699 - binary_accuracy: 1.0000 - recall_1: 0.9651 - precision_1: 0.9777 - val_loss: 9.4687 - val_accuracy: 0.3046 - val_binary_accuracy: 0.9994 - val_recall_1: 0.2839 - val_precision_1: 0.4139\n",
            "Epoch 32/50\n",
            "1554/1554 [==============================] - 16s 10ms/step - loss: 0.1004 - accuracy: 0.9699 - binary_accuracy: 1.0000 - recall_1: 0.9652 - precision_1: 0.9775 - val_loss: 9.2875 - val_accuracy: 0.3096 - val_binary_accuracy: 0.9994 - val_recall_1: 0.2888 - val_precision_1: 0.4252\n",
            "Epoch 33/50\n",
            "1554/1554 [==============================] - 16s 10ms/step - loss: 0.0991 - accuracy: 0.9702 - binary_accuracy: 1.0000 - recall_1: 0.9656 - precision_1: 0.9777 - val_loss: 9.3299 - val_accuracy: 0.3106 - val_binary_accuracy: 0.9994 - val_recall_1: 0.2908 - val_precision_1: 0.4193\n",
            "Epoch 34/50\n",
            "1554/1554 [==============================] - 16s 10ms/step - loss: 0.0969 - accuracy: 0.9709 - binary_accuracy: 1.0000 - recall_1: 0.9668 - precision_1: 0.9779 - val_loss: 9.2090 - val_accuracy: 0.3202 - val_binary_accuracy: 0.9994 - val_recall_1: 0.2965 - val_precision_1: 0.4379\n",
            "Epoch 35/50\n",
            "1554/1554 [==============================] - 16s 10ms/step - loss: 0.0938 - accuracy: 0.9718 - binary_accuracy: 1.0000 - recall_1: 0.9675 - precision_1: 0.9790 - val_loss: 9.2598 - val_accuracy: 0.3200 - val_binary_accuracy: 0.9994 - val_recall_1: 0.2995 - val_precision_1: 0.4328\n",
            "Epoch 36/50\n",
            "1554/1554 [==============================] - 15s 10ms/step - loss: 0.0929 - accuracy: 0.9722 - binary_accuracy: 1.0000 - recall_1: 0.9681 - precision_1: 0.9788 - val_loss: 9.2277 - val_accuracy: 0.3287 - val_binary_accuracy: 0.9994 - val_recall_1: 0.3062 - val_precision_1: 0.4421\n",
            "Epoch 37/50\n",
            "1554/1554 [==============================] - 15s 10ms/step - loss: 0.0915 - accuracy: 0.9724 - binary_accuracy: 1.0000 - recall_1: 0.9685 - precision_1: 0.9787 - val_loss: 9.3623 - val_accuracy: 0.3228 - val_binary_accuracy: 0.9994 - val_recall_1: 0.3017 - val_precision_1: 0.4342\n",
            "Epoch 38/50\n",
            "1554/1554 [==============================] - 16s 10ms/step - loss: 0.0888 - accuracy: 0.9732 - binary_accuracy: 1.0000 - recall_1: 0.9692 - precision_1: 0.9794 - val_loss: 9.3421 - val_accuracy: 0.3252 - val_binary_accuracy: 0.9994 - val_recall_1: 0.3031 - val_precision_1: 0.4265\n",
            "Epoch 39/50\n",
            "1554/1554 [==============================] - 16s 10ms/step - loss: 0.0888 - accuracy: 0.9736 - binary_accuracy: 1.0000 - recall_1: 0.9698 - precision_1: 0.9794 - val_loss: 9.3383 - val_accuracy: 0.3232 - val_binary_accuracy: 0.9994 - val_recall_1: 0.3048 - val_precision_1: 0.4264\n",
            "Epoch 40/50\n",
            "1554/1554 [==============================] - 15s 10ms/step - loss: 0.0881 - accuracy: 0.9740 - binary_accuracy: 1.0000 - recall_1: 0.9703 - precision_1: 0.9797 - val_loss: 9.1803 - val_accuracy: 0.3299 - val_binary_accuracy: 0.9994 - val_recall_1: 0.3114 - val_precision_1: 0.4358\n",
            "Epoch 41/50\n",
            "1554/1554 [==============================] - 16s 10ms/step - loss: 0.0874 - accuracy: 0.9741 - binary_accuracy: 1.0000 - recall_1: 0.9705 - precision_1: 0.9801 - val_loss: 9.1172 - val_accuracy: 0.3408 - val_binary_accuracy: 0.9994 - val_recall_1: 0.3224 - val_precision_1: 0.4535\n",
            "Epoch 42/50\n",
            "1554/1554 [==============================] - 16s 10ms/step - loss: 0.0850 - accuracy: 0.9748 - binary_accuracy: 1.0000 - recall_1: 0.9712 - precision_1: 0.9805 - val_loss: 9.0815 - val_accuracy: 0.3499 - val_binary_accuracy: 0.9994 - val_recall_1: 0.3246 - val_precision_1: 0.4514\n",
            "Epoch 43/50\n",
            "1554/1554 [==============================] - 16s 10ms/step - loss: 0.0836 - accuracy: 0.9750 - binary_accuracy: 1.0000 - recall_1: 0.9718 - precision_1: 0.9806 - val_loss: 9.1813 - val_accuracy: 0.3418 - val_binary_accuracy: 0.9994 - val_recall_1: 0.3264 - val_precision_1: 0.4541\n",
            "Epoch 44/50\n",
            "1554/1554 [==============================] - 16s 10ms/step - loss: 0.0822 - accuracy: 0.9755 - binary_accuracy: 1.0000 - recall_1: 0.9723 - precision_1: 0.9808 - val_loss: 9.1229 - val_accuracy: 0.3481 - val_binary_accuracy: 0.9994 - val_recall_1: 0.3275 - val_precision_1: 0.4557\n",
            "Epoch 45/50\n",
            "1554/1554 [==============================] - 16s 10ms/step - loss: 0.0801 - accuracy: 0.9759 - binary_accuracy: 1.0000 - recall_1: 0.9729 - precision_1: 0.9812 - val_loss: 9.2733 - val_accuracy: 0.3487 - val_binary_accuracy: 0.9994 - val_recall_1: 0.3307 - val_precision_1: 0.4562\n",
            "Epoch 46/50\n",
            "1554/1554 [==============================] - 16s 10ms/step - loss: 0.0804 - accuracy: 0.9760 - binary_accuracy: 1.0000 - recall_1: 0.9728 - precision_1: 0.9809 - val_loss: 9.2011 - val_accuracy: 0.3481 - val_binary_accuracy: 0.9994 - val_recall_1: 0.3283 - val_precision_1: 0.4535\n",
            "Epoch 47/50\n",
            "1554/1554 [==============================] - 16s 10ms/step - loss: 0.0799 - accuracy: 0.9767 - binary_accuracy: 1.0000 - recall_1: 0.9736 - precision_1: 0.9814 - val_loss: 9.0519 - val_accuracy: 0.3554 - val_binary_accuracy: 0.9995 - val_recall_1: 0.3362 - val_precision_1: 0.4671\n",
            "Epoch 48/50\n",
            "1554/1554 [==============================] - 16s 10ms/step - loss: 0.0796 - accuracy: 0.9766 - binary_accuracy: 1.0000 - recall_1: 0.9736 - precision_1: 0.9813 - val_loss: 9.1474 - val_accuracy: 0.3542 - val_binary_accuracy: 0.9994 - val_recall_1: 0.3343 - val_precision_1: 0.4567\n",
            "Epoch 49/50\n",
            "1554/1554 [==============================] - 16s 10ms/step - loss: 0.0771 - accuracy: 0.9771 - binary_accuracy: 1.0000 - recall_1: 0.9742 - precision_1: 0.9819 - val_loss: 9.2666 - val_accuracy: 0.3566 - val_binary_accuracy: 0.9994 - val_recall_1: 0.3382 - val_precision_1: 0.4590\n",
            "Epoch 50/50\n",
            "1554/1554 [==============================] - 16s 10ms/step - loss: 0.0785 - accuracy: 0.9772 - binary_accuracy: 1.0000 - recall_1: 0.9742 - precision_1: 0.9819 - val_loss: 9.1071 - val_accuracy: 0.3583 - val_binary_accuracy: 0.9994 - val_recall_1: 0.3412 - val_precision_1: 0.4643\n"
          ],
          "name": "stdout"
        },
        {
          "output_type": "execute_result",
          "data": {
            "text/plain": [
              "<tensorflow.python.keras.callbacks.History at 0x7f9701275278>"
            ]
          },
          "metadata": {
            "tags": []
          },
          "execution_count": 385
        }
      ]
    },
    {
      "cell_type": "markdown",
      "metadata": {
        "id": "kdqDxUjlNwUf",
        "colab_type": "text"
      },
      "source": [
        "## Tensorboard"
      ]
    },
    {
      "cell_type": "code",
      "metadata": {
        "id": "0WoB-XjPL-tL",
        "colab_type": "code",
        "colab": {}
      },
      "source": [
        "#%load_ext tensorboard\n",
        "#%tensorboard --logdir logs/fit"
      ],
      "execution_count": 0,
      "outputs": []
    },
    {
      "cell_type": "markdown",
      "metadata": {
        "id": "Ijex7GLHNzmr",
        "colab_type": "text"
      },
      "source": [
        "## Torch"
      ]
    },
    {
      "cell_type": "code",
      "metadata": {
        "id": "ng_j2E9YWFgO",
        "colab_type": "code",
        "colab": {}
      },
      "source": [
        "class Net(nn.Module):\n",
        "  def __init__(self):\n",
        "    super(Net, self).__init__()\n",
        "    self.layer1 = nn.Sequential(\n",
        "        nn.Linear(num_items, 100),\n",
        "        nn.Dropout(0.4),\n",
        "        nn.Tanh())\n",
        "    self.layer2 = nn.Sequential(\n",
        "        nn.Linear(100, 100),\n",
        "        nn.Dropout(0.3),\n",
        "        nn.Tanh())\n",
        "    self.layer3 = nn.Sequential(\n",
        "        nn.Linear(100, num_items))\n",
        "\n",
        "  def forward(self, x):\n",
        "    x = self.layer1(x)\n",
        "    x = self.layer2(x)\n",
        "    x = self.layer3(x)\n",
        "    return x"
      ],
      "execution_count": 0,
      "outputs": []
    },
    {
      "cell_type": "code",
      "metadata": {
        "id": "_BFSEGh_S8Ut",
        "colab_type": "code",
        "colab": {}
      },
      "source": [
        "def fit(train, test, epochs=50, mult=20, verbose=True):\n",
        "  net = Net()\n",
        "  params = list(net.parameters())\n",
        "  crit = nn.CrossEntropyLoss()\n",
        "  opt = optim.Adam(params)\n",
        "  history = []\n",
        "\n",
        "\n",
        "  training_loader = torch.utils.data.DataLoader(train, batch_size=128, num_workers=1)\n",
        "\n",
        "  for i in range(epochs):\n",
        "    for j in range(mult):\n",
        "      for x, y in training_loader:\n",
        "        opt.zero_grad()\n",
        "        \n",
        "        reg_loss = 0.0\n",
        "        for param in params:\n",
        "          reg_loss += torch.sum(torch.abs(param))\n",
        "\n",
        "        outputs = net(x)\n",
        "        train_loss = crit(outputs, torch.max(y, 1)[1])\n",
        "        loss = train_loss + 5e-5 * reg_loss\n",
        "        history.append(loss.item())\n",
        "\n",
        "        loss.backward()\n",
        "        opt.step()\n",
        "\n",
        "    if verbose:\n",
        "      print(\"epoch: {:2} loss: {:3.4}\".format(i+1, history[-1]))\n",
        "\n",
        "  return net, opt, history "
      ],
      "execution_count": 0,
      "outputs": []
    },
    {
      "cell_type": "code",
      "metadata": {
        "id": "dN6INXaJVB3w",
        "colab_type": "code",
        "colab": {}
      },
      "source": [
        "torch_train, torch_test = train_test_split(X, Y, for_torch=True)"
      ],
      "execution_count": 0,
      "outputs": []
    },
    {
      "cell_type": "code",
      "metadata": {
        "id": "UPg8NzQsVVrB",
        "colab_type": "code",
        "outputId": "9208113b-a9d3-4160-8c96-f29a86ad11f3",
        "colab": {
          "base_uri": "https://localhost:8080/",
          "height": 885
        }
      },
      "source": [
        "net, opt, history = fit(torch.Tensor(torch_train), torch_test)"
      ],
      "execution_count": 0,
      "outputs": [
        {
          "output_type": "stream",
          "text": [
            "epoch:  1 loss: 7.889\n",
            "epoch:  2 loss: 7.604\n",
            "epoch:  3 loss: 7.44\n",
            "epoch:  4 loss: 7.347\n",
            "epoch:  5 loss: 7.222\n",
            "epoch:  6 loss: 7.026\n",
            "epoch:  7 loss: 6.768\n",
            "epoch:  8 loss: 6.5\n",
            "epoch:  9 loss: 6.258\n",
            "epoch: 10 loss: 6.023\n",
            "epoch: 11 loss: 5.812\n",
            "epoch: 12 loss: 5.629\n",
            "epoch: 13 loss: 5.452\n",
            "epoch: 14 loss: 5.273\n",
            "epoch: 15 loss: 5.111\n",
            "epoch: 16 loss: 4.957\n",
            "epoch: 17 loss: 4.809\n",
            "epoch: 18 loss: 4.658\n",
            "epoch: 19 loss: 4.522\n",
            "epoch: 20 loss: 4.376\n",
            "epoch: 21 loss: 4.235\n",
            "epoch: 22 loss: 4.106\n",
            "epoch: 23 loss: 3.98\n",
            "epoch: 24 loss: 3.866\n",
            "epoch: 25 loss: 3.763\n",
            "epoch: 26 loss: 3.671\n",
            "epoch: 27 loss: 3.59\n",
            "epoch: 28 loss: 3.508\n",
            "epoch: 29 loss: 3.443\n",
            "epoch: 30 loss: 3.368\n",
            "epoch: 31 loss: 3.315\n",
            "epoch: 32 loss: 3.261\n",
            "epoch: 33 loss: 3.223\n",
            "epoch: 34 loss: 3.183\n",
            "epoch: 35 loss: 3.15\n",
            "epoch: 36 loss: 3.105\n",
            "epoch: 37 loss: 3.081\n",
            "epoch: 38 loss: 3.052\n",
            "epoch: 39 loss: 3.026\n",
            "epoch: 40 loss: 3.004\n",
            "epoch: 41 loss: 2.987\n",
            "epoch: 42 loss: 2.964\n",
            "epoch: 43 loss: 2.939\n",
            "epoch: 44 loss: 2.936\n",
            "epoch: 45 loss: 2.921\n",
            "epoch: 46 loss: 2.91\n",
            "epoch: 47 loss: 2.888\n",
            "epoch: 48 loss: 2.87\n",
            "epoch: 49 loss: 2.863\n",
            "epoch: 50 loss: 2.848\n"
          ],
          "name": "stdout"
        }
      ]
    },
    {
      "cell_type": "code",
      "metadata": {
        "id": "LGaGq-8ncNE6",
        "colab_type": "code",
        "outputId": "0dc272e5-df49-4370-9109-a13d97a8b966",
        "colab": {
          "base_uri": "https://localhost:8080/",
          "height": 265
        }
      },
      "source": [
        "plt.plot(history);"
      ],
      "execution_count": 0,
      "outputs": [
        {
          "output_type": "display_data",
          "data": {
            "image/png": "[encoded data removed]",
            "text/plain": [
              "<Figure size 432x288 with 1 Axes>"
            ]
          },
          "metadata": {
            "tags": [],
            "needs_background": "light"
          }
        }
      ]
    },
    {
      "cell_type": "code",
      "metadata": {
        "id": "C3UAh4_vp7RR",
        "colab_type": "code",
        "colab": {}
      },
      "source": [
        "def pred_test(net, test):\n",
        "  net.train(False)\n",
        "  test_loader = torch.utils.data.DataLoader(test, batch_size=test[0].shape[0], num_workers=1)\n",
        "\n",
        "  test_output, test_labels = [(net(x.float()), y) for x, y in test_loader][0]\n",
        "  predicted_class = test_output.max(dim = 1)[1] \n",
        "\n",
        "  print(\"{:3.4}\".format((predicted_class == np.argmax(test_labels, axis=1)).float().mean().item()))"
      ],
      "execution_count": 0,
      "outputs": []
    },
    {
      "cell_type": "code",
      "metadata": {
        "id": "1_rDPh9EqJ1p",
        "colab_type": "code",
        "outputId": "28c70ee2-27e0-48a6-95e0-49670eee0aeb",
        "colab": {
          "base_uri": "https://localhost:8080/",
          "height": 34
        }
      },
      "source": [
        "pred_test(net, torch_test)"
      ],
      "execution_count": 0,
      "outputs": [
        {
          "output_type": "stream",
          "text": [
            "0.3376\n"
          ],
          "name": "stdout"
        }
      ]
    }
  ]
}