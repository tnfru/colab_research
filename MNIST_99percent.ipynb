{
  "nbformat": 4,
  "nbformat_minor": 0,
  "metadata": {
    "colab": {
      "name": "MNIST.ipynb",
      "provenance": [],
      "collapsed_sections": [],
      "authorship_tag": "ABX9TyPv9bkoHYFN3jbCmsKTTBct",
      "include_colab_link": true
    },
    "kernelspec": {
      "name": "python3",
      "display_name": "Python 3"
    },
    "accelerator": "GPU"
  },
  "cells": [
    {
      "cell_type": "markdown",
      "metadata": {
        "id": "view-in-github",
        "colab_type": "text"
      },
      "source": [
        "<a href=\"https://colab.research.google.com/github/tnfru/colab_research/blob/master/MNIST_99percent.ipynb\" target=\"_parent\"><img src=\"https://colab.research.google.com/assets/colab-badge.svg\" alt=\"Open In Colab\"/></a>"
      ]
    },
    {
      "cell_type": "code",
      "metadata": {
        "id": "GAEjvT4kDEbe",
        "colab_type": "code",
        "outputId": "be7888fb-1f97-412c-87d1-d06ba6f0f0a5",
        "colab": {
          "base_uri": "https://localhost:8080/",
          "height": 34
        }
      },
      "source": [
        "import os, sys, math\n",
        "if 'google.colab' in sys.modules: # Colab-only Tensorflow version selector\n",
        "  %tensorflow_version 2.x\n",
        "import tensorflow as tf\n",
        "AUTO = tf.data.experimental.AUTOTUNE\n",
        "from google.colab import drive"
      ],
      "execution_count": 0,
      "outputs": [
        {
          "output_type": "stream",
          "text": [
            "TensorFlow 2.x selected.\n"
          ],
          "name": "stdout"
        }
      ]
    },
    {
      "cell_type": "code",
      "metadata": {
        "id": "xarK-xWwJtN7",
        "colab_type": "code",
        "outputId": "a734c410-8fe2-4846-a314-d60f406c71d5",
        "colab": {
          "base_uri": "https://localhost:8080/",
          "height": 34
        }
      },
      "source": [
        "import pandas as pd\n",
        "import numpy as np\n",
        "from matplotlib import pyplot as plt\n",
        "import seaborn as sns\n",
        "from sklearn.utils import shuffle\n",
        "from keras.utils.np_utils import to_categorical"
      ],
      "execution_count": 0,
      "outputs": [
        {
          "output_type": "stream",
          "text": [
            "Using TensorFlow backend.\n"
          ],
          "name": "stderr"
        }
      ]
    },
    {
      "cell_type": "code",
      "metadata": {
        "id": "qqdQpoVaDdBo",
        "colab_type": "code",
        "outputId": "4217a671-7dc3-4148-f32b-62d2cd084b8e",
        "colab": {
          "base_uri": "https://localhost:8080/",
          "height": 52
        }
      },
      "source": [
        "try: \n",
        "  tpu = tf.distribute.cluster_resolver.TPUClusterResolver()\n",
        "except ValueError:\n",
        "  tpu = None\n",
        "  gpus = tf.config.experimental.list_logical_devices(\"GPU\")\n",
        "\n",
        "if tpu:\n",
        "  tf.config.experimental_connect_to_cluster(tpu)\n",
        "  tf.tpu.experimental.initialize_tpu_system(tpu)\n",
        "  strategy = tf.distribute.experimental.TPUStrategy(tpu)\n",
        "  print('Running on TPU ', tpu.master())  \n",
        "elif len(gpus) > 0:\n",
        "  strategy = tf.distribute.MirroredStrategy(gpus)\n",
        "  print('Running on ', len(gpus), ' GPU(s) ')\n",
        "else:\n",
        "  strategy = tf.distribute.get_strategy()\n",
        "  print('Running on CPU')"
      ],
      "execution_count": 0,
      "outputs": [
        {
          "output_type": "stream",
          "text": [
            "INFO:tensorflow:Using MirroredStrategy with devices ('/job:localhost/replica:0/task:0/device:GPU:0',)\n",
            "Running on  1  GPU(s) \n"
          ],
          "name": "stdout"
        }
      ]
    },
    {
      "cell_type": "code",
      "metadata": {
        "id": "6gFebgFYXIxt",
        "colab_type": "code",
        "colab": {}
      },
      "source": [
        "def display_training_curves(training, validation, title, subplot):\n",
        "  #stolen from google colab\n",
        "  if subplot%10==1:\n",
        "    plt.subplots(figsize=(10,10), facecolor='#F0F0F0')\n",
        "    plt.tight_layout()\n",
        "  ax = plt.subplot(subplot)\n",
        "  ax.set_facecolor('#F8F8F8')\n",
        "  ax.plot(training)\n",
        "  ax.plot(validation)\n",
        "  ax.set_title('model '+ title)\n",
        "  ax.set_ylabel(title)\n",
        "  ax.set_xlabel('epoch')\n",
        "  ax.legend(['train', 'valid.'])"
      ],
      "execution_count": 0,
      "outputs": []
    },
    {
      "cell_type": "code",
      "metadata": {
        "id": "oSx7U8mVEHtP",
        "colab_type": "code",
        "colab": {}
      },
      "source": [
        "drive.mount('/content/drive')"
      ],
      "execution_count": 0,
      "outputs": []
    },
    {
      "cell_type": "code",
      "metadata": {
        "id": "_9VGzQq1G9N0",
        "colab_type": "code",
        "outputId": "6b4dfda1-903f-4e9f-b251-1f4bd7457a39",
        "colab": {
          "base_uri": "https://localhost:8080/",
          "height": 34
        }
      },
      "source": [
        "PATH=\"/content/drive/My Drive/data/\"\n",
        "\n",
        "train_df = shuffle(pd.read_csv(PATH + \"train.csv\"))\n",
        "test_df = pd.read_csv(PATH + \"test.csv\") / 255\n",
        "test = test_df.values.reshape(-1, 28, 28, 1)\n",
        "sample_submission = pd.read_csv(PATH + \"sample_submission.csv\")\n",
        "train_df.shape"
      ],
      "execution_count": 0,
      "outputs": [
        {
          "output_type": "execute_result",
          "data": {
            "text/plain": [
              "(42000, 785)"
            ]
          },
          "metadata": {
            "tags": []
          },
          "execution_count": 6
        }
      ]
    },
    {
      "cell_type": "code",
      "metadata": {
        "id": "beuhl2ko2u-M",
        "colab_type": "code",
        "outputId": "8b5c5ad1-45c4-4beb-8865-fb22a84dd0b7",
        "colab": {
          "base_uri": "https://localhost:8080/",
          "height": 34
        }
      },
      "source": [
        "train_df.isnull().any().sum(), test_df.isnull().any().sum()"
      ],
      "execution_count": 0,
      "outputs": [
        {
          "output_type": "execute_result",
          "data": {
            "text/plain": [
              "(0, 0)"
            ]
          },
          "metadata": {
            "tags": []
          },
          "execution_count": 7
        }
      ]
    },
    {
      "cell_type": "code",
      "metadata": {
        "colab_type": "code",
        "id": "wWhnxgKcK3f1",
        "colab": {}
      },
      "source": [
        "IMG_SIZE = [28, 28]\n",
        "BATCH_SIZE = 64\n",
        "VALIDATION_SPLIT = 0.1\n",
        "SPLIT = int(len(train_df) * VALIDATION_SPLIT)\n",
        "\n",
        "val_df = train_df[:SPLIT]\n",
        "train_df = train_df[SPLIT:]"
      ],
      "execution_count": 0,
      "outputs": []
    },
    {
      "cell_type": "code",
      "metadata": {
        "id": "AxqM9jsKMI4P",
        "colab_type": "code",
        "outputId": "e1181ecc-a050-40b6-fd3a-f377c14bc2c8",
        "colab": {
          "base_uri": "https://localhost:8080/",
          "height": 279
        }
      },
      "source": [
        "sns.countplot(train_df['label']);"
      ],
      "execution_count": 0,
      "outputs": [
        {
          "output_type": "display_data",
          "data": {
            "image/png": "[encoded data removed]",
            "text/plain": [
              "<Figure size 432x288 with 1 Axes>"
            ]
          },
          "metadata": {
            "tags": []
          }
        }
      ]
    },
    {
      "cell_type": "code",
      "metadata": {
        "id": "6fRe2iY_10uQ",
        "colab_type": "code",
        "outputId": "82f25af2-c5bd-48bf-c775-398d63beac50",
        "colab": {
          "base_uri": "https://localhost:8080/",
          "height": 279
        }
      },
      "source": [
        "sns.countplot(val_df['label']);"
      ],
      "execution_count": 0,
      "outputs": [
        {
          "output_type": "display_data",
          "data": {
            "image/png": "[encoded data removed]",
            "text/plain": [
              "<Figure size 432x288 with 1 Axes>"
            ]
          },
          "metadata": {
            "tags": []
          }
        }
      ]
    },
    {
      "cell_type": "code",
      "metadata": {
        "id": "HeM6bdoUK-3X",
        "colab_type": "code",
        "colab": {}
      },
      "source": [
        "train_target = train_df.pop('label').values\n",
        "train_target = to_categorical(train_target, num_classes=10)\n",
        "val_target = val_df.pop('label').values\n",
        "val_target = to_categorical(val_target, num_classes=10)\n",
        "\n",
        "train_values = train_df.values.reshape(-1, 28, 28, 1) / 255\n",
        "val_values = val_df.values.reshape(-1, 28, 28, 1) / 255\n",
        "\n",
        "train = tf.data.Dataset.from_tensor_slices((train_values, train_target))\n",
        "val = tf.data.Dataset.from_tensor_slices((val_values, val_target))"
      ],
      "execution_count": 0,
      "outputs": []
    },
    {
      "cell_type": "code",
      "metadata": {
        "id": "Gu45coDa2SwH",
        "colab_type": "code",
        "colab": {}
      },
      "source": [
        "def get_batched_dataset(dataset, train=False):\n",
        "  if train:\n",
        "    dataset = dataset.repeat()\n",
        "    dataset = dataset.shuffle(1337)\n",
        "\n",
        "  dataset = dataset.batch(BATCH_SIZE)\n",
        "  dataset = dataset.prefetch(AUTO)\n",
        "  return dataset"
      ],
      "execution_count": 0,
      "outputs": []
    },
    {
      "cell_type": "code",
      "metadata": {
        "id": "laAnNyWf78Jg",
        "colab_type": "code",
        "colab": {}
      },
      "source": [
        "l = tf.keras.layers"
      ],
      "execution_count": 0,
      "outputs": []
    },
    {
      "cell_type": "code",
      "metadata": {
        "id": "2Q1iasj28IzN",
        "colab_type": "code",
        "colab": {}
      },
      "source": [
        "def create_model():\n",
        "  model = tf.keras.Sequential([\n",
        "      l.Conv2D(kernel_size=3, filters=20, padding='same', activation='relu', input_shape=(*IMG_SIZE, 1)),\n",
        "      l.BatchNormalization(),\n",
        "      l.Conv2D(kernel_size=3, filters=50, padding='same', activation='relu'),\n",
        "      l.BatchNormalization(),\n",
        "      l.MaxPooling2D(),\n",
        "      l.Dropout(0.5),\n",
        "\n",
        "      l.Conv2D(kernel_size=3, filters=80, padding='same', activation='relu'),\n",
        "      l.BatchNormalization(),\n",
        "      l.Conv2D(kernel_size=3, filters=100, padding='same', activation='relu'),\n",
        "      l.BatchNormalization(),\n",
        "      l.MaxPooling2D(),\n",
        "      l.Dropout(0.5),\n",
        "\n",
        "      l.Conv2D(kernel_size=3, filters=100, padding='same', activation='relu'),\n",
        "      l.BatchNormalization(),\n",
        "      l.Conv2D(kernel_size=3, filters=120, padding='same', activation='relu'),\n",
        "      l.BatchNormalization(),\n",
        "      l.MaxPooling2D(),\n",
        "      l.Dropout(0.5),\n",
        "\n",
        "      l.Conv2D(kernel_size=3, filters=80, padding='same', activation='relu'),\n",
        "      l.BatchNormalization(),\n",
        "      l.Conv2D(kernel_size=1, filters=40, padding='same', activation='relu'),\n",
        "      l.BatchNormalization(),\n",
        "\n",
        "      l.GlobalAveragePooling2D(),\n",
        "      l.Dense(10, activation='softmax')\n",
        "  ])\n",
        "\n",
        "  model.compile(\n",
        "      optimizer='adam',\n",
        "      loss='categorical_crossentropy',\n",
        "      metrics=['accuracy']\n",
        "  )\n",
        "\n",
        "  return model"
      ],
      "execution_count": 0,
      "outputs": []
    },
    {
      "cell_type": "code",
      "metadata": {
        "id": "Lu6VpZ1g-lNy",
        "colab_type": "code",
        "outputId": "1d97060e-834d-4614-ddbb-24f8605f5c21",
        "colab": {
          "base_uri": "https://localhost:8080/",
          "height": 1000
        }
      },
      "source": [
        "with strategy.scope():\n",
        "  model = create_model()\n",
        "\n",
        "  model.summary()"
      ],
      "execution_count": 0,
      "outputs": [
        {
          "output_type": "stream",
          "text": [
            "INFO:tensorflow:Reduce to /job:localhost/replica:0/task:0/device:CPU:0 then broadcast to ('/job:localhost/replica:0/task:0/device:CPU:0',).\n",
            "INFO:tensorflow:Reduce to /job:localhost/replica:0/task:0/device:CPU:0 then broadcast to ('/job:localhost/replica:0/task:0/device:CPU:0',).\n",
            "INFO:tensorflow:Reduce to /job:localhost/replica:0/task:0/device:CPU:0 then broadcast to ('/job:localhost/replica:0/task:0/device:CPU:0',).\n",
            "INFO:tensorflow:Reduce to /job:localhost/replica:0/task:0/device:CPU:0 then broadcast to ('/job:localhost/replica:0/task:0/device:CPU:0',).\n",
            "INFO:tensorflow:Reduce to /job:localhost/replica:0/task:0/device:CPU:0 then broadcast to ('/job:localhost/replica:0/task:0/device:CPU:0',).\n",
            "INFO:tensorflow:Reduce to /job:localhost/replica:0/task:0/device:CPU:0 then broadcast to ('/job:localhost/replica:0/task:0/device:CPU:0',).\n",
            "INFO:tensorflow:Reduce to /job:localhost/replica:0/task:0/device:CPU:0 then broadcast to ('/job:localhost/replica:0/task:0/device:CPU:0',).\n",
            "INFO:tensorflow:Reduce to /job:localhost/replica:0/task:0/device:CPU:0 then broadcast to ('/job:localhost/replica:0/task:0/device:CPU:0',).\n",
            "INFO:tensorflow:Reduce to /job:localhost/replica:0/task:0/device:CPU:0 then broadcast to ('/job:localhost/replica:0/task:0/device:CPU:0',).\n",
            "INFO:tensorflow:Reduce to /job:localhost/replica:0/task:0/device:CPU:0 then broadcast to ('/job:localhost/replica:0/task:0/device:CPU:0',).\n",
            "Model: \"sequential\"\n",
            "_________________________________________________________________\n",
            "Layer (type)                 Output Shape              Param #   \n",
            "=================================================================\n",
            "conv2d (Conv2D)              (None, 28, 28, 20)        200       \n",
            "_________________________________________________________________\n",
            "batch_normalization (BatchNo (None, 28, 28, 20)        80        \n",
            "_________________________________________________________________\n",
            "conv2d_1 (Conv2D)            (None, 28, 28, 50)        9050      \n",
            "_________________________________________________________________\n",
            "batch_normalization_1 (Batch (None, 28, 28, 50)        200       \n",
            "_________________________________________________________________\n",
            "max_pooling2d (MaxPooling2D) (None, 14, 14, 50)        0         \n",
            "_________________________________________________________________\n",
            "dropout (Dropout)            (None, 14, 14, 50)        0         \n",
            "_________________________________________________________________\n",
            "conv2d_2 (Conv2D)            (None, 14, 14, 80)        36080     \n",
            "_________________________________________________________________\n",
            "batch_normalization_2 (Batch (None, 14, 14, 80)        320       \n",
            "_________________________________________________________________\n",
            "conv2d_3 (Conv2D)            (None, 14, 14, 100)       72100     \n",
            "_________________________________________________________________\n",
            "batch_normalization_3 (Batch (None, 14, 14, 100)       400       \n",
            "_________________________________________________________________\n",
            "max_pooling2d_1 (MaxPooling2 (None, 7, 7, 100)         0         \n",
            "_________________________________________________________________\n",
            "dropout_1 (Dropout)          (None, 7, 7, 100)         0         \n",
            "_________________________________________________________________\n",
            "conv2d_4 (Conv2D)            (None, 7, 7, 100)         90100     \n",
            "_________________________________________________________________\n",
            "batch_normalization_4 (Batch (None, 7, 7, 100)         400       \n",
            "_________________________________________________________________\n",
            "conv2d_5 (Conv2D)            (None, 7, 7, 120)         108120    \n",
            "_________________________________________________________________\n",
            "batch_normalization_5 (Batch (None, 7, 7, 120)         480       \n",
            "_________________________________________________________________\n",
            "max_pooling2d_2 (MaxPooling2 (None, 3, 3, 120)         0         \n",
            "_________________________________________________________________\n",
            "dropout_2 (Dropout)          (None, 3, 3, 120)         0         \n",
            "_________________________________________________________________\n",
            "conv2d_6 (Conv2D)            (None, 3, 3, 80)          86480     \n",
            "_________________________________________________________________\n",
            "batch_normalization_6 (Batch (None, 3, 3, 80)          320       \n",
            "_________________________________________________________________\n",
            "conv2d_7 (Conv2D)            (None, 3, 3, 40)          3240      \n",
            "_________________________________________________________________\n",
            "batch_normalization_7 (Batch (None, 3, 3, 40)          160       \n",
            "_________________________________________________________________\n",
            "global_average_pooling2d (Gl (None, 40)                0         \n",
            "_________________________________________________________________\n",
            "dense (Dense)                (None, 10)                410       \n",
            "=================================================================\n",
            "Total params: 408,140\n",
            "Trainable params: 406,960\n",
            "Non-trainable params: 1,180\n",
            "_________________________________________________________________\n"
          ],
          "name": "stdout"
        }
      ]
    },
    {
      "cell_type": "code",
      "metadata": {
        "id": "92_vAAMP_Qyb",
        "colab_type": "code",
        "outputId": "3a2de099-22a5-4796-b2e1-877f889fb168",
        "colab": {
          "base_uri": "https://localhost:8080/",
          "height": 34
        }
      },
      "source": [
        "train_set = get_batched_dataset(train, train=True)\n",
        "val_set = get_batched_dataset(val)\n",
        "\n",
        "train_df.shape, val_df.shape"
      ],
      "execution_count": 0,
      "outputs": [
        {
          "output_type": "execute_result",
          "data": {
            "text/plain": [
              "((37800, 784), (4200, 784))"
            ]
          },
          "metadata": {
            "tags": []
          },
          "execution_count": 16
        }
      ]
    },
    {
      "cell_type": "markdown",
      "metadata": {
        "id": "Q5QxdQmfjYVS",
        "colab_type": "text"
      },
      "source": [
        "### We can not use a TPU because learning fit requires a tf dataset and not a ImageDataGen"
      ]
    },
    {
      "cell_type": "code",
      "metadata": {
        "id": "CvLXEU65YGU7",
        "colab_type": "code",
        "colab": {}
      },
      "source": [
        "datagen = tf.keras.preprocessing.image.ImageDataGenerator(\n",
        "        rotation_range=10,  \n",
        "        zoom_range = 0.1,  \n",
        "        width_shift_range=0.1, \n",
        "        height_shift_range=0.1)"
      ],
      "execution_count": 0,
      "outputs": []
    },
    {
      "cell_type": "code",
      "metadata": {
        "id": "4iITFqIG-qnt",
        "colab_type": "code",
        "outputId": "a3867051-931f-4cf2-ef61-a0337339eaeb",
        "colab": {
          "base_uri": "https://localhost:8080/",
          "height": 799
        }
      },
      "source": [
        "EPOCHS = 20\n",
        "steps_per_epoch = train_values.shape[0] // BATCH_SIZE\n",
        "\n",
        "history = model.fit(datagen.flow(train_values, train_target, batch_size=BATCH_SIZE), steps_per_epoch=steps_per_epoch, epochs=EPOCHS, validation_data=val_set)"
      ],
      "execution_count": 0,
      "outputs": [
        {
          "output_type": "stream",
          "text": [
            "WARNING:tensorflow:sample_weight modes were coerced from\n",
            "  ...\n",
            "    to  \n",
            "  ['...']\n",
            "Train for 590 steps, validate for 66 steps\n",
            "Epoch 1/20\n",
            "590/590 [==============================] - 18s 31ms/step - loss: 0.0262 - accuracy: 0.9915 - val_loss: 0.0225 - val_accuracy: 0.9952\n",
            "Epoch 2/20\n",
            "590/590 [==============================] - 14s 25ms/step - loss: 0.0239 - accuracy: 0.9928 - val_loss: 0.0274 - val_accuracy: 0.9936\n",
            "Epoch 3/20\n",
            "590/590 [==============================] - 15s 25ms/step - loss: 0.0225 - accuracy: 0.9926 - val_loss: 0.0265 - val_accuracy: 0.9950\n",
            "Epoch 4/20\n",
            "590/590 [==============================] - 15s 25ms/step - loss: 0.0241 - accuracy: 0.9926 - val_loss: 0.0249 - val_accuracy: 0.9936\n",
            "Epoch 5/20\n",
            "590/590 [==============================] - 14s 24ms/step - loss: 0.0230 - accuracy: 0.9926 - val_loss: 0.0242 - val_accuracy: 0.9950\n",
            "Epoch 6/20\n",
            "590/590 [==============================] - 14s 25ms/step - loss: 0.0226 - accuracy: 0.9933 - val_loss: 0.0219 - val_accuracy: 0.9957\n",
            "Epoch 7/20\n",
            "590/590 [==============================] - 15s 25ms/step - loss: 0.0205 - accuracy: 0.9932 - val_loss: 0.0221 - val_accuracy: 0.9955\n",
            "Epoch 8/20\n",
            "590/590 [==============================] - 14s 24ms/step - loss: 0.0189 - accuracy: 0.9941 - val_loss: 0.0216 - val_accuracy: 0.9952\n",
            "Epoch 9/20\n",
            "590/590 [==============================] - 15s 25ms/step - loss: 0.0192 - accuracy: 0.9935 - val_loss: 0.0216 - val_accuracy: 0.9950\n",
            "Epoch 10/20\n",
            "590/590 [==============================] - 15s 26ms/step - loss: 0.0186 - accuracy: 0.9938 - val_loss: 0.0235 - val_accuracy: 0.9957\n",
            "Epoch 11/20\n",
            "590/590 [==============================] - 16s 27ms/step - loss: 0.0193 - accuracy: 0.9938 - val_loss: 0.0255 - val_accuracy: 0.9940\n",
            "Epoch 12/20\n",
            "590/590 [==============================] - 15s 25ms/step - loss: 0.0193 - accuracy: 0.9936 - val_loss: 0.0242 - val_accuracy: 0.9950\n",
            "Epoch 13/20\n",
            "590/590 [==============================] - 15s 25ms/step - loss: 0.0182 - accuracy: 0.9942 - val_loss: 0.0231 - val_accuracy: 0.9960\n",
            "Epoch 14/20\n",
            "590/590 [==============================] - 15s 25ms/step - loss: 0.0181 - accuracy: 0.9944 - val_loss: 0.0353 - val_accuracy: 0.9919\n",
            "Epoch 15/20\n",
            "590/590 [==============================] - 15s 26ms/step - loss: 0.0197 - accuracy: 0.9934 - val_loss: 0.0241 - val_accuracy: 0.9945\n",
            "Epoch 16/20\n",
            "590/590 [==============================] - 16s 27ms/step - loss: 0.0178 - accuracy: 0.9940 - val_loss: 0.0211 - val_accuracy: 0.9960\n",
            "Epoch 17/20\n",
            "590/590 [==============================] - 16s 27ms/step - loss: 0.0168 - accuracy: 0.9945 - val_loss: 0.0188 - val_accuracy: 0.9967\n",
            "Epoch 18/20\n",
            "590/590 [==============================] - 16s 27ms/step - loss: 0.0160 - accuracy: 0.9950 - val_loss: 0.0266 - val_accuracy: 0.9938\n",
            "Epoch 19/20\n",
            "590/590 [==============================] - 16s 28ms/step - loss: 0.0175 - accuracy: 0.9942 - val_loss: 0.0305 - val_accuracy: 0.9940\n",
            "Epoch 20/20\n",
            "590/590 [==============================] - 16s 28ms/step - loss: 0.0185 - accuracy: 0.9936 - val_loss: 0.0244 - val_accuracy: 0.9952\n"
          ],
          "name": "stdout"
        }
      ]
    },
    {
      "cell_type": "code",
      "metadata": {
        "id": "4odEJaOHAgpV",
        "colab_type": "code",
        "outputId": "249ed55b-0f30-432b-a388-bb83d38a2073",
        "colab": {
          "base_uri": "https://localhost:8080/",
          "height": 755
        }
      },
      "source": [
        "display_training_curves(history.history['accuracy'], history.history['val_accuracy'], 'accuracy', 211)\n",
        "display_training_curves(history.history['loss'], history.history['val_loss'], 'loss', 212)"
      ],
      "execution_count": 0,
      "outputs": [
        {
          "output_type": "display_data",
          "data": {
            "image/png": "[encoded data removed]",
            "text/plain": [
              "<Figure size 720x720 with 2 Axes>"
            ]
          },
          "metadata": {
            "tags": []
          }
        }
      ]
    },
    {
      "cell_type": "code",
      "metadata": {
        "id": "v6Hwldwzj-w2",
        "colab_type": "code",
        "colab": {}
      },
      "source": [
        ""
      ],
      "execution_count": 0,
      "outputs": []
    }
  ]
}