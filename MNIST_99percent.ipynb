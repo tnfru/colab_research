{
  "nbformat": 4,
  "nbformat_minor": 0,
  "metadata": {
    "colab": {
      "name": "MNIST.ipynb",
      "provenance": [],
      "collapsed_sections": [],
      "authorship_tag": "ABX9TyMuQhC7uvRl2PYAYnowsim4",
      "include_colab_link": true
    },
    "kernelspec": {
      "name": "python3",
      "display_name": "Python 3"
    },
    "accelerator": "GPU"
  },
  "cells": [
    {
      "cell_type": "markdown",
      "metadata": {
        "id": "view-in-github",
        "colab_type": "text"
      },
      "source": [
        "<a href=\"https://colab.research.google.com/github/tnfru/colab_research/blob/master/MNIST_99percent.ipynb\" target=\"_parent\"><img src=\"https://colab.research.google.com/assets/colab-badge.svg\" alt=\"Open In Colab\"/></a>"
      ]
    },
    {
      "cell_type": "code",
      "metadata": {
        "id": "GAEjvT4kDEbe",
        "colab_type": "code",
        "outputId": "ddd3abd6-3b37-4017-fccb-676ca81048c0",
        "colab": {
          "base_uri": "https://localhost:8080/",
          "height": 34
        }
      },
      "source": [
        "import os, sys, math\n",
        "if 'google.colab' in sys.modules: # Colab-only Tensorflow version selector\n",
        "  %tensorflow_version 2.x\n",
        "import tensorflow as tf\n",
        "AUTO = tf.data.experimental.AUTOTUNE\n",
        "from google.colab import drive"
      ],
      "execution_count": 1,
      "outputs": [
        {
          "output_type": "stream",
          "text": [
            "TensorFlow 2.x selected.\n"
          ],
          "name": "stdout"
        }
      ]
    },
    {
      "cell_type": "code",
      "metadata": {
        "id": "xarK-xWwJtN7",
        "colab_type": "code",
        "colab": {
          "base_uri": "https://localhost:8080/",
          "height": 34
        },
        "outputId": "92218298-a270-4268-e733-4710083b1f4a"
      },
      "source": [
        "import pandas as pd\n",
        "import numpy as np\n",
        "from matplotlib import pyplot as plt\n",
        "import seaborn as sns\n",
        "from sklearn.utils import shuffle\n",
        "from keras.utils.np_utils import to_categorical"
      ],
      "execution_count": 2,
      "outputs": [
        {
          "output_type": "stream",
          "text": [
            "Using TensorFlow backend.\n"
          ],
          "name": "stderr"
        }
      ]
    },
    {
      "cell_type": "code",
      "metadata": {
        "id": "qqdQpoVaDdBo",
        "colab_type": "code",
        "colab": {
          "base_uri": "https://localhost:8080/",
          "height": 52
        },
        "outputId": "39ceb849-bec3-4170-f0f4-f7d44ae11cc2"
      },
      "source": [
        "try: \n",
        "  tpu = tf.distribute.cluster_resolver.TPUClusterResolver()\n",
        "except ValueError:\n",
        "  tpu = None\n",
        "  gpus = tf.config.experimental.list_logical_devices(\"GPU\")\n",
        "\n",
        "if tpu:\n",
        "  tf.config.experimental_connect_to_cluster(tpu)\n",
        "  tf.tpu.experimental.initialize_tpu_system(tpu)\n",
        "  strategy = tf.distribute.experimental.TPUStrategy(tpu)\n",
        "  print('Running on TPU ', tpu.master())  \n",
        "elif len(gpus) > 0:\n",
        "  strategy = tf.distribute.MirroredStrategy(gpus)\n",
        "  print('Running on ', len(gpus), ' GPU(s) ')\n",
        "else:\n",
        "  strategy = tf.distribute.get_strategy()\n",
        "  print('Running on CPU')"
      ],
      "execution_count": 3,
      "outputs": [
        {
          "output_type": "stream",
          "text": [
            "INFO:tensorflow:Using MirroredStrategy with devices ('/job:localhost/replica:0/task:0/device:GPU:0',)\n",
            "Running on  1  GPU(s) \n"
          ],
          "name": "stdout"
        }
      ]
    },
    {
      "cell_type": "code",
      "metadata": {
        "id": "6gFebgFYXIxt",
        "colab_type": "code",
        "colab": {}
      },
      "source": [
        "def display_training_curves(training, validation, title, subplot):\n",
        "  #stolen from google colab\n",
        "  if subplot%10==1:\n",
        "    plt.subplots(figsize=(10,10), facecolor='#F0F0F0')\n",
        "    plt.tight_layout()\n",
        "  ax = plt.subplot(subplot)\n",
        "  ax.set_facecolor('#F8F8F8')\n",
        "  ax.plot(training)\n",
        "  ax.plot(validation)\n",
        "  ax.set_title('model '+ title)\n",
        "  ax.set_ylabel(title)\n",
        "  ax.set_xlabel('epoch')\n",
        "  ax.legend(['train', 'valid.'])"
      ],
      "execution_count": 0,
      "outputs": []
    },
    {
      "cell_type": "code",
      "metadata": {
        "id": "oSx7U8mVEHtP",
        "colab_type": "code",
        "colab": {}
      },
      "source": [
        "drive.mount('/content/drive')"
      ],
      "execution_count": 0,
      "outputs": []
    },
    {
      "cell_type": "code",
      "metadata": {
        "id": "_9VGzQq1G9N0",
        "colab_type": "code",
        "outputId": "fa0ffe83-26e0-4d8e-ab11-05a23a4fd598",
        "colab": {
          "base_uri": "https://localhost:8080/",
          "height": 34
        }
      },
      "source": [
        "PATH=\"/content/drive/My Drive/data/\"\n",
        "\n",
        "train_df = shuffle(pd.read_csv(PATH + \"train.csv\"))\n",
        "test_df = pd.read_csv(PATH + \"test.csv\") / 255\n",
        "test = test_df.values.reshape(-1, 28, 28, 1)\n",
        "sample_submission = pd.read_csv(PATH + \"sample_submission.csv\")\n",
        "train_df.shape"
      ],
      "execution_count": 53,
      "outputs": [
        {
          "output_type": "execute_result",
          "data": {
            "text/plain": [
              "(42000, 785)"
            ]
          },
          "metadata": {
            "tags": []
          },
          "execution_count": 53
        }
      ]
    },
    {
      "cell_type": "code",
      "metadata": {
        "id": "beuhl2ko2u-M",
        "colab_type": "code",
        "outputId": "85628660-6e19-409f-fc21-647bdeba0878",
        "colab": {
          "base_uri": "https://localhost:8080/",
          "height": 34
        }
      },
      "source": [
        "train_df.isnull().any().sum(), test_df.isnull().any().sum()"
      ],
      "execution_count": 54,
      "outputs": [
        {
          "output_type": "execute_result",
          "data": {
            "text/plain": [
              "(0, 0)"
            ]
          },
          "metadata": {
            "tags": []
          },
          "execution_count": 54
        }
      ]
    },
    {
      "cell_type": "code",
      "metadata": {
        "colab_type": "code",
        "id": "wWhnxgKcK3f1",
        "colab": {}
      },
      "source": [
        "VALIDATION_SPLIT = 0.1\n",
        "SPLIT = int(len(train_df) * VALIDATION_SPLIT)\n",
        "IMG_SIZE = [28, 28]\n",
        "\n",
        "val_df = train_df[:SPLIT]\n",
        "train_df = train_df[SPLIT:]"
      ],
      "execution_count": 0,
      "outputs": []
    },
    {
      "cell_type": "code",
      "metadata": {
        "id": "AxqM9jsKMI4P",
        "colab_type": "code",
        "outputId": "cf58bff8-3214-404b-80fe-0f2f131ce8ec",
        "colab": {
          "base_uri": "https://localhost:8080/",
          "height": 279
        }
      },
      "source": [
        "sns.countplot(train_df['label']);"
      ],
      "execution_count": 28,
      "outputs": [
        {
          "output_type": "display_data",
          "data": {
            "image/png": "[encoded data removed]",
            "text/plain": [
              "<Figure size 432x288 with 1 Axes>"
            ]
          },
          "metadata": {
            "tags": []
          }
        }
      ]
    },
    {
      "cell_type": "code",
      "metadata": {
        "id": "6fRe2iY_10uQ",
        "colab_type": "code",
        "outputId": "04e32388-05f7-4aa1-8e4a-fec65426c5c3",
        "colab": {
          "base_uri": "https://localhost:8080/",
          "height": 279
        }
      },
      "source": [
        "sns.countplot(val_df['label']);"
      ],
      "execution_count": 29,
      "outputs": [
        {
          "output_type": "display_data",
          "data": {
            "image/png": "[encoded data removed]",
            "text/plain": [
              "<Figure size 432x288 with 1 Axes>"
            ]
          },
          "metadata": {
            "tags": []
          }
        }
      ]
    },
    {
      "cell_type": "code",
      "metadata": {
        "id": "HeM6bdoUK-3X",
        "colab_type": "code",
        "colab": {}
      },
      "source": [
        "train_target = train_df.pop('label').values\n",
        "train_target = to_categorical(train_target, num_classes=10)\n",
        "val_target = val_df.pop('label').values\n",
        "val_target = to_categorical(val_target, num_classes=10)\n",
        "\n",
        "train_values = train_df.values.reshape(-1, 28, 28, 1) / 255\n",
        "val_values = val_df.values.reshape(-1, 28, 28, 1) / 255\n",
        "\n",
        "train = tf.data.Dataset.from_tensor_slices((train_values, train_target))\n",
        "val = tf.data.Dataset.from_tensor_slices((val_values, val_target))"
      ],
      "execution_count": 0,
      "outputs": []
    },
    {
      "cell_type": "code",
      "metadata": {
        "id": "Gu45coDa2SwH",
        "colab_type": "code",
        "colab": {}
      },
      "source": [
        "def get_batched_dataset(dataset, train=False):\n",
        "  if train:\n",
        "    dataset = dataset.repeat()\n",
        "    dataset = dataset.shuffle(1337)\n",
        "\n",
        "  dataset = dataset.batch(BATCH_SIZE)\n",
        "  dataset = dataset.prefetch(AUTO)\n",
        "  return dataset"
      ],
      "execution_count": 0,
      "outputs": []
    },
    {
      "cell_type": "code",
      "metadata": {
        "id": "laAnNyWf78Jg",
        "colab_type": "code",
        "colab": {}
      },
      "source": [
        "l = tf.keras.layers"
      ],
      "execution_count": 0,
      "outputs": []
    },
    {
      "cell_type": "code",
      "metadata": {
        "id": "2Q1iasj28IzN",
        "colab_type": "code",
        "colab": {}
      },
      "source": [
        "def create_model():\n",
        "  model = tf.keras.Sequential([\n",
        "      l.Conv2D(kernel_size=3, filters=20, padding='same', activation='relu', input_shape=(*IMG_SIZE, 1)),\n",
        "      l.BatchNormalization(),\n",
        "      l.Conv2D(kernel_size=3, filters=50, padding='same', activation='relu'),\n",
        "      l.BatchNormalization(),\n",
        "      l.MaxPooling2D(),\n",
        "      l.Dropout(0.5),\n",
        "\n",
        "      l.Conv2D(kernel_size=3, filters=80, padding='same', activation='relu'),\n",
        "      l.BatchNormalization(),\n",
        "      l.Conv2D(kernel_size=3, filters=100, padding='same', activation='relu'),\n",
        "      l.BatchNormalization(),\n",
        "      l.MaxPooling2D(),\n",
        "      l.Dropout(0.5),\n",
        "\n",
        "      l.Conv2D(kernel_size=3, filters=100, padding='same', activation='relu'),\n",
        "      l.BatchNormalization(),\n",
        "      l.Conv2D(kernel_size=3, filters=120, padding='same', activation='relu'),\n",
        "      l.BatchNormalization(),\n",
        "      l.MaxPooling2D(),\n",
        "      l.Dropout(0.5),\n",
        "\n",
        "      l.Conv2D(kernel_size=3, filters=80, padding='same', activation='relu'),\n",
        "      l.BatchNormalization(),\n",
        "      l.Conv2D(kernel_size=1, filters=40, padding='same', activation='relu'),\n",
        "      l.BatchNormalization(),\n",
        "\n",
        "      l.GlobalAveragePooling2D(),\n",
        "      l.Dense(10, activation='softmax')\n",
        "  ])\n",
        "\n",
        "  model.compile(\n",
        "      optimizer='adam',\n",
        "      loss='categorical_crossentropy',\n",
        "      metrics=['accuracy']\n",
        "  )\n",
        "\n",
        "  return model"
      ],
      "execution_count": 0,
      "outputs": []
    },
    {
      "cell_type": "code",
      "metadata": {
        "id": "Lu6VpZ1g-lNy",
        "colab_type": "code",
        "outputId": "a2498775-5598-4e6a-bf12-df4d8f44a020",
        "colab": {
          "base_uri": "https://localhost:8080/",
          "height": 990
        }
      },
      "source": [
        "with strategy.scope():\n",
        "  model = create_model()\n",
        "\n",
        "  model.summary()"
      ],
      "execution_count": 82,
      "outputs": [
        {
          "output_type": "stream",
          "text": [
            "Model: \"sequential_8\"\n",
            "_________________________________________________________________\n",
            "Layer (type)                 Output Shape              Param #   \n",
            "=================================================================\n",
            "conv2d_48 (Conv2D)           (None, 28, 28, 20)        200       \n",
            "_________________________________________________________________\n",
            "batch_normalization_7 (Batch (None, 28, 28, 20)        80        \n",
            "_________________________________________________________________\n",
            "conv2d_49 (Conv2D)           (None, 28, 28, 50)        9050      \n",
            "_________________________________________________________________\n",
            "batch_normalization_8 (Batch (None, 28, 28, 50)        200       \n",
            "_________________________________________________________________\n",
            "max_pooling2d_24 (MaxPooling (None, 14, 14, 50)        0         \n",
            "_________________________________________________________________\n",
            "dropout (Dropout)            (None, 14, 14, 50)        0         \n",
            "_________________________________________________________________\n",
            "conv2d_50 (Conv2D)           (None, 14, 14, 80)        36080     \n",
            "_________________________________________________________________\n",
            "batch_normalization_9 (Batch (None, 14, 14, 80)        320       \n",
            "_________________________________________________________________\n",
            "conv2d_51 (Conv2D)           (None, 14, 14, 100)       72100     \n",
            "_________________________________________________________________\n",
            "batch_normalization_10 (Batc (None, 14, 14, 100)       400       \n",
            "_________________________________________________________________\n",
            "max_pooling2d_25 (MaxPooling (None, 7, 7, 100)         0         \n",
            "_________________________________________________________________\n",
            "dropout_1 (Dropout)          (None, 7, 7, 100)         0         \n",
            "_________________________________________________________________\n",
            "conv2d_52 (Conv2D)           (None, 7, 7, 100)         90100     \n",
            "_________________________________________________________________\n",
            "batch_normalization_11 (Batc (None, 7, 7, 100)         400       \n",
            "_________________________________________________________________\n",
            "conv2d_53 (Conv2D)           (None, 7, 7, 120)         108120    \n",
            "_________________________________________________________________\n",
            "batch_normalization_12 (Batc (None, 7, 7, 120)         480       \n",
            "_________________________________________________________________\n",
            "max_pooling2d_26 (MaxPooling (None, 3, 3, 120)         0         \n",
            "_________________________________________________________________\n",
            "dropout_2 (Dropout)          (None, 3, 3, 120)         0         \n",
            "_________________________________________________________________\n",
            "conv2d_54 (Conv2D)           (None, 3, 3, 80)          86480     \n",
            "_________________________________________________________________\n",
            "batch_normalization_13 (Batc (None, 3, 3, 80)          320       \n",
            "_________________________________________________________________\n",
            "conv2d_55 (Conv2D)           (None, 3, 3, 40)          3240      \n",
            "_________________________________________________________________\n",
            "batch_normalization_14 (Batc (None, 3, 3, 40)          160       \n",
            "_________________________________________________________________\n",
            "global_average_pooling2d_8 ( (None, 40)                0         \n",
            "_________________________________________________________________\n",
            "dense_8 (Dense)              (None, 10)                410       \n",
            "=================================================================\n",
            "Total params: 408,140\n",
            "Trainable params: 406,960\n",
            "Non-trainable params: 1,180\n",
            "_________________________________________________________________\n"
          ],
          "name": "stdout"
        }
      ]
    },
    {
      "cell_type": "code",
      "metadata": {
        "id": "92_vAAMP_Qyb",
        "colab_type": "code",
        "outputId": "0ec20741-3962-4739-a2bc-f742937a18d7",
        "colab": {
          "base_uri": "https://localhost:8080/",
          "height": 34
        }
      },
      "source": [
        "train_set = get_batched_dataset(train, train=True)\n",
        "val_set = get_batched_dataset(val)\n",
        "\n",
        "train_df.shape, val_df.shape"
      ],
      "execution_count": 83,
      "outputs": [
        {
          "output_type": "execute_result",
          "data": {
            "text/plain": [
              "((42000, 785), (4200, 784))"
            ]
          },
          "metadata": {
            "tags": []
          },
          "execution_count": 83
        }
      ]
    },
    {
      "cell_type": "code",
      "metadata": {
        "id": "CvLXEU65YGU7",
        "colab_type": "code",
        "colab": {}
      },
      "source": [
        "datagen = tf.keras.preprocessing.image.ImageDataGenerator(\n",
        "        rotation_range=10,  \n",
        "        zoom_range = 0.1,  \n",
        "        width_shift_range=0.1, \n",
        "        height_shift_range=0.1)\n"
      ],
      "execution_count": 0,
      "outputs": []
    },
    {
      "cell_type": "code",
      "metadata": {
        "id": "4iITFqIG-qnt",
        "colab_type": "code",
        "outputId": "071af3e3-af70-49d8-a931-ecd7c34ecb16",
        "colab": {
          "base_uri": "https://localhost:8080/",
          "height": 799
        }
      },
      "source": [
        "EPOCHS = 20\n",
        "BATCH_SIZE = 32\n",
        "steps_per_epoch = train_values.shape[0] // BATCH_SIZE\n",
        "\n",
        "history = model.fit(datagen.flow(train_values, train_target, batch_size=32), steps_per_epoch=steps_per_epoch, epochs=EPOCHS, validation_data=val_set)"
      ],
      "execution_count": 85,
      "outputs": [
        {
          "output_type": "stream",
          "text": [
            "WARNING:tensorflow:sample_weight modes were coerced from\n",
            "  ...\n",
            "    to  \n",
            "  ['...']\n",
            "Train for 1181 steps, validate for 132 steps\n",
            "Epoch 1/20\n",
            "1181/1181 [==============================] - 23s 19ms/step - loss: 0.3302 - accuracy: 0.8983 - val_loss: 0.0506 - val_accuracy: 0.9855\n",
            "Epoch 2/20\n",
            "1181/1181 [==============================] - 18s 15ms/step - loss: 0.1032 - accuracy: 0.9690 - val_loss: 0.0357 - val_accuracy: 0.9905\n",
            "Epoch 3/20\n",
            "1181/1181 [==============================] - 18s 15ms/step - loss: 0.0823 - accuracy: 0.9750 - val_loss: 0.0352 - val_accuracy: 0.9898\n",
            "Epoch 4/20\n",
            "1181/1181 [==============================] - 18s 16ms/step - loss: 0.0715 - accuracy: 0.9791 - val_loss: 0.0270 - val_accuracy: 0.9912\n",
            "Epoch 5/20\n",
            "1181/1181 [==============================] - 18s 15ms/step - loss: 0.0621 - accuracy: 0.9812 - val_loss: 0.0336 - val_accuracy: 0.9898\n",
            "Epoch 6/20\n",
            "1181/1181 [==============================] - 18s 15ms/step - loss: 0.0558 - accuracy: 0.9838 - val_loss: 0.0204 - val_accuracy: 0.9929\n",
            "Epoch 7/20\n",
            "1181/1181 [==============================] - 18s 15ms/step - loss: 0.0538 - accuracy: 0.9836 - val_loss: 0.0233 - val_accuracy: 0.9926\n",
            "Epoch 8/20\n",
            "1181/1181 [==============================] - 18s 15ms/step - loss: 0.0487 - accuracy: 0.9844 - val_loss: 0.0205 - val_accuracy: 0.9924\n",
            "Epoch 9/20\n",
            "1181/1181 [==============================] - 18s 15ms/step - loss: 0.0456 - accuracy: 0.9864 - val_loss: 0.0200 - val_accuracy: 0.9936\n",
            "Epoch 10/20\n",
            "1181/1181 [==============================] - 18s 15ms/step - loss: 0.0428 - accuracy: 0.9870 - val_loss: 0.0208 - val_accuracy: 0.9943\n",
            "Epoch 11/20\n",
            "1181/1181 [==============================] - 18s 15ms/step - loss: 0.0399 - accuracy: 0.9881 - val_loss: 0.0110 - val_accuracy: 0.9960\n",
            "Epoch 12/20\n",
            "1181/1181 [==============================] - 18s 15ms/step - loss: 0.0364 - accuracy: 0.9887 - val_loss: 0.0172 - val_accuracy: 0.9955\n",
            "Epoch 13/20\n",
            "1181/1181 [==============================] - 18s 15ms/step - loss: 0.0355 - accuracy: 0.9887 - val_loss: 0.0208 - val_accuracy: 0.9936\n",
            "Epoch 14/20\n",
            "1181/1181 [==============================] - 18s 15ms/step - loss: 0.0322 - accuracy: 0.9898 - val_loss: 0.0148 - val_accuracy: 0.9957\n",
            "Epoch 15/20\n",
            "1181/1181 [==============================] - 18s 15ms/step - loss: 0.0346 - accuracy: 0.9900 - val_loss: 0.0190 - val_accuracy: 0.9938\n",
            "Epoch 16/20\n",
            "1181/1181 [==============================] - 18s 15ms/step - loss: 0.0330 - accuracy: 0.9900 - val_loss: 0.0120 - val_accuracy: 0.9967\n",
            "Epoch 17/20\n",
            "1181/1181 [==============================] - 18s 15ms/step - loss: 0.0295 - accuracy: 0.9910 - val_loss: 0.0162 - val_accuracy: 0.9950\n",
            "Epoch 18/20\n",
            "1181/1181 [==============================] - 18s 15ms/step - loss: 0.0314 - accuracy: 0.9905 - val_loss: 0.0174 - val_accuracy: 0.9955\n",
            "Epoch 19/20\n",
            "1181/1181 [==============================] - 18s 15ms/step - loss: 0.0302 - accuracy: 0.9905 - val_loss: 0.0149 - val_accuracy: 0.9950\n",
            "Epoch 20/20\n",
            "1181/1181 [==============================] - 18s 16ms/step - loss: 0.0291 - accuracy: 0.9908 - val_loss: 0.0155 - val_accuracy: 0.9948\n"
          ],
          "name": "stdout"
        }
      ]
    },
    {
      "cell_type": "code",
      "metadata": {
        "id": "4odEJaOHAgpV",
        "colab_type": "code",
        "colab": {
          "base_uri": "https://localhost:8080/",
          "height": 755
        },
        "outputId": "48ccb56b-c159-48c4-d431-70b75682e795"
      },
      "source": [
        "display_training_curves(history.history['accuracy'], history.history['val_accuracy'], 'accuracy', 211)\n",
        "display_training_curves(history.history['loss'], history.history['val_loss'], 'loss', 212)"
      ],
      "execution_count": 86,
      "outputs": [
        {
          "output_type": "display_data",
          "data": {
            "image/png": "[encoded data removed]",
            "text/plain": [
              "<Figure size 720x720 with 2 Axes>"
            ]
          },
          "metadata": {
            "tags": []
          }
        }
      ]
    }
  ]
}